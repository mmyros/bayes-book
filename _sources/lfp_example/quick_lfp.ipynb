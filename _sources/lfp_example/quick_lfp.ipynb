{
 "cells": [
  {
   "cell_type": "markdown",
   "metadata": {
    "hideCode": true,
    "hidePrompt": true,
    "slideshow": {
     "slide_type": "slide"
    }
   },
   "source": [
    "# LFP example"
   ]
  },
  {
   "cell_type": "code",
   "execution_count": 1,
   "outputs": [],
   "source": [
    "import altair as alt\n",
    "from bayes_window import BayesWindow, models, BayesRegression, LMERegression\n",
    "from bayes_window.generative_models import generate_fake_lfp\n",
    "\n",
    "try:\n",
    "    alt.renderers.enable('altair_saver', fmts=['png'])\n",
    "except Exception:\n",
    "    pass"
   ],
   "metadata": {
    "collapsed": false,
    "pycharm": {
     "name": "#%%\n"
    }
   }
  },
  {
   "cell_type": "markdown",
   "metadata": {
    "hideCode": true,
    "hidePrompt": true,
    "slideshow": {
     "slide_type": "slide"
    }
   },
   "source": [
    "## Make and visualize model oscillation power\n",
    "40 trials of \"theta power\" is generated for every animal. It is drawn randomly as a poisson process.\n",
    "\n",
    "This is repeated for \"stimulation\" trials, but poisson rate is higher."
   ]
  },
  {
   "cell_type": "code",
   "execution_count": 2,
   "metadata": {
    "hideCode": true,
    "hidePrompt": true,
    "pycharm": {
     "name": "#%%\n"
    },
    "scrolled": true,
    "slideshow": {
     "slide_type": "skip"
    }
   },
   "outputs": [],
   "source": [
    "# Draw some fake data:\n",
    "df, df_monster, index_cols, _ = generate_fake_lfp(mouse_response_slope=15, n_trials=30)"
   ]
  },
  {
   "cell_type": "markdown",
   "metadata": {
    "hideCode": true,
    "hidePrompt": true,
    "slideshow": {
     "slide_type": "slide"
    }
   },
   "source": [
    "Mice vary in their baseline power.\n",
    "\n",
    "Higher-baseline mice tend to have smaller stim response:"
   ]
  },
  {
   "cell_type": "code",
   "execution_count": 3,
   "metadata": {
    "hideCode": true,
    "hidePrompt": true,
    "slideshow": {
     "slide_type": "skip"
    }
   },
   "outputs": [
    {
     "name": "stderr",
     "output_type": "stream",
     "text": [
      "(not in PATH env variable)\n",
      "WARN Dropping {\"field\":\"\",\"type\":\"nominal\"} from channel \"color\" since it does not contain any data field, datum, value, or signal.\n",
      "WARN Dropping {\"field\":\"\",\"type\":\"ordinal\"} from channel \"detail\" since it does not contain any data field, datum, value, or signal.\n",
      "WARN Dropping {\"field\":\"\",\"type\":\"nominal\"} from channel \"color\" since it does not contain any data field, datum, value, or signal.\n",
      "WARN Dropping {\"field\":\"\",\"type\":\"ordinal\"} from channel \"detail\" since it does not contain any data field, datum, value, or signal.\n",
      "WARN column encoding should be discrete (ordinal / nominal / binned).\n",
      "Error: CanvasRenderer is missing a valid canvas or context\n",
      "    at Object.error (/home/m/anaconda3/envs/tf/lib/node_modules/vega/node_modules/vega-util/build/vega-util.js:40:11)\n",
      "    at CanvasRenderer.resize (/home/m/anaconda3/envs/tf/lib/node_modules/vega/node_modules/vega-scenegraph/build/vega-scenegraph.js:3821:28)\n",
      "    at CanvasRenderer.initialize (/home/m/anaconda3/envs/tf/lib/node_modules/vega/node_modules/vega-scenegraph/build/vega-scenegraph.js:3328:19)\n",
      "    at CanvasRenderer.initialize (/home/m/anaconda3/envs/tf/lib/node_modules/vega/node_modules/vega-scenegraph/build/vega-scenegraph.js:3808:30)\n",
      "    at initializeRenderer (/home/m/anaconda3/envs/tf/lib/node_modules/vega/node_modules/vega-view/build/vega-view.js:653:8)\n",
      "    at renderHeadless (/home/m/anaconda3/envs/tf/lib/node_modules/vega/node_modules/vega-view/build/vega-view.js:776:12)\n",
      "    at processTicksAndRejections (internal/process/task_queues.js:93:5)\n",
      "    at async View.renderToCanvas [as toCanvas] (/home/m/anaconda3/envs/tf/lib/node_modules/vega/node_modules/vega-view/build/vega-view.js:811:15)\n"
     ]
    },
    {
     "data": {
      "image/png": "\n",
      "text/plain": "alt.FacetChart(...)"
     },
     "execution_count": 3,
     "metadata": {},
     "output_type": "execute_result"
    }
   ],
   "source": [
    "BayesWindow(df=df, y='Log power', treatment='stim', group='mouse').plot(x='mouse').facet(column='stim')\n"
   ]
  },
  {
   "cell_type": "code",
   "execution_count": 4,
   "metadata": {
    "hideCode": true,
    "hidePrompt": true,
    "scrolled": false,
    "slideshow": {
     "slide_type": "fragment"
    }
   },
   "outputs": [
    {
     "name": "stderr",
     "output_type": "stream",
     "text": [
      "WARN Dropping {\"field\":\"\",\"type\":\"nominal\"} from channel \"color\" since it does not contain any data field, datum, value, or signal.\n",
      "WARN Dropping {\"field\":\"\",\"type\":\"ordinal\"} from channel \"detail\" since it does not contain any data field, datum, value, or signal.\n",
      "WARN Dropping {\"field\":\"\",\"type\":\"nominal\"} from channel \"color\" since it does not contain any data field, datum, value, or signal.\n",
      "WARN Dropping {\"field\":\"\",\"type\":\"ordinal\"} from channel \"detail\" since it does not contain any data field, datum, value, or signal.\n",
      "WARN Dropping {\"field\":\"\",\"type\":\"nominal\"} from channel \"color\" since it does not contain any data field, datum, value, or signal.\n",
      "WARN column encoding should be discrete (ordinal / nominal / binned).\n",
      "Error: CanvasRenderer is missing a valid canvas or context\n",
      "    at Object.error (/home/m/anaconda3/envs/tf/lib/node_modules/vega/node_modules/vega-util/build/vega-util.js:40:11)\n",
      "    at CanvasRenderer.resize (/home/m/anaconda3/envs/tf/lib/node_modules/vega/node_modules/vega-scenegraph/build/vega-scenegraph.js:3821:28)\n",
      "    at CanvasRenderer.initialize (/home/m/anaconda3/envs/tf/lib/node_modules/vega/node_modules/vega-scenegraph/build/vega-scenegraph.js:3328:19)\n",
      "    at CanvasRenderer.initialize (/home/m/anaconda3/envs/tf/lib/node_modules/vega/node_modules/vega-scenegraph/build/vega-scenegraph.js:3808:30)\n",
      "    at initializeRenderer (/home/m/anaconda3/envs/tf/lib/node_modules/vega/node_modules/vega-view/build/vega-view.js:653:8)\n",
      "    at renderHeadless (/home/m/anaconda3/envs/tf/lib/node_modules/vega/node_modules/vega-view/build/vega-view.js:776:12)\n",
      "    at processTicksAndRejections (internal/process/task_queues.js:93:5)\n",
      "    at async View.renderToCanvas [as toCanvas] (/home/m/anaconda3/envs/tf/lib/node_modules/vega/node_modules/vega-view/build/vega-view.js:811:15)\n"
     ]
    },
    {
     "data": {
      "image/png": "\n",
      "text/plain": "alt.FacetChart(...)"
     },
     "execution_count": 4,
     "metadata": {},
     "output_type": "execute_result"
    }
   ],
   "source": [
    "BayesWindow(df=df, y='Log power', treatment='stim', group='mouse', detail='i_trial').data_box_detail().facet(\n",
    "    column='mouse')"
   ]
  },
  {
   "cell_type": "markdown",
   "metadata": {
    "hideCode": true,
    "hidePrompt": true,
    "slideshow": {
     "slide_type": "slide"
    }
   },
   "source": [
    "## Fit a Bayesian hierarchical model and plot slopes\n",
    "In a hierarchical model, parameters are viewed as a sample from a population distribution of parameters. Thus, we view them as being neither entirely different or exactly the same. This is ***partial pooling***:\n",
    "\n",
    "![hierarchical](../motivation/parpooled.png)\n",
    "This model allows intercepts to vary across mouse, according to a random effect. We just add a fixed slope for the predictor (i.e all mice will have the same slope):\n",
    "\n",
    "$$y_i = \\alpha_{j[i]} + \\beta x_{i} + \\epsilon_i$$\n",
    "\n",
    "where:\n",
    "- $j$ is mouse index\n",
    "- $i$ is observation index\n",
    "- $y_i$ is observed power\n",
    "- $x_i$ is 0 (no stimulation) or 1 (stimulation)\n",
    "- $\\epsilon_i \\sim N(0, \\sigma_y^2)$, error\n",
    "- $\\alpha_{j[i]} \\sim N(\\mu_{\\alpha}, \\sigma_{\\alpha}^2)$, Random intercept\n",
    "\n",
    "We set a separate intercept for each mouse, but rather than fitting separate regression models for each mouse, multilevel modeling **shares strength** among mice, allowing for more reasonable inference in mice with little data."
   ]
  },
  {
   "cell_type": "markdown",
   "metadata": {
    "hideCode": true,
    "hidePrompt": true,
    "slideshow": {
     "slide_type": "slide"
    }
   },
   "source": [
    "The wrappers in this library allow us to fit and plot this inference in just three lines of code. Under the hood, it uses the following Numpyro code:\n",
    "```python\n",
    "# Given: y, treatment, group, n_subjects\n",
    "# Sample intercepts\n",
    "a = sample('a', Normal(0, 1))\n",
    "a_subject = sample('a_subject', Normal(jnp.tile(0, n_subjects), 1))\n",
    "\n",
    "# Sample variances\n",
    "sigma_a_subject = sample('sigma_a', HalfNormal(1))\n",
    "sigma_obs = sample('sigma_obs', HalfNormal(1))\n",
    "\n",
    "# Sample slope - this is what we are interested in!\n",
    "b = sample('b_stim', Normal(0, 1))\n",
    "\n",
    "# Regression equation\n",
    "theta = a + a_subject[group] * sigma_a_subject + b * treatment\n",
    "\n",
    "# Sample power\n",
    "sample('y', Normal(theta, sigma_obs), obs=y)\n",
    "```\n",
    "\n",
    "\n",
    "Above is the contents of `model_hier_stim_one_codition.py`, the function passed as argument in line 4 below."
   ]
  },
  {
   "cell_type": "code",
   "execution_count": 5,
   "metadata": {
    "hideCode": true,
    "hidePrompt": true,
    "slideshow": {
     "slide_type": "skip"
    }
   },
   "outputs": [],
   "source": [
    "# Initialize:\n",
    "window = BayesRegression(df=df, y='Power', treatment='stim', group='mouse')\n",
    "# Fit:\n",
    "window.fit(model=models.model_hierarchical, add_group_intercept=True,\n",
    "           add_group_slope=False, robust_slopes=False,\n",
    "           do_make_change='subtract', dist_y='gamma')\n",
    "\n",
    "chart_power_difference = (window.chart + window.chart_posterior_kde).properties(title='Posterior')\n"
   ]
  },
  {
   "cell_type": "code",
   "execution_count": 6,
   "metadata": {
    "hideCode": true,
    "hidePrompt": true,
    "slideshow": {
     "slide_type": "slide"
    }
   },
   "outputs": [
    {
     "name": "stderr",
     "output_type": "stream",
     "text": [
      "WARN Dropping {\"field\":\"\",\"type\":\"quantitative\"} from channel \"x\" since it does not contain any data field, datum, value, or signal.\n",
      "WARN Dropping {\"field\":\"\",\"type\":\"quantitative\"} from channel \"x\" since it does not contain any data field, datum, value, or signal.\n",
      "WARN Dropping {\"field\":\"\",\"type\":\"quantitative\"} from channel \"x\" since it does not contain any data field, datum, value, or signal.\n",
      "WARN Dropping {\"field\":\"\",\"type\":\"nominal\"} from channel \"color\" since it does not contain any data field, datum, value, or signal.\n",
      "WARN Dropping {\"field\":\"\",\"type\":\"nominal\"} from channel \"detail\" since it does not contain any data field, datum, value, or signal.\n",
      "WARN Dropping {\"field\":\"\",\"type\":\"quantitative\"} from channel \"x\" since it does not contain any data field, datum, value, or signal.\n",
      "WARN Dropping {\"field\":\"\",\"type\":\"nominal\"} from channel \"color\" since it does not contain any data field, datum, value, or signal.\n",
      "WARN Dropping {\"field\":\"\",\"type\":\"nominal\"} from channel \"detail\" since it does not contain any data field, datum, value, or signal.\n",
      "WARN Dropping {\"field\":\"\",\"type\":\"quantitative\"} from channel \"x\" since it does not contain any data field, datum, value, or signal.\n",
      "WARN Dropping {\"field\":\"\",\"type\":\"quantitative\"} from channel \"x\" since it does not contain any data field, datum, value, or signal.\n",
      "WARN Dropping {\"field\":\"\",\"type\":\"quantitative\"} from channel \"x\" since it does not contain any data field, datum, value, or signal.\n",
      "WARN Dropping {\"field\":\"\",\"type\":\"quantitative\"} from channel \"x\" since it does not contain any data field, datum, value, or signal.\n",
      "WARN Dropping {\"field\":\"\",\"type\":\"quantitative\"} from channel \"x\" since it does not contain any data field, datum, value, or signal.\n",
      "WARN Dropping {\"field\":\"\",\"type\":\"quantitative\"} from channel \"x\" since it does not contain any data field, datum, value, or signal.\n",
      "Error: CanvasRenderer is missing a valid canvas or context\n",
      "    at Object.error (/home/m/anaconda3/envs/tf/lib/node_modules/vega/node_modules/vega-util/build/vega-util.js:40:11)\n",
      "    at CanvasRenderer.resize (/home/m/anaconda3/envs/tf/lib/node_modules/vega/node_modules/vega-scenegraph/build/vega-scenegraph.js:3821:28)\n",
      "    at CanvasRenderer.initialize (/home/m/anaconda3/envs/tf/lib/node_modules/vega/node_modules/vega-scenegraph/build/vega-scenegraph.js:3328:19)\n",
      "    at CanvasRenderer.initialize (/home/m/anaconda3/envs/tf/lib/node_modules/vega/node_modules/vega-scenegraph/build/vega-scenegraph.js:3808:30)\n",
      "    at initializeRenderer (/home/m/anaconda3/envs/tf/lib/node_modules/vega/node_modules/vega-view/build/vega-view.js:653:8)\n",
      "    at renderHeadless (/home/m/anaconda3/envs/tf/lib/node_modules/vega/node_modules/vega-view/build/vega-view.js:776:12)\n",
      "    at processTicksAndRejections (internal/process/task_queues.js:93:5)\n",
      "    at async View.renderToCanvas [as toCanvas] (/home/m/anaconda3/envs/tf/lib/node_modules/vega/node_modules/vega-view/build/vega-view.js:811:15)\n"
     ]
    },
    {
     "data": {
      "image/png": "\n",
      "text/plain": "alt.LayerChart(...)"
     },
     "execution_count": 6,
     "metadata": {},
     "output_type": "execute_result"
    }
   ],
   "source": [
    "chart_power_difference\n"
   ]
  },
  {
   "cell_type": "markdown",
   "metadata": {
    "hideCode": true,
    "hidePrompt": true,
    "slideshow": {
     "slide_type": "fragment"
    }
   },
   "source": [
    "In this chart:\n",
    "\n",
    "- The black line is the 94% posterior highest density interval\n",
    "\n",
    "- Shading is posterior density"
   ]
  },
  {
   "cell_type": "code",
   "execution_count": 7,
   "metadata": {
    "hideCode": true,
    "hidePrompt": true,
    "slideshow": {
     "slide_type": "skip"
    }
   },
   "outputs": [
    {
     "ename": "AttributeError",
     "evalue": "'BayesRegression' object has no attribute 'data_and_posterior'",
     "output_type": "error",
     "traceback": [
      "\u001B[0;31m---------------------------------------------------------------------------\u001B[0m",
      "\u001B[0;31mAttributeError\u001B[0m                            Traceback (most recent call last)",
      "\u001B[0;32m<ipython-input-7-ca14861c557f>\u001B[0m in \u001B[0;36m<module>\u001B[0;34m\u001B[0m\n\u001B[1;32m      1\u001B[0m \u001B[0;31m# TODO diff_y is missing from data_and posterior\u001B[0m\u001B[0;34m\u001B[0m\u001B[0;34m\u001B[0m\u001B[0;34m\u001B[0m\u001B[0m\n\u001B[1;32m      2\u001B[0m \u001B[0;31m# chart_power_difference_box\u001B[0m\u001B[0;34m\u001B[0m\u001B[0;34m\u001B[0m\u001B[0;34m\u001B[0m\u001B[0m\n\u001B[0;32m----> 3\u001B[0;31m \u001B[0mwindow\u001B[0m\u001B[0;34m.\u001B[0m\u001B[0mdata_and_posterior\u001B[0m\u001B[0;34m.\u001B[0m\u001B[0mrename\u001B[0m\u001B[0;34m(\u001B[0m\u001B[0;34m{\u001B[0m\u001B[0;34m'Power'\u001B[0m\u001B[0;34m:\u001B[0m \u001B[0;34m'Power diff'\u001B[0m\u001B[0;34m}\u001B[0m\u001B[0;34m,\u001B[0m \u001B[0maxis\u001B[0m\u001B[0;34m=\u001B[0m\u001B[0;36m1\u001B[0m\u001B[0;34m,\u001B[0m \u001B[0minplace\u001B[0m\u001B[0;34m=\u001B[0m\u001B[0;32mTrue\u001B[0m\u001B[0;34m)\u001B[0m\u001B[0;34m\u001B[0m\u001B[0;34m\u001B[0m\u001B[0m\n\u001B[0m\u001B[1;32m      4\u001B[0m \u001B[0;31m# window.regression_charts(x=':O',independent_axes=True).properties(title='Posterior')\u001B[0m\u001B[0;34m\u001B[0m\u001B[0;34m\u001B[0m\u001B[0;34m\u001B[0m\u001B[0m\n\u001B[1;32m      5\u001B[0m \u001B[0mwindow\u001B[0m\u001B[0;34m.\u001B[0m\u001B[0mchart\u001B[0m\u001B[0;34m\u001B[0m\u001B[0;34m\u001B[0m\u001B[0m\n",
      "\u001B[0;31mAttributeError\u001B[0m: 'BayesRegression' object has no attribute 'data_and_posterior'"
     ]
    }
   ],
   "source": [
    "# TODO diff_y is missing from data_and posterior\n",
    "# chart_power_difference_box\n",
    "window.data_and_posterior.rename({'Power': 'Power diff'}, axis=1, inplace=True)\n",
    "# window.plot(x=':O',independent_axes=True).properties(title='Posterior')\n",
    "window.chart"
   ]
  },
  {
   "cell_type": "markdown",
   "metadata": {
    "hideCode": true,
    "hidePrompt": true,
    "slideshow": {
     "slide_type": "skip"
    }
   },
   "source": [
    "In this chart:\n",
    "\n",
    "- The blue dot is the mean of posterior\n",
    "\n",
    "- The black line is the 94% highest density interval\n",
    "\n",
    "- The boxplot is made from difference between groups in the data (no fitting)\n",
    "\n",
    "- Left Y scale is for posterior, right for data"
   ]
  },
  {
   "cell_type": "markdown",
   "metadata": {
    "hideCode": true,
    "hidePrompt": true,
    "slideshow": {
     "slide_type": "slide"
    }
   },
   "source": [
    "## Compare to non-bayesian approaches\n",
    "### Off-the-shelf OLS ANOVA"
   ]
  },
  {
   "cell_type": "markdown",
   "metadata": {
    "hideCode": true,
    "hidePrompt": true,
    "slideshow": {
     "slide_type": "fragment"
    }
   },
   "source": [
    "ANOVA does not pick up the effect of stim as significant:"
   ]
  },
  {
   "cell_type": "code",
   "execution_count": null,
   "metadata": {
    "hideCode": true,
    "hidePrompt": true,
    "slideshow": {
     "slide_type": "fragment"
    }
   },
   "outputs": [],
   "source": [
    "window = LMERegression(df=df, y='Log power', treatment='stim', group='mouse')\n",
    "window.fit();"
   ]
  },
  {
   "cell_type": "markdown",
   "metadata": {
    "hideCode": true,
    "hidePrompt": true,
    "slideshow": {
     "slide_type": "fragment"
    }
   },
   "source": [
    "Including mouse as predictor helps"
   ]
  },
  {
   "cell_type": "code",
   "execution_count": null,
   "metadata": {
    "hideCode": true,
    "hidePrompt": true,
    "slideshow": {
     "slide_type": "fragment"
    }
   },
   "outputs": [],
   "source": [
    "window.fit(formula='Log_power ~ stim + mouse + mouse*stim');"
   ]
  },
  {
   "cell_type": "markdown",
   "metadata": {
    "hideCode": true,
    "hidePrompt": true,
    "slideshow": {
     "slide_type": "skip"
    }
   },
   "source": [
    "#### OLS ANOVA with heteroscedasticity correction"
   ]
  },
  {
   "cell_type": "code",
   "execution_count": null,
   "metadata": {
    "hideCode": true,
    "hidePrompt": true,
    "slideshow": {
     "slide_type": "skip"
    }
   },
   "outputs": [],
   "source": [
    "window.fit(formula='Log_power ~ stim + mouse + mouse*stim', robust=\"hc3\");"
   ]
  },
  {
   "cell_type": "markdown",
   "metadata": {
    "hideCode": true,
    "hidePrompt": true,
    "slideshow": {
     "slide_type": "slide"
    }
   },
   "source": [
    "A linear mixed-effect model shows the effect of stim (slope) as significant. It includes random intercepts of mouse:"
   ]
  },
  {
   "cell_type": "code",
   "execution_count": null,
   "metadata": {
    "hideCode": true,
    "hidePrompt": true,
    "slideshow": {
     "slide_type": "fragment"
    }
   },
   "outputs": [],
   "source": [
    "# Initialize:\n",
    "window = LMERegression(df=df, y='Log power', treatment='stim', group='mouse')\n",
    "window.fit(add_data=False);"
   ]
  },
  {
   "cell_type": "code",
   "execution_count": null,
   "metadata": {
    "hideCode": true,
    "hidePrompt": true,
    "slideshow": {
     "slide_type": "skip"
    }
   },
   "outputs": [],
   "source": [
    "chart_power_difference_lme = window.plot().properties(title='LME')\n",
    "chart_power_difference_lme"
   ]
  },
  {
   "cell_type": "markdown",
   "metadata": {
    "hideCode": true,
    "hidePrompt": true,
    "slideshow": {
     "slide_type": "slide"
    }
   },
   "source": [
    "## Compare LME and Bayesian slopes side by side"
   ]
  },
  {
   "cell_type": "code",
   "execution_count": null,
   "metadata": {
    "hideCode": true,
    "hidePrompt": true,
    "slideshow": {
     "slide_type": "fragment"
    }
   },
   "outputs": [],
   "source": [
    "chart_power_difference | chart_power_difference_lme"
   ]
  },
  {
   "cell_type": "markdown",
   "metadata": {
    "hideCode": true,
    "hidePrompt": true,
    "slideshow": {
     "slide_type": "slide"
    }
   },
   "source": [
    "## Inspect Bayesian result further\n",
    "Let's take a look at the intercepts and compare them to levels of power in the original data:"
   ]
  },
  {
   "cell_type": "code",
   "execution_count": null,
   "metadata": {
    "hideCode": true,
    "hidePrompt": true,
    "scrolled": true,
    "slideshow": {
     "slide_type": "fragment"
    }
   },
   "outputs": [],
   "source": [
    "# Initialize:\n",
    "window = BayesRegression(df=df, y='Power', treatment='stim', group='mouse', detail='i_trial')\n",
    "# Fit:\n",
    "window.fit(model=models.model_hierarchical, add_group_intercept=True,\n",
    "           add_group_slope=False, robust_slopes=False,\n",
    "           do_make_change='subtract', dist_y='gamma');\n",
    "\n",
    "chart_detail_and_intercepts = window.plot_intercepts(x='mouse')\n",
    "window.chart_posterior_intercept"
   ]
  },
  {
   "cell_type": "code",
   "execution_count": null,
   "metadata": {
    "hideCode": true,
    "hidePrompt": true,
    "pycharm": {
     "name": "#%%\n"
    },
    "slideshow": {
     "slide_type": "fragment"
    }
   },
   "outputs": [],
   "source": [
    "chart_detail_and_intercepts"
   ]
  },
  {
   "cell_type": "markdown",
   "metadata": {
    "hideCode": true,
    "hidePrompt": true,
    "slideshow": {
     "slide_type": "skip"
    }
   },
   "source": [
    "Our plotting backend's flexibility allows us to easily concatenate multiple charts in the same figures with the | operator:"
   ]
  },
  {
   "cell_type": "code",
   "execution_count": null,
   "metadata": {
    "hideCode": true,
    "hidePrompt": true,
    "scrolled": false,
    "slideshow": {
     "slide_type": "slide"
    }
   },
   "outputs": [],
   "source": [
    "window.chart_posterior_intercept | chart_power_difference | chart_power_difference_lme"
   ]
  },
  {
   "cell_type": "markdown",
   "metadata": {
    "hideCode": true,
    "hidePrompt": true,
    "slideshow": {
     "slide_type": "skip"
    }
   },
   "source": [
    "## Check for false-positives with null model\n",
    "They sometimes appear with non-transformed data + \"normal\" model"
   ]
  },
  {
   "cell_type": "code",
   "execution_count": null,
   "metadata": {
    "hideCode": true,
    "hidePrompt": true,
    "slideshow": {
     "slide_type": "skip"
    }
   },
   "outputs": [],
   "source": [
    "# Initialize:\n",
    "df_null, df_monster_null, _, _ = generate_fake_lfp(mouse_response_slope=0, n_trials=30)\n",
    "window = BayesRegression(df=df_null, y='Power', treatment='stim', group='mouse')\n",
    "# Fit:\n",
    "window.fit(model=models.model_hierarchical, add_group_intercept=True,\n",
    "           add_group_slope=False, robust_slopes=False,\n",
    "           do_make_change='subtract', dist_y='normal')\n",
    "\n",
    "# Plot:\n",
    "chart_power_difference = window.plot(independent_axes=False,\n",
    "                                     ).properties(title='Posterior')\n",
    "\n",
    "chart_power_difference"
   ]
  },
  {
   "cell_type": "markdown",
   "metadata": {
    "hideCode": true,
    "hidePrompt": true,
    "slideshow": {
     "slide_type": "skip"
    }
   },
   "source": [
    "This does not happen if we estimate group slopes.\n",
    "\n",
    "GLM is more robust to no differences in the case of no effect:"
   ]
  },
  {
   "cell_type": "code",
   "execution_count": null,
   "metadata": {
    "hideCode": true,
    "hidePrompt": true,
    "slideshow": {
     "slide_type": "skip"
    }
   },
   "outputs": [],
   "source": [
    "# Initialize:\n",
    "window = BayesRegression(df=df_null, y='Power', treatment='stim', group='mouse')\n",
    "# Fit:\n",
    "window.fit(model=models.model_hierarchical, add_group_intercept=True,\n",
    "           add_group_slope=False, robust_slopes=False,\n",
    "           do_make_change='subtract', dist_y='gamma')\n",
    "# Plot:\n",
    "window.plot(independent_axes=False,\n",
    "            ).properties(title='Posterior')\n"
   ]
  },
  {
   "cell_type": "markdown",
   "metadata": {
    "hideCode": true,
    "hidePrompt": true,
    "slideshow": {
     "slide_type": "slide"
    }
   },
   "source": [
    "## Include all samples in each trial\n",
    "The mean of every one of the 30 trials we drew for each mouse is a manifestation of the same underlying process that generates power for each mouse. Let's try to include all samples that come in each trial"
   ]
  },
  {
   "cell_type": "code",
   "execution_count": null,
   "metadata": {
    "hideCode": true,
    "hidePrompt": true,
    "slideshow": {
     "slide_type": "skip"
    }
   },
   "outputs": [],
   "source": [
    "# NBVAL_SKIP\n",
    "# Initialize:\n",
    "window = BayesRegression(df=df_monster, y='Power', treatment='stim', group='mouse')\n",
    "# Fit:\n",
    "window.fit(model=models.model_hierarchical, add_group_intercept=True,\n",
    "           num_warmup=500, n_draws=160, progress_bar=True,\n",
    "           add_group_slope=False, robust_slopes=False,\n",
    "           do_make_change='subtract', dist_y='gamma');"
   ]
  },
  {
   "cell_type": "code",
   "execution_count": null,
   "metadata": {
    "hideCode": true,
    "hidePrompt": true,
    "slideshow": {
     "slide_type": "subslide"
    }
   },
   "outputs": [],
   "source": [
    "# NBVAL_SKIP\n",
    "alt.data_transformers.disable_max_rows()\n",
    "chart_power_difference_monster = window.plot(independent_axes=False).properties(title='Posterior')\n",
    "chart_power_difference_monster"
   ]
  },
  {
   "cell_type": "markdown",
   "metadata": {
    "hideCode": true,
    "hidePrompt": true,
    "slideshow": {
     "slide_type": "fragment"
    }
   },
   "source": [
    "Much tighter credible intervals here!\n",
    "\n",
    "Same with linear mixed model:"
   ]
  },
  {
   "cell_type": "code",
   "execution_count": null,
   "metadata": {
    "hideCode": true,
    "hidePrompt": true,
    "slideshow": {
     "slide_type": "fragment"
    }
   },
   "outputs": [],
   "source": [
    "# NBVAL_SKIP\n",
    "window = BayesRegression(df=df_monster,\n",
    "                         y='Log power', treatment='stim', group='mouse')\n",
    "window.fit()\n",
    "\n",
    "chart_power_difference_monster_lme = window.plot().properties(title='LME')\n",
    "chart_power_difference_monster_lme"
   ]
  },
  {
   "cell_type": "code",
   "execution_count": null,
   "metadata": {
    "hideCode": true,
    "hidePrompt": true,
    "slideshow": {
     "slide_type": "slide"
    }
   },
   "outputs": [],
   "source": [
    "# NBVAL_SKIP\n",
    "chart_power_difference_monster | chart_power_difference_monster_lme\n"
   ]
  }
 ],
 "metadata": {
  "celltoolbar": "Slideshow",
  "hide_code_all_hidden": true,
  "kernelspec": {
   "display_name": "Python 3",
   "language": "python",
   "name": "python3"
  },
  "language_info": {
   "codemirror_mode": {
    "name": "ipython",
    "version": 3
   },
   "file_extension": ".py",
   "mimetype": "text/x-python",
   "name": "python",
   "nbconvert_exporter": "python",
   "pygments_lexer": "ipython3",
   "version": "3.8.5"
  }
 },
 "nbformat": 4,
 "nbformat_minor": 1
}
