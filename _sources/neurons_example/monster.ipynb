{
 "cells": [
  {
   "cell_type": "markdown",
   "metadata": {},
   "source": [
    "# Neurons example, pt. 2: large datasets"
   ]
  },
  {
   "cell_type": "code",
   "execution_count": 1,
   "metadata": {},
   "outputs": [],
   "source": [
    "import numpyro\n",
    "from bayes_window import models, fake_spikes_explore, BayesWindow, BayesConditions, BayesRegression\n",
    "from bayes_window.generative_models import generate_fake_spikes\n",
    "import numpy as np\n",
    "from importlib import reload\n",
    "import altair as alt\n",
    "alt.data_transformers.disable_max_rows()\n",
    "\n",
    "try:\n",
    "    alt.renderers.enable('altair_saver', fmts=['png'])\n",
    "except Exception:\n",
    "    pass"
   ]
  },
  {
   "cell_type": "code",
   "execution_count": 2,
   "metadata": {},
   "outputs": [],
   "source": [
    "\n",
    "df, df_monster, index_cols, firing_rates = generate_fake_spikes(n_trials=20,\n",
    "                                                                n_neurons=6,\n",
    "                                                                n_mice=3,\n",
    "                                                                dur=5,\n",
    "                                                               mouse_response_slope=40,\n",
    "                                                               overall_stim_response_strength=5)\n"
   ]
  },
  {
   "cell_type": "markdown",
   "metadata": {},
   "source": [
    "## Step by step"
   ]
  },
  {
   "cell_type": "markdown",
   "metadata": {},
   "source": [
    "### 1. Firing rate"
   ]
  },
  {
   "cell_type": "code",
   "execution_count": 4,
   "metadata": {
    "scrolled": true
   },
   "outputs": [
    {
     "name": "stderr",
     "output_type": "stream",
     "text": [
      "2021-11-30 15:43:46.937780: E external/org_tensorflow/tensorflow/stream_executor/cuda/cuda_driver.cc:271] failed call to cuInit: CUDA_ERROR_COMPAT_NOT_SUPPORTED_ON_DEVICE: forward compatibility was attempted on non supported HW\n"
     ]
    },
    {
     "name": "stdout",
     "output_type": "stream",
     "text": [
      "Untransformed dimension in ['neuron_x_mouse', 'i_trial'] may be a problem. If you made a new numpyro model, look in utils.rename_posterior() \n",
      "<xarray.DataArray 'slope' (chain: 4, neuron_x_mouse: 18, i_trial: 20, draw: 200)>\n",
      "array([[[[ 2.05496639e-01, -1.23332642e-01,  5.72049767e-02, ...,\n",
      "           1.35442659e-01,  1.94491595e-02, -4.14554775e-02],\n",
      "         [ 2.65519530e-01, -1.15224615e-01,  3.47977281e-02, ...,\n",
      "           1.28003508e-01, -1.37674987e-01,  1.38172805e-01],\n",
      "         [-1.26889199e-02,  3.64163369e-01, -1.88080207e-01, ...,\n",
      "           2.10027397e-02,  8.41769874e-02, -1.58533901e-02],\n",
      "         ...,\n",
      "         [-2.48875335e-01, -4.86549921e-03, -1.04419798e-01, ...,\n",
      "          -2.27378830e-01,  1.76198035e-02, -3.14136118e-01],\n",
      "         [-1.57199949e-01, -2.33469084e-01,  1.06595501e-01, ...,\n",
      "          -2.59016573e-01,  5.60912713e-02, -1.21270530e-01],\n",
      "         [ 1.20249018e-01, -1.07145742e-01,  1.90651089e-01, ...,\n",
      "          -7.81020522e-02,  1.20727688e-01, -8.28569978e-02]],\n",
      "\n",
      "        [[-1.00893274e-01,  2.90834680e-02, -2.19155848e-01, ...,\n",
      "           7.74909556e-03, -1.19591244e-02, -9.88359600e-02],\n",
      "         [-5.47480062e-02, -2.18393505e-01, -2.01403350e-02, ...,\n",
      "          -7.83368945e-02, -1.72045887e-01,  1.56961679e-02],\n",
      "         [ 2.81938374e-01,  1.19365260e-01,  3.39779854e-01, ...,\n",
      "           2.92986751e-01,  2.40052968e-01,  1.07049696e-01],\n",
      "...\n",
      "           3.85448813e-01, -3.20130885e-01, -1.21005788e-01],\n",
      "         [-1.37223423e-01, -2.61590183e-02, -6.42637014e-02, ...,\n",
      "           5.61146326e-02, -1.68350384e-01, -7.38538578e-02],\n",
      "         [-3.15864563e-01, -2.04520047e-01, -1.55076757e-01, ...,\n",
      "          -1.03898562e-01, -2.36955464e-01, -2.09580064e-01]],\n",
      "\n",
      "        [[-6.30551502e-02, -6.51129335e-02, -8.43590721e-02, ...,\n",
      "          -1.17666081e-01,  6.72511086e-02, -5.27364388e-02],\n",
      "         [-6.94911256e-02, -1.36902541e-01,  2.11670995e-05, ...,\n",
      "          -2.96028048e-01,  6.78422302e-02,  6.22219518e-02],\n",
      "         [-9.19345766e-03, -2.33238935e-03,  1.21193975e-01, ...,\n",
      "           1.23459108e-01,  3.15059572e-02,  9.11614150e-02],\n",
      "         ...,\n",
      "         [ 1.96272999e-01, -5.35045192e-02, -6.59052283e-02, ...,\n",
      "          -9.75256190e-02,  6.70770630e-02, -3.30348574e-02],\n",
      "         [-2.69988477e-01,  6.11172803e-03, -2.77296901e-01, ...,\n",
      "          -1.52591243e-01, -2.34488785e-01, -2.53550678e-01],\n",
      "         [ 1.61253318e-01,  1.51031688e-01, -1.22800015e-01, ...,\n",
      "           3.94184813e-02,  3.89426798e-02,  2.21719556e-02]]]],\n",
      "      dtype=float32)\n",
      "Coordinates:\n",
      "  * chain           (chain) int64 0 1 2 3\n",
      "  * draw            (draw) int64 0 1 2 3 4 5 6 7 ... 193 194 195 196 197 198 199\n",
      "  * neuron_x_mouse  (neuron_x_mouse) object 'm0bayes0' 'm0bayes1' ... 'm2bayes5'\n",
      "  * i_trial         (i_trial) float64 0.0 1.0 2.0 3.0 ... 16.0 17.0 18.0 19.0\n",
      "('chain', 'neuron_x_mouse', 'i_trial', 'draw')\n",
      "i_trial\n"
     ]
    }
   ],
   "source": [
    "bw1 = BayesConditions(df=df_monster, y='isi',treatment='stim', condition=['neuron_x_mouse','i_trial'], group='mouse')\n",
    "bw1.fit(dist_y='gamma');\n",
    "# bw.plot_model_quality()"
   ]
  },
  {
   "cell_type": "markdown",
   "metadata": {},
   "source": [
    "### 2. Regression"
   ]
  },
  {
   "cell_type": "code",
   "execution_count": 5,
   "metadata": {
    "scrolled": true
   },
   "outputs": [
    {
     "ename": "AssertionError",
     "evalue": "",
     "output_type": "error",
     "traceback": [
      "\u001b[0;31m---------------------------------------------------------------------------\u001b[0m",
      "\u001b[0;31mAssertionError\u001b[0m                            Traceback (most recent call last)",
      "\u001b[0;32m/tmp/ipykernel_2833256/2990684204.py\u001b[0m in \u001b[0;36m<module>\u001b[0;34m\u001b[0m\n\u001b[0;32m----> 1\u001b[0;31m bw2 = BayesRegression(df=bw1.posterior['mu_per_condition'],\n\u001b[0m\u001b[1;32m      2\u001b[0m                  y='center interval', treatment='stim', condition=['neuron_x_mouse'], group='mouse')\n\u001b[1;32m      3\u001b[0m bw2.fit(model=models.model_hierarchical,\n\u001b[1;32m      4\u001b[0m                \u001b[0mdo_make_change\u001b[0m\u001b[0;34m=\u001b[0m\u001b[0;34m'subtract'\u001b[0m\u001b[0;34m,\u001b[0m\u001b[0;34m\u001b[0m\u001b[0;34m\u001b[0m\u001b[0m\n\u001b[1;32m      5\u001b[0m                \u001b[0mdist_y\u001b[0m\u001b[0;34m=\u001b[0m\u001b[0;34m'student'\u001b[0m\u001b[0;34m,\u001b[0m\u001b[0;34m\u001b[0m\u001b[0;34m\u001b[0m\u001b[0m\n",
      "\u001b[0;32m~/mmy/bayes-window/bayes_window/slopes.py\u001b[0m in \u001b[0;36m__init__\u001b[0;34m(self, window, add_data, **kwargs)\u001b[0m\n\u001b[1;32m     37\u001b[0m \u001b[0;34m\u001b[0m\u001b[0m\n\u001b[1;32m     38\u001b[0m     \u001b[0;32mdef\u001b[0m \u001b[0m__init__\u001b[0m\u001b[0;34m(\u001b[0m\u001b[0mself\u001b[0m\u001b[0;34m,\u001b[0m \u001b[0mwindow\u001b[0m\u001b[0;34m=\u001b[0m\u001b[0;32mNone\u001b[0m\u001b[0;34m,\u001b[0m \u001b[0madd_data\u001b[0m\u001b[0;34m=\u001b[0m\u001b[0;32mTrue\u001b[0m\u001b[0;34m,\u001b[0m \u001b[0;34m**\u001b[0m\u001b[0mkwargs\u001b[0m\u001b[0;34m)\u001b[0m\u001b[0;34m:\u001b[0m\u001b[0;34m\u001b[0m\u001b[0;34m\u001b[0m\u001b[0m\n\u001b[0;32m---> 39\u001b[0;31m         \u001b[0mwindow\u001b[0m \u001b[0;34m=\u001b[0m \u001b[0mcopy\u001b[0m\u001b[0;34m(\u001b[0m\u001b[0mwindow\u001b[0m\u001b[0;34m)\u001b[0m \u001b[0;32mif\u001b[0m \u001b[0mwindow\u001b[0m \u001b[0;32mis\u001b[0m \u001b[0;32mnot\u001b[0m \u001b[0;32mNone\u001b[0m \u001b[0;32melse\u001b[0m \u001b[0mBayesWindow\u001b[0m\u001b[0;34m(\u001b[0m\u001b[0;34m**\u001b[0m\u001b[0mkwargs\u001b[0m\u001b[0;34m)\u001b[0m\u001b[0;34m\u001b[0m\u001b[0;34m\u001b[0m\u001b[0m\n\u001b[0m\u001b[1;32m     40\u001b[0m         \u001b[0mwindow\u001b[0m\u001b[0;34m.\u001b[0m\u001b[0madd_data\u001b[0m \u001b[0;34m=\u001b[0m \u001b[0madd_data\u001b[0m\u001b[0;34m\u001b[0m\u001b[0;34m\u001b[0m\u001b[0m\n\u001b[1;32m     41\u001b[0m         \u001b[0mself\u001b[0m\u001b[0;34m.\u001b[0m\u001b[0mwindow\u001b[0m \u001b[0;34m=\u001b[0m \u001b[0mwindow\u001b[0m\u001b[0;34m\u001b[0m\u001b[0;34m\u001b[0m\u001b[0m\n",
      "\u001b[0;32m~/mmy/bayes-window/bayes_window/workflow.py\u001b[0m in \u001b[0;36m__init__\u001b[0;34m(self, df, y, treatment, condition, group, group2, detail, add_data)\u001b[0m\n\u001b[1;32m     43\u001b[0m         \u001b[0;32massert\u001b[0m \u001b[0mtreatment\u001b[0m \u001b[0;32min\u001b[0m \u001b[0mdf\u001b[0m\u001b[0;34m.\u001b[0m\u001b[0mcolumns\u001b[0m\u001b[0;34m\u001b[0m\u001b[0;34m\u001b[0m\u001b[0m\n\u001b[1;32m     44\u001b[0m         \u001b[0;32mif\u001b[0m \u001b[0mgroup\u001b[0m\u001b[0;34m:\u001b[0m\u001b[0;34m\u001b[0m\u001b[0;34m\u001b[0m\u001b[0m\n\u001b[0;32m---> 45\u001b[0;31m             \u001b[0;32massert\u001b[0m \u001b[0mgroup\u001b[0m \u001b[0;32min\u001b[0m \u001b[0mdf\u001b[0m\u001b[0;34m.\u001b[0m\u001b[0mcolumns\u001b[0m\u001b[0;34m\u001b[0m\u001b[0;34m\u001b[0m\u001b[0m\n\u001b[0m\u001b[1;32m     46\u001b[0m         \u001b[0mself\u001b[0m\u001b[0;34m.\u001b[0m\u001b[0madd_data\u001b[0m \u001b[0;34m=\u001b[0m \u001b[0madd_data\u001b[0m\u001b[0;34m\u001b[0m\u001b[0;34m\u001b[0m\u001b[0m\n\u001b[1;32m     47\u001b[0m         \u001b[0mself\u001b[0m\u001b[0;34m.\u001b[0m\u001b[0mtreatment\u001b[0m \u001b[0;34m=\u001b[0m \u001b[0mtreatment\u001b[0m  \u001b[0;31m# if type(treatment)=='list' else [treatment]  # self.levels[2]\u001b[0m\u001b[0;34m\u001b[0m\u001b[0;34m\u001b[0m\u001b[0m\n",
      "\u001b[0;31mAssertionError\u001b[0m: "
     ]
    }
   ],
   "source": [
    "bw2 = BayesRegression(df=bw1.posterior['mu_per_condition'],\n",
    "                 y='center interval', treatment='stim', condition=['neuron_x_mouse'], group='mouse')\n",
    "bw2.fit(model=models.model_hierarchical,\n",
    "               do_make_change='subtract',\n",
    "               dist_y='student',\n",
    "               robust_slopes=False,\n",
    "               add_group_intercept=False,\n",
    "               add_group_slope=False,\n",
    "               fold_change_index_cols=('stim', 'mouse', 'neuron_x_mouse'))\n",
    "\n",
    "bw2.plot_model_quality()"
   ]
  },
  {
   "cell_type": "code",
   "execution_count": null,
   "metadata": {},
   "outputs": [],
   "source": [
    "bw2.chart\n"
   ]
  },
  {
   "cell_type": "markdown",
   "metadata": {},
   "source": [
    "## Each neuron separately via SVI\n",
    "### 1. Firing rate"
   ]
  },
  {
   "cell_type": "code",
   "execution_count": null,
   "metadata": {
    "scrolled": true
   },
   "outputs": [],
   "source": [
    "from tqdm import tqdm\n",
    "\n",
    "gb='neuron_x_mouse'\n",
    "step1_res=[]\n",
    "for i, df_m_n in tqdm(df_monster.groupby(gb)):\n",
    "    bw1 = BayesConditions(df_m_n, y='isi',treatment='stim', condition=['i_trial'], group='mouse'\n",
    "                     ).fit(dist_y='gamma',\n",
    "#                                       fit_fn=fitting.fit_svi\n",
    "                                     )\n",
    "    posterior=bw1.posterior['mu_per_condition'].copy()\n",
    "    posterior[gb] = i\n",
    "    step1_res.append(posterior)"
   ]
  },
  {
   "cell_type": "markdown",
   "metadata": {},
   "source": [
    "### 2. Regression\n",
    "TODO add sigma to step 2 inputs\n"
   ]
  },
  {
   "cell_type": "code",
   "execution_count": null,
   "metadata": {},
   "outputs": [],
   "source": [
    "import pandas as pd\n",
    "bw2 = BayesRegression(pd.concat(step1_res),\n",
    "                 y='center interval', treatment='stim', condition=['neuron_x_mouse'], group='mouse',\n",
    "                  detail='i_trial')\n",
    "bw2.fit(model=models.model_hierarchical,\n",
    "        do_make_change='subtract',\n",
    "        dist_y='student',\n",
    "        robust_slopes=False,\n",
    "        add_group_intercept=False,\n",
    "        add_group_slope=False)\n",
    "bw2.chart"
   ]
  },
  {
   "cell_type": "markdown",
   "metadata": {},
   "source": [
    "## NUTS 1-step GLM"
   ]
  },
  {
   "cell_type": "code",
   "execution_count": null,
   "metadata": {
    "scrolled": true
   },
   "outputs": [],
   "source": [
    "# Gamma GLM\n",
    "bw = BayesRegression(df_monster, y='isi', treatment='stim', condition=['neuron', 'mouse'], group='mouse')\n",
    "bw.fit(model=models.model_hierarchical,\n",
    "       progress_bar=True,\n",
    "       do_make_change='subtract',\n",
    "       dist_y='gamma',\n",
    "       robust_slopes=False,\n",
    "       add_group_intercept=False,\n",
    "       add_group_slope=False,\n",
    "       fold_change_index_cols=('stim', 'mouse', 'neuron','neuron_x_mouse'))\n",
    "\n",
    "bw.plot_model_quality()"
   ]
  },
  {
   "cell_type": "code",
   "execution_count": null,
   "metadata": {
    "scrolled": true
   },
   "outputs": [],
   "source": [
    "import altair as alt\n",
    "alt.data_transformers.disable_max_rows()\n",
    "bw.plot(x='neuron', color='mouse', independent_axes=True, finalize=True)\n",
    "\n",
    "\n",
    "bw.facet(column='mouse',width=200,height=200).display()"
   ]
  },
  {
   "cell_type": "markdown",
   "metadata": {},
   "source": [
    "## NUTS student"
   ]
  },
  {
   "cell_type": "code",
   "execution_count": null,
   "metadata": {
    "scrolled": true
   },
   "outputs": [],
   "source": [
    "bw = BayesRegression(df=df_monster, y='isi', treatment='stim', condition=['neuron', 'mouse'], group='mouse')\n",
    "bw.fit(model=models.model_hierarchical,\n",
    "              progress_bar=True,\n",
    "              do_make_change='subtract',\n",
    "              dist_y='student',\n",
    "              robust_slopes=False,\n",
    "              add_group_intercept=False,\n",
    "              add_group_slope=False,\n",
    "              fold_change_index_cols=('stim', 'mouse', 'neuron','neuron_x_mouse'))\n",
    "\n",
    "bw.plot_model_quality()"
   ]
  },
  {
   "cell_type": "code",
   "execution_count": null,
   "metadata": {},
   "outputs": [],
   "source": [
    "\n",
    "bw.plot(x='neuron', color='mouse', independent_axes=True, finalize=True)\n",
    "\n",
    "\n",
    "bw.facet(column='mouse',width=200,height=200).display()"
   ]
  },
  {
   "cell_type": "code",
   "execution_count": null,
   "metadata": {},
   "outputs": [],
   "source": [
    "\n",
    "bw = BayesRegression(df_monster, y='isi', treatment='stim', condition='neuron_x_mouse', group='mouse')\n",
    "bw.fit(model=models.model_hierarchical, do_make_change='subtract',\n",
    "              progress_bar=True,\n",
    "              dist_y='student',\n",
    "              use_gpu=True,\n",
    "              num_chains=1,\n",
    "              num_warmup=500,\n",
    "              add_group_slope=True, add_group_intercept=False,\n",
    "              fold_change_index_cols=('stim', 'mouse', 'neuron','neuron_x_mouse'))\n",
    "\n",
    "bw.plot(x='neuron', color='mouse', independent_axes=True, finalize=True)\n",
    "bw.facet(column='mouse',width=200,height=200).display()\n",
    "\n",
    "#bw.explore_models(use_gpu=True)"
   ]
  },
  {
   "cell_type": "markdown",
   "metadata": {
    "scrolled": true
   },
   "source": [
    "## NUTS Lognormal"
   ]
  },
  {
   "cell_type": "code",
   "execution_count": null,
   "metadata": {
    "scrolled": true
   },
   "outputs": [],
   "source": [
    "bw = BayesRegression(df=df_monster, y='isi', treatment='stim', condition=['neuron', 'mouse'], group='mouse')\n",
    "bw.fit(model=models.model_hierarchical, do_make_change='subtract',\n",
    "              progress_bar=True,\n",
    "              use_gpu=True, num_chains=1, n_draws=1500, num_warmup=1500,\n",
    "              dist_y='lognormal',\n",
    "              add_group_slope=True, add_group_intercept=True,\n",
    "              fold_change_index_cols=('stim', 'mouse', 'neuron'))\n",
    "\n",
    "bw.plot(x='neuron', color='mouse', independent_axes=True, finalize=True)\n",
    "\n",
    "\n",
    "bw.facet(column='mouse',width=200,height=200).display()"
   ]
  },
  {
   "cell_type": "code",
   "execution_count": null,
   "metadata": {
    "scrolled": true
   },
   "outputs": [],
   "source": [
    "bw.explore_models(add_group_slope=True)"
   ]
  },
  {
   "cell_type": "markdown",
   "metadata": {},
   "source": [
    "## BarkerMH"
   ]
  },
  {
   "cell_type": "code",
   "execution_count": null,
   "metadata": {
    "scrolled": true
   },
   "outputs": [],
   "source": [
    "%%time\n",
    "from bayes_window import fitting\n",
    "\n",
    "from importlib import reload\n",
    "reload(fitting)\n",
    "\n",
    "bw = BayesRegression(df=df_monster, y='isi', treatment='stim', condition=['neuron', 'mouse'], group='mouse')\n",
    "bw.fit(model=models.model_hierarchical, do_make_change='subtract',\n",
    "              sampler=numpyro.infer.BarkerMH,\n",
    "#               progress_bar=True,\n",
    "              use_gpu=False, num_chains=1, n_draws=5000, num_warmup=3000,\n",
    "              dist_y='student',\n",
    "              add_group_slope=True, add_group_intercept=True,\n",
    "              fold_change_index_cols=('stim', 'mouse', 'neuron'),\n",
    "              fit_method=fitting.fit_numpyro,\n",
    "             )\n",
    "\n",
    "bw.plot(x='neuron', color='mouse', independent_axes=True, finalize=True)\n",
    "\n",
    "\n",
    "bw.facet(column='mouse',width=200,height=200).display()"
   ]
  },
  {
   "cell_type": "markdown",
   "metadata": {},
   "source": [
    "## Fit using SVI"
   ]
  },
  {
   "cell_type": "code",
   "execution_count": null,
   "metadata": {
    "scrolled": false
   },
   "outputs": [],
   "source": [
    "%%time\n",
    "from bayes_window import fitting\n",
    "bw = BayesRegression(df=df_monster, y='isi', treatment='stim', condition=['neuron', 'mouse'], group='mouse')\n",
    "bw.fit(model=models.model_hierarchical, do_make_change='subtract',\n",
    "              n_draws=5000,\n",
    "              dist_y='gamma',\n",
    "              add_group_slope=True, add_group_intercept=False,\n",
    "              fold_change_index_cols=('stim', 'mouse', 'neuron'),\n",
    "              fit_method=fitting.fit_svi,\n",
    "             )\n",
    "\n",
    "bw.plot(x='neuron', color='mouse', independent_axes=True, finalize=True)\n",
    "\n",
    "\n",
    "bw.facet(column='mouse',width=200,height=200).display()"
   ]
  },
  {
   "cell_type": "code",
   "execution_count": null,
   "metadata": {
    "scrolled": true
   },
   "outputs": [],
   "source": [
    "%%time\n",
    "from bayes_window import fitting\n",
    "import numpyro\n",
    "from importlib import reload\n",
    "reload(fitting)\n",
    "bw = BayesRegression(df=df_monster, y='isi', treatment='stim', condition=['neuron', 'mouse'], group='mouse')\n",
    "bw.fit(model=models.model_hierarchical, do_make_change='subtract',\n",
    "\n",
    "            autoguide=numpyro.infer.autoguide.AutoLaplaceApproximation,\n",
    "            optim=numpyro.optim.Adam(step_size=0.0005),\n",
    "            loss=numpyro.infer.Trace_ELBO(),\n",
    "              dist_y='lognormal',\n",
    "              add_group_slope=True, add_group_intercept=True,\n",
    "              fold_change_index_cols=('stim', 'mouse', 'neuron'),\n",
    "              fit_method=fitting.fit_svi,\n",
    "\n",
    "              n_draws=int(1e5),\n",
    "              num_warmup=int(1e5),\n",
    "             )\n",
    "\n",
    "bw.plot(x='neuron', color='mouse', independent_axes=True, finalize=True)\n",
    "\n",
    "\n",
    "bw.facet(column='mouse',width=200,height=200).display()"
   ]
  },
  {
   "cell_type": "code",
   "execution_count": null,
   "metadata": {},
   "outputs": [],
   "source": [
    "%%time\n",
    "from bayes_window import fitting\n",
    "import numpyro\n",
    "#numpyro.enable_validation(False)\n",
    "bw = BayesRegression(df=df_monster, y='isi', treatment='stim', condition=['neuron', 'mouse'], group='mouse')\n",
    "bw.fit(model=models.model_hierarchical, do_make_change='subtract',\n",
    "              #use_gpu=True,\n",
    "            autoguide=numpyro.infer.autoguide.AutoLaplaceApproximation,\n",
    "            optim=numpyro.optim.Adam(1),\n",
    "            loss=numpyro.infer.Trace_ELBO(),\n",
    "              dist_y='lognormal',\n",
    "              add_group_slope=True, add_group_intercept=False,\n",
    "              fold_change_index_cols=('stim', 'mouse', 'neuron'),\n",
    "              fit_method=fitting.fit_svi,\n",
    "              #progress_bar=False,\n",
    "              n_draws=int(1e5),\n",
    "              num_warmup=int(1e5),\n",
    "             )\n",
    "\n",
    "bw.plot(x='neuron', color='mouse', independent_axes=True, finalize=True)\n",
    "\n",
    "\n",
    "bw.facet(column='mouse',width=200,height=200).display()"
   ]
  },
  {
   "cell_type": "markdown",
   "metadata": {},
   "source": [
    "Pretty model"
   ]
  },
  {
   "cell_type": "code",
   "execution_count": null,
   "metadata": {
    "scrolled": true
   },
   "outputs": [],
   "source": [
    "reload(models)\n",
    "bw = BayesRegression(df=df, y='isi', treatment='stim', condition=['neuron', 'mouse'], group='mouse')\n",
    "bw.fit(model=models.reparam_model(models.model_hierarchical_for_render), do_make_change='subtract',\n",
    "              progress_bar=True,\n",
    "              use_gpu=False, num_chains=1, n_draws=1500, num_warmup=1500,\n",
    "              dist_y='normal',\n",
    "              add_group_slope=True, add_group_intercept=True,\n",
    "              fold_change_index_cols=('stim', 'mouse', 'neuron'))\n",
    "\n",
    "bw.plot(x='neuron', color='mouse', independent_axes=True, finalize=True)\n",
    "\n",
    "\n",
    "bw.facet(column='mouse',width=200,height=200).display()"
   ]
  },
  {
   "cell_type": "code",
   "execution_count": null,
   "metadata": {
    "scrolled": false
   },
   "outputs": [],
   "source": [
    "#!pip install git+https://github.com/pyro-ppl/numpyro.git\n",
    "from numpyro.contrib.render import render_model\n",
    "reload(models)\n",
    "render_model(models.model_hierarchical_for_render, model_args=(1, 1, 1, 1,\n",
    "                                                    'gamma', True,\n",
    "                                                    True),\n",
    "             render_distributions=True)"
   ]
  },
  {
   "cell_type": "code",
   "execution_count": null,
   "metadata": {
    "scrolled": false
   },
   "outputs": [],
   "source": [
    "#!pip install git+https://github.com/pyro-ppl/numpyro.git\n",
    "from numpyro.contrib.render import render_model\n",
    "reload(models)\n",
    "render_model(models.model_hierarchical_for_render, model_args=(1, 1, 1, 1,\n",
    "                                                    'gamma', True,\n",
    "                                                    False),\n",
    "             render_distributions=True)"
   ]
  },
  {
   "cell_type": "code",
   "execution_count": null,
   "metadata": {
    "scrolled": false
   },
   "outputs": [
    {
     "name": "stdout",
     "output_type": "stream",
     "text": [
      "n(Divergences) = 2\n"
     ]
    }
   ],
   "source": [
    "#!pip install git+https://github.com/pyro-ppl/numpyro.git\n",
    "from numpyro.contrib.render import render_model\n",
    "reload(models)\n",
    "render_model(models.model_hier_stim_one_codition, model_args=(1, 1, 1,\n",
    "                                                    'gamma',\n",
    "                                                    ),\n",
    "             render_distributions=True)\n"
   ]
  },
  {
   "cell_type": "markdown",
   "metadata": {},
   "source": [
    "## Two-step"
   ]
  },
  {
   "cell_type": "markdown",
   "metadata": {},
   "source": [
    "## Packaged version 1\n",
    "Separate levels"
   ]
  },
  {
   "cell_type": "code",
   "execution_count": 3,
   "metadata": {
    "scrolled": true
   },
   "outputs": [
    {
     "name": "stderr",
     "output_type": "stream",
     "text": [
      "[Parallel(n_jobs=12)]: Using backend LokyBackend with 12 concurrent workers.\n",
      "2021-11-30 15:30:36.703976: E external/org_tensorflow/tensorflow/stream_executor/cuda/cuda_driver.cc:271] failed call to cuInit: CUDA_ERROR_COMPAT_NOT_SUPPORTED_ON_DEVICE: forward compatibility was attempted on non supported HW\n",
      "[Parallel(n_jobs=12)]: Done  14 out of  18 | elapsed:  5.5min remaining:  1.6min\n",
      "[Parallel(n_jobs=12)]: Done  18 out of  18 | elapsed:  6.3min finished\n"
     ]
    },
    {
     "ename": "AssertionError",
     "evalue": "",
     "output_type": "error",
     "traceback": [
      "\u001b[0;31m---------------------------------------------------------------------------\u001b[0m",
      "\u001b[0;31mAssertionError\u001b[0m                            Traceback (most recent call last)",
      "\u001b[0;32m/tmp/ipykernel_2767917/122053733.py\u001b[0m in \u001b[0;36m<module>\u001b[0;34m\u001b[0m\n\u001b[1;32m      1\u001b[0m bw = BayesRegression(df=df_monster, y='isi',treatment='stim', condition=['neuron_x_mouse'],\n\u001b[1;32m      2\u001b[0m                           group='mouse', detail='i_trial')\n\u001b[0;32m----> 3\u001b[0;31m \u001b[0mbw\u001b[0m\u001b[0;34m=\u001b[0m\u001b[0mbw\u001b[0m\u001b[0;34m.\u001b[0m\u001b[0mfit_twostep_by_group\u001b[0m\u001b[0;34m(\u001b[0m\u001b[0mdist_y_step_one\u001b[0m\u001b[0;34m=\u001b[0m\u001b[0;34m'gamma'\u001b[0m\u001b[0;34m,\u001b[0m \u001b[0mdist_y\u001b[0m\u001b[0;34m=\u001b[0m\u001b[0;34m'student'\u001b[0m\u001b[0;34m)\u001b[0m\u001b[0;34m\u001b[0m\u001b[0;34m\u001b[0m\u001b[0m\n\u001b[0m\u001b[1;32m      4\u001b[0m \u001b[0;34m\u001b[0m\u001b[0m\n\u001b[1;32m      5\u001b[0m \u001b[0mbw\u001b[0m\u001b[0;34m.\u001b[0m\u001b[0mchart\u001b[0m\u001b[0;34m\u001b[0m\u001b[0;34m\u001b[0m\u001b[0m\n",
      "\u001b[0;32m~/mmy/bayes-window/bayes_window/slopes.py\u001b[0m in \u001b[0;36mfit_twostep_by_group\u001b[0;34m(self, dist_y_step_one, groupby, dist_y, parallel, **kwargs)\u001b[0m\n\u001b[1;32m    461\u001b[0m             \u001b[0mstep1_res\u001b[0m \u001b[0;34m=\u001b[0m \u001b[0;34m[\u001b[0m\u001b[0mfit_subset\u001b[0m\u001b[0;34m(\u001b[0m\u001b[0mdf_m_n\u001b[0m\u001b[0;34m,\u001b[0m \u001b[0mi\u001b[0m\u001b[0;34m)\u001b[0m \u001b[0;32mfor\u001b[0m \u001b[0mi\u001b[0m\u001b[0;34m,\u001b[0m \u001b[0mdf_m_n\u001b[0m \u001b[0;32min\u001b[0m \u001b[0mtqdm\u001b[0m\u001b[0;34m(\u001b[0m\u001b[0mself\u001b[0m\u001b[0;34m.\u001b[0m\u001b[0mwindow\u001b[0m\u001b[0;34m.\u001b[0m\u001b[0mdata\u001b[0m\u001b[0;34m.\u001b[0m\u001b[0mgroupby\u001b[0m\u001b[0;34m(\u001b[0m\u001b[0mgroupby\u001b[0m\u001b[0;34m)\u001b[0m\u001b[0;34m)\u001b[0m\u001b[0;34m]\u001b[0m\u001b[0;34m\u001b[0m\u001b[0;34m\u001b[0m\u001b[0m\n\u001b[1;32m    462\u001b[0m \u001b[0;34m\u001b[0m\u001b[0m\n\u001b[0;32m--> 463\u001b[0;31m         window_step_two = BayesRegression(df=pd.concat(step1_res).rename({'center interval': self.window.y}, axis=1),\n\u001b[0m\u001b[1;32m    464\u001b[0m                                           \u001b[0my\u001b[0m\u001b[0;34m=\u001b[0m\u001b[0mself\u001b[0m\u001b[0;34m.\u001b[0m\u001b[0mwindow\u001b[0m\u001b[0;34m.\u001b[0m\u001b[0my\u001b[0m\u001b[0;34m,\u001b[0m \u001b[0mtreatment\u001b[0m\u001b[0;34m=\u001b[0m\u001b[0mself\u001b[0m\u001b[0;34m.\u001b[0m\u001b[0mwindow\u001b[0m\u001b[0;34m.\u001b[0m\u001b[0mtreatment\u001b[0m\u001b[0;34m,\u001b[0m\u001b[0;34m\u001b[0m\u001b[0;34m\u001b[0m\u001b[0m\n\u001b[1;32m    465\u001b[0m                                           condition=list(\n",
      "\u001b[0;32m~/mmy/bayes-window/bayes_window/slopes.py\u001b[0m in \u001b[0;36m__init__\u001b[0;34m(self, window, add_data, **kwargs)\u001b[0m\n\u001b[1;32m     37\u001b[0m \u001b[0;34m\u001b[0m\u001b[0m\n\u001b[1;32m     38\u001b[0m     \u001b[0;32mdef\u001b[0m \u001b[0m__init__\u001b[0m\u001b[0;34m(\u001b[0m\u001b[0mself\u001b[0m\u001b[0;34m,\u001b[0m \u001b[0mwindow\u001b[0m\u001b[0;34m=\u001b[0m\u001b[0;32mNone\u001b[0m\u001b[0;34m,\u001b[0m \u001b[0madd_data\u001b[0m\u001b[0;34m=\u001b[0m\u001b[0;32mTrue\u001b[0m\u001b[0;34m,\u001b[0m \u001b[0;34m**\u001b[0m\u001b[0mkwargs\u001b[0m\u001b[0;34m)\u001b[0m\u001b[0;34m:\u001b[0m\u001b[0;34m\u001b[0m\u001b[0;34m\u001b[0m\u001b[0m\n\u001b[0;32m---> 39\u001b[0;31m         \u001b[0mwindow\u001b[0m \u001b[0;34m=\u001b[0m \u001b[0mcopy\u001b[0m\u001b[0;34m(\u001b[0m\u001b[0mwindow\u001b[0m\u001b[0;34m)\u001b[0m \u001b[0;32mif\u001b[0m \u001b[0mwindow\u001b[0m \u001b[0;32mis\u001b[0m \u001b[0;32mnot\u001b[0m \u001b[0;32mNone\u001b[0m \u001b[0;32melse\u001b[0m \u001b[0mBayesWindow\u001b[0m\u001b[0;34m(\u001b[0m\u001b[0;34m**\u001b[0m\u001b[0mkwargs\u001b[0m\u001b[0;34m)\u001b[0m\u001b[0;34m\u001b[0m\u001b[0;34m\u001b[0m\u001b[0m\n\u001b[0m\u001b[1;32m     40\u001b[0m         \u001b[0mwindow\u001b[0m\u001b[0;34m.\u001b[0m\u001b[0madd_data\u001b[0m \u001b[0;34m=\u001b[0m \u001b[0madd_data\u001b[0m\u001b[0;34m\u001b[0m\u001b[0;34m\u001b[0m\u001b[0m\n\u001b[1;32m     41\u001b[0m         \u001b[0mself\u001b[0m\u001b[0;34m.\u001b[0m\u001b[0mwindow\u001b[0m \u001b[0;34m=\u001b[0m \u001b[0mwindow\u001b[0m\u001b[0;34m\u001b[0m\u001b[0;34m\u001b[0m\u001b[0m\n",
      "\u001b[0;32m~/mmy/bayes-window/bayes_window/workflow.py\u001b[0m in \u001b[0;36m__init__\u001b[0;34m(self, df, y, treatment, condition, group, group2, detail, add_data)\u001b[0m\n\u001b[1;32m     43\u001b[0m         \u001b[0;32massert\u001b[0m \u001b[0mtreatment\u001b[0m \u001b[0;32min\u001b[0m \u001b[0mdf\u001b[0m\u001b[0;34m.\u001b[0m\u001b[0mcolumns\u001b[0m\u001b[0;34m\u001b[0m\u001b[0;34m\u001b[0m\u001b[0m\n\u001b[1;32m     44\u001b[0m         \u001b[0;32mif\u001b[0m \u001b[0mgroup\u001b[0m\u001b[0;34m:\u001b[0m\u001b[0;34m\u001b[0m\u001b[0;34m\u001b[0m\u001b[0m\n\u001b[0;32m---> 45\u001b[0;31m             \u001b[0;32massert\u001b[0m \u001b[0mgroup\u001b[0m \u001b[0;32min\u001b[0m \u001b[0mdf\u001b[0m\u001b[0;34m.\u001b[0m\u001b[0mcolumns\u001b[0m\u001b[0;34m\u001b[0m\u001b[0;34m\u001b[0m\u001b[0m\n\u001b[0m\u001b[1;32m     46\u001b[0m         \u001b[0mself\u001b[0m\u001b[0;34m.\u001b[0m\u001b[0madd_data\u001b[0m \u001b[0;34m=\u001b[0m \u001b[0madd_data\u001b[0m\u001b[0;34m\u001b[0m\u001b[0;34m\u001b[0m\u001b[0m\n\u001b[1;32m     47\u001b[0m         \u001b[0mself\u001b[0m\u001b[0;34m.\u001b[0m\u001b[0mtreatment\u001b[0m \u001b[0;34m=\u001b[0m \u001b[0mtreatment\u001b[0m  \u001b[0;31m# if type(treatment)=='list' else [treatment]  # self.levels[2]\u001b[0m\u001b[0;34m\u001b[0m\u001b[0;34m\u001b[0m\u001b[0m\n",
      "\u001b[0;31mAssertionError\u001b[0m: "
     ]
    }
   ],
   "source": [
    "    # bw = BayesRegression(df=df_monster, y='isi',treatment='stim', condition=['neuron_x_mouse'],\n",
    "    #                           group='mouse', detail='i_trial')\n",
    "    # bw=bw.fit_twostep_by_group(dist_y_step_one='gamma', dist_y='student')\n",
    "\n",
    "    # bw.chart"
   ]
  },
  {
   "cell_type": "markdown",
   "metadata": {},
   "source": [
    "## Packaged version 2\n",
    "No grouping in first step"
   ]
  },
  {
   "cell_type": "code",
   "execution_count": 3,
   "metadata": {
    "scrolled": true
   },
   "outputs": [
    {
     "ename": "TypeError",
     "evalue": "__init__() missing 3 required positional arguments: 'df', 'y', and 'treatment'",
     "output_type": "error",
     "traceback": [
      "\u001b[0;31m---------------------------------------------------------------------------\u001b[0m",
      "\u001b[0;31mTypeError\u001b[0m                                 Traceback (most recent call last)",
      "\u001b[0;32m/tmp/ipykernel_2833256/143605735.py\u001b[0m in \u001b[0;36m<module>\u001b[0;34m\u001b[0m\n\u001b[1;32m      1\u001b[0m \u001b[0mbw\u001b[0m \u001b[0;34m=\u001b[0m \u001b[0mBayesRegression\u001b[0m\u001b[0;34m(\u001b[0m\u001b[0mdf\u001b[0m\u001b[0;34m=\u001b[0m\u001b[0mdf_monster\u001b[0m\u001b[0;34m,\u001b[0m \u001b[0my\u001b[0m\u001b[0;34m=\u001b[0m\u001b[0;34m'isi'\u001b[0m\u001b[0;34m,\u001b[0m\u001b[0mtreatment\u001b[0m\u001b[0;34m=\u001b[0m\u001b[0;34m'stim'\u001b[0m\u001b[0;34m,\u001b[0m \u001b[0mcondition\u001b[0m\u001b[0;34m=\u001b[0m\u001b[0;34m[\u001b[0m\u001b[0;34m'neuron_x_mouse'\u001b[0m\u001b[0;34m]\u001b[0m\u001b[0;34m,\u001b[0m \u001b[0mgroup\u001b[0m\u001b[0;34m=\u001b[0m\u001b[0;34m'mouse'\u001b[0m\u001b[0;34m,\u001b[0m \u001b[0mdetail\u001b[0m\u001b[0;34m=\u001b[0m\u001b[0;34m'i_trial'\u001b[0m\u001b[0;34m)\u001b[0m\u001b[0;34m\u001b[0m\u001b[0;34m\u001b[0m\u001b[0m\n\u001b[0;32m----> 2\u001b[0;31m \u001b[0mbw\u001b[0m\u001b[0;34m=\u001b[0m\u001b[0mbw\u001b[0m\u001b[0;34m.\u001b[0m\u001b[0mfit_twostep\u001b[0m\u001b[0;34m(\u001b[0m\u001b[0mdist_y_step_one\u001b[0m\u001b[0;34m=\u001b[0m\u001b[0;34m'gamma'\u001b[0m\u001b[0;34m,\u001b[0m \u001b[0mdist_y\u001b[0m\u001b[0;34m=\u001b[0m\u001b[0;34m'student'\u001b[0m\u001b[0;34m)\u001b[0m\u001b[0;34m\u001b[0m\u001b[0;34m\u001b[0m\u001b[0m\n\u001b[0m",
      "\u001b[0;32m~/mmy/bayes-window/bayes_window/slopes.py\u001b[0m in \u001b[0;36mfit_twostep\u001b[0;34m(self, dist_y_step_one, **kwargs)\u001b[0m\n\u001b[1;32m    423\u001b[0m         \u001b[0;32mif\u001b[0m \u001b[0mself\u001b[0m\u001b[0;34m.\u001b[0m\u001b[0mwindow\u001b[0m\u001b[0;34m.\u001b[0m\u001b[0mdetail\u001b[0m \u001b[0;32mnot\u001b[0m \u001b[0;32min\u001b[0m \u001b[0mself\u001b[0m\u001b[0;34m.\u001b[0m\u001b[0mwindow\u001b[0m\u001b[0;34m.\u001b[0m\u001b[0mcondition\u001b[0m\u001b[0;34m:\u001b[0m\u001b[0;34m\u001b[0m\u001b[0;34m\u001b[0m\u001b[0m\n\u001b[1;32m    424\u001b[0m             \u001b[0mself\u001b[0m\u001b[0;34m.\u001b[0m\u001b[0mwindow\u001b[0m\u001b[0;34m.\u001b[0m\u001b[0mcondition\u001b[0m \u001b[0;34m+=\u001b[0m \u001b[0;34m[\u001b[0m\u001b[0mself\u001b[0m\u001b[0;34m.\u001b[0m\u001b[0mwindow\u001b[0m\u001b[0;34m.\u001b[0m\u001b[0mdetail\u001b[0m\u001b[0;34m]\u001b[0m\u001b[0;34m\u001b[0m\u001b[0;34m\u001b[0m\u001b[0m\n\u001b[0;32m--> 425\u001b[0;31m         \u001b[0mwindow_step_one\u001b[0m \u001b[0;34m=\u001b[0m \u001b[0mBayesConditions\u001b[0m\u001b[0;34m(\u001b[0m\u001b[0;34m)\u001b[0m\u001b[0;34m\u001b[0m\u001b[0;34m\u001b[0m\u001b[0m\n\u001b[0m\u001b[1;32m    426\u001b[0m         \u001b[0mwindow_step_one\u001b[0m\u001b[0;34m.\u001b[0m\u001b[0mfit\u001b[0m\u001b[0;34m(\u001b[0m\u001b[0mdist_y\u001b[0m\u001b[0;34m=\u001b[0m\u001b[0mdist_y_step_one\u001b[0m\u001b[0;34m)\u001b[0m\u001b[0;34m\u001b[0m\u001b[0;34m\u001b[0m\u001b[0m\n\u001b[1;32m    427\u001b[0m \u001b[0;34m\u001b[0m\u001b[0m\n",
      "\u001b[0;32m~/mmy/bayes-window/bayes_window/conditions.py\u001b[0m in \u001b[0;36m__init__\u001b[0;34m(self, window, add_data, **kwargs)\u001b[0m\n\u001b[1;32m     33\u001b[0m \u001b[0;34m\u001b[0m\u001b[0m\n\u001b[1;32m     34\u001b[0m     \u001b[0;32mdef\u001b[0m \u001b[0m__init__\u001b[0m\u001b[0;34m(\u001b[0m\u001b[0mself\u001b[0m\u001b[0;34m,\u001b[0m \u001b[0mwindow\u001b[0m\u001b[0;34m=\u001b[0m\u001b[0;32mNone\u001b[0m\u001b[0;34m,\u001b[0m \u001b[0madd_data\u001b[0m\u001b[0;34m=\u001b[0m\u001b[0;32mTrue\u001b[0m\u001b[0;34m,\u001b[0m \u001b[0;34m**\u001b[0m\u001b[0mkwargs\u001b[0m\u001b[0;34m)\u001b[0m\u001b[0;34m:\u001b[0m\u001b[0;34m\u001b[0m\u001b[0;34m\u001b[0m\u001b[0m\n\u001b[0;32m---> 35\u001b[0;31m         \u001b[0mwindow\u001b[0m \u001b[0;34m=\u001b[0m \u001b[0mcopy\u001b[0m\u001b[0;34m(\u001b[0m\u001b[0mwindow\u001b[0m\u001b[0;34m)\u001b[0m \u001b[0;32mif\u001b[0m \u001b[0mwindow\u001b[0m \u001b[0;32mis\u001b[0m \u001b[0;32mnot\u001b[0m \u001b[0;32mNone\u001b[0m \u001b[0;32melse\u001b[0m \u001b[0mBayesWindow\u001b[0m\u001b[0;34m(\u001b[0m\u001b[0;34m**\u001b[0m\u001b[0mkwargs\u001b[0m\u001b[0;34m)\u001b[0m\u001b[0;34m\u001b[0m\u001b[0;34m\u001b[0m\u001b[0m\n\u001b[0m\u001b[1;32m     36\u001b[0m         \u001b[0mwindow\u001b[0m\u001b[0;34m.\u001b[0m\u001b[0madd_data\u001b[0m \u001b[0;34m=\u001b[0m \u001b[0madd_data\u001b[0m\u001b[0;34m\u001b[0m\u001b[0;34m\u001b[0m\u001b[0m\n\u001b[1;32m     37\u001b[0m         \u001b[0mself\u001b[0m\u001b[0;34m.\u001b[0m\u001b[0mwindow\u001b[0m \u001b[0;34m=\u001b[0m \u001b[0mwindow\u001b[0m\u001b[0;34m\u001b[0m\u001b[0;34m\u001b[0m\u001b[0m\n",
      "\u001b[0;31mTypeError\u001b[0m: __init__() missing 3 required positional arguments: 'df', 'y', and 'treatment'"
     ]
    }
   ],
   "source": [
    "# bw = BayesRegression(df=df_monster, y='isi',treatment='stim', condition=['neuron_x_mouse'], group='mouse', detail='i_trial')\n",
    "# bw=bw.fit_twostep(dist_y_step_one='gamma', dist_y='student')"
   ]
  },
  {
   "cell_type": "code",
   "execution_count": null,
   "metadata": {},
   "outputs": [],
   "source": [
    "# bw.chart"
   ]
  }
 ],
 "metadata": {
  "kernelspec": {
   "display_name": "Python 3 (ipykernel)",
   "language": "python",
   "name": "python3"
  },
  "language_info": {
   "codemirror_mode": {
    "name": "ipython",
    "version": 3
   },
   "file_extension": ".py",
   "mimetype": "text/x-python",
   "name": "python",
   "nbconvert_exporter": "python",
   "pygments_lexer": "ipython3",
   "version": "3.8.10"
  }
 },
 "nbformat": 4,
 "nbformat_minor": 4
}
