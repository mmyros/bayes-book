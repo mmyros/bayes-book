{
 "cells": [
  {
   "cell_type": "markdown",
   "metadata": {
    "collapsed": true,
    "pycharm": {
     "name": "#%% md\n"
    },
    "slideshow": {
     "slide_type": "slide"
    }
   },
   "source": [
    "# Intuition for maximal likelihood or posterior inference\n",
    "## Simple problem statement\n",
    "Approximate a \"parameter\" $\\theta$, the average power of a brain signal.\n",
    "\n",
    "Given:\n",
    " - Some power data $y_i$, an imperfect realization of this signal\n",
    " - $\\theta$ is normally distributed"
   ]
  },
  {
   "cell_type": "markdown",
   "metadata": {
    "slideshow": {
     "slide_type": "slide"
    }
   },
   "source": [
    "Consider:\n",
    "- $\\theta$ has a true value in principle, but it's inaccessible to us.\n",
    "\n",
    "- The best we can hope to learn is a distribution $p(\\theta)$ of its values.\n",
    "\n",
    "- The peak of this distribution is our best bet.\n",
    "\n",
    "<sub> Note 1: I am leaving out any discussion of priors </sub>\n",
    "\n",
    "<sub> Note 2: $\\theta$ has no relationship to any Fourier frequency bands </sub>"
   ]
  },
  {
   "cell_type": "markdown",
   "metadata": {
    "pycharm": {
     "name": "#%% md\n"
    },
    "slideshow": {
     "slide_type": "slide"
    }
   },
   "source": [
    "### An analogy\n",
    "Imagine:\n",
    " - You are a hiker on a broad hill of $\\theta$ with no map\n",
    " - You are looking for its peak\n",
    "\n",
    "What kind of device would be useful?"
   ]
  },
  {
   "cell_type": "markdown",
   "metadata": {
    "pycharm": {
     "name": "#%% md\n"
    },
    "slideshow": {
     "slide_type": "slide"
    }
   },
   "source": [
    "### Some theory\n",
    "Probability distribution for a normal variable is:\n",
    "![normal](kruschke_normal.png)\n",
    "\n",
    "$$p(\\theta) \\sim {\\rm exp}(-\\frac{1}{2 \\sigma^2}(y_i -\\sigma)^2)$$\n",
    "\n",
    "\n",
    "That's the likelihood of $\\theta$ given our data.\n",
    "\n",
    "Suppose we know $\\sigma$. Can we calculate $\\theta$ for a given $y_i$?"
   ]
  },
  {
   "cell_type": "markdown",
   "metadata": {
    "pycharm": {
     "name": "#%% md\n"
    },
    "slideshow": {
     "slide_type": "slide"
    }
   },
   "source": [
    "### Approach 1: Maximum likelihood\n",
    "![ml](sampling_ml.png)"
   ]
  },
  {
   "cell_type": "markdown",
   "metadata": {
    "pycharm": {
     "name": "#%% md\n"
    },
    "slideshow": {
     "slide_type": "slide"
    }
   },
   "source": [
    "To find the peak, simply follow \"altimeter\" up to find maximum likelihood (ML).\n",
    " - What's at the peak?\n",
    "\n",
    "That's how linear mixed effects models are estimated: ML or REML."
   ]
  },
  {
   "cell_type": "markdown",
   "metadata": {
    "pycharm": {
     "name": "#%% md\n"
    },
    "slideshow": {
     "slide_type": "slide"
    }
   },
   "source": [
    "### Approach 2: Walking around and keeping score (eg Metropolis; used in Bayes)\n",
    "Now imagine:\n",
    " - You are a hiker on a broad hill of $\\theta$ with no map\n",
    " - You are making a map\n",
    "\n",
    "What kind of devices would be useful?"
   ]
  },
  {
   "cell_type": "markdown",
   "metadata": {
    "pycharm": {
     "name": "#%% md\n"
    },
    "slideshow": {
     "slide_type": "slide"
    }
   },
   "source": [
    "![mh](sampling_mh.png)"
   ]
  },
  {
   "cell_type": "markdown",
   "metadata": {
    "pycharm": {
     "name": "#%% md\n"
    },
    "slideshow": {
     "slide_type": "slide"
    }
   },
   "source": [
    "For each step you take:\n",
    "1. Go to a location\n",
    "2. Look at the altimeter (plug in data to equation)\n",
    "3. Write down altitude (probability) and go to a new location\n",
    "\n",
    "Ensure you visit every relevant location. One solution:\n",
    "https://chi-feng.github.io/mcmc-demo/app.html?algorithm=HamiltonianMC&target=banana"
   ]
  },
  {
   "cell_type": "markdown",
   "metadata": {
    "pycharm": {
     "name": "#%% md\n"
    },
    "slideshow": {
     "slide_type": "slide"
    }
   },
   "source": [
    "$$y_i = \\alpha_{j[i]} + \\beta x_{i} + \\epsilon_i$$\n",
    "\n",
    "where:\n",
    "- $j$ is mouse index\n",
    "- $i$ is observation index\n",
    "- $y_i$ is observed power\n",
    "- $x_i$ is 0 (no stimulation) or 1 (stimulation)\n",
    "- $\\epsilon_i \\sim \\mathcal{N}(0, \\sigma_y^2)$, error\n",
    "- $\\alpha_{j[i]} \\sim \\mathcal{N}(\\mu_{\\alpha}, \\sigma_{\\alpha}^2)$, random intercept\n",
    "- $ \\beta \\sim \\mathcal{N}(?, ?)$ slope. We want to estimate its distribution\n",
    "\n",
    "Note: this is not a sampling distribution (aka likelihood). We'd have to rearrange terms and substitute $p(\\theta) \\sim {\\rm exp}(-\\frac{1}{2 \\sigma^2}(y_i -\\sigma)^2)$ for each  $ \\mathcal{N}(0, \\sigma_y^2)$. That's beyound our scope"
   ]
  },
  {
   "cell_type": "markdown",
   "metadata": {
    "pycharm": {
     "name": "#%% md\n"
    },
    "slideshow": {
     "slide_type": "slide"
    }
   },
   "source": [
    "### Super complicated regression example\n",
    "![hierarchical](kruschke_hier.png)"
   ]
  },
  {
   "cell_type": "markdown",
   "metadata": {
    "slideshow": {
     "slide_type": "slide"
    }
   },
   "source": [
    "## Complication 2: Integrate prior knowledge\n",
    "Most often, numerical stability reasons and common sense information. For instance:\n",
    " - mountain height cannot be negative\n",
    " - its width is broad but finite\n",
    "\n",
    "$$p(\\theta|y_i) ~ p(y_i|\\theta) {\\bf p(\\theta)}$$\n",
    "\n",
    "<sub> (plus denominator, it's not strictly relevant) </sub>\n",
    "\n",
    "Say $p(\\theta)\\sim  \\mathcal{N}(0,100)$.\n",
    "\n",
    "We'll simply multiply by $\\mathcal{N}(0,100)$ for each step in sampling"
   ]
  }
 ],
 "metadata": {
  "celltoolbar": "Slideshow",
  "kernelspec": {
   "display_name": "Python 3",
   "language": "python",
   "name": "python3"
  },
  "language_info": {
   "codemirror_mode": {
    "name": "ipython",
    "version": 3
   },
   "file_extension": ".py",
   "mimetype": "text/x-python",
   "name": "python",
   "nbconvert_exporter": "python",
   "pygments_lexer": "ipython3",
   "version": "3.8.5"
  }
 },
 "nbformat": 4,
 "nbformat_minor": 1
}
