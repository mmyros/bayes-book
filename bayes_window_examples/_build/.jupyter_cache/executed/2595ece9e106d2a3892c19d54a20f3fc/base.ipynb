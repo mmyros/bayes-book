{
 "cells": [
  {
   "cell_type": "code",
   "execution_count": 1,
   "metadata": {},
   "outputs": [],
   "source": [
    "from bayes_window import models, BayesWindow, LMERegression\n",
    "from bayes_window.generative_models import generate_fake_spikes, generate_fake_lfp\n",
    "import numpy as np"
   ]
  },
  {
   "cell_type": "code",
   "execution_count": 2,
   "metadata": {},
   "outputs": [],
   "source": [
    "df, df_monster, index_cols, _ = generate_fake_lfp(mouse_response_slope=8,\n",
    "                                                 n_trials=40)\n"
   ]
  },
  {
   "cell_type": "code",
   "execution_count": 3,
   "metadata": {},
   "outputs": [
    {
     "name": "stdout",
     "output_type": "stream",
     "text": [
      "Using formula Log_power ~  C(stim, Treatment) + (1 | mouse)\n",
      "                          Coef.    Std.Err.       z  P>|z|       [0.025  \\\n",
      "Intercept                 0.030                                           \n",
      "C(stim, Treatment)[T.1]   0.088       0.021   4.162  0.000        0.047   \n",
      "1 | mouse                -0.173  165065.177  -0.000  1.000  -323521.975   \n",
      "Group Var                 0.000                                           \n",
      "\n",
      "                             0.975]  \n",
      "Intercept                            \n",
      "C(stim, Treatment)[T.1]       0.130  \n",
      "1 | mouse                323521.629  \n",
      "Group Var                            \n",
      "changing x to :Q\n"
     ]
    },
    {
     "name": "stdout",
     "output_type": "stream",
     "text": [
      "changing x to :Q\n"
     ]
    },
    {
     "name": "stderr",
     "output_type": "stream",
     "text": [
      "/home/m/anaconda3/envs/dj/lib/python3.8/site-packages/statsmodels/base/model.py:566: ConvergenceWarning: Maximum Likelihood optimization failed to converge. Check mle_retvals\n",
      "  warnings.warn(\"Maximum Likelihood optimization failed to \"\n",
      "/home/m/anaconda3/envs/dj/lib/python3.8/site-packages/statsmodels/regression/mixed_linear_model.py:2200: ConvergenceWarning: Retrying MixedLM optimization with lbfgs\n",
      "  warnings.warn(\n",
      "/home/m/anaconda3/envs/dj/lib/python3.8/site-packages/statsmodels/regression/mixed_linear_model.py:2237: ConvergenceWarning: The MLE may be on the boundary of the parameter space.\n",
      "  warnings.warn(msg, ConvergenceWarning)\n",
      "/home/m/anaconda3/envs/dj/lib/python3.8/site-packages/statsmodels/regression/mixed_linear_model.py:2261: ConvergenceWarning: The Hessian matrix at the estimated parameter values is not positive definite.\n",
      "  warnings.warn(msg, ConvergenceWarning)\n"
     ]
    },
    {
     "data": {
      "text/html": [
       "\n",
       "<div id=\"altair-viz-e1a7f81b030d4e81bed84f46275b07c3\"></div>\n",
       "<script type=\"text/javascript\">\n",
       "  (function(spec, embedOpt){\n",
       "    let outputDiv = document.currentScript.previousElementSibling;\n",
       "    if (outputDiv.id !== \"altair-viz-e1a7f81b030d4e81bed84f46275b07c3\") {\n",
       "      outputDiv = document.getElementById(\"altair-viz-e1a7f81b030d4e81bed84f46275b07c3\");\n",
       "    }\n",
       "    const paths = {\n",
       "      \"vega\": \"https://cdn.jsdelivr.net/npm//vega@5?noext\",\n",
       "      \"vega-lib\": \"https://cdn.jsdelivr.net/npm//vega-lib?noext\",\n",
       "      \"vega-lite\": \"https://cdn.jsdelivr.net/npm//vega-lite@4.8.1?noext\",\n",
       "      \"vega-embed\": \"https://cdn.jsdelivr.net/npm//vega-embed@6?noext\",\n",
       "    };\n",
       "\n",
       "    function loadScript(lib) {\n",
       "      return new Promise(function(resolve, reject) {\n",
       "        var s = document.createElement('script');\n",
       "        s.src = paths[lib];\n",
       "        s.async = true;\n",
       "        s.onload = () => resolve(paths[lib]);\n",
       "        s.onerror = () => reject(`Error loading script: ${paths[lib]}`);\n",
       "        document.getElementsByTagName(\"head\")[0].appendChild(s);\n",
       "      });\n",
       "    }\n",
       "\n",
       "    function showError(err) {\n",
       "      outputDiv.innerHTML = `<div class=\"error\" style=\"color:red;\">${err}</div>`;\n",
       "      throw err;\n",
       "    }\n",
       "\n",
       "    function displayChart(vegaEmbed) {\n",
       "      vegaEmbed(outputDiv, spec, embedOpt)\n",
       "        .catch(err => showError(`Javascript Error: ${err.message}<br>This usually means there's a typo in your chart specification. See the javascript console for the full traceback.`));\n",
       "    }\n",
       "\n",
       "    if(typeof define === \"function\" && define.amd) {\n",
       "      requirejs.config({paths});\n",
       "      require([\"vega-embed\"], displayChart, err => showError(`Error loading script: ${err.message}`));\n",
       "    } else if (typeof vegaEmbed === \"function\") {\n",
       "      displayChart(vegaEmbed);\n",
       "    } else {\n",
       "      loadScript(\"vega\")\n",
       "        .then(() => loadScript(\"vega-lite\"))\n",
       "        .then(() => loadScript(\"vega-embed\"))\n",
       "        .catch(showError)\n",
       "        .then(() => displayChart(vegaEmbed));\n",
       "    }\n",
       "  })({\"config\": {\"view\": {\"continuousWidth\": 400, \"continuousHeight\": 300}}, \"layer\": [{\"mark\": {\"type\": \"rule\", \"clip\": true, \"opacity\": 0.4, \"size\": 0.8}, \"encoding\": {\"x\": {\"type\": \"quantitative\", \"field\": \"\"}, \"y\": {\"type\": \"quantitative\", \"axis\": {\"orient\": \"left\", \"title\": \"\"}, \"field\": \"lower interval\", \"scale\": {\"domain\": [0, 0.13], \"zero\": true}}, \"y2\": {\"field\": \"higher interval\"}}}, {\"mark\": {\"type\": \"line\", \"clip\": true, \"color\": \"black\", \"fill\": null, \"point\": false, \"size\": 1}, \"encoding\": {\"x\": {\"type\": \"quantitative\", \"field\": \"\"}, \"y\": {\"type\": \"quantitative\", \"aggregate\": \"mean\", \"axis\": {\"orient\": \"left\"}, \"field\": \"center interval\", \"scale\": {\"domain\": [0, 0.13], \"zero\": true}, \"title\": \"\\u0394 Log_power\"}}}, {\"mark\": {\"type\": \"line\", \"color\": \"black\", \"opacity\": 1, \"size\": 0.5}, \"encoding\": {\"x\": {\"type\": \"quantitative\", \"field\": \"\"}, \"y\": {\"type\": \"quantitative\", \"axis\": {\"orient\": \"left\", \"title\": \"\"}, \"field\": \"zero\", \"scale\": {\"domain\": [0, 0.13], \"zero\": true}}}}], \"data\": {\"name\": \"data-bf6c8a6318638cd56cc7764ce782b3ea\"}, \"$schema\": \"https://vega.github.io/schema/vega-lite/v4.8.1.json\", \"datasets\": {\"data-bf6c8a6318638cd56cc7764ce782b3ea\": [{\"index\": \"C(stim, Treatment)[T.1]\", \"center interval\": 0.088, \"Std.Err.\": 0.021, \"z\": 4.162, \"p\": 0.0, \"higher interval\": 0.047, \"lower interval\": 0.13, \"zero\": 0}]}}, {\"mode\": \"vega-lite\"});\n",
       "</script>"
      ],
      "text/plain": [
       "alt.LayerChart(...)"
      ]
     },
     "metadata": {},
     "output_type": "display_data"
    }
   ],
   "source": [
    "bw = LMERegression(df=df, y='Log power', treatment='stim', group='mouse')\n",
    "bw.fit(add_data=False)\n",
    "bw.plot().display()"
   ]
  },
  {
   "cell_type": "code",
   "execution_count": 4,
   "metadata": {},
   "outputs": [
    {
     "data": {
      "text/html": [
       "<div>\n",
       "<style scoped>\n",
       "    .dataframe tbody tr th:only-of-type {\n",
       "        vertical-align: middle;\n",
       "    }\n",
       "\n",
       "    .dataframe tbody tr th {\n",
       "        vertical-align: top;\n",
       "    }\n",
       "\n",
       "    .dataframe thead th {\n",
       "        text-align: right;\n",
       "    }\n",
       "</style>\n",
       "<table border=\"1\" class=\"dataframe\">\n",
       "  <thead>\n",
       "    <tr style=\"text-align: right;\">\n",
       "      <th></th>\n",
       "      <th>index</th>\n",
       "      <th>center interval</th>\n",
       "      <th>Std.Err.</th>\n",
       "      <th>z</th>\n",
       "      <th>p</th>\n",
       "      <th>higher interval</th>\n",
       "      <th>lower interval</th>\n",
       "      <th>zero</th>\n",
       "    </tr>\n",
       "  </thead>\n",
       "  <tbody>\n",
       "    <tr>\n",
       "      <th>0</th>\n",
       "      <td>C(stim, Treatment)[T.1]</td>\n",
       "      <td>0.088</td>\n",
       "      <td>0.021</td>\n",
       "      <td>4.162</td>\n",
       "      <td>0.0</td>\n",
       "      <td>0.047</td>\n",
       "      <td>0.13</td>\n",
       "      <td>0</td>\n",
       "    </tr>\n",
       "  </tbody>\n",
       "</table>\n",
       "</div>"
      ],
      "text/plain": [
       "                     index  center interval  Std.Err.      z    p  \\\n",
       "0  C(stim, Treatment)[T.1]            0.088     0.021  4.162  0.0   \n",
       "\n",
       "   higher interval  lower interval  zero  \n",
       "0            0.047            0.13     0  "
      ]
     },
     "execution_count": 4,
     "metadata": {},
     "output_type": "execute_result"
    }
   ],
   "source": [
    "bw.data_and_posterior"
   ]
  },
  {
   "cell_type": "code",
   "execution_count": 5,
   "metadata": {},
   "outputs": [
    {
     "name": "stdout",
     "output_type": "stream",
     "text": [
      "Using formula Log_power ~  C(stim, Treatment) + (1 | mouse)\n"
     ]
    },
    {
     "name": "stdout",
     "output_type": "stream",
     "text": [
      "                          Coef.    Std.Err.       z  P>|z|       [0.025  \\\n",
      "Intercept                 0.030                                           \n",
      "C(stim, Treatment)[T.1]   0.088       0.021   4.162  0.000        0.047   \n",
      "1 | mouse                -0.173  165065.177  -0.000  1.000  -323521.975   \n",
      "Group Var                 0.000                                           \n",
      "\n",
      "                             0.975]  \n",
      "Intercept                            \n",
      "C(stim, Treatment)[T.1]       0.130  \n",
      "1 | mouse                323521.629  \n",
      "Group Var                            \n",
      "\n",
      " Data addition to LME is not implemented\n"
     ]
    },
    {
     "name": "stderr",
     "output_type": "stream",
     "text": [
      "/home/m/anaconda3/envs/dj/lib/python3.8/site-packages/statsmodels/base/model.py:566: ConvergenceWarning: Maximum Likelihood optimization failed to converge. Check mle_retvals\n",
      "  warnings.warn(\"Maximum Likelihood optimization failed to \"\n",
      "/home/m/anaconda3/envs/dj/lib/python3.8/site-packages/statsmodels/regression/mixed_linear_model.py:2200: ConvergenceWarning: Retrying MixedLM optimization with lbfgs\n",
      "  warnings.warn(\n",
      "/home/m/anaconda3/envs/dj/lib/python3.8/site-packages/statsmodels/regression/mixed_linear_model.py:2237: ConvergenceWarning: The MLE may be on the boundary of the parameter space.\n",
      "  warnings.warn(msg, ConvergenceWarning)\n",
      "/home/m/anaconda3/envs/dj/lib/python3.8/site-packages/statsmodels/regression/mixed_linear_model.py:2261: ConvergenceWarning: The Hessian matrix at the estimated parameter values is not positive definite.\n",
      "  warnings.warn(msg, ConvergenceWarning)\n"
     ]
    }
   ],
   "source": [
    "bw = LMERegression(df=df, y='Log power', treatment='stim', group='mouse')\n",
    "try:\n",
    "    bw.fit(add_data=True, do_make_change='subtract');\n",
    "    bw.plot()    \n",
    "except NotImplementedError:\n",
    "    print('\\n Data addition to LME is not implemented')"
   ]
  },
  {
   "cell_type": "code",
   "execution_count": 6,
   "metadata": {},
   "outputs": [],
   "source": [
    "df, df_monster, index_cols, firing_rates = generate_fake_spikes(n_trials=20,\n",
    "                                                                n_neurons=6,\n",
    "                                                                n_mice=3,\n",
    "                                                                dur=5,\n",
    "                                                               mouse_response_slope=40,\n",
    "                                                               overall_stim_response_strength=5)\n",
    "df['log_isi']=np.log10(df['isi'])"
   ]
  },
  {
   "cell_type": "code",
   "execution_count": 7,
   "metadata": {
    "scrolled": true
   },
   "outputs": [
    {
     "name": "stdout",
     "output_type": "stream",
     "text": [
      "Using formula log_isi ~ (1|mouse) + stim| neuron_x_mouse__0 + stim|neuron_x_mouse__1 + stim|neuron_x_mouse__2 + stim|neuron_x_mouse__3 + stim|neuron_x_mouse__4 + stim|neuron_x_mouse__5 + stim|neuron_x_mouse__6 + stim|neuron_x_mouse__7 + stim|neuron_x_mouse__8 + stim|neuron_x_mouse__9 + stim|neuron_x_mouse__10 + stim|neuron_x_mouse__11 + stim|neuron_x_mouse__12 + stim|neuron_x_mouse__13 + stim|neuron_x_mouse__14 + stim|neuron_x_mouse__15 + stim|neuron_x_mouse__16 + stim|neuron_x_mouse__17\n",
      "                            Coef. Std.Err.        z  P>|z|  [0.025  0.975]\n",
      "Intercept                  -1.047    0.132   -7.947  0.000  -1.305  -0.789\n",
      "1 | mouse                  -0.079    0.069   -1.143  0.253  -0.213   0.056\n",
      "stim | neuron_x_mouse__0   -0.010    0.020   -0.486  0.627  -0.049   0.030\n",
      "stim | neuron_x_mouse__1   -0.074    0.020   -3.692  0.000  -0.114  -0.035\n",
      "stim | neuron_x_mouse__2   -0.091    0.020   -4.506  0.000  -0.130  -0.051\n",
      "stim | neuron_x_mouse__3   -0.159    0.020   -7.887  0.000  -0.198  -0.119\n",
      "stim | neuron_x_mouse__4   -0.226    0.020  -11.249  0.000  -0.266  -0.187\n",
      "stim | neuron_x_mouse__5   -0.276    0.020  -13.728  0.000  -0.316  -0.237\n",
      "stim | neuron_x_mouse__6    0.124    0.020    6.166  0.000   0.085   0.164\n",
      "stim | neuron_x_mouse__7    0.080    0.020    3.988  0.000   0.041   0.120\n",
      "stim | neuron_x_mouse__8    0.019    0.020    0.967  0.334  -0.020   0.059\n",
      "stim | neuron_x_mouse__9   -0.003    0.020   -0.126  0.900  -0.042   0.037\n",
      "stim | neuron_x_mouse__10  -0.045    0.020   -2.213  0.027  -0.084  -0.005\n",
      "stim | neuron_x_mouse__11  -0.078    0.020   -3.873  0.000  -0.117  -0.039\n",
      "stim | neuron_x_mouse__12   0.194    0.020    9.641  0.000   0.155   0.233\n",
      "stim | neuron_x_mouse__13   0.175    0.020    8.707  0.000   0.136   0.215\n",
      "stim | neuron_x_mouse__14   0.129    0.020    6.409  0.000   0.090   0.168\n",
      "stim | neuron_x_mouse__15   0.079    0.020    3.914  0.000   0.039   0.118\n",
      "stim | neuron_x_mouse__16   0.012    0.020    0.576  0.565  -0.028   0.051\n",
      "stim | neuron_x_mouse__17  -0.021    0.020   -1.027  0.304  -0.060   0.019\n",
      "Group Var                   0.013    0.203                                \n",
      "changing x to :Q\n"
     ]
    }
   ],
   "source": [
    "bw = LMERegression(df=df, y='log_isi', treatment='stim', condition=['neuron_x_mouse'], group='mouse',)\n",
    "bw.fit(add_data=False,add_group_intercept=True, add_group_slope=False);"
   ]
  },
  {
   "cell_type": "code",
   "execution_count": 8,
   "metadata": {},
   "outputs": [
    {
     "data": {
      "text/html": [
       "\n",
       "<div id=\"altair-viz-0d381d0bf9b540f5a8e9d5cd21c60f47\"></div>\n",
       "<script type=\"text/javascript\">\n",
       "  (function(spec, embedOpt){\n",
       "    let outputDiv = document.currentScript.previousElementSibling;\n",
       "    if (outputDiv.id !== \"altair-viz-0d381d0bf9b540f5a8e9d5cd21c60f47\") {\n",
       "      outputDiv = document.getElementById(\"altair-viz-0d381d0bf9b540f5a8e9d5cd21c60f47\");\n",
       "    }\n",
       "    const paths = {\n",
       "      \"vega\": \"https://cdn.jsdelivr.net/npm//vega@5?noext\",\n",
       "      \"vega-lib\": \"https://cdn.jsdelivr.net/npm//vega-lib?noext\",\n",
       "      \"vega-lite\": \"https://cdn.jsdelivr.net/npm//vega-lite@4.8.1?noext\",\n",
       "      \"vega-embed\": \"https://cdn.jsdelivr.net/npm//vega-embed@6?noext\",\n",
       "    };\n",
       "\n",
       "    function loadScript(lib) {\n",
       "      return new Promise(function(resolve, reject) {\n",
       "        var s = document.createElement('script');\n",
       "        s.src = paths[lib];\n",
       "        s.async = true;\n",
       "        s.onload = () => resolve(paths[lib]);\n",
       "        s.onerror = () => reject(`Error loading script: ${paths[lib]}`);\n",
       "        document.getElementsByTagName(\"head\")[0].appendChild(s);\n",
       "      });\n",
       "    }\n",
       "\n",
       "    function showError(err) {\n",
       "      outputDiv.innerHTML = `<div class=\"error\" style=\"color:red;\">${err}</div>`;\n",
       "      throw err;\n",
       "    }\n",
       "\n",
       "    function displayChart(vegaEmbed) {\n",
       "      vegaEmbed(outputDiv, spec, embedOpt)\n",
       "        .catch(err => showError(`Javascript Error: ${err.message}<br>This usually means there's a typo in your chart specification. See the javascript console for the full traceback.`));\n",
       "    }\n",
       "\n",
       "    if(typeof define === \"function\" && define.amd) {\n",
       "      requirejs.config({paths});\n",
       "      require([\"vega-embed\"], displayChart, err => showError(`Error loading script: ${err.message}`));\n",
       "    } else if (typeof vegaEmbed === \"function\") {\n",
       "      displayChart(vegaEmbed);\n",
       "    } else {\n",
       "      loadScript(\"vega\")\n",
       "        .then(() => loadScript(\"vega-lite\"))\n",
       "        .then(() => loadScript(\"vega-embed\"))\n",
       "        .catch(showError)\n",
       "        .then(() => displayChart(vegaEmbed));\n",
       "    }\n",
       "  })({\"config\": {\"view\": {\"continuousWidth\": 400, \"continuousHeight\": 300}}, \"layer\": [{\"mark\": {\"type\": \"rule\", \"clip\": true, \"opacity\": 0.4, \"size\": 0.8}, \"encoding\": {\"x\": {\"type\": \"quantitative\", \"field\": \"\"}, \"y\": {\"type\": \"quantitative\", \"axis\": {\"orient\": \"left\", \"title\": \"\"}, \"field\": \"lower interval\", \"scale\": {\"domain\": [-0.237, 0.155], \"zero\": true}}, \"y2\": {\"field\": \"higher interval\"}}}, {\"mark\": {\"type\": \"line\", \"clip\": true, \"color\": \"black\", \"fill\": null, \"point\": false, \"size\": 1}, \"encoding\": {\"x\": {\"type\": \"quantitative\", \"field\": \"\"}, \"y\": {\"type\": \"quantitative\", \"aggregate\": \"mean\", \"axis\": {\"orient\": \"left\"}, \"field\": \"center interval\", \"scale\": {\"domain\": [-0.237, 0.155], \"zero\": true}, \"title\": \"\\u0394 log_isi\"}}}, {\"mark\": {\"type\": \"line\", \"color\": \"black\", \"opacity\": 1, \"size\": 0.5}, \"encoding\": {\"x\": {\"type\": \"quantitative\", \"field\": \"\"}, \"y\": {\"type\": \"quantitative\", \"axis\": {\"orient\": \"left\", \"title\": \"\"}, \"field\": \"zero\", \"scale\": {\"domain\": [-0.237, 0.155], \"zero\": true}}}}], \"data\": {\"name\": \"data-d20699561c871cbe63f0ec333d110bba\"}, \"$schema\": \"https://vega.github.io/schema/vega-lite/v4.8.1.json\", \"datasets\": {\"data-d20699561c871cbe63f0ec333d110bba\": [{\"neuron_x_mouse\": 0, \"center interval\": -0.01, \"Std.Err.\": 0.02, \"z\": -0.486, \"p\": 0.627, \"higher interval\": -0.049, \"lower interval\": 0.03, \"zero\": 0}, {\"neuron_x_mouse\": 1, \"center interval\": -0.074, \"Std.Err.\": 0.02, \"z\": -3.692, \"p\": 0.0, \"higher interval\": -0.114, \"lower interval\": -0.035, \"zero\": 0}, {\"neuron_x_mouse\": 2, \"center interval\": -0.091, \"Std.Err.\": 0.02, \"z\": -4.506, \"p\": 0.0, \"higher interval\": -0.13, \"lower interval\": -0.051, \"zero\": 0}, {\"neuron_x_mouse\": 3, \"center interval\": -0.159, \"Std.Err.\": 0.02, \"z\": -7.887, \"p\": 0.0, \"higher interval\": -0.198, \"lower interval\": -0.119, \"zero\": 0}, {\"neuron_x_mouse\": 4, \"center interval\": -0.226, \"Std.Err.\": 0.02, \"z\": -11.249, \"p\": 0.0, \"higher interval\": -0.266, \"lower interval\": -0.187, \"zero\": 0}, {\"neuron_x_mouse\": 5, \"center interval\": -0.276, \"Std.Err.\": 0.02, \"z\": -13.728, \"p\": 0.0, \"higher interval\": -0.316, \"lower interval\": -0.237, \"zero\": 0}, {\"neuron_x_mouse\": 6, \"center interval\": 0.124, \"Std.Err.\": 0.02, \"z\": 6.166, \"p\": 0.0, \"higher interval\": 0.085, \"lower interval\": 0.164, \"zero\": 0}, {\"neuron_x_mouse\": 7, \"center interval\": 0.08, \"Std.Err.\": 0.02, \"z\": 3.988, \"p\": 0.0, \"higher interval\": 0.041, \"lower interval\": 0.12, \"zero\": 0}, {\"neuron_x_mouse\": 8, \"center interval\": 0.019, \"Std.Err.\": 0.02, \"z\": 0.967, \"p\": 0.334, \"higher interval\": -0.02, \"lower interval\": 0.059, \"zero\": 0}, {\"neuron_x_mouse\": 9, \"center interval\": -0.003, \"Std.Err.\": 0.02, \"z\": -0.126, \"p\": 0.9, \"higher interval\": -0.042, \"lower interval\": 0.037, \"zero\": 0}, {\"neuron_x_mouse\": 10, \"center interval\": -0.045, \"Std.Err.\": 0.02, \"z\": -2.213, \"p\": 0.027, \"higher interval\": -0.084, \"lower interval\": -0.005, \"zero\": 0}, {\"neuron_x_mouse\": 11, \"center interval\": -0.078, \"Std.Err.\": 0.02, \"z\": -3.873, \"p\": 0.0, \"higher interval\": -0.117, \"lower interval\": -0.039, \"zero\": 0}, {\"neuron_x_mouse\": 12, \"center interval\": 0.194, \"Std.Err.\": 0.02, \"z\": 9.641, \"p\": 0.0, \"higher interval\": 0.155, \"lower interval\": 0.233, \"zero\": 0}, {\"neuron_x_mouse\": 13, \"center interval\": 0.175, \"Std.Err.\": 0.02, \"z\": 8.707, \"p\": 0.0, \"higher interval\": 0.136, \"lower interval\": 0.215, \"zero\": 0}, {\"neuron_x_mouse\": 14, \"center interval\": 0.129, \"Std.Err.\": 0.02, \"z\": 6.409, \"p\": 0.0, \"higher interval\": 0.09, \"lower interval\": 0.168, \"zero\": 0}, {\"neuron_x_mouse\": 15, \"center interval\": 0.079, \"Std.Err.\": 0.02, \"z\": 3.914, \"p\": 0.0, \"higher interval\": 0.039, \"lower interval\": 0.118, \"zero\": 0}, {\"neuron_x_mouse\": 16, \"center interval\": 0.012, \"Std.Err.\": 0.02, \"z\": 0.576, \"p\": 0.565, \"higher interval\": -0.028, \"lower interval\": 0.051, \"zero\": 0}, {\"neuron_x_mouse\": 17, \"center interval\": -0.021, \"Std.Err.\": 0.02, \"z\": -1.027, \"p\": 0.304, \"higher interval\": -0.06, \"lower interval\": 0.019, \"zero\": 0}]}}, {\"mode\": \"vega-lite\"});\n",
       "</script>"
      ],
      "text/plain": [
       "alt.LayerChart(...)"
      ]
     },
     "execution_count": 8,
     "metadata": {},
     "output_type": "execute_result"
    }
   ],
   "source": [
    "bw.chart"
   ]
  },
  {
   "cell_type": "code",
   "execution_count": 9,
   "metadata": {},
   "outputs": [
    {
     "name": "stdout",
     "output_type": "stream",
     "text": [
      "Using formula log_isi ~ (stim|mouse)  + stim| neuron_x_mouse__0 + stim|neuron_x_mouse__1 + stim|neuron_x_mouse__2 + stim|neuron_x_mouse__3 + stim|neuron_x_mouse__4 + stim|neuron_x_mouse__5 + stim|neuron_x_mouse__6 + stim|neuron_x_mouse__7 + stim|neuron_x_mouse__8 + stim|neuron_x_mouse__9 + stim|neuron_x_mouse__10 + stim|neuron_x_mouse__11 + stim|neuron_x_mouse__12 + stim|neuron_x_mouse__13 + stim|neuron_x_mouse__14 + stim|neuron_x_mouse__15 + stim|neuron_x_mouse__16 + stim|neuron_x_mouse__17\n",
      "                            Coef. Std.Err.        z  P>|z|  [0.025  0.975]\n",
      "Intercept                  -1.102    0.093  -11.904  0.000  -1.284  -0.921\n",
      "stim | mouse               -0.079    0.069   -1.143  0.253  -0.213   0.056\n",
      "stim | neuron_x_mouse__0   -0.033    0.029   -1.146  0.252  -0.089   0.023\n",
      "stim | neuron_x_mouse__1   -0.097    0.029   -3.395  0.001  -0.154  -0.041\n",
      "stim | neuron_x_mouse__2   -0.114    0.029   -3.966  0.000  -0.170  -0.058\n",
      "stim | neuron_x_mouse__3   -0.182    0.029   -6.337  0.000  -0.238  -0.126\n",
      "stim | neuron_x_mouse__4   -0.250    0.029   -8.695  0.000  -0.306  -0.193\n",
      "stim | neuron_x_mouse__5   -0.299    0.029  -10.434  0.000  -0.356  -0.243\n",
      "stim | neuron_x_mouse__6    0.180    0.052    3.432  0.001   0.077   0.282\n",
      "stim | neuron_x_mouse__7    0.136    0.052    2.594  0.009   0.033   0.238\n",
      "stim | neuron_x_mouse__8    0.075    0.052    1.432  0.152  -0.028   0.178\n",
      "stim | neuron_x_mouse__9    0.053    0.052    1.012  0.311  -0.050   0.156\n",
      "stim | neuron_x_mouse__10   0.011    0.052    0.209  0.834  -0.092   0.114\n",
      "stim | neuron_x_mouse__11  -0.022    0.052   -0.429  0.668  -0.125   0.080\n",
      "stim | neuron_x_mouse__12   0.171    0.028    6.060  0.000   0.116   0.226\n",
      "stim | neuron_x_mouse__13   0.152    0.028    5.393  0.000   0.097   0.207\n",
      "stim | neuron_x_mouse__14   0.106    0.028    3.754  0.000   0.051   0.161\n",
      "stim | neuron_x_mouse__15   0.056    0.028    1.973  0.049   0.000   0.111\n",
      "stim | neuron_x_mouse__16  -0.012    0.028   -0.409  0.682  -0.067   0.044\n",
      "stim | neuron_x_mouse__17  -0.044    0.028   -1.553  0.120  -0.099   0.011\n",
      "Group Var                   0.013    0.203                                \n",
      "changing x to :Q\n"
     ]
    },
    {
     "data": {
      "text/plain": [
       "<bayes_window.lme.LMERegression at 0x7fb304ab6760>"
      ]
     },
     "execution_count": 9,
     "metadata": {},
     "output_type": "execute_result"
    }
   ],
   "source": [
    "bw = LMERegression(df=df, y='log_isi', treatment='stim', condition=['neuron_x_mouse'], group='mouse',)\n",
    "bw.fit(add_data=False,add_group_intercept=True, add_group_slope=True)"
   ]
  },
  {
   "cell_type": "code",
   "execution_count": 10,
   "metadata": {},
   "outputs": [
    {
     "data": {
      "text/html": [
       "\n",
       "<div id=\"altair-viz-5a7f38d45739441d9a80136a34bfb49e\"></div>\n",
       "<script type=\"text/javascript\">\n",
       "  (function(spec, embedOpt){\n",
       "    let outputDiv = document.currentScript.previousElementSibling;\n",
       "    if (outputDiv.id !== \"altair-viz-5a7f38d45739441d9a80136a34bfb49e\") {\n",
       "      outputDiv = document.getElementById(\"altair-viz-5a7f38d45739441d9a80136a34bfb49e\");\n",
       "    }\n",
       "    const paths = {\n",
       "      \"vega\": \"https://cdn.jsdelivr.net/npm//vega@5?noext\",\n",
       "      \"vega-lib\": \"https://cdn.jsdelivr.net/npm//vega-lib?noext\",\n",
       "      \"vega-lite\": \"https://cdn.jsdelivr.net/npm//vega-lite@4.8.1?noext\",\n",
       "      \"vega-embed\": \"https://cdn.jsdelivr.net/npm//vega-embed@6?noext\",\n",
       "    };\n",
       "\n",
       "    function loadScript(lib) {\n",
       "      return new Promise(function(resolve, reject) {\n",
       "        var s = document.createElement('script');\n",
       "        s.src = paths[lib];\n",
       "        s.async = true;\n",
       "        s.onload = () => resolve(paths[lib]);\n",
       "        s.onerror = () => reject(`Error loading script: ${paths[lib]}`);\n",
       "        document.getElementsByTagName(\"head\")[0].appendChild(s);\n",
       "      });\n",
       "    }\n",
       "\n",
       "    function showError(err) {\n",
       "      outputDiv.innerHTML = `<div class=\"error\" style=\"color:red;\">${err}</div>`;\n",
       "      throw err;\n",
       "    }\n",
       "\n",
       "    function displayChart(vegaEmbed) {\n",
       "      vegaEmbed(outputDiv, spec, embedOpt)\n",
       "        .catch(err => showError(`Javascript Error: ${err.message}<br>This usually means there's a typo in your chart specification. See the javascript console for the full traceback.`));\n",
       "    }\n",
       "\n",
       "    if(typeof define === \"function\" && define.amd) {\n",
       "      requirejs.config({paths});\n",
       "      require([\"vega-embed\"], displayChart, err => showError(`Error loading script: ${err.message}`));\n",
       "    } else if (typeof vegaEmbed === \"function\") {\n",
       "      displayChart(vegaEmbed);\n",
       "    } else {\n",
       "      loadScript(\"vega\")\n",
       "        .then(() => loadScript(\"vega-lite\"))\n",
       "        .then(() => loadScript(\"vega-embed\"))\n",
       "        .catch(showError)\n",
       "        .then(() => displayChart(vegaEmbed));\n",
       "    }\n",
       "  })({\"config\": {\"view\": {\"continuousWidth\": 400, \"continuousHeight\": 300}}, \"layer\": [{\"mark\": {\"type\": \"rule\", \"clip\": true, \"opacity\": 0.4, \"size\": 0.8}, \"encoding\": {\"x\": {\"type\": \"quantitative\", \"field\": \"\"}, \"y\": {\"type\": \"quantitative\", \"axis\": {\"orient\": \"left\", \"title\": \"\"}, \"field\": \"lower interval\", \"scale\": {\"domain\": [-0.243, 0.116], \"zero\": true}}, \"y2\": {\"field\": \"higher interval\"}}}, {\"mark\": {\"type\": \"line\", \"clip\": true, \"color\": \"black\", \"fill\": null, \"point\": false, \"size\": 1}, \"encoding\": {\"x\": {\"type\": \"quantitative\", \"field\": \"\"}, \"y\": {\"type\": \"quantitative\", \"aggregate\": \"mean\", \"axis\": {\"orient\": \"left\"}, \"field\": \"center interval\", \"scale\": {\"domain\": [-0.243, 0.116], \"zero\": true}, \"title\": \"\\u0394 log_isi\"}}}, {\"mark\": {\"type\": \"line\", \"color\": \"black\", \"opacity\": 1, \"size\": 0.5}, \"encoding\": {\"x\": {\"type\": \"quantitative\", \"field\": \"\"}, \"y\": {\"type\": \"quantitative\", \"axis\": {\"orient\": \"left\", \"title\": \"\"}, \"field\": \"zero\", \"scale\": {\"domain\": [-0.243, 0.116], \"zero\": true}}}}], \"data\": {\"name\": \"data-d94914ea2cc006c2beee6b56b0290069\"}, \"$schema\": \"https://vega.github.io/schema/vega-lite/v4.8.1.json\", \"datasets\": {\"data-d94914ea2cc006c2beee6b56b0290069\": [{\"neuron_x_mouse\": 0, \"center interval\": -0.033, \"Std.Err.\": 0.029, \"z\": -1.146, \"p\": 0.252, \"higher interval\": -0.089, \"lower interval\": 0.023, \"zero\": 0}, {\"neuron_x_mouse\": 1, \"center interval\": -0.097, \"Std.Err.\": 0.029, \"z\": -3.395, \"p\": 0.001, \"higher interval\": -0.154, \"lower interval\": -0.041, \"zero\": 0}, {\"neuron_x_mouse\": 2, \"center interval\": -0.114, \"Std.Err.\": 0.029, \"z\": -3.966, \"p\": 0.0, \"higher interval\": -0.17, \"lower interval\": -0.058, \"zero\": 0}, {\"neuron_x_mouse\": 3, \"center interval\": -0.182, \"Std.Err.\": 0.029, \"z\": -6.337, \"p\": 0.0, \"higher interval\": -0.238, \"lower interval\": -0.126, \"zero\": 0}, {\"neuron_x_mouse\": 4, \"center interval\": -0.25, \"Std.Err.\": 0.029, \"z\": -8.695, \"p\": 0.0, \"higher interval\": -0.306, \"lower interval\": -0.193, \"zero\": 0}, {\"neuron_x_mouse\": 5, \"center interval\": -0.299, \"Std.Err.\": 0.029, \"z\": -10.434, \"p\": 0.0, \"higher interval\": -0.356, \"lower interval\": -0.243, \"zero\": 0}, {\"neuron_x_mouse\": 6, \"center interval\": 0.18, \"Std.Err.\": 0.052, \"z\": 3.432, \"p\": 0.001, \"higher interval\": 0.077, \"lower interval\": 0.282, \"zero\": 0}, {\"neuron_x_mouse\": 7, \"center interval\": 0.136, \"Std.Err.\": 0.052, \"z\": 2.594, \"p\": 0.009, \"higher interval\": 0.033, \"lower interval\": 0.238, \"zero\": 0}, {\"neuron_x_mouse\": 8, \"center interval\": 0.075, \"Std.Err.\": 0.052, \"z\": 1.432, \"p\": 0.152, \"higher interval\": -0.028, \"lower interval\": 0.178, \"zero\": 0}, {\"neuron_x_mouse\": 9, \"center interval\": 0.053, \"Std.Err.\": 0.052, \"z\": 1.012, \"p\": 0.311, \"higher interval\": -0.05, \"lower interval\": 0.156, \"zero\": 0}, {\"neuron_x_mouse\": 10, \"center interval\": 0.011, \"Std.Err.\": 0.052, \"z\": 0.209, \"p\": 0.834, \"higher interval\": -0.092, \"lower interval\": 0.114, \"zero\": 0}, {\"neuron_x_mouse\": 11, \"center interval\": -0.022, \"Std.Err.\": 0.052, \"z\": -0.429, \"p\": 0.668, \"higher interval\": -0.125, \"lower interval\": 0.08, \"zero\": 0}, {\"neuron_x_mouse\": 12, \"center interval\": 0.171, \"Std.Err.\": 0.028, \"z\": 6.06, \"p\": 0.0, \"higher interval\": 0.116, \"lower interval\": 0.226, \"zero\": 0}, {\"neuron_x_mouse\": 13, \"center interval\": 0.152, \"Std.Err.\": 0.028, \"z\": 5.393, \"p\": 0.0, \"higher interval\": 0.097, \"lower interval\": 0.207, \"zero\": 0}, {\"neuron_x_mouse\": 14, \"center interval\": 0.106, \"Std.Err.\": 0.028, \"z\": 3.754, \"p\": 0.0, \"higher interval\": 0.051, \"lower interval\": 0.161, \"zero\": 0}, {\"neuron_x_mouse\": 15, \"center interval\": 0.056, \"Std.Err.\": 0.028, \"z\": 1.973, \"p\": 0.049, \"higher interval\": 0.0, \"lower interval\": 0.111, \"zero\": 0}, {\"neuron_x_mouse\": 16, \"center interval\": -0.012, \"Std.Err.\": 0.028, \"z\": -0.409, \"p\": 0.682, \"higher interval\": -0.067, \"lower interval\": 0.044, \"zero\": 0}, {\"neuron_x_mouse\": 17, \"center interval\": -0.044, \"Std.Err.\": 0.028, \"z\": -1.553, \"p\": 0.12, \"higher interval\": -0.099, \"lower interval\": 0.011, \"zero\": 0}]}}, {\"mode\": \"vega-lite\"});\n",
       "</script>"
      ],
      "text/plain": [
       "alt.LayerChart(...)"
      ]
     },
     "execution_count": 10,
     "metadata": {},
     "output_type": "execute_result"
    }
   ],
   "source": [
    "bw.chart"
   ]
  },
  {
   "cell_type": "code",
   "execution_count": 11,
   "metadata": {},
   "outputs": [
    {
     "name": "stdout",
     "output_type": "stream",
     "text": [
      "changing x to neuron_x_mouse:Q\n"
     ]
    },
    {
     "data": {
      "text/html": [
       "\n",
       "<div id=\"altair-viz-28b8a1d307c2421a872d0d5f43fa0838\"></div>\n",
       "<script type=\"text/javascript\">\n",
       "  (function(spec, embedOpt){\n",
       "    let outputDiv = document.currentScript.previousElementSibling;\n",
       "    if (outputDiv.id !== \"altair-viz-28b8a1d307c2421a872d0d5f43fa0838\") {\n",
       "      outputDiv = document.getElementById(\"altair-viz-28b8a1d307c2421a872d0d5f43fa0838\");\n",
       "    }\n",
       "    const paths = {\n",
       "      \"vega\": \"https://cdn.jsdelivr.net/npm//vega@5?noext\",\n",
       "      \"vega-lib\": \"https://cdn.jsdelivr.net/npm//vega-lib?noext\",\n",
       "      \"vega-lite\": \"https://cdn.jsdelivr.net/npm//vega-lite@4.8.1?noext\",\n",
       "      \"vega-embed\": \"https://cdn.jsdelivr.net/npm//vega-embed@6?noext\",\n",
       "    };\n",
       "\n",
       "    function loadScript(lib) {\n",
       "      return new Promise(function(resolve, reject) {\n",
       "        var s = document.createElement('script');\n",
       "        s.src = paths[lib];\n",
       "        s.async = true;\n",
       "        s.onload = () => resolve(paths[lib]);\n",
       "        s.onerror = () => reject(`Error loading script: ${paths[lib]}`);\n",
       "        document.getElementsByTagName(\"head\")[0].appendChild(s);\n",
       "      });\n",
       "    }\n",
       "\n",
       "    function showError(err) {\n",
       "      outputDiv.innerHTML = `<div class=\"error\" style=\"color:red;\">${err}</div>`;\n",
       "      throw err;\n",
       "    }\n",
       "\n",
       "    function displayChart(vegaEmbed) {\n",
       "      vegaEmbed(outputDiv, spec, embedOpt)\n",
       "        .catch(err => showError(`Javascript Error: ${err.message}<br>This usually means there's a typo in your chart specification. See the javascript console for the full traceback.`));\n",
       "    }\n",
       "\n",
       "    if(typeof define === \"function\" && define.amd) {\n",
       "      requirejs.config({paths});\n",
       "      require([\"vega-embed\"], displayChart, err => showError(`Error loading script: ${err.message}`));\n",
       "    } else if (typeof vegaEmbed === \"function\") {\n",
       "      displayChart(vegaEmbed);\n",
       "    } else {\n",
       "      loadScript(\"vega\")\n",
       "        .then(() => loadScript(\"vega-lite\"))\n",
       "        .then(() => loadScript(\"vega-embed\"))\n",
       "        .catch(showError)\n",
       "        .then(() => displayChart(vegaEmbed));\n",
       "    }\n",
       "  })({\"config\": {\"view\": {\"continuousWidth\": 400, \"continuousHeight\": 300}}, \"layer\": [{\"mark\": {\"type\": \"rule\", \"clip\": true, \"opacity\": 0.4, \"size\": 0.8}, \"encoding\": {\"x\": {\"type\": \"quantitative\", \"field\": \"neuron_x_mouse\"}, \"y\": {\"type\": \"quantitative\", \"axis\": {\"orient\": \"left\", \"title\": \"\"}, \"field\": \"lower interval\", \"scale\": {\"domain\": [-0.243, 0.116], \"zero\": true}}, \"y2\": {\"field\": \"higher interval\"}}}, {\"mark\": {\"type\": \"line\", \"clip\": true, \"color\": \"black\", \"fill\": null, \"point\": false, \"size\": 1}, \"encoding\": {\"x\": {\"type\": \"quantitative\", \"field\": \"neuron_x_mouse\"}, \"y\": {\"type\": \"quantitative\", \"aggregate\": \"mean\", \"axis\": {\"orient\": \"left\"}, \"field\": \"center interval\", \"scale\": {\"domain\": [-0.243, 0.116], \"zero\": true}, \"title\": \"\\u0394 log_isi\"}}}, {\"mark\": {\"type\": \"line\", \"color\": \"black\", \"opacity\": 1, \"size\": 0.5}, \"encoding\": {\"x\": {\"type\": \"quantitative\", \"field\": \"neuron_x_mouse\"}, \"y\": {\"type\": \"quantitative\", \"axis\": {\"orient\": \"left\", \"title\": \"\"}, \"field\": \"zero\", \"scale\": {\"domain\": [-0.243, 0.116], \"zero\": true}}}}], \"data\": {\"name\": \"data-d94914ea2cc006c2beee6b56b0290069\"}, \"$schema\": \"https://vega.github.io/schema/vega-lite/v4.8.1.json\", \"datasets\": {\"data-d94914ea2cc006c2beee6b56b0290069\": [{\"neuron_x_mouse\": 0, \"center interval\": -0.033, \"Std.Err.\": 0.029, \"z\": -1.146, \"p\": 0.252, \"higher interval\": -0.089, \"lower interval\": 0.023, \"zero\": 0}, {\"neuron_x_mouse\": 1, \"center interval\": -0.097, \"Std.Err.\": 0.029, \"z\": -3.395, \"p\": 0.001, \"higher interval\": -0.154, \"lower interval\": -0.041, \"zero\": 0}, {\"neuron_x_mouse\": 2, \"center interval\": -0.114, \"Std.Err.\": 0.029, \"z\": -3.966, \"p\": 0.0, \"higher interval\": -0.17, \"lower interval\": -0.058, \"zero\": 0}, {\"neuron_x_mouse\": 3, \"center interval\": -0.182, \"Std.Err.\": 0.029, \"z\": -6.337, \"p\": 0.0, \"higher interval\": -0.238, \"lower interval\": -0.126, \"zero\": 0}, {\"neuron_x_mouse\": 4, \"center interval\": -0.25, \"Std.Err.\": 0.029, \"z\": -8.695, \"p\": 0.0, \"higher interval\": -0.306, \"lower interval\": -0.193, \"zero\": 0}, {\"neuron_x_mouse\": 5, \"center interval\": -0.299, \"Std.Err.\": 0.029, \"z\": -10.434, \"p\": 0.0, \"higher interval\": -0.356, \"lower interval\": -0.243, \"zero\": 0}, {\"neuron_x_mouse\": 6, \"center interval\": 0.18, \"Std.Err.\": 0.052, \"z\": 3.432, \"p\": 0.001, \"higher interval\": 0.077, \"lower interval\": 0.282, \"zero\": 0}, {\"neuron_x_mouse\": 7, \"center interval\": 0.136, \"Std.Err.\": 0.052, \"z\": 2.594, \"p\": 0.009, \"higher interval\": 0.033, \"lower interval\": 0.238, \"zero\": 0}, {\"neuron_x_mouse\": 8, \"center interval\": 0.075, \"Std.Err.\": 0.052, \"z\": 1.432, \"p\": 0.152, \"higher interval\": -0.028, \"lower interval\": 0.178, \"zero\": 0}, {\"neuron_x_mouse\": 9, \"center interval\": 0.053, \"Std.Err.\": 0.052, \"z\": 1.012, \"p\": 0.311, \"higher interval\": -0.05, \"lower interval\": 0.156, \"zero\": 0}, {\"neuron_x_mouse\": 10, \"center interval\": 0.011, \"Std.Err.\": 0.052, \"z\": 0.209, \"p\": 0.834, \"higher interval\": -0.092, \"lower interval\": 0.114, \"zero\": 0}, {\"neuron_x_mouse\": 11, \"center interval\": -0.022, \"Std.Err.\": 0.052, \"z\": -0.429, \"p\": 0.668, \"higher interval\": -0.125, \"lower interval\": 0.08, \"zero\": 0}, {\"neuron_x_mouse\": 12, \"center interval\": 0.171, \"Std.Err.\": 0.028, \"z\": 6.06, \"p\": 0.0, \"higher interval\": 0.116, \"lower interval\": 0.226, \"zero\": 0}, {\"neuron_x_mouse\": 13, \"center interval\": 0.152, \"Std.Err.\": 0.028, \"z\": 5.393, \"p\": 0.0, \"higher interval\": 0.097, \"lower interval\": 0.207, \"zero\": 0}, {\"neuron_x_mouse\": 14, \"center interval\": 0.106, \"Std.Err.\": 0.028, \"z\": 3.754, \"p\": 0.0, \"higher interval\": 0.051, \"lower interval\": 0.161, \"zero\": 0}, {\"neuron_x_mouse\": 15, \"center interval\": 0.056, \"Std.Err.\": 0.028, \"z\": 1.973, \"p\": 0.049, \"higher interval\": 0.0, \"lower interval\": 0.111, \"zero\": 0}, {\"neuron_x_mouse\": 16, \"center interval\": -0.012, \"Std.Err.\": 0.028, \"z\": -0.409, \"p\": 0.682, \"higher interval\": -0.067, \"lower interval\": 0.044, \"zero\": 0}, {\"neuron_x_mouse\": 17, \"center interval\": -0.044, \"Std.Err.\": 0.028, \"z\": -1.553, \"p\": 0.12, \"higher interval\": -0.099, \"lower interval\": 0.011, \"zero\": 0}]}}, {\"mode\": \"vega-lite\"});\n",
       "</script>"
      ],
      "text/plain": [
       "alt.LayerChart(...)"
      ]
     },
     "metadata": {},
     "output_type": "display_data"
    }
   ],
   "source": [
    "bw.plot(x='neuron_x_mouse:O').display()"
   ]
  },
  {
   "cell_type": "code",
   "execution_count": 12,
   "metadata": {},
   "outputs": [
    {
     "name": "stdout",
     "output_type": "stream",
     "text": [
      "Using formula log_isi ~ (1|mouse) + C(stim| neuron_x_mouse)\n",
      "                                 Coef.    Std.Err.       z  P>|z|  \\\n",
      "Intercept                       -0.768  153525.798  -0.000  1.000   \n",
      "C(stim | neuron_x_mouse)[T.1]   -0.086       0.029  -3.015  0.003   \n",
      "C(stim | neuron_x_mouse)[T.2]   -0.081       0.035  -2.302  0.021   \n",
      "C(stim | neuron_x_mouse)[T.3]   -0.156       0.029  -5.427  0.000   \n",
      "C(stim | neuron_x_mouse)[T.4]   -0.217       0.035  -6.164  0.000   \n",
      "C(stim | neuron_x_mouse)[T.5]   -0.237       0.029  -8.242  0.000   \n",
      "C(stim | neuron_x_mouse)[T.6]   -0.024       0.161  -0.151  0.880   \n",
      "C(stim | neuron_x_mouse)[T.7]   -0.294       0.160  -1.840  0.066   \n",
      "C(stim | neuron_x_mouse)[T.8]   -0.129       0.161  -0.800  0.423   \n",
      "C(stim | neuron_x_mouse)[T.9]   -0.255       0.160  -1.599  0.110   \n",
      "C(stim | neuron_x_mouse)[T.10]  -0.193       0.161  -1.198  0.231   \n",
      "C(stim | neuron_x_mouse)[T.11]  -0.236       0.160  -1.475  0.140   \n",
      "C(stim | neuron_x_mouse)[T.12]   0.543  307051.595   0.000  1.000   \n",
      "C(stim | neuron_x_mouse)[T.13]   0.186  307051.595   0.000  1.000   \n",
      "C(stim | neuron_x_mouse)[T.14]   0.478  307051.595   0.000  1.000   \n",
      "C(stim | neuron_x_mouse)[T.15]   0.281  307051.595   0.000  1.000   \n",
      "C(stim | neuron_x_mouse)[T.16]   0.361  307051.595   0.000  1.000   \n",
      "C(stim | neuron_x_mouse)[T.17]   0.320  307051.595   0.000  1.000   \n",
      "1 | mouse                       -0.288  153525.798  -0.000  1.000   \n",
      "Group Var                        0.012       2.932                  \n",
      "\n",
      "                                     [0.025      0.975]  \n",
      "Intercept                       -300905.802  300904.266  \n",
      "C(stim | neuron_x_mouse)[T.1]        -0.143      -0.030  \n",
      "C(stim | neuron_x_mouse)[T.2]        -0.150      -0.012  \n",
      "C(stim | neuron_x_mouse)[T.3]        -0.212      -0.099  \n",
      "C(stim | neuron_x_mouse)[T.4]        -0.286      -0.148  \n",
      "C(stim | neuron_x_mouse)[T.5]        -0.293      -0.180  \n",
      "C(stim | neuron_x_mouse)[T.6]        -0.340       0.291  \n",
      "C(stim | neuron_x_mouse)[T.7]        -0.607       0.019  \n",
      "C(stim | neuron_x_mouse)[T.8]        -0.445       0.187  \n",
      "C(stim | neuron_x_mouse)[T.9]        -0.569       0.058  \n",
      "C(stim | neuron_x_mouse)[T.10]       -0.509       0.123  \n",
      "C(stim | neuron_x_mouse)[T.11]       -0.549       0.077  \n",
      "C(stim | neuron_x_mouse)[T.12]  -601809.525  601810.611  \n",
      "C(stim | neuron_x_mouse)[T.13]  -601809.883  601810.254  \n",
      "C(stim | neuron_x_mouse)[T.14]  -601809.590  601810.546  \n",
      "C(stim | neuron_x_mouse)[T.15]  -601809.788  601810.349  \n",
      "C(stim | neuron_x_mouse)[T.16]  -601809.708  601810.429  \n",
      "C(stim | neuron_x_mouse)[T.17]  -601809.749  601810.388  \n",
      "1 | mouse                       -300905.322  300904.746  \n",
      "Group Var                                                \n"
     ]
    },
    {
     "name": "stdout",
     "output_type": "stream",
     "text": [
      "changing x to :Q\n"
     ]
    },
    {
     "data": {
      "text/plain": [
       "<bayes_window.lme.LMERegression at 0x7fb304ab6760>"
      ]
     },
     "execution_count": 12,
     "metadata": {},
     "output_type": "execute_result"
    }
   ],
   "source": [
    "bw.fit(formula='log_isi ~ (1|mouse) + C(stim| neuron_x_mouse)')"
   ]
  },
  {
   "cell_type": "code",
   "execution_count": 13,
   "metadata": {
    "scrolled": false
   },
   "outputs": [
    {
     "name": "stdout",
     "output_type": "stream",
     "text": [
      "changing x to neuron_x_mouse:Q\n"
     ]
    },
    {
     "data": {
      "text/html": [
       "\n",
       "<div id=\"altair-viz-e2485f87f3af415e98f0ff1ab4c744b9\"></div>\n",
       "<script type=\"text/javascript\">\n",
       "  (function(spec, embedOpt){\n",
       "    let outputDiv = document.currentScript.previousElementSibling;\n",
       "    if (outputDiv.id !== \"altair-viz-e2485f87f3af415e98f0ff1ab4c744b9\") {\n",
       "      outputDiv = document.getElementById(\"altair-viz-e2485f87f3af415e98f0ff1ab4c744b9\");\n",
       "    }\n",
       "    const paths = {\n",
       "      \"vega\": \"https://cdn.jsdelivr.net/npm//vega@5?noext\",\n",
       "      \"vega-lib\": \"https://cdn.jsdelivr.net/npm//vega-lib?noext\",\n",
       "      \"vega-lite\": \"https://cdn.jsdelivr.net/npm//vega-lite@4.8.1?noext\",\n",
       "      \"vega-embed\": \"https://cdn.jsdelivr.net/npm//vega-embed@6?noext\",\n",
       "    };\n",
       "\n",
       "    function loadScript(lib) {\n",
       "      return new Promise(function(resolve, reject) {\n",
       "        var s = document.createElement('script');\n",
       "        s.src = paths[lib];\n",
       "        s.async = true;\n",
       "        s.onload = () => resolve(paths[lib]);\n",
       "        s.onerror = () => reject(`Error loading script: ${paths[lib]}`);\n",
       "        document.getElementsByTagName(\"head\")[0].appendChild(s);\n",
       "      });\n",
       "    }\n",
       "\n",
       "    function showError(err) {\n",
       "      outputDiv.innerHTML = `<div class=\"error\" style=\"color:red;\">${err}</div>`;\n",
       "      throw err;\n",
       "    }\n",
       "\n",
       "    function displayChart(vegaEmbed) {\n",
       "      vegaEmbed(outputDiv, spec, embedOpt)\n",
       "        .catch(err => showError(`Javascript Error: ${err.message}<br>This usually means there's a typo in your chart specification. See the javascript console for the full traceback.`));\n",
       "    }\n",
       "\n",
       "    if(typeof define === \"function\" && define.amd) {\n",
       "      requirejs.config({paths});\n",
       "      require([\"vega-embed\"], displayChart, err => showError(`Error loading script: ${err.message}`));\n",
       "    } else if (typeof vegaEmbed === \"function\") {\n",
       "      displayChart(vegaEmbed);\n",
       "    } else {\n",
       "      loadScript(\"vega\")\n",
       "        .then(() => loadScript(\"vega-lite\"))\n",
       "        .then(() => loadScript(\"vega-embed\"))\n",
       "        .catch(showError)\n",
       "        .then(() => displayChart(vegaEmbed));\n",
       "    }\n",
       "  })({\"config\": {\"view\": {\"continuousWidth\": 400, \"continuousHeight\": 300}}, \"layer\": [{\"mark\": {\"type\": \"rule\", \"clip\": true, \"opacity\": 0.4, \"size\": 0.8}, \"encoding\": {\"x\": {\"type\": \"quantitative\", \"field\": \"neuron_x_mouse\"}, \"y\": {\"type\": \"quantitative\", \"axis\": {\"orient\": \"left\", \"title\": \"\"}, \"field\": \"lower interval\", \"scale\": {\"domain\": [-0.18, 0], \"zero\": true}}, \"y2\": {\"field\": \"higher interval\"}}}, {\"mark\": {\"type\": \"line\", \"clip\": true, \"color\": \"black\", \"fill\": null, \"point\": false, \"size\": 1}, \"encoding\": {\"x\": {\"type\": \"quantitative\", \"field\": \"neuron_x_mouse\"}, \"y\": {\"type\": \"quantitative\", \"aggregate\": \"mean\", \"axis\": {\"orient\": \"left\"}, \"field\": \"center interval\", \"scale\": {\"domain\": [-0.18, 0], \"zero\": true}, \"title\": \"\\u0394 log_isi\"}}}, {\"mark\": {\"type\": \"line\", \"color\": \"black\", \"opacity\": 1, \"size\": 0.5}, \"encoding\": {\"x\": {\"type\": \"quantitative\", \"field\": \"neuron_x_mouse\"}, \"y\": {\"type\": \"quantitative\", \"axis\": {\"orient\": \"left\", \"title\": \"\"}, \"field\": \"zero\", \"scale\": {\"domain\": [-0.18, 0], \"zero\": true}}}}], \"data\": {\"name\": \"data-90e3efc634234f9fadf5d686855f6b6d\"}, \"$schema\": \"https://vega.github.io/schema/vega-lite/v4.8.1.json\", \"datasets\": {\"data-90e3efc634234f9fadf5d686855f6b6d\": [{\"neuron_x_mouse\": 0, \"center interval\": -0.086, \"Std.Err.\": 0.029, \"z\": -3.015, \"p\": 0.003, \"higher interval\": -0.143, \"lower interval\": -0.03, \"zero\": 0}, {\"neuron_x_mouse\": 1, \"center interval\": -0.081, \"Std.Err.\": 0.035, \"z\": -2.302, \"p\": 0.021, \"higher interval\": -0.15, \"lower interval\": -0.012, \"zero\": 0}, {\"neuron_x_mouse\": 2, \"center interval\": -0.156, \"Std.Err.\": 0.029, \"z\": -5.427, \"p\": 0.0, \"higher interval\": -0.212, \"lower interval\": -0.099, \"zero\": 0}, {\"neuron_x_mouse\": 3, \"center interval\": -0.217, \"Std.Err.\": 0.035, \"z\": -6.164, \"p\": 0.0, \"higher interval\": -0.286, \"lower interval\": -0.148, \"zero\": 0}, {\"neuron_x_mouse\": 4, \"center interval\": -0.237, \"Std.Err.\": 0.029, \"z\": -8.242, \"p\": 0.0, \"higher interval\": -0.293, \"lower interval\": -0.18, \"zero\": 0}, {\"neuron_x_mouse\": 5, \"center interval\": -0.024, \"Std.Err.\": 0.161, \"z\": -0.151, \"p\": 0.88, \"higher interval\": -0.34, \"lower interval\": 0.291, \"zero\": 0}, {\"neuron_x_mouse\": 6, \"center interval\": -0.294, \"Std.Err.\": 0.16, \"z\": -1.84, \"p\": 0.066, \"higher interval\": -0.607, \"lower interval\": 0.019, \"zero\": 0}, {\"neuron_x_mouse\": 7, \"center interval\": -0.129, \"Std.Err.\": 0.161, \"z\": -0.8, \"p\": 0.423, \"higher interval\": -0.445, \"lower interval\": 0.187, \"zero\": 0}, {\"neuron_x_mouse\": 8, \"center interval\": -0.255, \"Std.Err.\": 0.16, \"z\": -1.599, \"p\": 0.11, \"higher interval\": -0.569, \"lower interval\": 0.058, \"zero\": 0}, {\"neuron_x_mouse\": 9, \"center interval\": -0.193, \"Std.Err.\": 0.161, \"z\": -1.198, \"p\": 0.231, \"higher interval\": -0.509, \"lower interval\": 0.123, \"zero\": 0}, {\"neuron_x_mouse\": 10, \"center interval\": -0.236, \"Std.Err.\": 0.16, \"z\": -1.475, \"p\": 0.14, \"higher interval\": -0.549, \"lower interval\": 0.077, \"zero\": 0}, {\"neuron_x_mouse\": 11, \"center interval\": 0.543, \"Std.Err.\": 307051.595, \"z\": 0.0, \"p\": 1.0, \"higher interval\": -601809.525, \"lower interval\": 601810.611, \"zero\": 0}, {\"neuron_x_mouse\": 12, \"center interval\": 0.186, \"Std.Err.\": 307051.595, \"z\": 0.0, \"p\": 1.0, \"higher interval\": -601809.883, \"lower interval\": 601810.254, \"zero\": 0}, {\"neuron_x_mouse\": 13, \"center interval\": 0.478, \"Std.Err.\": 307051.595, \"z\": 0.0, \"p\": 1.0, \"higher interval\": -601809.59, \"lower interval\": 601810.546, \"zero\": 0}, {\"neuron_x_mouse\": 14, \"center interval\": 0.281, \"Std.Err.\": 307051.595, \"z\": 0.0, \"p\": 1.0, \"higher interval\": -601809.788, \"lower interval\": 601810.349, \"zero\": 0}, {\"neuron_x_mouse\": 15, \"center interval\": 0.361, \"Std.Err.\": 307051.595, \"z\": 0.0, \"p\": 1.0, \"higher interval\": -601809.708, \"lower interval\": 601810.429, \"zero\": 0}, {\"neuron_x_mouse\": 16, \"center interval\": 0.32, \"Std.Err.\": 307051.595, \"z\": 0.0, \"p\": 1.0, \"higher interval\": -601809.749, \"lower interval\": 601810.388, \"zero\": 0}]}}, {\"mode\": \"vega-lite\"});\n",
       "</script>"
      ],
      "text/plain": [
       "alt.LayerChart(...)"
      ]
     },
     "metadata": {},
     "output_type": "display_data"
    }
   ],
   "source": [
    "bw.plot(x='neuron_x_mouse:O').display()"
   ]
  },
  {
   "cell_type": "code",
   "execution_count": 14,
   "metadata": {},
   "outputs": [
    {
     "name": "stdout",
     "output_type": "stream",
     "text": [
      "Using formula log_isi ~ (stim|mouse) + stim| neuron_x_mouse__0:mouse + stim|neuron_x_mouse__1:mouse + stim|neuron_x_mouse__2:mouse + stim|neuron_x_mouse__3:mouse + stim|neuron_x_mouse__4:mouse + stim|neuron_x_mouse__5:mouse + stim|neuron_x_mouse__6:mouse + stim|neuron_x_mouse__7:mouse + stim|neuron_x_mouse__8:mouse + stim|neuron_x_mouse__9:mouse + stim|neuron_x_mouse__10:mouse + stim|neuron_x_mouse__11:mouse + stim|neuron_x_mouse__12:mouse + stim|neuron_x_mouse__13:mouse + stim|neuron_x_mouse__14:mouse + stim|neuron_x_mouse__15:mouse + stim|neuron_x_mouse__16:mouse + stim|neuron_x_mouse__17:mouse\n"
     ]
    },
    {
     "name": "stdout",
     "output_type": "stream",
     "text": [
      "Singular matrix\n"
     ]
    }
   ],
   "source": [
    "bw = LMERegression(df=df, y='log_isi', treatment='stim', condition=['neuron_x_mouse'], group='mouse',)\n",
    "try:\n",
    "    bw.fit(add_data=False,add_group_intercept=True, add_group_slope=True, add_nested_group=True)\n",
    "except Exception as e:\n",
    "    print(e)\n",
    "\n"
   ]
  }
 ],
 "metadata": {
  "hide_input": false,
  "kernelspec": {
   "display_name": "PyCharm (jup)",
   "language": "python",
   "name": "pycharm-d5912792"
  },
  "language_info": {
   "codemirror_mode": {
    "name": "ipython",
    "version": 3
   },
   "file_extension": ".py",
   "mimetype": "text/x-python",
   "name": "python",
   "nbconvert_exporter": "python",
   "pygments_lexer": "ipython3",
   "version": "3.8.5"
  }
 },
 "nbformat": 4,
 "nbformat_minor": 4
}