{
 "cells": [
  {
   "cell_type": "markdown",
   "metadata": {
    "hideCode": false,
    "hidePrompt": false
   },
   "source": [
    "# Neurons example via low-level, flexible interface\n",
    "## Prepare"
   ]
  },
  {
   "cell_type": "code",
   "execution_count": 1,
   "metadata": {
    "hideCode": false,
    "hidePrompt": false,
    "lines_to_next_cell": 2
   },
   "outputs": [],
   "source": [
    "from bayes_window import models\n",
    "from bayes_window.fitting import fit_numpyro\n",
    "from bayes_window.generative_models import generate_fake_spikes\n",
    "import numpy as np\n",
    "from sklearn.preprocessing import LabelEncoder\n",
    "\n",
    "trans = LabelEncoder().fit_transform"
   ]
  },
  {
   "cell_type": "markdown",
   "metadata": {
    "hideCode": false,
    "hidePrompt": false
   },
   "source": [
    "## Make some data\n"
   ]
  },
  {
   "cell_type": "code",
   "execution_count": 2,
   "metadata": {
    "hideCode": false,
    "hidePrompt": false
   },
   "outputs": [
    {
     "data": {
      "text/html": [
       "\n",
       "<div id=\"altair-viz-11fece49ffcd4a0784cf70276e4e8b9f\"></div>\n",
       "<script type=\"text/javascript\">\n",
       "  (function(spec, embedOpt){\n",
       "    let outputDiv = document.currentScript.previousElementSibling;\n",
       "    if (outputDiv.id !== \"altair-viz-11fece49ffcd4a0784cf70276e4e8b9f\") {\n",
       "      outputDiv = document.getElementById(\"altair-viz-11fece49ffcd4a0784cf70276e4e8b9f\");\n",
       "    }\n",
       "    const paths = {\n",
       "      \"vega\": \"https://cdn.jsdelivr.net/npm//vega@5?noext\",\n",
       "      \"vega-lib\": \"https://cdn.jsdelivr.net/npm//vega-lib?noext\",\n",
       "      \"vega-lite\": \"https://cdn.jsdelivr.net/npm//vega-lite@4.8.1?noext\",\n",
       "      \"vega-embed\": \"https://cdn.jsdelivr.net/npm//vega-embed@6?noext\",\n",
       "    };\n",
       "\n",
       "    function loadScript(lib) {\n",
       "      return new Promise(function(resolve, reject) {\n",
       "        var s = document.createElement('script');\n",
       "        s.src = paths[lib];\n",
       "        s.async = true;\n",
       "        s.onload = () => resolve(paths[lib]);\n",
       "        s.onerror = () => reject(`Error loading script: ${paths[lib]}`);\n",
       "        document.getElementsByTagName(\"head\")[0].appendChild(s);\n",
       "      });\n",
       "    }\n",
       "\n",
       "    function showError(err) {\n",
       "      outputDiv.innerHTML = `<div class=\"error\" style=\"color:red;\">${err}</div>`;\n",
       "      throw err;\n",
       "    }\n",
       "\n",
       "    function displayChart(vegaEmbed) {\n",
       "      vegaEmbed(outputDiv, spec, embedOpt)\n",
       "        .catch(err => showError(`Javascript Error: ${err.message}<br>This usually means there's a typo in your chart specification. See the javascript console for the full traceback.`));\n",
       "    }\n",
       "\n",
       "    if(typeof define === \"function\" && define.amd) {\n",
       "      requirejs.config({paths});\n",
       "      require([\"vega-embed\"], displayChart, err => showError(`Error loading script: ${err.message}`));\n",
       "    } else if (typeof vegaEmbed === \"function\") {\n",
       "      displayChart(vegaEmbed);\n",
       "    } else {\n",
       "      loadScript(\"vega\")\n",
       "        .then(() => loadScript(\"vega-lite\"))\n",
       "        .then(() => loadScript(\"vega-embed\"))\n",
       "        .catch(showError)\n",
       "        .then(() => displayChart(vegaEmbed));\n",
       "    }\n",
       "  })({\"config\": {\"view\": {\"continuousWidth\": 400, \"continuousHeight\": 300}}, \"layer\": [{\"mark\": {\"type\": \"line\", \"clip\": true, \"fill\": null, \"opacity\": 0.8}, \"encoding\": {\"color\": {\"type\": \"nominal\", \"field\": \"mouse\"}, \"detail\": {\"type\": \"ordinal\", \"field\": \"\"}, \"size\": {\"value\": 1.0}, \"x\": {\"type\": \"ordinal\", \"field\": \"neuron\"}, \"y\": {\"type\": \"quantitative\", \"aggregate\": \"mean\", \"axis\": {\"orient\": \"right\"}, \"field\": \"isi diff\", \"scale\": {\"domain\": [0.7546553745423589, 1.1653101996075483], \"zero\": false}, \"title\": \"isi diff\"}}}, {\"mark\": {\"type\": \"circle\", \"clip\": true, \"filled\": true, \"opacity\": 0}, \"encoding\": {\"color\": {\"type\": \"nominal\", \"field\": \"mouse\"}, \"detail\": {\"type\": \"ordinal\", \"field\": \"\"}, \"x\": {\"type\": \"ordinal\", \"field\": \"neuron\"}, \"y\": {\"type\": \"quantitative\", \"aggregate\": \"mean\", \"axis\": {\"orient\": \"right\", \"title\": \"\"}, \"field\": \"isi diff\", \"scale\": {\"domain\": [0.7546553745423589, 1.1653101996075483], \"zero\": false}}}}, {\"mark\": {\"type\": \"boxplot\", \"clip\": true, \"color\": \"black\", \"median\": {\"color\": \"red\", \"strokeWidth\": 20}, \"opacity\": 0.3, \"size\": 9}, \"encoding\": {\"x\": {\"type\": \"ordinal\", \"field\": \"neuron\"}, \"y\": {\"type\": \"quantitative\", \"axis\": {\"orient\": \"right\", \"title\": \"\"}, \"field\": \"isi diff\", \"scale\": {\"domain\": [0.7546553745423589, 1.1653101996075483], \"zero\": false}}}}], \"data\": {\"name\": \"data-de3e5bc923bdc22329f2688cfc6a8ca5\"}, \"$schema\": \"https://vega.github.io/schema/vega-lite/v4.8.1.json\", \"datasets\": {\"data-de3e5bc923bdc22329f2688cfc6a8ca5\": [{\"mouse\": \"m0bayes\", \"neuron\": \"0\", \"isi diff\": 0.9429652876762633}, {\"mouse\": \"m0bayes\", \"neuron\": \"1\", \"isi diff\": 0.9081406512310576}, {\"mouse\": \"m0bayes\", \"neuron\": \"2\", \"isi diff\": 0.9988251101666279}, {\"mouse\": \"m0bayes\", \"neuron\": \"3\", \"isi diff\": 1.2384475570909768}, {\"mouse\": \"m0bayes\", \"neuron\": \"4\", \"isi diff\": 0.8357577166654909}, {\"mouse\": \"m0bayes\", \"neuron\": \"5\", \"isi diff\": 0.9118513394189699}, {\"mouse\": \"m0bayes\", \"neuron\": \"6\", \"isi diff\": 0.9179556550099862}, {\"mouse\": \"m0bayes\", \"neuron\": \"7\", \"isi diff\": 1.2586984564635475}, {\"mouse\": \"m1bayes\", \"neuron\": \"0\", \"isi diff\": 1.0020489603747795}, {\"mouse\": \"m1bayes\", \"neuron\": \"1\", \"isi diff\": 0.77144623431535}, {\"mouse\": \"m1bayes\", \"neuron\": \"2\", \"isi diff\": 0.795430932885549}, {\"mouse\": \"m1bayes\", \"neuron\": \"3\", \"isi diff\": 0.8145932991278945}, {\"mouse\": \"m1bayes\", \"neuron\": \"4\", \"isi diff\": 1.0086703385078664}, {\"mouse\": \"m1bayes\", \"neuron\": \"5\", \"isi diff\": 1.0805478127171444}, {\"mouse\": \"m1bayes\", \"neuron\": \"6\", \"isi diff\": 0.8753071511428674}, {\"mouse\": \"m1bayes\", \"neuron\": \"7\", \"isi diff\": 1.0376358552182119}, {\"mouse\": \"m2bayes\", \"neuron\": \"0\", \"isi diff\": 0.8572887064941828}, {\"mouse\": \"m2bayes\", \"neuron\": \"1\", \"isi diff\": 0.9888874526918512}, {\"mouse\": \"m2bayes\", \"neuron\": \"2\", \"isi diff\": 0.8989586220923927}, {\"mouse\": \"m2bayes\", \"neuron\": \"3\", \"isi diff\": 0.9061197322347977}, {\"mouse\": \"m2bayes\", \"neuron\": \"4\", \"isi diff\": 1.065972275351462}, {\"mouse\": \"m2bayes\", \"neuron\": \"5\", \"isi diff\": 0.7341332125975919}, {\"mouse\": \"m2bayes\", \"neuron\": \"6\", \"isi diff\": 1.0614410519859532}, {\"mouse\": \"m2bayes\", \"neuron\": \"7\", \"isi diff\": 0.8911716756586553}, {\"mouse\": \"m3bayes\", \"neuron\": \"0\", \"isi diff\": 0.8403366089469975}, {\"mouse\": \"m3bayes\", \"neuron\": \"1\", \"isi diff\": 0.6596767681333126}, {\"mouse\": \"m3bayes\", \"neuron\": \"2\", \"isi diff\": 0.9264343785117064}, {\"mouse\": \"m3bayes\", \"neuron\": \"3\", \"isi diff\": 0.830208080573219}, {\"mouse\": \"m3bayes\", \"neuron\": \"4\", \"isi diff\": 0.9833024241677898}, {\"mouse\": \"m3bayes\", \"neuron\": \"5\", \"isi diff\": 0.9586299175294981}, {\"mouse\": \"m3bayes\", \"neuron\": \"6\", \"isi diff\": 1.1054705434847436}, {\"mouse\": \"m3bayes\", \"neuron\": \"7\", \"isi diff\": 1.0003109258709937}]}}, {\"mode\": \"vega-lite\"});\n",
       "</script>"
      ],
      "text/plain": [
       "alt.LayerChart(...)"
      ]
     },
     "execution_count": 2,
     "metadata": {},
     "output_type": "execute_result"
    }
   ],
   "source": [
    "df, df_monster, index_cols, firing_rates = generate_fake_spikes(n_trials=2,\n",
    "                                                                n_neurons=8,\n",
    "                                                                n_mice=4,\n",
    "                                                                dur=7, )\n",
    "\n",
    "\n",
    "# df['log_isi'] = np.log10(df['isi'])\n",
    "\n",
    "from bayes_window import visualization, utils\n",
    "from importlib import reload\n",
    "\n",
    "reload(visualization)\n",
    "reload(utils)\n",
    "y = 'isi'\n",
    "ddf, dy = utils.make_fold_change(df,\n",
    "                                 y=y,\n",
    "                                 index_cols=('stim', 'mouse', 'neuron'),\n",
    "                                 treatment_name='stim',\n",
    "                                 do_take_mean=True)\n",
    "\n",
    "visualization.plot_data(x='neuron', y=dy, color='mouse',  df=ddf)[0]"
   ]
  },
  {
   "cell_type": "markdown",
   "metadata": {},
   "source": [
    "TODO leave axis labels here somehow"
   ]
  },
  {
   "cell_type": "markdown",
   "metadata": {
    "hideCode": false,
    "hidePrompt": false
   },
   "source": [
    "\n",
    "## Estimate model"
   ]
  },
  {
   "cell_type": "code",
   "execution_count": 3,
   "metadata": {
    "hideCode": false,
    "hidePrompt": false
   },
   "outputs": [
    {
     "name": "stderr",
     "output_type": "stream",
     "text": [
      "2021-11-25 04:25:17.115875: E external/org_tensorflow/tensorflow/stream_executor/cuda/cuda_driver.cc:271] failed call to cuInit: CUDA_ERROR_COMPAT_NOT_SUPPORTED_ON_DEVICE: forward compatibility was attempted on non supported HW\n"
     ]
    },
    {
     "name": "stderr",
     "output_type": "stream",
     "text": [
      "\r",
      "  0%|          | 0/1100 [00:00<?, ?it/s]"
     ]
    },
    {
     "name": "stderr",
     "output_type": "stream",
     "text": [
      "\r",
      "warmup:   0%|          | 1/1100 [00:06<1:50:32,  6.03s/it, 7 steps of size 3.98e-02. acc. prob=1.00]"
     ]
    },
    {
     "name": "stderr",
     "output_type": "stream",
     "text": [
      "\r",
      "warmup:   4%|▎         | 40/1100 [00:06<01:55,  9.18it/s, 1023 steps of size 6.91e-03. acc. prob=0.97]"
     ]
    },
    {
     "name": "stderr",
     "output_type": "stream",
     "text": [
      "\r",
      "warmup:   6%|▌         | 68/1100 [00:06<00:57, 17.83it/s, 1023 steps of size 9.05e-03. acc. prob=0.98]"
     ]
    },
    {
     "name": "stderr",
     "output_type": "stream",
     "text": [
      "\r",
      "warmup:   9%|▉         | 98/1100 [00:06<00:33, 30.15it/s, 1023 steps of size 9.00e-03. acc. prob=0.98]"
     ]
    },
    {
     "name": "stderr",
     "output_type": "stream",
     "text": [
      "\r",
      "warmup:  12%|█▏        | 130/1100 [00:06<00:20, 47.07it/s, 1023 steps of size 2.11e-02. acc. prob=0.98]"
     ]
    },
    {
     "name": "stderr",
     "output_type": "stream",
     "text": [
      "\r",
      "warmup:  16%|█▋        | 179/1100 [00:06<00:11, 81.24it/s, 255 steps of size 1.66e-02. acc. prob=0.98] "
     ]
    },
    {
     "name": "stderr",
     "output_type": "stream",
     "text": [
      "\r",
      "warmup:  24%|██▍       | 265/1100 [00:06<00:05, 158.51it/s, 255 steps of size 1.21e-02. acc. prob=0.99]"
     ]
    },
    {
     "name": "stderr",
     "output_type": "stream",
     "text": [
      "\r",
      "warmup:  32%|███▏      | 351/1100 [00:06<00:03, 245.60it/s, 255 steps of size 1.32e-02. acc. prob=0.99]"
     ]
    },
    {
     "name": "stderr",
     "output_type": "stream",
     "text": [
      "\r",
      "warmup:  38%|███▊      | 414/1100 [00:06<00:02, 297.07it/s, 1023 steps of size 4.78e-03. acc. prob=0.99]"
     ]
    },
    {
     "name": "stderr",
     "output_type": "stream",
     "text": [
      "\r",
      "warmup:  43%|████▎     | 475/1100 [00:06<00:01, 335.91it/s, 511 steps of size 7.81e-03. acc. prob=0.99] "
     ]
    },
    {
     "name": "stderr",
     "output_type": "stream",
     "text": [
      "\r",
      "warmup:  51%|█████▏    | 564/1100 [00:07<00:01, 442.06it/s, 383 steps of size 1.19e-02. acc. prob=0.99]"
     ]
    },
    {
     "name": "stderr",
     "output_type": "stream",
     "text": [
      "\r",
      "warmup:  60%|█████▉    | 656/1100 [00:07<00:00, 544.85it/s, 255 steps of size 1.02e-02. acc. prob=0.99]"
     ]
    },
    {
     "name": "stderr",
     "output_type": "stream",
     "text": [
      "\r",
      "warmup:  67%|██████▋   | 735/1100 [00:07<00:00, 601.48it/s, 255 steps of size 9.83e-03. acc. prob=0.99]"
     ]
    },
    {
     "name": "stderr",
     "output_type": "stream",
     "text": [
      "\r",
      "warmup:  76%|███████▌  | 836/1100 [00:07<00:00, 702.86it/s, 511 steps of size 1.09e-02. acc. prob=0.99]"
     ]
    },
    {
     "name": "stderr",
     "output_type": "stream",
     "text": [
      "\r",
      "warmup:  84%|████████▍ | 926/1100 [00:07<00:00, 753.16it/s, 511 steps of size 1.09e-02. acc. prob=0.99]"
     ]
    },
    {
     "name": "stderr",
     "output_type": "stream",
     "text": [
      "\r",
      "sample:  92%|█████████▏| 1014/1100 [00:07<00:00, 787.23it/s, 511 steps of size 1.08e-02. acc. prob=0.99]"
     ]
    },
    {
     "name": "stderr",
     "output_type": "stream",
     "text": [
      "\r",
      "sample: 100%|██████████| 1100/1100 [00:07<00:00, 800.16it/s, 255 steps of size 1.08e-02. acc. prob=0.99]"
     ]
    },
    {
     "name": "stderr",
     "output_type": "stream",
     "text": [
      "\r",
      "sample: 100%|██████████| 1100/1100 [00:07<00:00, 143.05it/s, 255 steps of size 1.08e-02. acc. prob=0.99]"
     ]
    },
    {
     "name": "stderr",
     "output_type": "stream",
     "text": [
      "\n"
     ]
    }
   ],
   "source": [
    "# y = list(set(df.columns) - set(index_cols))[0]\n",
    "trace = fit_numpyro(y=df[y].values,\n",
    "                    treatment=(df['stim']).astype(int).values,\n",
    "                    condition=trans(df['neuron']),\n",
    "                    group=trans(df['mouse']),\n",
    "                    progress_bar=True,\n",
    "                    model=models.model_hierarchical,\n",
    "                    n_draws=100, num_chains=1, )"
   ]
  },
  {
   "cell_type": "markdown",
   "metadata": {
    "hideCode": false,
    "hidePrompt": false
   },
   "source": [
    "## Add data back "
   ]
  },
  {
   "cell_type": "code",
   "execution_count": 4,
   "metadata": {
    "hideCode": false,
    "hidePrompt": false
   },
   "outputs": [],
   "source": [
    "# reload(utils)\n",
    "# df_both, trace = utils.add_data_to_posterior(df, posterior=trace.posterior, y=y,\n",
    "#                                              fold_change_index_cols=['neuron', 'stim', 'mouse_code', ],\n",
    "#                                              treatment_name='stim', b_name='slope_per_condition',\n",
    "#                                              posterior_index_name='neuron', group_name='mouse')\n",
    "#\n",
    "# + [markdown] hideCode=false hidePrompt=false\n",
    "# # ## Plot data and posterior\n",
    "#\n",
    "# + hideCode=false hidePrompt=false\n",
    "# # BayesWindow.regression_charts(df_both, y=f'{y} diff', x='neuron',color='mouse_code',title=y,hold_for_facet=False,add_box=False)\n",
    "# reload(visualization)\n",
    "#\n",
    "# chart_d, _ = visualization.plot_data(df=df_both, x='neuron', y=f'{y} diff', color='mouse_code', highlight=False)\n",
    "# chart_d\n",
    "#\n",
    "# + hideCode=false hidePrompt=false\n",
    "# chart_p = visualization.plot_posterior(df=df_both, title=f'd_{y}', x='neuron', )\n",
    "# chart_p\n",
    "#\n",
    "# + hideCode=false hidePrompt=false\n",
    "# (chart_d + chart_p).resolve_scale(y='independent')\n",
    "#\n",
    "# + hideCode=false hidePrompt=false\n",
    "# (chart_d + chart_p).facet(column='neuron')"
   ]
  },
  {
   "cell_type": "markdown",
   "metadata": {},
   "source": [
    "## Appendix: Elements of interactivity (WIP)"
   ]
  },
  {
   "cell_type": "code",
   "execution_count": 5,
   "metadata": {},
   "outputs": [
    {
     "data": {
      "text/html": [
       "\n",
       "<div id=\"altair-viz-9a6aaa6fed3146a79a710f8e6230fc0e\"></div>\n",
       "<script type=\"text/javascript\">\n",
       "  (function(spec, embedOpt){\n",
       "    let outputDiv = document.currentScript.previousElementSibling;\n",
       "    if (outputDiv.id !== \"altair-viz-9a6aaa6fed3146a79a710f8e6230fc0e\") {\n",
       "      outputDiv = document.getElementById(\"altair-viz-9a6aaa6fed3146a79a710f8e6230fc0e\");\n",
       "    }\n",
       "    const paths = {\n",
       "      \"vega\": \"https://cdn.jsdelivr.net/npm//vega@5?noext\",\n",
       "      \"vega-lib\": \"https://cdn.jsdelivr.net/npm//vega-lib?noext\",\n",
       "      \"vega-lite\": \"https://cdn.jsdelivr.net/npm//vega-lite@4.8.1?noext\",\n",
       "      \"vega-embed\": \"https://cdn.jsdelivr.net/npm//vega-embed@6?noext\",\n",
       "    };\n",
       "\n",
       "    function loadScript(lib) {\n",
       "      return new Promise(function(resolve, reject) {\n",
       "        var s = document.createElement('script');\n",
       "        s.src = paths[lib];\n",
       "        s.async = true;\n",
       "        s.onload = () => resolve(paths[lib]);\n",
       "        s.onerror = () => reject(`Error loading script: ${paths[lib]}`);\n",
       "        document.getElementsByTagName(\"head\")[0].appendChild(s);\n",
       "      });\n",
       "    }\n",
       "\n",
       "    function showError(err) {\n",
       "      outputDiv.innerHTML = `<div class=\"error\" style=\"color:red;\">${err}</div>`;\n",
       "      throw err;\n",
       "    }\n",
       "\n",
       "    function displayChart(vegaEmbed) {\n",
       "      vegaEmbed(outputDiv, spec, embedOpt)\n",
       "        .catch(err => showError(`Javascript Error: ${err.message}<br>This usually means there's a typo in your chart specification. See the javascript console for the full traceback.`));\n",
       "    }\n",
       "\n",
       "    if(typeof define === \"function\" && define.amd) {\n",
       "      requirejs.config({paths});\n",
       "      require([\"vega-embed\"], displayChart, err => showError(`Error loading script: ${err.message}`));\n",
       "    } else if (typeof vegaEmbed === \"function\") {\n",
       "      displayChart(vegaEmbed);\n",
       "    } else {\n",
       "      loadScript(\"vega\")\n",
       "        .then(() => loadScript(\"vega-lite\"))\n",
       "        .then(() => loadScript(\"vega-embed\"))\n",
       "        .catch(showError)\n",
       "        .then(() => displayChart(vegaEmbed));\n",
       "    }\n",
       "  })({\"config\": {\"view\": {\"continuousWidth\": 400, \"continuousHeight\": 300}}, \"layer\": [{\"mark\": {\"type\": \"line\", \"clip\": true, \"fill\": null, \"opacity\": 0.6}, \"encoding\": {\"color\": {\"type\": \"nominal\", \"field\": \"mouse\"}, \"size\": {\"condition\": {\"value\": 1, \"selection\": {\"not\": \"selector001\"}}, \"value\": 3}, \"x\": {\"type\": \"nominal\", \"field\": \"neuron\"}, \"y\": {\"type\": \"quantitative\", \"aggregate\": \"mean\", \"field\": \"isi\", \"scale\": {\"domain\": [0.04664458292995545, 0.09283257227984888], \"zero\": false}}}}, {\"mark\": \"circle\", \"encoding\": {\"color\": {\"type\": \"nominal\", \"field\": \"mouse\"}, \"opacity\": {\"value\": 0}, \"x\": {\"type\": \"nominal\", \"field\": \"neuron\"}, \"y\": {\"type\": \"quantitative\", \"aggregate\": \"mean\", \"field\": \"isi\", \"scale\": {\"domain\": [0.04664458292995545, 0.09283257227984888], \"zero\": false}}}, \"selection\": {\"selector001\": {\"type\": \"single\", \"on\": \"mouseover\", \"fields\": [\"mouse\"], \"nearest\": true}}}], \"data\": {\"name\": \"data-6272ce3c2fef7151f50961e17f93cf72\"}, \"$schema\": \"https://vega.github.io/schema/vega-lite/v4.8.1.json\", \"datasets\": {\"data-6272ce3c2fef7151f50961e17f93cf72\": [{\"neuron\": \"0\", \"mouse\": \"m0bayes\", \"i_trial\": 0, \"mouse_code\": 0, \"neuron_code\": 0, \"stim\": 0, \"neuron_x_mouse\": \"m0bayes0\", \"log_firing_rate\": 2.074769164194288, \"Firing rate\": 118.78706836740277, \"firing_rate\": 118.78706836740277, \"i_spike\": 48.0, \"isi\": 0.07307261492198085}, {\"neuron\": \"0\", \"mouse\": \"m0bayes\", \"i_trial\": 0, \"mouse_code\": 0, \"neuron_code\": 0, \"stim\": 1, \"neuron_x_mouse\": \"m0bayes0\", \"log_firing_rate\": 1.5467271552166846, \"Firing rate\": 35.21495641560652, \"firing_rate\": 35.21495641560652, \"i_spike\": 40.5, \"isi\": 0.08279006810869208}, {\"neuron\": \"0\", \"mouse\": \"m0bayes\", \"i_trial\": 1, \"mouse_code\": 0, \"neuron_code\": 0, \"stim\": 0, \"neuron_x_mouse\": \"m0bayes0\", \"log_firing_rate\": 1.6759433481083397, \"Firing rate\": 47.41801264192028, \"firing_rate\": 47.41801264192028, \"i_spike\": 38.0, \"isi\": 0.0915319584522213}, {\"neuron\": \"0\", \"mouse\": \"m0bayes\", \"i_trial\": 1, \"mouse_code\": 0, \"neuron_code\": 0, \"stim\": 1, \"neuron_x_mouse\": \"m0bayes0\", \"log_firing_rate\": 1.8183244456814827, \"Firing rate\": 65.81493332782446, \"firing_rate\": 65.81493332782446, \"i_spike\": 47.5, \"isi\": 0.07242633077594104}, {\"neuron\": \"0\", \"mouse\": \"m1bayes\", \"i_trial\": 0, \"mouse_code\": 1, \"neuron_code\": 8, \"stim\": 0, \"neuron_x_mouse\": \"m1bayes0\", \"log_firing_rate\": 2.0486752347683095, \"Firing rate\": 111.86010812058856, \"firing_rate\": 111.86010812058856, \"i_spike\": 36.5, \"isi\": 0.09457301935836142}, {\"neuron\": \"0\", \"mouse\": \"m1bayes\", \"i_trial\": 0, \"mouse_code\": 1, \"neuron_code\": 8, \"stim\": 1, \"neuron_x_mouse\": \"m1bayes0\", \"log_firing_rate\": 1.752434218031302, \"Firing rate\": 56.55020948021689, \"firing_rate\": 56.55020948021689, \"i_spike\": 38.5, \"isi\": 0.08758091490758027}, {\"neuron\": \"0\", \"mouse\": \"m1bayes\", \"i_trial\": 1, \"mouse_code\": 1, \"neuron_code\": 8, \"stim\": 0, \"neuron_x_mouse\": \"m1bayes0\", \"log_firing_rate\": 1.741194994720931, \"Firing rate\": 55.105506014828066, \"firing_rate\": 55.105506014828066, \"i_spike\": 36.0, \"isi\": 0.0966307066049054}, {\"neuron\": \"0\", \"mouse\": \"m1bayes\", \"i_trial\": 1, \"mouse_code\": 1, \"neuron_code\": 8, \"stim\": 1, \"neuron_x_mouse\": \"m1bayes0\", \"log_firing_rate\": 1.5863219536891315, \"Firing rate\": 38.57642286529197, \"firing_rate\": 38.57642286529197, \"i_spike\": 33.5, \"isi\": 0.10401457991369546}, {\"neuron\": \"0\", \"mouse\": \"m2bayes\", \"i_trial\": 0, \"mouse_code\": 2, \"neuron_code\": 16, \"stim\": 0, \"neuron_x_mouse\": \"m2bayes0\", \"log_firing_rate\": 1.526598365450519, \"Firing rate\": 33.62005080977535, \"firing_rate\": 33.62005080977535, \"i_spike\": 36.5, \"isi\": 0.09657319068638867}, {\"neuron\": \"0\", \"mouse\": \"m2bayes\", \"i_trial\": 0, \"mouse_code\": 2, \"neuron_code\": 16, \"stim\": 1, \"neuron_x_mouse\": \"m2bayes0\", \"log_firing_rate\": 2.357875085385628, \"Firing rate\": 227.96862794416182, \"firing_rate\": 227.96862794416182, \"i_spike\": 35.0, \"isi\": 0.09948460668032583}, {\"neuron\": \"0\", \"mouse\": \"m2bayes\", \"i_trial\": 1, \"mouse_code\": 2, \"neuron_code\": 16, \"stim\": 0, \"neuron_x_mouse\": \"m2bayes0\", \"log_firing_rate\": 1.5536389138544862, \"Firing rate\": 35.77988281554771, \"firing_rate\": 35.77988281554771, \"i_spike\": 36.5, \"isi\": 0.09320800857057335}, {\"neuron\": \"0\", \"mouse\": \"m2bayes\", \"i_trial\": 1, \"mouse_code\": 2, \"neuron_code\": 16, \"stim\": 1, \"neuron_x_mouse\": \"m2bayes0\", \"log_firing_rate\": 2.56372612586684, \"Firing rate\": 366.20656518257175, \"firing_rate\": 366.20656518257175, \"i_spike\": 54.5, \"isi\": 0.06321267214758992}, {\"neuron\": \"0\", \"mouse\": \"m3bayes\", \"i_trial\": 0, \"mouse_code\": 3, \"neuron_code\": 24, \"stim\": 0, \"neuron_x_mouse\": \"m3bayes0\", \"log_firing_rate\": 1.6585846371915596, \"Firing rate\": 45.560096700621344, \"firing_rate\": 45.560096700621344, \"i_spike\": 37.0, \"isi\": 0.09128193843659022}, {\"neuron\": \"0\", \"mouse\": \"m3bayes\", \"i_trial\": 0, \"mouse_code\": 3, \"neuron_code\": 24, \"stim\": 1, \"neuron_x_mouse\": \"m3bayes0\", \"log_firing_rate\": 1.6655452439400433, \"Firing rate\": 46.29618917195067, \"firing_rate\": 46.29618917195067, \"i_spike\": 44.0, \"isi\": 0.0791216482033879}, {\"neuron\": \"0\", \"mouse\": \"m3bayes\", \"i_trial\": 1, \"mouse_code\": 3, \"neuron_code\": 24, \"stim\": 0, \"neuron_x_mouse\": \"m3bayes0\", \"log_firing_rate\": 1.9484453023142392, \"Firing rate\": 88.8066120832498, \"firing_rate\": 88.8066120832498, \"i_spike\": 36.0, \"isi\": 0.0962588279398649}, {\"neuron\": \"0\", \"mouse\": \"m3bayes\", \"i_trial\": 1, \"mouse_code\": 3, \"neuron_code\": 24, \"stim\": 1, \"neuron_x_mouse\": \"m3bayes0\", \"log_firing_rate\": 1.656299427272419, \"Firing rate\": 45.320994087529236, \"firing_rate\": 45.320994087529236, \"i_spike\": 44.5, \"isi\": 0.07847572345272345}, {\"neuron\": \"1\", \"mouse\": \"m0bayes\", \"i_trial\": 0, \"mouse_code\": 0, \"neuron_code\": 1, \"stim\": 0, \"neuron_x_mouse\": \"m0bayes1\", \"log_firing_rate\": 3.6368528795373933, \"Firing rate\": 4333.640482477009, \"firing_rate\": 4333.640482477009, \"i_spike\": 45.5, \"isi\": 0.07603401924326515}, {\"neuron\": \"1\", \"mouse\": \"m0bayes\", \"i_trial\": 0, \"mouse_code\": 0, \"neuron_code\": 1, \"stim\": 1, \"neuron_x_mouse\": \"m0bayes1\", \"log_firing_rate\": 1.8073151806733985, \"Firing rate\": 64.16750907148983, \"firing_rate\": 64.16750907148983, \"i_spike\": 42.0, \"isi\": 0.08205312841841868}, {\"neuron\": \"1\", \"mouse\": \"m0bayes\", \"i_trial\": 1, \"mouse_code\": 0, \"neuron_code\": 1, \"stim\": 0, \"neuron_x_mouse\": \"m0bayes1\", \"log_firing_rate\": 1.8412274511252433, \"Firing rate\": 69.37890659582915, \"firing_rate\": 69.37890659582915, \"i_spike\": 38.0, \"isi\": 0.09213533345421775}, {\"neuron\": \"1\", \"mouse\": \"m0bayes\", \"i_trial\": 1, \"mouse_code\": 0, \"neuron_code\": 1, \"stim\": 1, \"neuron_x_mouse\": \"m0bayes1\", \"log_firing_rate\": 1.8123791435808492, \"Firing rate\": 64.92009453762373, \"firing_rate\": 64.92009453762373, \"i_spike\": 48.5, \"isi\": 0.07066829705737887}, {\"neuron\": \"1\", \"mouse\": \"m1bayes\", \"i_trial\": 0, \"mouse_code\": 1, \"neuron_code\": 9, \"stim\": 0, \"neuron_x_mouse\": \"m1bayes1\", \"log_firing_rate\": 2.268037314760587, \"Firing rate\": 185.3690886456455, \"firing_rate\": 185.3690886456455, \"i_spike\": 42.0, \"isi\": 0.08382751775333276}, {\"neuron\": \"1\", \"mouse\": \"m1bayes\", \"i_trial\": 0, \"mouse_code\": 1, \"neuron_code\": 9, \"stim\": 1, \"neuron_x_mouse\": \"m1bayes1\", \"log_firing_rate\": 2.1041797431478653, \"Firing rate\": 127.1100071493958, \"firing_rate\": 127.1100071493958, \"i_spike\": 52.0, \"isi\": 0.06652425728612114}, {\"neuron\": \"1\", \"mouse\": \"m1bayes\", \"i_trial\": 1, \"mouse_code\": 1, \"neuron_code\": 9, \"stim\": 0, \"neuron_x_mouse\": \"m1bayes1\", \"log_firing_rate\": 1.962432470600535, \"Firing rate\": 91.71333172353755, \"firing_rate\": 91.71333172353755, \"i_spike\": 43.0, \"isi\": 0.0816733143655555}, {\"neuron\": \"1\", \"mouse\": \"m1bayes\", \"i_trial\": 1, \"mouse_code\": 1, \"neuron_code\": 9, \"stim\": 1, \"neuron_x_mouse\": \"m1bayes1\", \"log_firing_rate\": 1.836638161266233, \"Firing rate\": 68.64962374010484, \"firing_rate\": 68.64962374010484, \"i_spike\": 56.0, \"isi\": 0.06115073642805215}, {\"neuron\": \"1\", \"mouse\": \"m2bayes\", \"i_trial\": 0, \"mouse_code\": 2, \"neuron_code\": 17, \"stim\": 0, \"neuron_x_mouse\": \"m2bayes1\", \"log_firing_rate\": 2.676684405242912, \"Firing rate\": 474.98993301715706, \"firing_rate\": 474.98993301715706, \"i_spike\": 55.5, \"isi\": 0.062169950808584694}, {\"neuron\": \"1\", \"mouse\": \"m2bayes\", \"i_trial\": 0, \"mouse_code\": 2, \"neuron_code\": 17, \"stim\": 1, \"neuron_x_mouse\": \"m2bayes1\", \"log_firing_rate\": 3.6495098341741348, \"Firing rate\": 4461.7972777048835, \"firing_rate\": 4461.7972777048835, \"i_spike\": 52.0, \"isi\": 0.06679628771798557}, {\"neuron\": \"1\", \"mouse\": \"m2bayes\", \"i_trial\": 1, \"mouse_code\": 2, \"neuron_code\": 17, \"stim\": 0, \"neuron_x_mouse\": \"m2bayes1\", \"log_firing_rate\": 2.011645060062529, \"Firing rate\": 102.71764648099563, \"firing_rate\": 102.71764648099563, \"i_spike\": 45.5, \"isi\": 0.0746405534266888}, {\"neuron\": \"1\", \"mouse\": \"m2bayes\", \"i_trial\": 1, \"mouse_code\": 2, \"neuron_code\": 17, \"stim\": 1, \"neuron_x_mouse\": \"m2bayes1\", \"log_firing_rate\": 1.997410887688156, \"Firing rate\": 99.405608396889, \"firing_rate\": 99.405608396889, \"i_spike\": 51.0, \"isi\": 0.06849390331672175}, {\"neuron\": \"1\", \"mouse\": \"m3bayes\", \"i_trial\": 0, \"mouse_code\": 3, \"neuron_code\": 25, \"stim\": 0, \"neuron_x_mouse\": \"m3bayes1\", \"log_firing_rate\": 1.8879646279049698, \"Firing rate\": 77.26176549429557, \"firing_rate\": 77.26176549429557, \"i_spike\": 40.5, \"isi\": 0.08018580717771154}, {\"neuron\": \"1\", \"mouse\": \"m3bayes\", \"i_trial\": 0, \"mouse_code\": 3, \"neuron_code\": 25, \"stim\": 1, \"neuron_x_mouse\": \"m3bayes1\", \"log_firing_rate\": 2.0899491825125858, \"Firing rate\": 123.01248235305462, \"firing_rate\": 123.01248235305462, \"i_spike\": 58.0, \"isi\": 0.05885259769605262}, {\"neuron\": \"1\", \"mouse\": \"m3bayes\", \"i_trial\": 1, \"mouse_code\": 3, \"neuron_code\": 25, \"stim\": 0, \"neuron_x_mouse\": \"m3bayes1\", \"log_firing_rate\": 1.8216476551456011, \"Firing rate\": 66.32047913712184, \"firing_rate\": 66.32047913712184, \"i_spike\": 41.5, \"isi\": 0.08532033622011076}, {\"neuron\": \"1\", \"mouse\": \"m3bayes\", \"i_trial\": 1, \"mouse_code\": 3, \"neuron_code\": 25, \"stim\": 1, \"neuron_x_mouse\": \"m3bayes1\", \"log_firing_rate\": 2.158444564259808, \"Firing rate\": 144.0272154240225, \"firing_rate\": 144.0272154240225, \"i_spike\": 69.0, \"isi\": 0.050327960086831366}, {\"neuron\": \"2\", \"mouse\": \"m0bayes\", \"i_trial\": 0, \"mouse_code\": 0, \"neuron_code\": 2, \"stim\": 0, \"neuron_x_mouse\": \"m0bayes2\", \"log_firing_rate\": 1.8864510873812563, \"Firing rate\": 76.99297257788511, \"firing_rate\": 76.99297257788511, \"i_spike\": 62.0, \"isi\": 0.056617751609331766}, {\"neuron\": \"2\", \"mouse\": \"m0bayes\", \"i_trial\": 0, \"mouse_code\": 0, \"neuron_code\": 2, \"stim\": 1, \"neuron_x_mouse\": \"m0bayes2\", \"log_firing_rate\": 2.3740053467500393, \"Firing rate\": 236.59488253232797, \"firing_rate\": 236.59488253232797, \"i_spike\": 50.5, \"isi\": 0.06818976065688331}, {\"neuron\": \"2\", \"mouse\": \"m0bayes\", \"i_trial\": 1, \"mouse_code\": 0, \"neuron_code\": 2, \"stim\": 0, \"neuron_x_mouse\": \"m0bayes2\", \"log_firing_rate\": 1.9502949347182075, \"Firing rate\": 89.18564031614409, \"firing_rate\": 89.18564031614409, \"i_spike\": 45.0, \"isi\": 0.07737798073148934}, {\"neuron\": \"2\", \"mouse\": \"m0bayes\", \"i_trial\": 1, \"mouse_code\": 0, \"neuron_code\": 2, \"stim\": 1, \"neuron_x_mouse\": \"m0bayes2\", \"log_firing_rate\": 2.1090509977955594, \"Firing rate\": 128.54375958584714, \"firing_rate\": 128.54375958584714, \"i_spike\": 53.5, \"isi\": 0.0656485414602953}, {\"neuron\": \"2\", \"mouse\": \"m1bayes\", \"i_trial\": 0, \"mouse_code\": 1, \"neuron_code\": 10, \"stim\": 0, \"neuron_x_mouse\": \"m1bayes2\", \"log_firing_rate\": 1.7169835150389747, \"Firing rate\": 52.11749279584049, \"firing_rate\": 52.11749279584049, \"i_spike\": 39.5, \"isi\": 0.08666768128841056}, {\"neuron\": \"2\", \"mouse\": \"m1bayes\", \"i_trial\": 0, \"mouse_code\": 1, \"neuron_code\": 10, \"stim\": 1, \"neuron_x_mouse\": \"m1bayes2\", \"log_firing_rate\": 1.8979945056088576, \"Firing rate\": 79.06686249480924, \"firing_rate\": 79.06686249480924, \"i_spike\": 58.0, \"isi\": 0.05994639821654736}, {\"neuron\": \"2\", \"mouse\": \"m1bayes\", \"i_trial\": 1, \"mouse_code\": 1, \"neuron_code\": 10, \"stim\": 0, \"neuron_x_mouse\": \"m1bayes2\", \"log_firing_rate\": 1.7223263152687454, \"Firing rate\": 52.762615428677, \"firing_rate\": 52.762615428677, \"i_spike\": 49.0, \"isi\": 0.06812693897575157}, {\"neuron\": \"2\", \"mouse\": \"m1bayes\", \"i_trial\": 1, \"mouse_code\": 1, \"neuron_code\": 10, \"stim\": 1, \"neuron_x_mouse\": \"m1bayes2\", \"log_firing_rate\": 1.8785939921801489, \"Firing rate\": 75.61256871282642, \"firing_rate\": 75.61256871282642, \"i_spike\": 53.0, \"isi\": 0.06318203098583944}, {\"neuron\": \"2\", \"mouse\": \"m2bayes\", \"i_trial\": 0, \"mouse_code\": 2, \"neuron_code\": 18, \"stim\": 0, \"neuron_x_mouse\": \"m2bayes2\", \"log_firing_rate\": 2.002641504959028, \"Firing rate\": 100.61008246259158, \"firing_rate\": 100.61008246259158, \"i_spike\": 55.0, \"isi\": 0.06302668584508739}, {\"neuron\": \"2\", \"mouse\": \"m2bayes\", \"i_trial\": 0, \"mouse_code\": 2, \"neuron_code\": 18, \"stim\": 1, \"neuron_x_mouse\": \"m2bayes2\", \"log_firing_rate\": 1.8995748439190747, \"Firing rate\": 79.35510012028524, \"firing_rate\": 79.35510012028524, \"i_spike\": 52.0, \"isi\": 0.06484511819427957}, {\"neuron\": \"2\", \"mouse\": \"m2bayes\", \"i_trial\": 1, \"mouse_code\": 2, \"neuron_code\": 18, \"stim\": 0, \"neuron_x_mouse\": \"m2bayes2\", \"log_firing_rate\": 2.0049969116109327, \"Firing rate\": 101.1572260662123, \"firing_rate\": 101.1572260662123, \"i_spike\": 51.5, \"isi\": 0.06832045594913282}, {\"neuron\": \"2\", \"mouse\": \"m2bayes\", \"i_trial\": 1, \"mouse_code\": 2, \"neuron_code\": 18, \"stim\": 1, \"neuron_x_mouse\": \"m2bayes2\", \"log_firing_rate\": 1.8059264813980782, \"Firing rate\": 63.96265485206913, \"firing_rate\": 63.96265485206913, \"i_spike\": 65.0, \"isi\": 0.053230527408826736}, {\"neuron\": \"2\", \"mouse\": \"m3bayes\", \"i_trial\": 0, \"mouse_code\": 3, \"neuron_code\": 26, \"stim\": 0, \"neuron_x_mouse\": \"m3bayes2\", \"log_firing_rate\": 2.1599803462153746, \"Firing rate\": 144.5374359555287, \"firing_rate\": 144.5374359555287, \"i_spike\": 53.0, \"isi\": 0.0648899375709595}, {\"neuron\": \"2\", \"mouse\": \"m3bayes\", \"i_trial\": 0, \"mouse_code\": 3, \"neuron_code\": 26, \"stim\": 1, \"neuron_x_mouse\": \"m3bayes2\", \"log_firing_rate\": 1.8902272815797319, \"Firing rate\": 77.66534603688933, \"firing_rate\": 77.66534603688933, \"i_spike\": 40.5, \"isi\": 0.08706439762769974}, {\"neuron\": \"2\", \"mouse\": \"m3bayes\", \"i_trial\": 1, \"mouse_code\": 3, \"neuron_code\": 26, \"stim\": 0, \"neuron_x_mouse\": \"m3bayes2\", \"log_firing_rate\": 1.502319601674252, \"Firing rate\": 31.7921282465932, \"firing_rate\": 31.7921282465932, \"i_spike\": 39.0, \"isi\": 0.08839417654988843}, {\"neuron\": \"2\", \"mouse\": \"m3bayes\", \"i_trial\": 1, \"mouse_code\": 3, \"neuron_code\": 26, \"stim\": 1, \"neuron_x_mouse\": \"m3bayes2\", \"log_firing_rate\": 2.341732652510555, \"Firing rate\": 219.65073078256896, \"firing_rate\": 219.65073078256896, \"i_spike\": 62.0, \"isi\": 0.05494327537356546}, {\"neuron\": \"3\", \"mouse\": \"m0bayes\", \"i_trial\": 0, \"mouse_code\": 0, \"neuron_code\": 3, \"stim\": 0, \"neuron_x_mouse\": \"m0bayes3\", \"log_firing_rate\": 2.0878470240087186, \"Firing rate\": 122.41849161267469, \"firing_rate\": 122.41849161267469, \"i_spike\": 68.0, \"isi\": 0.05126558744185032}, {\"neuron\": \"3\", \"mouse\": \"m0bayes\", \"i_trial\": 0, \"mouse_code\": 0, \"neuron_code\": 3, \"stim\": 1, \"neuron_x_mouse\": \"m0bayes3\", \"log_firing_rate\": 1.8008482075238292, \"Firing rate\": 63.21908525127292, \"firing_rate\": 63.21908525127292, \"i_spike\": 49.5, \"isi\": 0.070945247441157}, {\"neuron\": \"3\", \"mouse\": \"m0bayes\", \"i_trial\": 1, \"mouse_code\": 0, \"neuron_code\": 3, \"stim\": 0, \"neuron_x_mouse\": \"m0bayes3\", \"log_firing_rate\": 1.8764791527450726, \"Firing rate\": 75.2452609641246, \"firing_rate\": 75.2452609641246, \"i_spike\": 50.5, \"isi\": 0.06710454389953688}, {\"neuron\": \"3\", \"mouse\": \"m0bayes\", \"i_trial\": 1, \"mouse_code\": 0, \"neuron_code\": 3, \"stim\": 1, \"neuron_x_mouse\": \"m0bayes3\", \"log_firing_rate\": 2.1578740149366666, \"Firing rate\": 143.83812557981852, \"firing_rate\": 143.83812557981852, \"i_spike\": 45.5, \"isi\": 0.07564995255112203}, {\"neuron\": \"3\", \"mouse\": \"m1bayes\", \"i_trial\": 0, \"mouse_code\": 1, \"neuron_code\": 11, \"stim\": 0, \"neuron_x_mouse\": \"m1bayes3\", \"log_firing_rate\": 1.764551781079963, \"Firing rate\": 58.1502760948866, \"firing_rate\": 58.1502760948866, \"i_spike\": 40.5, \"isi\": 0.08646292086133928}, {\"neuron\": \"3\", \"mouse\": \"m1bayes\", \"i_trial\": 0, \"mouse_code\": 1, \"neuron_code\": 11, \"stim\": 1, \"neuron_x_mouse\": \"m1bayes3\", \"log_firing_rate\": 2.042912387488892, \"Firing rate\": 110.3855910777275, \"firing_rate\": 110.3855910777275, \"i_spike\": 63.0, \"isi\": 0.05384964585210266}, {\"neuron\": \"3\", \"mouse\": \"m1bayes\", \"i_trial\": 1, \"mouse_code\": 1, \"neuron_code\": 11, \"stim\": 0, \"neuron_x_mouse\": \"m1bayes3\", \"log_firing_rate\": 2.2680323964824485, \"Firing rate\": 185.366989398218, \"firing_rate\": 185.366989398218, \"i_spike\": 49.0, \"isi\": 0.07206453762537264}, {\"neuron\": \"3\", \"mouse\": \"m1bayes\", \"i_trial\": 1, \"mouse_code\": 1, \"neuron_code\": 11, \"stim\": 1, \"neuron_x_mouse\": \"m1bayes3\", \"log_firing_rate\": 1.769897436911805, \"Firing rate\": 58.87046103169144, \"firing_rate\": 58.87046103169144, \"i_spike\": 46.5, \"isi\": 0.07528575955894831}, {\"neuron\": \"3\", \"mouse\": \"m2bayes\", \"i_trial\": 0, \"mouse_code\": 2, \"neuron_code\": 19, \"stim\": 0, \"neuron_x_mouse\": \"m2bayes3\", \"log_firing_rate\": 2.3322750730404374, \"Firing rate\": 214.91912959379198, \"firing_rate\": 214.91912959379198, \"i_spike\": 52.5, \"isi\": 0.06592742895274738}, {\"neuron\": \"3\", \"mouse\": \"m2bayes\", \"i_trial\": 0, \"mouse_code\": 2, \"neuron_code\": 19, \"stim\": 1, \"neuron_x_mouse\": \"m2bayes3\", \"log_firing_rate\": 2.2239100018855322, \"Firing rate\": 167.45958163950843, \"firing_rate\": 167.45958163950843, \"i_spike\": 63.5, \"isi\": 0.0552930710071807}, {\"neuron\": \"3\", \"mouse\": \"m2bayes\", \"i_trial\": 1, \"mouse_code\": 2, \"neuron_code\": 19, \"stim\": 0, \"neuron_x_mouse\": \"m2bayes3\", \"log_firing_rate\": 1.8090505119409652, \"Firing rate\": 64.42441919385375, \"firing_rate\": 64.42441919385375, \"i_spike\": 48.5, \"isi\": 0.07151099550762453}, {\"neuron\": \"3\", \"mouse\": \"m2bayes\", \"i_trial\": 1, \"mouse_code\": 2, \"neuron_code\": 19, \"stim\": 1, \"neuron_x_mouse\": \"m2bayes3\", \"log_firing_rate\": 1.7716311178765336, \"Firing rate\": 59.10593854192557, \"firing_rate\": 59.10593854192557, \"i_spike\": 50.5, \"isi\": 0.06924259736362397}, {\"neuron\": \"3\", \"mouse\": \"m3bayes\", \"i_trial\": 0, \"mouse_code\": 3, \"neuron_code\": 27, \"stim\": 0, \"neuron_x_mouse\": \"m3bayes3\", \"log_firing_rate\": 1.7499876312348388, \"Firing rate\": 56.23253098619576, \"firing_rate\": 56.23253098619576, \"i_spike\": 61.0, \"isi\": 0.05747461804305125}, {\"neuron\": \"3\", \"mouse\": \"m3bayes\", \"i_trial\": 0, \"mouse_code\": 3, \"neuron_code\": 27, \"stim\": 1, \"neuron_x_mouse\": \"m3bayes3\", \"log_firing_rate\": 2.5660602469713605, \"Firing rate\": 368.180045426956, \"firing_rate\": 368.180045426956, \"i_spike\": 70.5, \"isi\": 0.049791453867966316}, {\"neuron\": \"3\", \"mouse\": \"m3bayes\", \"i_trial\": 1, \"mouse_code\": 3, \"neuron_code\": 27, \"stim\": 0, \"neuron_x_mouse\": \"m3bayes3\", \"log_firing_rate\": 2.0701806612122042, \"Firing rate\": 117.53863996748814, \"firing_rate\": 117.53863996748814, \"i_spike\": 53.0, \"isi\": 0.06548404205290244}, {\"neuron\": \"3\", \"mouse\": \"m3bayes\", \"i_trial\": 1, \"mouse_code\": 3, \"neuron_code\": 27, \"stim\": 1, \"neuron_x_mouse\": \"m3bayes3\", \"log_firing_rate\": 2.27525802447552, \"Firing rate\": 188.4768541836973, \"firing_rate\": 188.4768541836973, \"i_spike\": 65.5, \"isi\": 0.05228981932015026}, {\"neuron\": \"4\", \"mouse\": \"m0bayes\", \"i_trial\": 0, \"mouse_code\": 0, \"neuron_code\": 4, \"stim\": 0, \"neuron_x_mouse\": \"m0bayes4\", \"log_firing_rate\": 1.7950285753057766, \"Firing rate\": 62.37758767591728, \"firing_rate\": 62.37758767591728, \"i_spike\": 46.5, \"isi\": 0.07563728564924767}, {\"neuron\": \"4\", \"mouse\": \"m0bayes\", \"i_trial\": 0, \"mouse_code\": 0, \"neuron_code\": 4, \"stim\": 1, \"neuron_x_mouse\": \"m0bayes4\", \"log_firing_rate\": 2.773570030079091, \"Firing rate\": 593.7040753836483, \"firing_rate\": 593.7040753836483, \"i_spike\": 69.0, \"isi\": 0.050896648091960685}, {\"neuron\": \"4\", \"mouse\": \"m0bayes\", \"i_trial\": 1, \"mouse_code\": 0, \"neuron_code\": 4, \"stim\": 0, \"neuron_x_mouse\": \"m0bayes4\", \"log_firing_rate\": 1.6651302941511086, \"Firing rate\": 46.25197626988177, \"firing_rate\": 46.25197626988177, \"i_spike\": 56.0, \"isi\": 0.06108144016224481}, {\"neuron\": \"4\", \"mouse\": \"m0bayes\", \"i_trial\": 1, \"mouse_code\": 0, \"neuron_code\": 4, \"stim\": 1, \"neuron_x_mouse\": \"m0bayes4\", \"log_firing_rate\": 1.8814995171026234, \"Firing rate\": 76.12012926161674, \"firing_rate\": 76.12012926161674, \"i_spike\": 55.0, \"isi\": 0.06336708201766757}, {\"neuron\": \"4\", \"mouse\": \"m1bayes\", \"i_trial\": 0, \"mouse_code\": 1, \"neuron_code\": 12, \"stim\": 0, \"neuron_x_mouse\": \"m1bayes4\", \"log_firing_rate\": 1.9277999437663815, \"Firing rate\": 84.68372316714694, \"firing_rate\": 84.68372316714694, \"i_spike\": 65.5, \"isi\": 0.05340013837621968}, {\"neuron\": \"4\", \"mouse\": \"m1bayes\", \"i_trial\": 0, \"mouse_code\": 1, \"neuron_code\": 12, \"stim\": 1, \"neuron_x_mouse\": \"m1bayes4\", \"log_firing_rate\": 2.364440734386574, \"Firing rate\": 231.44123302269045, \"firing_rate\": 231.44123302269045, \"i_spike\": 67.0, \"isi\": 0.05155123095442254}, {\"neuron\": \"4\", \"mouse\": \"m1bayes\", \"i_trial\": 1, \"mouse_code\": 1, \"neuron_code\": 12, \"stim\": 0, \"neuron_x_mouse\": \"m1bayes4\", \"log_firing_rate\": 2.7733883869796325, \"Firing rate\": 593.4558113517279, \"firing_rate\": 593.4558113517279, \"i_spike\": 67.0, \"isi\": 0.05210204252881482}, {\"neuron\": \"4\", \"mouse\": \"m1bayes\", \"i_trial\": 1, \"mouse_code\": 1, \"neuron_code\": 12, \"stim\": 1, \"neuron_x_mouse\": \"m1bayes4\", \"log_firing_rate\": 1.915367259641382, \"Firing rate\": 82.2938270711437, \"firing_rate\": 82.2938270711437, \"i_spike\": 64.0, \"isi\": 0.05486568957237675}, {\"neuron\": \"4\", \"mouse\": \"m2bayes\", \"i_trial\": 0, \"mouse_code\": 2, \"neuron_code\": 20, \"stim\": 0, \"neuron_x_mouse\": \"m2bayes4\", \"log_firing_rate\": 1.6170238992459474, \"Firing rate\": 41.40224578683514, \"firing_rate\": 41.40224578683514, \"i_spike\": 49.5, \"isi\": 0.07050671970459294}, {\"neuron\": \"4\", \"mouse\": \"m2bayes\", \"i_trial\": 0, \"mouse_code\": 2, \"neuron_code\": 20, \"stim\": 1, \"neuron_x_mouse\": \"m2bayes4\", \"log_firing_rate\": 1.8582265700752085, \"Firing rate\": 72.14837768513958, \"firing_rate\": 72.14837768513958, \"i_spike\": 58.0, \"isi\": 0.06028664048918777}, {\"neuron\": \"4\", \"mouse\": \"m2bayes\", \"i_trial\": 1, \"mouse_code\": 2, \"neuron_code\": 20, \"stim\": 0, \"neuron_x_mouse\": \"m2bayes4\", \"log_firing_rate\": 2.2216668074749686, \"Firing rate\": 166.59685841323582, \"firing_rate\": 166.59685841323582, \"i_spike\": 70.5, \"isi\": 0.0496072919034325}, {\"neuron\": \"4\", \"mouse\": \"m2bayes\", \"i_trial\": 1, \"mouse_code\": 2, \"neuron_code\": 20, \"stim\": 1, \"neuron_x_mouse\": \"m2bayes4\", \"log_firing_rate\": 1.8814646831984465, \"Firing rate\": 76.11402406096668, \"firing_rate\": 76.11402406096668, \"i_spike\": 51.5, \"isi\": 0.067751565766211}, {\"neuron\": \"4\", \"mouse\": \"m3bayes\", \"i_trial\": 0, \"mouse_code\": 3, \"neuron_code\": 28, \"stim\": 0, \"neuron_x_mouse\": \"m3bayes4\", \"log_firing_rate\": 2.207094583243229, \"Firing rate\": 161.09964493934794, \"firing_rate\": 161.09964493934794, \"i_spike\": 51.5, \"isi\": 0.0680199849945089}, {\"neuron\": \"4\", \"mouse\": \"m3bayes\", \"i_trial\": 0, \"mouse_code\": 3, \"neuron_code\": 28, \"stim\": 1, \"neuron_x_mouse\": \"m3bayes4\", \"log_firing_rate\": 2.0572927313246203, \"Firing rate\": 114.10186192238722, \"firing_rate\": 114.10186192238722, \"i_spike\": 60.0, \"isi\": 0.05595842149042881}, {\"neuron\": \"4\", \"mouse\": \"m3bayes\", \"i_trial\": 1, \"mouse_code\": 3, \"neuron_code\": 28, \"stim\": 0, \"neuron_x_mouse\": \"m3bayes4\", \"log_firing_rate\": 1.8668090162568758, \"Firing rate\": 73.58834169463414, \"firing_rate\": 73.58834169463414, \"i_spike\": 59.5, \"isi\": 0.058972976578692625}, {\"neuron\": \"4\", \"mouse\": \"m3bayes\", \"i_trial\": 1, \"mouse_code\": 3, \"neuron_code\": 28, \"stim\": 1, \"neuron_x_mouse\": \"m3bayes4\", \"log_firing_rate\": 1.9627811868036684, \"Firing rate\": 91.78700239979253, \"firing_rate\": 91.78700239979253, \"i_spike\": 50.0, \"isi\": 0.06891406547674722}, {\"neuron\": \"5\", \"mouse\": \"m0bayes\", \"i_trial\": 0, \"mouse_code\": 0, \"neuron_code\": 5, \"stim\": 0, \"neuron_x_mouse\": \"m0bayes5\", \"log_firing_rate\": 1.9917276885541593, \"Firing rate\": 98.11325601028874, \"firing_rate\": 98.11325601028874, \"i_spike\": 57.5, \"isi\": 0.05815187129408934}, {\"neuron\": \"5\", \"mouse\": \"m0bayes\", \"i_trial\": 0, \"mouse_code\": 0, \"neuron_code\": 5, \"stim\": 1, \"neuron_x_mouse\": \"m0bayes5\", \"log_firing_rate\": 1.9089890608452096, \"Firing rate\": 81.0940631352502, \"firing_rate\": 81.0940631352502, \"i_spike\": 67.0, \"isi\": 0.05144908093682945}, {\"neuron\": \"5\", \"mouse\": \"m0bayes\", \"i_trial\": 1, \"mouse_code\": 0, \"neuron_code\": 5, \"stim\": 0, \"neuron_x_mouse\": \"m0bayes5\", \"log_firing_rate\": 1.9626556565708508, \"Firing rate\": 91.76047574741204, \"firing_rate\": 91.76047574741204, \"i_spike\": 56.0, \"isi\": 0.06174898799573044}, {\"neuron\": \"5\", \"mouse\": \"m0bayes\", \"i_trial\": 1, \"mouse_code\": 0, \"neuron_code\": 5, \"stim\": 1, \"neuron_x_mouse\": \"m0bayes5\", \"log_firing_rate\": 2.0389134637006974, \"Firing rate\": 109.37384093129968, \"firing_rate\": 109.37384093129968, \"i_spike\": 60.5, \"isi\": 0.05788267820407816}, {\"neuron\": \"5\", \"mouse\": \"m1bayes\", \"i_trial\": 0, \"mouse_code\": 1, \"neuron_code\": 13, \"stim\": 0, \"neuron_x_mouse\": \"m1bayes5\", \"log_firing_rate\": 2.1452279125428446, \"Firing rate\": 139.71013507637258, \"firing_rate\": 139.71013507637258, \"i_spike\": 70.5, \"isi\": 0.04901132429819908}, {\"neuron\": \"5\", \"mouse\": \"m1bayes\", \"i_trial\": 0, \"mouse_code\": 1, \"neuron_code\": 13, \"stim\": 1, \"neuron_x_mouse\": \"m1bayes5\", \"log_firing_rate\": 2.1370594811164256, \"Firing rate\": 137.10695354448532, \"firing_rate\": 137.10695354448532, \"i_spike\": 52.5, \"isi\": 0.06512372579150713}, {\"neuron\": \"5\", \"mouse\": \"m1bayes\", \"i_trial\": 1, \"mouse_code\": 1, \"neuron_code\": 13, \"stim\": 0, \"neuron_x_mouse\": \"m1bayes5\", \"log_firing_rate\": 2.0385393530262452, \"Firing rate\": 109.2796645040827, \"firing_rate\": 109.2796645040827, \"i_spike\": 51.5, \"isi\": 0.06517028356364989}, {\"neuron\": \"5\", \"mouse\": \"m1bayes\", \"i_trial\": 1, \"mouse_code\": 1, \"neuron_code\": 13, \"stim\": 1, \"neuron_x_mouse\": \"m1bayes5\", \"log_firing_rate\": 2.2691626425381632, \"Firing rate\": 185.850032996572, \"firing_rate\": 185.850032996572, \"i_spike\": 60.5, \"isi\": 0.05825496083614049}, {\"neuron\": \"5\", \"mouse\": \"m2bayes\", \"i_trial\": 0, \"mouse_code\": 2, \"neuron_code\": 21, \"stim\": 0, \"neuron_x_mouse\": \"m2bayes5\", \"log_firing_rate\": 1.7464889371816055, \"Firing rate\": 55.78133927346422, \"firing_rate\": 55.78133927346422, \"i_spike\": 49.5, \"isi\": 0.07065029373925703}, {\"neuron\": \"5\", \"mouse\": \"m2bayes\", \"i_trial\": 0, \"mouse_code\": 2, \"neuron_code\": 21, \"stim\": 1, \"neuron_x_mouse\": \"m2bayes5\", \"log_firing_rate\": 1.9852087622413488, \"Firing rate\": 96.65153643442864, \"firing_rate\": 96.65153643442864, \"i_spike\": 72.5, \"isi\": 0.0477583044027138}, {\"neuron\": \"5\", \"mouse\": \"m2bayes\", \"i_trial\": 1, \"mouse_code\": 2, \"neuron_code\": 21, \"stim\": 0, \"neuron_x_mouse\": \"m2bayes5\", \"log_firing_rate\": 1.7311962202364806, \"Firing rate\": 53.851303517587255, \"firing_rate\": 53.851303517587255, \"i_spike\": 48.0, \"isi\": 0.07332743175439956}, {\"neuron\": \"5\", \"mouse\": \"m2bayes\", \"i_trial\": 1, \"mouse_code\": 2, \"neuron_code\": 21, \"stim\": 1, \"neuron_x_mouse\": \"m2bayes5\", \"log_firing_rate\": 2.333061874574417, \"Firing rate\": 215.3088466558246, \"firing_rate\": 215.3088466558246, \"i_spike\": 60.5, \"isi\": 0.05794052575643853}, {\"neuron\": \"5\", \"mouse\": \"m3bayes\", \"i_trial\": 0, \"mouse_code\": 3, \"neuron_code\": 29, \"stim\": 0, \"neuron_x_mouse\": \"m3bayes5\", \"log_firing_rate\": 2.8249463558782293, \"Firing rate\": 668.2613687225737, \"firing_rate\": 668.2613687225737, \"i_spike\": 63.0, \"isi\": 0.05575861945782135}, {\"neuron\": \"5\", \"mouse\": \"m3bayes\", \"i_trial\": 0, \"mouse_code\": 3, \"neuron_code\": 29, \"stim\": 1, \"neuron_x_mouse\": \"m3bayes5\", \"log_firing_rate\": 2.074489355929992, \"Firing rate\": 118.71056060618561, \"firing_rate\": 118.71056060618561, \"i_spike\": 58.0, \"isi\": 0.05623256733303583}, {\"neuron\": \"5\", \"mouse\": \"m3bayes\", \"i_trial\": 1, \"mouse_code\": 3, \"neuron_code\": 29, \"stim\": 0, \"neuron_x_mouse\": \"m3bayes5\", \"log_firing_rate\": 2.2709390840551102, \"Firing rate\": 186.61179230387975, \"firing_rate\": 186.61179230387975, \"i_spike\": 62.0, \"isi\": 0.05651361568408861}, {\"neuron\": \"5\", \"mouse\": \"m3bayes\", \"i_trial\": 1, \"mouse_code\": 3, \"neuron_code\": 29, \"stim\": 1, \"neuron_x_mouse\": \"m3bayes5\", \"log_firing_rate\": 2.362391855134205, \"Firing rate\": 230.35192989435356, \"firing_rate\": 230.35192989435356, \"i_spike\": 68.0, \"isi\": 0.05139495618190573}, {\"neuron\": \"6\", \"mouse\": \"m0bayes\", \"i_trial\": 0, \"mouse_code\": 0, \"neuron_code\": 6, \"stim\": 0, \"neuron_x_mouse\": \"m0bayes6\", \"log_firing_rate\": 3.0575419565300583, \"Firing rate\": 1141.6735946426795, \"firing_rate\": 1141.6735946426795, \"i_spike\": 67.5, \"isi\": 0.05166970146175502}, {\"neuron\": \"6\", \"mouse\": \"m0bayes\", \"i_trial\": 0, \"mouse_code\": 0, \"neuron_code\": 6, \"stim\": 1, \"neuron_x_mouse\": \"m0bayes6\", \"log_firing_rate\": 3.176933152244219, \"Firing rate\": 1502.9106163067886, \"firing_rate\": 1502.9106163067886, \"i_spike\": 64.5, \"isi\": 0.05383806569958572}, {\"neuron\": \"6\", \"mouse\": \"m0bayes\", \"i_trial\": 1, \"mouse_code\": 0, \"neuron_code\": 6, \"stim\": 0, \"neuron_x_mouse\": \"m0bayes6\", \"log_firing_rate\": 1.93279894599296, \"Firing rate\": 85.66411765616262, \"firing_rate\": 85.66411765616262, \"i_spike\": 63.5, \"isi\": 0.05484499967468083}, {\"neuron\": \"6\", \"mouse\": \"m0bayes\", \"i_trial\": 1, \"mouse_code\": 0, \"neuron_code\": 6, \"stim\": 1, \"neuron_x_mouse\": \"m0bayes6\", \"log_firing_rate\": 2.149601706265157, \"Firing rate\": 141.12426929204858, \"firing_rate\": 141.12426929204858, \"i_spike\": 79.0, \"isi\": 0.043937706550304184}, {\"neuron\": \"6\", \"mouse\": \"m1bayes\", \"i_trial\": 0, \"mouse_code\": 1, \"neuron_code\": 14, \"stim\": 0, \"neuron_x_mouse\": \"m1bayes6\", \"log_firing_rate\": 1.8413161042492852, \"Firing rate\": 69.39307045211179, \"firing_rate\": 69.39307045211179, \"i_spike\": 56.5, \"isi\": 0.06068169960633089}, {\"neuron\": \"6\", \"mouse\": \"m1bayes\", \"i_trial\": 0, \"mouse_code\": 1, \"neuron_code\": 14, \"stim\": 1, \"neuron_x_mouse\": \"m1bayes6\", \"log_firing_rate\": 2.750363047458854, \"Firing rate\": 562.8116096483018, \"firing_rate\": 562.8116096483018, \"i_spike\": 68.5, \"isi\": 0.049573354000072845}, {\"neuron\": \"6\", \"mouse\": \"m1bayes\", \"i_trial\": 1, \"mouse_code\": 1, \"neuron_code\": 14, \"stim\": 0, \"neuron_x_mouse\": \"m1bayes6\", \"log_firing_rate\": 1.7430462476535586, \"Firing rate\": 55.34090381403537, \"firing_rate\": 55.34090381403537, \"i_spike\": 55.5, \"isi\": 0.062226764165442414}, {\"neuron\": \"6\", \"mouse\": \"m1bayes\", \"i_trial\": 1, \"mouse_code\": 1, \"neuron_code\": 14, \"stim\": 1, \"neuron_x_mouse\": \"m1bayes6\", \"log_firing_rate\": 2.0284318702478235, \"Firing rate\": 106.76572911421171, \"firing_rate\": 106.76572911421171, \"i_spike\": 60.5, \"isi\": 0.058009303275344364}, {\"neuron\": \"6\", \"mouse\": \"m2bayes\", \"i_trial\": 0, \"mouse_code\": 2, \"neuron_code\": 22, \"stim\": 0, \"neuron_x_mouse\": \"m2bayes6\", \"log_firing_rate\": 1.8232132853109109, \"Firing rate\": 66.55999571304694, \"firing_rate\": 66.55999571304694, \"i_spike\": 59.5, \"isi\": 0.057265852449999134}, {\"neuron\": \"6\", \"mouse\": \"m2bayes\", \"i_trial\": 0, \"mouse_code\": 2, \"neuron_code\": 22, \"stim\": 1, \"neuron_x_mouse\": \"m2bayes6\", \"log_firing_rate\": 2.251435175356758, \"Firing rate\": 178.41656565025147, \"firing_rate\": 178.41656565025147, \"i_spike\": 61.0, \"isi\": 0.05752510343110919}, {\"neuron\": \"6\", \"mouse\": \"m2bayes\", \"i_trial\": 1, \"mouse_code\": 2, \"neuron_code\": 22, \"stim\": 0, \"neuron_x_mouse\": \"m2bayes6\", \"log_firing_rate\": 2.1239858141941745, \"Firing rate\": 133.04109606914352, \"firing_rate\": 133.04109606914352, \"i_spike\": 64.5, \"isi\": 0.054463092234331975}, {\"neuron\": \"6\", \"mouse\": \"m2bayes\", \"i_trial\": 1, \"mouse_code\": 2, \"neuron_code\": 22, \"stim\": 1, \"neuron_x_mouse\": \"m2bayes6\", \"log_firing_rate\": 1.6854162226447638, \"Firing rate\": 48.463661502788625, \"firing_rate\": 48.463661502788625, \"i_spike\": 57.5, \"isi\": 0.0610685851519076}, {\"neuron\": \"6\", \"mouse\": \"m3bayes\", \"i_trial\": 0, \"mouse_code\": 3, \"neuron_code\": 30, \"stim\": 0, \"neuron_x_mouse\": \"m3bayes6\", \"log_firing_rate\": 2.1914489135550363, \"Firing rate\": 155.39924825063164, \"firing_rate\": 155.39924825063164, \"i_spike\": 51.5, \"isi\": 0.06776753780428653}, {\"neuron\": \"6\", \"mouse\": \"m3bayes\", \"i_trial\": 0, \"mouse_code\": 3, \"neuron_code\": 30, \"stim\": 1, \"neuron_x_mouse\": \"m3bayes6\", \"log_firing_rate\": 2.2317663011481197, \"Firing rate\": 170.51645734279987, \"firing_rate\": 170.51645734279987, \"i_spike\": 55.0, \"isi\": 0.0640880220313598}, {\"neuron\": \"6\", \"mouse\": \"m3bayes\", \"i_trial\": 1, \"mouse_code\": 3, \"neuron_code\": 30, \"stim\": 0, \"neuron_x_mouse\": \"m3bayes6\", \"log_firing_rate\": 2.102223851708937, \"Firing rate\": 126.53884081827627, \"firing_rate\": 126.53884081827627, \"i_spike\": 71.5, \"isi\": 0.04858666547114935}, {\"neuron\": \"6\", \"mouse\": \"m3bayes\", \"i_trial\": 1, \"mouse_code\": 3, \"neuron_code\": 30, \"stim\": 1, \"neuron_x_mouse\": \"m3bayes6\", \"log_firing_rate\": 1.8855901811029634, \"Firing rate\": 76.84049981534083, \"firing_rate\": 76.84049981534083, \"i_spike\": 54.0, \"isi\": 0.06453812230027066}, {\"neuron\": \"7\", \"mouse\": \"m0bayes\", \"i_trial\": 0, \"mouse_code\": 0, \"neuron_code\": 7, \"stim\": 0, \"neuron_x_mouse\": \"m0bayes7\", \"log_firing_rate\": 2.130379479276751, \"Firing rate\": 135.01420989802958, \"firing_rate\": 135.01420989802958, \"i_spike\": 80.5, \"isi\": 0.04355916235899491}, {\"neuron\": \"7\", \"mouse\": \"m0bayes\", \"i_trial\": 0, \"mouse_code\": 0, \"neuron_code\": 7, \"stim\": 1, \"neuron_x_mouse\": \"m0bayes7\", \"log_firing_rate\": 2.196562740517664, \"Firing rate\": 157.23989332660597, \"firing_rate\": 157.23989332660597, \"i_spike\": 58.5, \"isi\": 0.05891191426366672}, {\"neuron\": \"7\", \"mouse\": \"m0bayes\", \"i_trial\": 1, \"mouse_code\": 0, \"neuron_code\": 7, \"stim\": 0, \"neuron_x_mouse\": \"m0bayes7\", \"log_firing_rate\": 2.555617307573849, \"Firing rate\": 359.43247019015905, \"firing_rate\": 359.43247019015905, \"i_spike\": 84.5, \"isi\": 0.04058175356324693}, {\"neuron\": \"7\", \"mouse\": \"m0bayes\", \"i_trial\": 1, \"mouse_code\": 0, \"neuron_code\": 7, \"stim\": 1, \"neuron_x_mouse\": \"m0bayes7\", \"log_firing_rate\": 2.260223012203532, \"Firing rate\": 182.06355232835082, \"firing_rate\": 182.06355232835082, \"i_spike\": 73.5, \"isi\": 0.04699612673308823}, {\"neuron\": \"7\", \"mouse\": \"m1bayes\", \"i_trial\": 0, \"mouse_code\": 1, \"neuron_code\": 15, \"stim\": 0, \"neuron_x_mouse\": \"m1bayes7\", \"log_firing_rate\": 2.1042374993073745, \"Firing rate\": 127.12691243909104, \"firing_rate\": 127.12691243909104, \"i_spike\": 72.0, \"isi\": 0.048845942275912}, {\"neuron\": \"7\", \"mouse\": \"m1bayes\", \"i_trial\": 0, \"mouse_code\": 1, \"neuron_code\": 15, \"stim\": 1, \"neuron_x_mouse\": \"m1bayes7\", \"log_firing_rate\": 2.192590695253181, \"Firing rate\": 155.8083380923737, \"firing_rate\": 155.8083380923737, \"i_spike\": 69.5, \"isi\": 0.05044034999306329}, {\"neuron\": \"7\", \"mouse\": \"m1bayes\", \"i_trial\": 1, \"mouse_code\": 1, \"neuron_code\": 15, \"stim\": 0, \"neuron_x_mouse\": \"m1bayes7\", \"log_firing_rate\": 2.3883718076818177, \"Firing rate\": 244.55233152881175, \"firing_rate\": 244.55233152881175, \"i_spike\": 77.0, \"isi\": 0.04464354615929677}, {\"neuron\": \"7\", \"mouse\": \"m1bayes\", \"i_trial\": 1, \"mouse_code\": 1, \"neuron_code\": 15, \"stim\": 1, \"neuron_x_mouse\": \"m1bayes7\", \"log_firing_rate\": 2.418600899828279, \"Firing rate\": 262.1808093710754, \"firing_rate\": 262.1808093710754, \"i_spike\": 75.0, \"isi\": 0.04656769529331771}, {\"neuron\": \"7\", \"mouse\": \"m2bayes\", \"i_trial\": 0, \"mouse_code\": 2, \"neuron_code\": 23, \"stim\": 0, \"neuron_x_mouse\": \"m2bayes7\", \"log_firing_rate\": 1.9905367944461123, \"Firing rate\": 97.84458474979326, \"firing_rate\": 97.84458474979326, \"i_spike\": 62.5, \"isi\": 0.05470783487578355}, {\"neuron\": \"7\", \"mouse\": \"m2bayes\", \"i_trial\": 0, \"mouse_code\": 2, \"neuron_code\": 23, \"stim\": 1, \"neuron_x_mouse\": \"m2bayes7\", \"log_firing_rate\": 2.459479045950411, \"Firing rate\": 288.057406309565, \"firing_rate\": 288.057406309565, \"i_spike\": 75.0, \"isi\": 0.04660563587581478}, {\"neuron\": \"7\", \"mouse\": \"m2bayes\", \"i_trial\": 1, \"mouse_code\": 2, \"neuron_code\": 23, \"stim\": 0, \"neuron_x_mouse\": \"m2bayes7\", \"log_firing_rate\": 2.002336366162094, \"Firing rate\": 100.53941783690804, \"firing_rate\": 100.53941783690804, \"i_spike\": 73.5, \"isi\": 0.04671691317335954}, {\"neuron\": \"7\", \"mouse\": \"m2bayes\", \"i_trial\": 1, \"mouse_code\": 2, \"neuron_code\": 23, \"stim\": 1, \"neuron_x_mouse\": \"m2bayes7\", \"log_firing_rate\": 2.1306250232576223, \"Firing rate\": 135.09056661343098, \"firing_rate\": 135.09056661343098, \"i_spike\": 80.0, \"isi\": 0.04378122679639699}, {\"neuron\": \"7\", \"mouse\": \"m3bayes\", \"i_trial\": 0, \"mouse_code\": 3, \"neuron_code\": 31, \"stim\": 0, \"neuron_x_mouse\": \"m3bayes7\", \"log_firing_rate\": 2.0894194474760273, \"Firing rate\": 122.8625281204537, \"firing_rate\": 122.8625281204537, \"i_spike\": 73.5, \"isi\": 0.04760730421158127}, {\"neuron\": \"7\", \"mouse\": \"m3bayes\", \"i_trial\": 0, \"mouse_code\": 3, \"neuron_code\": 31, \"stim\": 1, \"neuron_x_mouse\": \"m3bayes7\", \"log_firing_rate\": 1.844402324639834, \"Firing rate\": 69.88795370039374, \"firing_rate\": 69.88795370039374, \"i_spike\": 66.5, \"isi\": 0.05232505666408324}, {\"neuron\": \"7\", \"mouse\": \"m3bayes\", \"i_trial\": 1, \"mouse_code\": 3, \"neuron_code\": 31, \"stim\": 0, \"neuron_x_mouse\": \"m3bayes7\", \"log_firing_rate\": 1.8888862489398084, \"Firing rate\": 77.4258976173055, \"firing_rate\": 77.4258976173055, \"i_spike\": 66.0, \"isi\": 0.052451654798929166}, {\"neuron\": \"7\", \"mouse\": \"m3bayes\", \"i_trial\": 1, \"mouse_code\": 3, \"neuron_code\": 31, \"stim\": 1, \"neuron_x_mouse\": \"m3bayes7\", \"log_firing_rate\": 2.3054944771805, \"Firing rate\": 202.0665735503928, \"firing_rate\": 202.0665735503928, \"i_spike\": 73.0, \"isi\": 0.04776501326540826}]}}, {\"mode\": \"vega-lite\"});\n",
       "</script>"
      ],
      "text/plain": [
       "alt.LayerChart(...)"
      ]
     },
     "execution_count": 5,
     "metadata": {},
     "output_type": "execute_result"
    }
   ],
   "source": [
    "import altair as alt\n",
    "y='isi'\n",
    "color='mouse'\n",
    "x='neuron'\n",
    "\n",
    "base=alt.Chart(df).encode(\n",
    "            x=x,\n",
    "            color=f'{color}',\n",
    "            y=alt.Y(f'mean({y})',\n",
    "                    scale=alt.Scale(zero=False,\n",
    "                                    domain=list(np.quantile(df[y], [.05, .95])))),\n",
    ")\n",
    "highlight = alt.selection(type='single', on='mouseover',\n",
    "                          fields=[color], nearest=True)\n",
    "\n",
    "\n",
    "lines=base.mark_line(clip=True, fill=None, opacity=.6, ).encode(\n",
    "            size=alt.condition(~highlight, alt.value(1), alt.value(3))\n",
    "        )\n",
    "points = base.mark_circle().encode(\n",
    "    opacity=alt.value(0),\n",
    "    #axis=alt.Axis(labels=False, tickCount=0, title='')\n",
    ").add_selection(\n",
    "    highlight\n",
    ")\n",
    "\n",
    "lines+points"
   ]
  },
  {
   "cell_type": "code",
   "execution_count": 6,
   "metadata": {},
   "outputs": [
    {
     "data": {
      "text/html": [
       "\n",
       "<div id=\"altair-viz-e01511bc1ab64d35ac2bcb3649e7abd4\"></div>\n",
       "<script type=\"text/javascript\">\n",
       "  (function(spec, embedOpt){\n",
       "    let outputDiv = document.currentScript.previousElementSibling;\n",
       "    if (outputDiv.id !== \"altair-viz-e01511bc1ab64d35ac2bcb3649e7abd4\") {\n",
       "      outputDiv = document.getElementById(\"altair-viz-e01511bc1ab64d35ac2bcb3649e7abd4\");\n",
       "    }\n",
       "    const paths = {\n",
       "      \"vega\": \"https://cdn.jsdelivr.net/npm//vega@5?noext\",\n",
       "      \"vega-lib\": \"https://cdn.jsdelivr.net/npm//vega-lib?noext\",\n",
       "      \"vega-lite\": \"https://cdn.jsdelivr.net/npm//vega-lite@4.8.1?noext\",\n",
       "      \"vega-embed\": \"https://cdn.jsdelivr.net/npm//vega-embed@6?noext\",\n",
       "    };\n",
       "\n",
       "    function loadScript(lib) {\n",
       "      return new Promise(function(resolve, reject) {\n",
       "        var s = document.createElement('script');\n",
       "        s.src = paths[lib];\n",
       "        s.async = true;\n",
       "        s.onload = () => resolve(paths[lib]);\n",
       "        s.onerror = () => reject(`Error loading script: ${paths[lib]}`);\n",
       "        document.getElementsByTagName(\"head\")[0].appendChild(s);\n",
       "      });\n",
       "    }\n",
       "\n",
       "    function showError(err) {\n",
       "      outputDiv.innerHTML = `<div class=\"error\" style=\"color:red;\">${err}</div>`;\n",
       "      throw err;\n",
       "    }\n",
       "\n",
       "    function displayChart(vegaEmbed) {\n",
       "      vegaEmbed(outputDiv, spec, embedOpt)\n",
       "        .catch(err => showError(`Javascript Error: ${err.message}<br>This usually means there's a typo in your chart specification. See the javascript console for the full traceback.`));\n",
       "    }\n",
       "\n",
       "    if(typeof define === \"function\" && define.amd) {\n",
       "      requirejs.config({paths});\n",
       "      require([\"vega-embed\"], displayChart, err => showError(`Error loading script: ${err.message}`));\n",
       "    } else if (typeof vegaEmbed === \"function\") {\n",
       "      displayChart(vegaEmbed);\n",
       "    } else {\n",
       "      loadScript(\"vega\")\n",
       "        .then(() => loadScript(\"vega-lite\"))\n",
       "        .then(() => loadScript(\"vega-embed\"))\n",
       "        .catch(showError)\n",
       "        .then(() => displayChart(vegaEmbed));\n",
       "    }\n",
       "  })({\"config\": {\"view\": {\"continuousWidth\": 400, \"continuousHeight\": 300}}, \"layer\": [{\"mark\": {\"type\": \"line\", \"clip\": true, \"fill\": null, \"opacity\": 0.6}, \"encoding\": {\"color\": {\"type\": \"nominal\", \"field\": \"mouse\"}, \"size\": {\"condition\": {\"value\": 1, \"selection\": {\"not\": \"selector003\"}}, \"value\": 3}, \"x\": {\"type\": \"nominal\", \"field\": \"neuron\"}, \"y\": {\"type\": \"quantitative\", \"aggregate\": \"mean\", \"field\": \"isi\", \"scale\": {\"domain\": [0.04664458292995545, 0.09283257227984888], \"zero\": false}}}}, {\"mark\": \"point\", \"encoding\": {\"opacity\": {\"value\": 0}, \"x\": {\"type\": \"nominal\", \"field\": \"neuron\"}}, \"selection\": {\"selector002\": {\"type\": \"single\", \"nearest\": true, \"on\": \"mouseover\", \"fields\": [\"neuron\"], \"empty\": \"none\"}}}, {\"mark\": \"circle\", \"encoding\": {\"color\": {\"type\": \"nominal\", \"field\": \"mouse\"}, \"opacity\": {\"value\": 0}, \"x\": {\"type\": \"nominal\", \"field\": \"neuron\"}, \"y\": {\"type\": \"quantitative\", \"aggregate\": \"mean\", \"field\": \"isi\", \"scale\": {\"domain\": [0.04664458292995545, 0.09283257227984888], \"zero\": false}}}, \"selection\": {\"selector003\": {\"type\": \"single\", \"on\": \"mouseover\", \"fields\": [\"mouse\"], \"nearest\": true}}}, {\"mark\": {\"type\": \"text\", \"align\": \"left\", \"dx\": 5, \"dy\": -5}, \"encoding\": {\"color\": {\"type\": \"nominal\", \"field\": \"mouse\"}, \"size\": {\"condition\": {\"value\": 1, \"selection\": {\"not\": \"selector003\"}}, \"value\": 3}, \"text\": {\"condition\": {\"type\": \"quantitative\", \"field\": \"isi\", \"selection\": \"selector002\"}, \"value\": \" \"}, \"x\": {\"type\": \"nominal\", \"field\": \"neuron\"}, \"y\": {\"type\": \"quantitative\", \"aggregate\": \"mean\", \"field\": \"isi\", \"scale\": {\"domain\": [0.04664458292995545, 0.09283257227984888], \"zero\": false}}}}], \"data\": {\"name\": \"data-6272ce3c2fef7151f50961e17f93cf72\"}, \"$schema\": \"https://vega.github.io/schema/vega-lite/v4.8.1.json\", \"datasets\": {\"data-6272ce3c2fef7151f50961e17f93cf72\": [{\"neuron\": \"0\", \"mouse\": \"m0bayes\", \"i_trial\": 0, \"mouse_code\": 0, \"neuron_code\": 0, \"stim\": 0, \"neuron_x_mouse\": \"m0bayes0\", \"log_firing_rate\": 2.074769164194288, \"Firing rate\": 118.78706836740277, \"firing_rate\": 118.78706836740277, \"i_spike\": 48.0, \"isi\": 0.07307261492198085}, {\"neuron\": \"0\", \"mouse\": \"m0bayes\", \"i_trial\": 0, \"mouse_code\": 0, \"neuron_code\": 0, \"stim\": 1, \"neuron_x_mouse\": \"m0bayes0\", \"log_firing_rate\": 1.5467271552166846, \"Firing rate\": 35.21495641560652, \"firing_rate\": 35.21495641560652, \"i_spike\": 40.5, \"isi\": 0.08279006810869208}, {\"neuron\": \"0\", \"mouse\": \"m0bayes\", \"i_trial\": 1, \"mouse_code\": 0, \"neuron_code\": 0, \"stim\": 0, \"neuron_x_mouse\": \"m0bayes0\", \"log_firing_rate\": 1.6759433481083397, \"Firing rate\": 47.41801264192028, \"firing_rate\": 47.41801264192028, \"i_spike\": 38.0, \"isi\": 0.0915319584522213}, {\"neuron\": \"0\", \"mouse\": \"m0bayes\", \"i_trial\": 1, \"mouse_code\": 0, \"neuron_code\": 0, \"stim\": 1, \"neuron_x_mouse\": \"m0bayes0\", \"log_firing_rate\": 1.8183244456814827, \"Firing rate\": 65.81493332782446, \"firing_rate\": 65.81493332782446, \"i_spike\": 47.5, \"isi\": 0.07242633077594104}, {\"neuron\": \"0\", \"mouse\": \"m1bayes\", \"i_trial\": 0, \"mouse_code\": 1, \"neuron_code\": 8, \"stim\": 0, \"neuron_x_mouse\": \"m1bayes0\", \"log_firing_rate\": 2.0486752347683095, \"Firing rate\": 111.86010812058856, \"firing_rate\": 111.86010812058856, \"i_spike\": 36.5, \"isi\": 0.09457301935836142}, {\"neuron\": \"0\", \"mouse\": \"m1bayes\", \"i_trial\": 0, \"mouse_code\": 1, \"neuron_code\": 8, \"stim\": 1, \"neuron_x_mouse\": \"m1bayes0\", \"log_firing_rate\": 1.752434218031302, \"Firing rate\": 56.55020948021689, \"firing_rate\": 56.55020948021689, \"i_spike\": 38.5, \"isi\": 0.08758091490758027}, {\"neuron\": \"0\", \"mouse\": \"m1bayes\", \"i_trial\": 1, \"mouse_code\": 1, \"neuron_code\": 8, \"stim\": 0, \"neuron_x_mouse\": \"m1bayes0\", \"log_firing_rate\": 1.741194994720931, \"Firing rate\": 55.105506014828066, \"firing_rate\": 55.105506014828066, \"i_spike\": 36.0, \"isi\": 0.0966307066049054}, {\"neuron\": \"0\", \"mouse\": \"m1bayes\", \"i_trial\": 1, \"mouse_code\": 1, \"neuron_code\": 8, \"stim\": 1, \"neuron_x_mouse\": \"m1bayes0\", \"log_firing_rate\": 1.5863219536891315, \"Firing rate\": 38.57642286529197, \"firing_rate\": 38.57642286529197, \"i_spike\": 33.5, \"isi\": 0.10401457991369546}, {\"neuron\": \"0\", \"mouse\": \"m2bayes\", \"i_trial\": 0, \"mouse_code\": 2, \"neuron_code\": 16, \"stim\": 0, \"neuron_x_mouse\": \"m2bayes0\", \"log_firing_rate\": 1.526598365450519, \"Firing rate\": 33.62005080977535, \"firing_rate\": 33.62005080977535, \"i_spike\": 36.5, \"isi\": 0.09657319068638867}, {\"neuron\": \"0\", \"mouse\": \"m2bayes\", \"i_trial\": 0, \"mouse_code\": 2, \"neuron_code\": 16, \"stim\": 1, \"neuron_x_mouse\": \"m2bayes0\", \"log_firing_rate\": 2.357875085385628, \"Firing rate\": 227.96862794416182, \"firing_rate\": 227.96862794416182, \"i_spike\": 35.0, \"isi\": 0.09948460668032583}, {\"neuron\": \"0\", \"mouse\": \"m2bayes\", \"i_trial\": 1, \"mouse_code\": 2, \"neuron_code\": 16, \"stim\": 0, \"neuron_x_mouse\": \"m2bayes0\", \"log_firing_rate\": 1.5536389138544862, \"Firing rate\": 35.77988281554771, \"firing_rate\": 35.77988281554771, \"i_spike\": 36.5, \"isi\": 0.09320800857057335}, {\"neuron\": \"0\", \"mouse\": \"m2bayes\", \"i_trial\": 1, \"mouse_code\": 2, \"neuron_code\": 16, \"stim\": 1, \"neuron_x_mouse\": \"m2bayes0\", \"log_firing_rate\": 2.56372612586684, \"Firing rate\": 366.20656518257175, \"firing_rate\": 366.20656518257175, \"i_spike\": 54.5, \"isi\": 0.06321267214758992}, {\"neuron\": \"0\", \"mouse\": \"m3bayes\", \"i_trial\": 0, \"mouse_code\": 3, \"neuron_code\": 24, \"stim\": 0, \"neuron_x_mouse\": \"m3bayes0\", \"log_firing_rate\": 1.6585846371915596, \"Firing rate\": 45.560096700621344, \"firing_rate\": 45.560096700621344, \"i_spike\": 37.0, \"isi\": 0.09128193843659022}, {\"neuron\": \"0\", \"mouse\": \"m3bayes\", \"i_trial\": 0, \"mouse_code\": 3, \"neuron_code\": 24, \"stim\": 1, \"neuron_x_mouse\": \"m3bayes0\", \"log_firing_rate\": 1.6655452439400433, \"Firing rate\": 46.29618917195067, \"firing_rate\": 46.29618917195067, \"i_spike\": 44.0, \"isi\": 0.0791216482033879}, {\"neuron\": \"0\", \"mouse\": \"m3bayes\", \"i_trial\": 1, \"mouse_code\": 3, \"neuron_code\": 24, \"stim\": 0, \"neuron_x_mouse\": \"m3bayes0\", \"log_firing_rate\": 1.9484453023142392, \"Firing rate\": 88.8066120832498, \"firing_rate\": 88.8066120832498, \"i_spike\": 36.0, \"isi\": 0.0962588279398649}, {\"neuron\": \"0\", \"mouse\": \"m3bayes\", \"i_trial\": 1, \"mouse_code\": 3, \"neuron_code\": 24, \"stim\": 1, \"neuron_x_mouse\": \"m3bayes0\", \"log_firing_rate\": 1.656299427272419, \"Firing rate\": 45.320994087529236, \"firing_rate\": 45.320994087529236, \"i_spike\": 44.5, \"isi\": 0.07847572345272345}, {\"neuron\": \"1\", \"mouse\": \"m0bayes\", \"i_trial\": 0, \"mouse_code\": 0, \"neuron_code\": 1, \"stim\": 0, \"neuron_x_mouse\": \"m0bayes1\", \"log_firing_rate\": 3.6368528795373933, \"Firing rate\": 4333.640482477009, \"firing_rate\": 4333.640482477009, \"i_spike\": 45.5, \"isi\": 0.07603401924326515}, {\"neuron\": \"1\", \"mouse\": \"m0bayes\", \"i_trial\": 0, \"mouse_code\": 0, \"neuron_code\": 1, \"stim\": 1, \"neuron_x_mouse\": \"m0bayes1\", \"log_firing_rate\": 1.8073151806733985, \"Firing rate\": 64.16750907148983, \"firing_rate\": 64.16750907148983, \"i_spike\": 42.0, \"isi\": 0.08205312841841868}, {\"neuron\": \"1\", \"mouse\": \"m0bayes\", \"i_trial\": 1, \"mouse_code\": 0, \"neuron_code\": 1, \"stim\": 0, \"neuron_x_mouse\": \"m0bayes1\", \"log_firing_rate\": 1.8412274511252433, \"Firing rate\": 69.37890659582915, \"firing_rate\": 69.37890659582915, \"i_spike\": 38.0, \"isi\": 0.09213533345421775}, {\"neuron\": \"1\", \"mouse\": \"m0bayes\", \"i_trial\": 1, \"mouse_code\": 0, \"neuron_code\": 1, \"stim\": 1, \"neuron_x_mouse\": \"m0bayes1\", \"log_firing_rate\": 1.8123791435808492, \"Firing rate\": 64.92009453762373, \"firing_rate\": 64.92009453762373, \"i_spike\": 48.5, \"isi\": 0.07066829705737887}, {\"neuron\": \"1\", \"mouse\": \"m1bayes\", \"i_trial\": 0, \"mouse_code\": 1, \"neuron_code\": 9, \"stim\": 0, \"neuron_x_mouse\": \"m1bayes1\", \"log_firing_rate\": 2.268037314760587, \"Firing rate\": 185.3690886456455, \"firing_rate\": 185.3690886456455, \"i_spike\": 42.0, \"isi\": 0.08382751775333276}, {\"neuron\": \"1\", \"mouse\": \"m1bayes\", \"i_trial\": 0, \"mouse_code\": 1, \"neuron_code\": 9, \"stim\": 1, \"neuron_x_mouse\": \"m1bayes1\", \"log_firing_rate\": 2.1041797431478653, \"Firing rate\": 127.1100071493958, \"firing_rate\": 127.1100071493958, \"i_spike\": 52.0, \"isi\": 0.06652425728612114}, {\"neuron\": \"1\", \"mouse\": \"m1bayes\", \"i_trial\": 1, \"mouse_code\": 1, \"neuron_code\": 9, \"stim\": 0, \"neuron_x_mouse\": \"m1bayes1\", \"log_firing_rate\": 1.962432470600535, \"Firing rate\": 91.71333172353755, \"firing_rate\": 91.71333172353755, \"i_spike\": 43.0, \"isi\": 0.0816733143655555}, {\"neuron\": \"1\", \"mouse\": \"m1bayes\", \"i_trial\": 1, \"mouse_code\": 1, \"neuron_code\": 9, \"stim\": 1, \"neuron_x_mouse\": \"m1bayes1\", \"log_firing_rate\": 1.836638161266233, \"Firing rate\": 68.64962374010484, \"firing_rate\": 68.64962374010484, \"i_spike\": 56.0, \"isi\": 0.06115073642805215}, {\"neuron\": \"1\", \"mouse\": \"m2bayes\", \"i_trial\": 0, \"mouse_code\": 2, \"neuron_code\": 17, \"stim\": 0, \"neuron_x_mouse\": \"m2bayes1\", \"log_firing_rate\": 2.676684405242912, \"Firing rate\": 474.98993301715706, \"firing_rate\": 474.98993301715706, \"i_spike\": 55.5, \"isi\": 0.062169950808584694}, {\"neuron\": \"1\", \"mouse\": \"m2bayes\", \"i_trial\": 0, \"mouse_code\": 2, \"neuron_code\": 17, \"stim\": 1, \"neuron_x_mouse\": \"m2bayes1\", \"log_firing_rate\": 3.6495098341741348, \"Firing rate\": 4461.7972777048835, \"firing_rate\": 4461.7972777048835, \"i_spike\": 52.0, \"isi\": 0.06679628771798557}, {\"neuron\": \"1\", \"mouse\": \"m2bayes\", \"i_trial\": 1, \"mouse_code\": 2, \"neuron_code\": 17, \"stim\": 0, \"neuron_x_mouse\": \"m2bayes1\", \"log_firing_rate\": 2.011645060062529, \"Firing rate\": 102.71764648099563, \"firing_rate\": 102.71764648099563, \"i_spike\": 45.5, \"isi\": 0.0746405534266888}, {\"neuron\": \"1\", \"mouse\": \"m2bayes\", \"i_trial\": 1, \"mouse_code\": 2, \"neuron_code\": 17, \"stim\": 1, \"neuron_x_mouse\": \"m2bayes1\", \"log_firing_rate\": 1.997410887688156, \"Firing rate\": 99.405608396889, \"firing_rate\": 99.405608396889, \"i_spike\": 51.0, \"isi\": 0.06849390331672175}, {\"neuron\": \"1\", \"mouse\": \"m3bayes\", \"i_trial\": 0, \"mouse_code\": 3, \"neuron_code\": 25, \"stim\": 0, \"neuron_x_mouse\": \"m3bayes1\", \"log_firing_rate\": 1.8879646279049698, \"Firing rate\": 77.26176549429557, \"firing_rate\": 77.26176549429557, \"i_spike\": 40.5, \"isi\": 0.08018580717771154}, {\"neuron\": \"1\", \"mouse\": \"m3bayes\", \"i_trial\": 0, \"mouse_code\": 3, \"neuron_code\": 25, \"stim\": 1, \"neuron_x_mouse\": \"m3bayes1\", \"log_firing_rate\": 2.0899491825125858, \"Firing rate\": 123.01248235305462, \"firing_rate\": 123.01248235305462, \"i_spike\": 58.0, \"isi\": 0.05885259769605262}, {\"neuron\": \"1\", \"mouse\": \"m3bayes\", \"i_trial\": 1, \"mouse_code\": 3, \"neuron_code\": 25, \"stim\": 0, \"neuron_x_mouse\": \"m3bayes1\", \"log_firing_rate\": 1.8216476551456011, \"Firing rate\": 66.32047913712184, \"firing_rate\": 66.32047913712184, \"i_spike\": 41.5, \"isi\": 0.08532033622011076}, {\"neuron\": \"1\", \"mouse\": \"m3bayes\", \"i_trial\": 1, \"mouse_code\": 3, \"neuron_code\": 25, \"stim\": 1, \"neuron_x_mouse\": \"m3bayes1\", \"log_firing_rate\": 2.158444564259808, \"Firing rate\": 144.0272154240225, \"firing_rate\": 144.0272154240225, \"i_spike\": 69.0, \"isi\": 0.050327960086831366}, {\"neuron\": \"2\", \"mouse\": \"m0bayes\", \"i_trial\": 0, \"mouse_code\": 0, \"neuron_code\": 2, \"stim\": 0, \"neuron_x_mouse\": \"m0bayes2\", \"log_firing_rate\": 1.8864510873812563, \"Firing rate\": 76.99297257788511, \"firing_rate\": 76.99297257788511, \"i_spike\": 62.0, \"isi\": 0.056617751609331766}, {\"neuron\": \"2\", \"mouse\": \"m0bayes\", \"i_trial\": 0, \"mouse_code\": 0, \"neuron_code\": 2, \"stim\": 1, \"neuron_x_mouse\": \"m0bayes2\", \"log_firing_rate\": 2.3740053467500393, \"Firing rate\": 236.59488253232797, \"firing_rate\": 236.59488253232797, \"i_spike\": 50.5, \"isi\": 0.06818976065688331}, {\"neuron\": \"2\", \"mouse\": \"m0bayes\", \"i_trial\": 1, \"mouse_code\": 0, \"neuron_code\": 2, \"stim\": 0, \"neuron_x_mouse\": \"m0bayes2\", \"log_firing_rate\": 1.9502949347182075, \"Firing rate\": 89.18564031614409, \"firing_rate\": 89.18564031614409, \"i_spike\": 45.0, \"isi\": 0.07737798073148934}, {\"neuron\": \"2\", \"mouse\": \"m0bayes\", \"i_trial\": 1, \"mouse_code\": 0, \"neuron_code\": 2, \"stim\": 1, \"neuron_x_mouse\": \"m0bayes2\", \"log_firing_rate\": 2.1090509977955594, \"Firing rate\": 128.54375958584714, \"firing_rate\": 128.54375958584714, \"i_spike\": 53.5, \"isi\": 0.0656485414602953}, {\"neuron\": \"2\", \"mouse\": \"m1bayes\", \"i_trial\": 0, \"mouse_code\": 1, \"neuron_code\": 10, \"stim\": 0, \"neuron_x_mouse\": \"m1bayes2\", \"log_firing_rate\": 1.7169835150389747, \"Firing rate\": 52.11749279584049, \"firing_rate\": 52.11749279584049, \"i_spike\": 39.5, \"isi\": 0.08666768128841056}, {\"neuron\": \"2\", \"mouse\": \"m1bayes\", \"i_trial\": 0, \"mouse_code\": 1, \"neuron_code\": 10, \"stim\": 1, \"neuron_x_mouse\": \"m1bayes2\", \"log_firing_rate\": 1.8979945056088576, \"Firing rate\": 79.06686249480924, \"firing_rate\": 79.06686249480924, \"i_spike\": 58.0, \"isi\": 0.05994639821654736}, {\"neuron\": \"2\", \"mouse\": \"m1bayes\", \"i_trial\": 1, \"mouse_code\": 1, \"neuron_code\": 10, \"stim\": 0, \"neuron_x_mouse\": \"m1bayes2\", \"log_firing_rate\": 1.7223263152687454, \"Firing rate\": 52.762615428677, \"firing_rate\": 52.762615428677, \"i_spike\": 49.0, \"isi\": 0.06812693897575157}, {\"neuron\": \"2\", \"mouse\": \"m1bayes\", \"i_trial\": 1, \"mouse_code\": 1, \"neuron_code\": 10, \"stim\": 1, \"neuron_x_mouse\": \"m1bayes2\", \"log_firing_rate\": 1.8785939921801489, \"Firing rate\": 75.61256871282642, \"firing_rate\": 75.61256871282642, \"i_spike\": 53.0, \"isi\": 0.06318203098583944}, {\"neuron\": \"2\", \"mouse\": \"m2bayes\", \"i_trial\": 0, \"mouse_code\": 2, \"neuron_code\": 18, \"stim\": 0, \"neuron_x_mouse\": \"m2bayes2\", \"log_firing_rate\": 2.002641504959028, \"Firing rate\": 100.61008246259158, \"firing_rate\": 100.61008246259158, \"i_spike\": 55.0, \"isi\": 0.06302668584508739}, {\"neuron\": \"2\", \"mouse\": \"m2bayes\", \"i_trial\": 0, \"mouse_code\": 2, \"neuron_code\": 18, \"stim\": 1, \"neuron_x_mouse\": \"m2bayes2\", \"log_firing_rate\": 1.8995748439190747, \"Firing rate\": 79.35510012028524, \"firing_rate\": 79.35510012028524, \"i_spike\": 52.0, \"isi\": 0.06484511819427957}, {\"neuron\": \"2\", \"mouse\": \"m2bayes\", \"i_trial\": 1, \"mouse_code\": 2, \"neuron_code\": 18, \"stim\": 0, \"neuron_x_mouse\": \"m2bayes2\", \"log_firing_rate\": 2.0049969116109327, \"Firing rate\": 101.1572260662123, \"firing_rate\": 101.1572260662123, \"i_spike\": 51.5, \"isi\": 0.06832045594913282}, {\"neuron\": \"2\", \"mouse\": \"m2bayes\", \"i_trial\": 1, \"mouse_code\": 2, \"neuron_code\": 18, \"stim\": 1, \"neuron_x_mouse\": \"m2bayes2\", \"log_firing_rate\": 1.8059264813980782, \"Firing rate\": 63.96265485206913, \"firing_rate\": 63.96265485206913, \"i_spike\": 65.0, \"isi\": 0.053230527408826736}, {\"neuron\": \"2\", \"mouse\": \"m3bayes\", \"i_trial\": 0, \"mouse_code\": 3, \"neuron_code\": 26, \"stim\": 0, \"neuron_x_mouse\": \"m3bayes2\", \"log_firing_rate\": 2.1599803462153746, \"Firing rate\": 144.5374359555287, \"firing_rate\": 144.5374359555287, \"i_spike\": 53.0, \"isi\": 0.0648899375709595}, {\"neuron\": \"2\", \"mouse\": \"m3bayes\", \"i_trial\": 0, \"mouse_code\": 3, \"neuron_code\": 26, \"stim\": 1, \"neuron_x_mouse\": \"m3bayes2\", \"log_firing_rate\": 1.8902272815797319, \"Firing rate\": 77.66534603688933, \"firing_rate\": 77.66534603688933, \"i_spike\": 40.5, \"isi\": 0.08706439762769974}, {\"neuron\": \"2\", \"mouse\": \"m3bayes\", \"i_trial\": 1, \"mouse_code\": 3, \"neuron_code\": 26, \"stim\": 0, \"neuron_x_mouse\": \"m3bayes2\", \"log_firing_rate\": 1.502319601674252, \"Firing rate\": 31.7921282465932, \"firing_rate\": 31.7921282465932, \"i_spike\": 39.0, \"isi\": 0.08839417654988843}, {\"neuron\": \"2\", \"mouse\": \"m3bayes\", \"i_trial\": 1, \"mouse_code\": 3, \"neuron_code\": 26, \"stim\": 1, \"neuron_x_mouse\": \"m3bayes2\", \"log_firing_rate\": 2.341732652510555, \"Firing rate\": 219.65073078256896, \"firing_rate\": 219.65073078256896, \"i_spike\": 62.0, \"isi\": 0.05494327537356546}, {\"neuron\": \"3\", \"mouse\": \"m0bayes\", \"i_trial\": 0, \"mouse_code\": 0, \"neuron_code\": 3, \"stim\": 0, \"neuron_x_mouse\": \"m0bayes3\", \"log_firing_rate\": 2.0878470240087186, \"Firing rate\": 122.41849161267469, \"firing_rate\": 122.41849161267469, \"i_spike\": 68.0, \"isi\": 0.05126558744185032}, {\"neuron\": \"3\", \"mouse\": \"m0bayes\", \"i_trial\": 0, \"mouse_code\": 0, \"neuron_code\": 3, \"stim\": 1, \"neuron_x_mouse\": \"m0bayes3\", \"log_firing_rate\": 1.8008482075238292, \"Firing rate\": 63.21908525127292, \"firing_rate\": 63.21908525127292, \"i_spike\": 49.5, \"isi\": 0.070945247441157}, {\"neuron\": \"3\", \"mouse\": \"m0bayes\", \"i_trial\": 1, \"mouse_code\": 0, \"neuron_code\": 3, \"stim\": 0, \"neuron_x_mouse\": \"m0bayes3\", \"log_firing_rate\": 1.8764791527450726, \"Firing rate\": 75.2452609641246, \"firing_rate\": 75.2452609641246, \"i_spike\": 50.5, \"isi\": 0.06710454389953688}, {\"neuron\": \"3\", \"mouse\": \"m0bayes\", \"i_trial\": 1, \"mouse_code\": 0, \"neuron_code\": 3, \"stim\": 1, \"neuron_x_mouse\": \"m0bayes3\", \"log_firing_rate\": 2.1578740149366666, \"Firing rate\": 143.83812557981852, \"firing_rate\": 143.83812557981852, \"i_spike\": 45.5, \"isi\": 0.07564995255112203}, {\"neuron\": \"3\", \"mouse\": \"m1bayes\", \"i_trial\": 0, \"mouse_code\": 1, \"neuron_code\": 11, \"stim\": 0, \"neuron_x_mouse\": \"m1bayes3\", \"log_firing_rate\": 1.764551781079963, \"Firing rate\": 58.1502760948866, \"firing_rate\": 58.1502760948866, \"i_spike\": 40.5, \"isi\": 0.08646292086133928}, {\"neuron\": \"3\", \"mouse\": \"m1bayes\", \"i_trial\": 0, \"mouse_code\": 1, \"neuron_code\": 11, \"stim\": 1, \"neuron_x_mouse\": \"m1bayes3\", \"log_firing_rate\": 2.042912387488892, \"Firing rate\": 110.3855910777275, \"firing_rate\": 110.3855910777275, \"i_spike\": 63.0, \"isi\": 0.05384964585210266}, {\"neuron\": \"3\", \"mouse\": \"m1bayes\", \"i_trial\": 1, \"mouse_code\": 1, \"neuron_code\": 11, \"stim\": 0, \"neuron_x_mouse\": \"m1bayes3\", \"log_firing_rate\": 2.2680323964824485, \"Firing rate\": 185.366989398218, \"firing_rate\": 185.366989398218, \"i_spike\": 49.0, \"isi\": 0.07206453762537264}, {\"neuron\": \"3\", \"mouse\": \"m1bayes\", \"i_trial\": 1, \"mouse_code\": 1, \"neuron_code\": 11, \"stim\": 1, \"neuron_x_mouse\": \"m1bayes3\", \"log_firing_rate\": 1.769897436911805, \"Firing rate\": 58.87046103169144, \"firing_rate\": 58.87046103169144, \"i_spike\": 46.5, \"isi\": 0.07528575955894831}, {\"neuron\": \"3\", \"mouse\": \"m2bayes\", \"i_trial\": 0, \"mouse_code\": 2, \"neuron_code\": 19, \"stim\": 0, \"neuron_x_mouse\": \"m2bayes3\", \"log_firing_rate\": 2.3322750730404374, \"Firing rate\": 214.91912959379198, \"firing_rate\": 214.91912959379198, \"i_spike\": 52.5, \"isi\": 0.06592742895274738}, {\"neuron\": \"3\", \"mouse\": \"m2bayes\", \"i_trial\": 0, \"mouse_code\": 2, \"neuron_code\": 19, \"stim\": 1, \"neuron_x_mouse\": \"m2bayes3\", \"log_firing_rate\": 2.2239100018855322, \"Firing rate\": 167.45958163950843, \"firing_rate\": 167.45958163950843, \"i_spike\": 63.5, \"isi\": 0.0552930710071807}, {\"neuron\": \"3\", \"mouse\": \"m2bayes\", \"i_trial\": 1, \"mouse_code\": 2, \"neuron_code\": 19, \"stim\": 0, \"neuron_x_mouse\": \"m2bayes3\", \"log_firing_rate\": 1.8090505119409652, \"Firing rate\": 64.42441919385375, \"firing_rate\": 64.42441919385375, \"i_spike\": 48.5, \"isi\": 0.07151099550762453}, {\"neuron\": \"3\", \"mouse\": \"m2bayes\", \"i_trial\": 1, \"mouse_code\": 2, \"neuron_code\": 19, \"stim\": 1, \"neuron_x_mouse\": \"m2bayes3\", \"log_firing_rate\": 1.7716311178765336, \"Firing rate\": 59.10593854192557, \"firing_rate\": 59.10593854192557, \"i_spike\": 50.5, \"isi\": 0.06924259736362397}, {\"neuron\": \"3\", \"mouse\": \"m3bayes\", \"i_trial\": 0, \"mouse_code\": 3, \"neuron_code\": 27, \"stim\": 0, \"neuron_x_mouse\": \"m3bayes3\", \"log_firing_rate\": 1.7499876312348388, \"Firing rate\": 56.23253098619576, \"firing_rate\": 56.23253098619576, \"i_spike\": 61.0, \"isi\": 0.05747461804305125}, {\"neuron\": \"3\", \"mouse\": \"m3bayes\", \"i_trial\": 0, \"mouse_code\": 3, \"neuron_code\": 27, \"stim\": 1, \"neuron_x_mouse\": \"m3bayes3\", \"log_firing_rate\": 2.5660602469713605, \"Firing rate\": 368.180045426956, \"firing_rate\": 368.180045426956, \"i_spike\": 70.5, \"isi\": 0.049791453867966316}, {\"neuron\": \"3\", \"mouse\": \"m3bayes\", \"i_trial\": 1, \"mouse_code\": 3, \"neuron_code\": 27, \"stim\": 0, \"neuron_x_mouse\": \"m3bayes3\", \"log_firing_rate\": 2.0701806612122042, \"Firing rate\": 117.53863996748814, \"firing_rate\": 117.53863996748814, \"i_spike\": 53.0, \"isi\": 0.06548404205290244}, {\"neuron\": \"3\", \"mouse\": \"m3bayes\", \"i_trial\": 1, \"mouse_code\": 3, \"neuron_code\": 27, \"stim\": 1, \"neuron_x_mouse\": \"m3bayes3\", \"log_firing_rate\": 2.27525802447552, \"Firing rate\": 188.4768541836973, \"firing_rate\": 188.4768541836973, \"i_spike\": 65.5, \"isi\": 0.05228981932015026}, {\"neuron\": \"4\", \"mouse\": \"m0bayes\", \"i_trial\": 0, \"mouse_code\": 0, \"neuron_code\": 4, \"stim\": 0, \"neuron_x_mouse\": \"m0bayes4\", \"log_firing_rate\": 1.7950285753057766, \"Firing rate\": 62.37758767591728, \"firing_rate\": 62.37758767591728, \"i_spike\": 46.5, \"isi\": 0.07563728564924767}, {\"neuron\": \"4\", \"mouse\": \"m0bayes\", \"i_trial\": 0, \"mouse_code\": 0, \"neuron_code\": 4, \"stim\": 1, \"neuron_x_mouse\": \"m0bayes4\", \"log_firing_rate\": 2.773570030079091, \"Firing rate\": 593.7040753836483, \"firing_rate\": 593.7040753836483, \"i_spike\": 69.0, \"isi\": 0.050896648091960685}, {\"neuron\": \"4\", \"mouse\": \"m0bayes\", \"i_trial\": 1, \"mouse_code\": 0, \"neuron_code\": 4, \"stim\": 0, \"neuron_x_mouse\": \"m0bayes4\", \"log_firing_rate\": 1.6651302941511086, \"Firing rate\": 46.25197626988177, \"firing_rate\": 46.25197626988177, \"i_spike\": 56.0, \"isi\": 0.06108144016224481}, {\"neuron\": \"4\", \"mouse\": \"m0bayes\", \"i_trial\": 1, \"mouse_code\": 0, \"neuron_code\": 4, \"stim\": 1, \"neuron_x_mouse\": \"m0bayes4\", \"log_firing_rate\": 1.8814995171026234, \"Firing rate\": 76.12012926161674, \"firing_rate\": 76.12012926161674, \"i_spike\": 55.0, \"isi\": 0.06336708201766757}, {\"neuron\": \"4\", \"mouse\": \"m1bayes\", \"i_trial\": 0, \"mouse_code\": 1, \"neuron_code\": 12, \"stim\": 0, \"neuron_x_mouse\": \"m1bayes4\", \"log_firing_rate\": 1.9277999437663815, \"Firing rate\": 84.68372316714694, \"firing_rate\": 84.68372316714694, \"i_spike\": 65.5, \"isi\": 0.05340013837621968}, {\"neuron\": \"4\", \"mouse\": \"m1bayes\", \"i_trial\": 0, \"mouse_code\": 1, \"neuron_code\": 12, \"stim\": 1, \"neuron_x_mouse\": \"m1bayes4\", \"log_firing_rate\": 2.364440734386574, \"Firing rate\": 231.44123302269045, \"firing_rate\": 231.44123302269045, \"i_spike\": 67.0, \"isi\": 0.05155123095442254}, {\"neuron\": \"4\", \"mouse\": \"m1bayes\", \"i_trial\": 1, \"mouse_code\": 1, \"neuron_code\": 12, \"stim\": 0, \"neuron_x_mouse\": \"m1bayes4\", \"log_firing_rate\": 2.7733883869796325, \"Firing rate\": 593.4558113517279, \"firing_rate\": 593.4558113517279, \"i_spike\": 67.0, \"isi\": 0.05210204252881482}, {\"neuron\": \"4\", \"mouse\": \"m1bayes\", \"i_trial\": 1, \"mouse_code\": 1, \"neuron_code\": 12, \"stim\": 1, \"neuron_x_mouse\": \"m1bayes4\", \"log_firing_rate\": 1.915367259641382, \"Firing rate\": 82.2938270711437, \"firing_rate\": 82.2938270711437, \"i_spike\": 64.0, \"isi\": 0.05486568957237675}, {\"neuron\": \"4\", \"mouse\": \"m2bayes\", \"i_trial\": 0, \"mouse_code\": 2, \"neuron_code\": 20, \"stim\": 0, \"neuron_x_mouse\": \"m2bayes4\", \"log_firing_rate\": 1.6170238992459474, \"Firing rate\": 41.40224578683514, \"firing_rate\": 41.40224578683514, \"i_spike\": 49.5, \"isi\": 0.07050671970459294}, {\"neuron\": \"4\", \"mouse\": \"m2bayes\", \"i_trial\": 0, \"mouse_code\": 2, \"neuron_code\": 20, \"stim\": 1, \"neuron_x_mouse\": \"m2bayes4\", \"log_firing_rate\": 1.8582265700752085, \"Firing rate\": 72.14837768513958, \"firing_rate\": 72.14837768513958, \"i_spike\": 58.0, \"isi\": 0.06028664048918777}, {\"neuron\": \"4\", \"mouse\": \"m2bayes\", \"i_trial\": 1, \"mouse_code\": 2, \"neuron_code\": 20, \"stim\": 0, \"neuron_x_mouse\": \"m2bayes4\", \"log_firing_rate\": 2.2216668074749686, \"Firing rate\": 166.59685841323582, \"firing_rate\": 166.59685841323582, \"i_spike\": 70.5, \"isi\": 0.0496072919034325}, {\"neuron\": \"4\", \"mouse\": \"m2bayes\", \"i_trial\": 1, \"mouse_code\": 2, \"neuron_code\": 20, \"stim\": 1, \"neuron_x_mouse\": \"m2bayes4\", \"log_firing_rate\": 1.8814646831984465, \"Firing rate\": 76.11402406096668, \"firing_rate\": 76.11402406096668, \"i_spike\": 51.5, \"isi\": 0.067751565766211}, {\"neuron\": \"4\", \"mouse\": \"m3bayes\", \"i_trial\": 0, \"mouse_code\": 3, \"neuron_code\": 28, \"stim\": 0, \"neuron_x_mouse\": \"m3bayes4\", \"log_firing_rate\": 2.207094583243229, \"Firing rate\": 161.09964493934794, \"firing_rate\": 161.09964493934794, \"i_spike\": 51.5, \"isi\": 0.0680199849945089}, {\"neuron\": \"4\", \"mouse\": \"m3bayes\", \"i_trial\": 0, \"mouse_code\": 3, \"neuron_code\": 28, \"stim\": 1, \"neuron_x_mouse\": \"m3bayes4\", \"log_firing_rate\": 2.0572927313246203, \"Firing rate\": 114.10186192238722, \"firing_rate\": 114.10186192238722, \"i_spike\": 60.0, \"isi\": 0.05595842149042881}, {\"neuron\": \"4\", \"mouse\": \"m3bayes\", \"i_trial\": 1, \"mouse_code\": 3, \"neuron_code\": 28, \"stim\": 0, \"neuron_x_mouse\": \"m3bayes4\", \"log_firing_rate\": 1.8668090162568758, \"Firing rate\": 73.58834169463414, \"firing_rate\": 73.58834169463414, \"i_spike\": 59.5, \"isi\": 0.058972976578692625}, {\"neuron\": \"4\", \"mouse\": \"m3bayes\", \"i_trial\": 1, \"mouse_code\": 3, \"neuron_code\": 28, \"stim\": 1, \"neuron_x_mouse\": \"m3bayes4\", \"log_firing_rate\": 1.9627811868036684, \"Firing rate\": 91.78700239979253, \"firing_rate\": 91.78700239979253, \"i_spike\": 50.0, \"isi\": 0.06891406547674722}, {\"neuron\": \"5\", \"mouse\": \"m0bayes\", \"i_trial\": 0, \"mouse_code\": 0, \"neuron_code\": 5, \"stim\": 0, \"neuron_x_mouse\": \"m0bayes5\", \"log_firing_rate\": 1.9917276885541593, \"Firing rate\": 98.11325601028874, \"firing_rate\": 98.11325601028874, \"i_spike\": 57.5, \"isi\": 0.05815187129408934}, {\"neuron\": \"5\", \"mouse\": \"m0bayes\", \"i_trial\": 0, \"mouse_code\": 0, \"neuron_code\": 5, \"stim\": 1, \"neuron_x_mouse\": \"m0bayes5\", \"log_firing_rate\": 1.9089890608452096, \"Firing rate\": 81.0940631352502, \"firing_rate\": 81.0940631352502, \"i_spike\": 67.0, \"isi\": 0.05144908093682945}, {\"neuron\": \"5\", \"mouse\": \"m0bayes\", \"i_trial\": 1, \"mouse_code\": 0, \"neuron_code\": 5, \"stim\": 0, \"neuron_x_mouse\": \"m0bayes5\", \"log_firing_rate\": 1.9626556565708508, \"Firing rate\": 91.76047574741204, \"firing_rate\": 91.76047574741204, \"i_spike\": 56.0, \"isi\": 0.06174898799573044}, {\"neuron\": \"5\", \"mouse\": \"m0bayes\", \"i_trial\": 1, \"mouse_code\": 0, \"neuron_code\": 5, \"stim\": 1, \"neuron_x_mouse\": \"m0bayes5\", \"log_firing_rate\": 2.0389134637006974, \"Firing rate\": 109.37384093129968, \"firing_rate\": 109.37384093129968, \"i_spike\": 60.5, \"isi\": 0.05788267820407816}, {\"neuron\": \"5\", \"mouse\": \"m1bayes\", \"i_trial\": 0, \"mouse_code\": 1, \"neuron_code\": 13, \"stim\": 0, \"neuron_x_mouse\": \"m1bayes5\", \"log_firing_rate\": 2.1452279125428446, \"Firing rate\": 139.71013507637258, \"firing_rate\": 139.71013507637258, \"i_spike\": 70.5, \"isi\": 0.04901132429819908}, {\"neuron\": \"5\", \"mouse\": \"m1bayes\", \"i_trial\": 0, \"mouse_code\": 1, \"neuron_code\": 13, \"stim\": 1, \"neuron_x_mouse\": \"m1bayes5\", \"log_firing_rate\": 2.1370594811164256, \"Firing rate\": 137.10695354448532, \"firing_rate\": 137.10695354448532, \"i_spike\": 52.5, \"isi\": 0.06512372579150713}, {\"neuron\": \"5\", \"mouse\": \"m1bayes\", \"i_trial\": 1, \"mouse_code\": 1, \"neuron_code\": 13, \"stim\": 0, \"neuron_x_mouse\": \"m1bayes5\", \"log_firing_rate\": 2.0385393530262452, \"Firing rate\": 109.2796645040827, \"firing_rate\": 109.2796645040827, \"i_spike\": 51.5, \"isi\": 0.06517028356364989}, {\"neuron\": \"5\", \"mouse\": \"m1bayes\", \"i_trial\": 1, \"mouse_code\": 1, \"neuron_code\": 13, \"stim\": 1, \"neuron_x_mouse\": \"m1bayes5\", \"log_firing_rate\": 2.2691626425381632, \"Firing rate\": 185.850032996572, \"firing_rate\": 185.850032996572, \"i_spike\": 60.5, \"isi\": 0.05825496083614049}, {\"neuron\": \"5\", \"mouse\": \"m2bayes\", \"i_trial\": 0, \"mouse_code\": 2, \"neuron_code\": 21, \"stim\": 0, \"neuron_x_mouse\": \"m2bayes5\", \"log_firing_rate\": 1.7464889371816055, \"Firing rate\": 55.78133927346422, \"firing_rate\": 55.78133927346422, \"i_spike\": 49.5, \"isi\": 0.07065029373925703}, {\"neuron\": \"5\", \"mouse\": \"m2bayes\", \"i_trial\": 0, \"mouse_code\": 2, \"neuron_code\": 21, \"stim\": 1, \"neuron_x_mouse\": \"m2bayes5\", \"log_firing_rate\": 1.9852087622413488, \"Firing rate\": 96.65153643442864, \"firing_rate\": 96.65153643442864, \"i_spike\": 72.5, \"isi\": 0.0477583044027138}, {\"neuron\": \"5\", \"mouse\": \"m2bayes\", \"i_trial\": 1, \"mouse_code\": 2, \"neuron_code\": 21, \"stim\": 0, \"neuron_x_mouse\": \"m2bayes5\", \"log_firing_rate\": 1.7311962202364806, \"Firing rate\": 53.851303517587255, \"firing_rate\": 53.851303517587255, \"i_spike\": 48.0, \"isi\": 0.07332743175439956}, {\"neuron\": \"5\", \"mouse\": \"m2bayes\", \"i_trial\": 1, \"mouse_code\": 2, \"neuron_code\": 21, \"stim\": 1, \"neuron_x_mouse\": \"m2bayes5\", \"log_firing_rate\": 2.333061874574417, \"Firing rate\": 215.3088466558246, \"firing_rate\": 215.3088466558246, \"i_spike\": 60.5, \"isi\": 0.05794052575643853}, {\"neuron\": \"5\", \"mouse\": \"m3bayes\", \"i_trial\": 0, \"mouse_code\": 3, \"neuron_code\": 29, \"stim\": 0, \"neuron_x_mouse\": \"m3bayes5\", \"log_firing_rate\": 2.8249463558782293, \"Firing rate\": 668.2613687225737, \"firing_rate\": 668.2613687225737, \"i_spike\": 63.0, \"isi\": 0.05575861945782135}, {\"neuron\": \"5\", \"mouse\": \"m3bayes\", \"i_trial\": 0, \"mouse_code\": 3, \"neuron_code\": 29, \"stim\": 1, \"neuron_x_mouse\": \"m3bayes5\", \"log_firing_rate\": 2.074489355929992, \"Firing rate\": 118.71056060618561, \"firing_rate\": 118.71056060618561, \"i_spike\": 58.0, \"isi\": 0.05623256733303583}, {\"neuron\": \"5\", \"mouse\": \"m3bayes\", \"i_trial\": 1, \"mouse_code\": 3, \"neuron_code\": 29, \"stim\": 0, \"neuron_x_mouse\": \"m3bayes5\", \"log_firing_rate\": 2.2709390840551102, \"Firing rate\": 186.61179230387975, \"firing_rate\": 186.61179230387975, \"i_spike\": 62.0, \"isi\": 0.05651361568408861}, {\"neuron\": \"5\", \"mouse\": \"m3bayes\", \"i_trial\": 1, \"mouse_code\": 3, \"neuron_code\": 29, \"stim\": 1, \"neuron_x_mouse\": \"m3bayes5\", \"log_firing_rate\": 2.362391855134205, \"Firing rate\": 230.35192989435356, \"firing_rate\": 230.35192989435356, \"i_spike\": 68.0, \"isi\": 0.05139495618190573}, {\"neuron\": \"6\", \"mouse\": \"m0bayes\", \"i_trial\": 0, \"mouse_code\": 0, \"neuron_code\": 6, \"stim\": 0, \"neuron_x_mouse\": \"m0bayes6\", \"log_firing_rate\": 3.0575419565300583, \"Firing rate\": 1141.6735946426795, \"firing_rate\": 1141.6735946426795, \"i_spike\": 67.5, \"isi\": 0.05166970146175502}, {\"neuron\": \"6\", \"mouse\": \"m0bayes\", \"i_trial\": 0, \"mouse_code\": 0, \"neuron_code\": 6, \"stim\": 1, \"neuron_x_mouse\": \"m0bayes6\", \"log_firing_rate\": 3.176933152244219, \"Firing rate\": 1502.9106163067886, \"firing_rate\": 1502.9106163067886, \"i_spike\": 64.5, \"isi\": 0.05383806569958572}, {\"neuron\": \"6\", \"mouse\": \"m0bayes\", \"i_trial\": 1, \"mouse_code\": 0, \"neuron_code\": 6, \"stim\": 0, \"neuron_x_mouse\": \"m0bayes6\", \"log_firing_rate\": 1.93279894599296, \"Firing rate\": 85.66411765616262, \"firing_rate\": 85.66411765616262, \"i_spike\": 63.5, \"isi\": 0.05484499967468083}, {\"neuron\": \"6\", \"mouse\": \"m0bayes\", \"i_trial\": 1, \"mouse_code\": 0, \"neuron_code\": 6, \"stim\": 1, \"neuron_x_mouse\": \"m0bayes6\", \"log_firing_rate\": 2.149601706265157, \"Firing rate\": 141.12426929204858, \"firing_rate\": 141.12426929204858, \"i_spike\": 79.0, \"isi\": 0.043937706550304184}, {\"neuron\": \"6\", \"mouse\": \"m1bayes\", \"i_trial\": 0, \"mouse_code\": 1, \"neuron_code\": 14, \"stim\": 0, \"neuron_x_mouse\": \"m1bayes6\", \"log_firing_rate\": 1.8413161042492852, \"Firing rate\": 69.39307045211179, \"firing_rate\": 69.39307045211179, \"i_spike\": 56.5, \"isi\": 0.06068169960633089}, {\"neuron\": \"6\", \"mouse\": \"m1bayes\", \"i_trial\": 0, \"mouse_code\": 1, \"neuron_code\": 14, \"stim\": 1, \"neuron_x_mouse\": \"m1bayes6\", \"log_firing_rate\": 2.750363047458854, \"Firing rate\": 562.8116096483018, \"firing_rate\": 562.8116096483018, \"i_spike\": 68.5, \"isi\": 0.049573354000072845}, {\"neuron\": \"6\", \"mouse\": \"m1bayes\", \"i_trial\": 1, \"mouse_code\": 1, \"neuron_code\": 14, \"stim\": 0, \"neuron_x_mouse\": \"m1bayes6\", \"log_firing_rate\": 1.7430462476535586, \"Firing rate\": 55.34090381403537, \"firing_rate\": 55.34090381403537, \"i_spike\": 55.5, \"isi\": 0.062226764165442414}, {\"neuron\": \"6\", \"mouse\": \"m1bayes\", \"i_trial\": 1, \"mouse_code\": 1, \"neuron_code\": 14, \"stim\": 1, \"neuron_x_mouse\": \"m1bayes6\", \"log_firing_rate\": 2.0284318702478235, \"Firing rate\": 106.76572911421171, \"firing_rate\": 106.76572911421171, \"i_spike\": 60.5, \"isi\": 0.058009303275344364}, {\"neuron\": \"6\", \"mouse\": \"m2bayes\", \"i_trial\": 0, \"mouse_code\": 2, \"neuron_code\": 22, \"stim\": 0, \"neuron_x_mouse\": \"m2bayes6\", \"log_firing_rate\": 1.8232132853109109, \"Firing rate\": 66.55999571304694, \"firing_rate\": 66.55999571304694, \"i_spike\": 59.5, \"isi\": 0.057265852449999134}, {\"neuron\": \"6\", \"mouse\": \"m2bayes\", \"i_trial\": 0, \"mouse_code\": 2, \"neuron_code\": 22, \"stim\": 1, \"neuron_x_mouse\": \"m2bayes6\", \"log_firing_rate\": 2.251435175356758, \"Firing rate\": 178.41656565025147, \"firing_rate\": 178.41656565025147, \"i_spike\": 61.0, \"isi\": 0.05752510343110919}, {\"neuron\": \"6\", \"mouse\": \"m2bayes\", \"i_trial\": 1, \"mouse_code\": 2, \"neuron_code\": 22, \"stim\": 0, \"neuron_x_mouse\": \"m2bayes6\", \"log_firing_rate\": 2.1239858141941745, \"Firing rate\": 133.04109606914352, \"firing_rate\": 133.04109606914352, \"i_spike\": 64.5, \"isi\": 0.054463092234331975}, {\"neuron\": \"6\", \"mouse\": \"m2bayes\", \"i_trial\": 1, \"mouse_code\": 2, \"neuron_code\": 22, \"stim\": 1, \"neuron_x_mouse\": \"m2bayes6\", \"log_firing_rate\": 1.6854162226447638, \"Firing rate\": 48.463661502788625, \"firing_rate\": 48.463661502788625, \"i_spike\": 57.5, \"isi\": 0.0610685851519076}, {\"neuron\": \"6\", \"mouse\": \"m3bayes\", \"i_trial\": 0, \"mouse_code\": 3, \"neuron_code\": 30, \"stim\": 0, \"neuron_x_mouse\": \"m3bayes6\", \"log_firing_rate\": 2.1914489135550363, \"Firing rate\": 155.39924825063164, \"firing_rate\": 155.39924825063164, \"i_spike\": 51.5, \"isi\": 0.06776753780428653}, {\"neuron\": \"6\", \"mouse\": \"m3bayes\", \"i_trial\": 0, \"mouse_code\": 3, \"neuron_code\": 30, \"stim\": 1, \"neuron_x_mouse\": \"m3bayes6\", \"log_firing_rate\": 2.2317663011481197, \"Firing rate\": 170.51645734279987, \"firing_rate\": 170.51645734279987, \"i_spike\": 55.0, \"isi\": 0.0640880220313598}, {\"neuron\": \"6\", \"mouse\": \"m3bayes\", \"i_trial\": 1, \"mouse_code\": 3, \"neuron_code\": 30, \"stim\": 0, \"neuron_x_mouse\": \"m3bayes6\", \"log_firing_rate\": 2.102223851708937, \"Firing rate\": 126.53884081827627, \"firing_rate\": 126.53884081827627, \"i_spike\": 71.5, \"isi\": 0.04858666547114935}, {\"neuron\": \"6\", \"mouse\": \"m3bayes\", \"i_trial\": 1, \"mouse_code\": 3, \"neuron_code\": 30, \"stim\": 1, \"neuron_x_mouse\": \"m3bayes6\", \"log_firing_rate\": 1.8855901811029634, \"Firing rate\": 76.84049981534083, \"firing_rate\": 76.84049981534083, \"i_spike\": 54.0, \"isi\": 0.06453812230027066}, {\"neuron\": \"7\", \"mouse\": \"m0bayes\", \"i_trial\": 0, \"mouse_code\": 0, \"neuron_code\": 7, \"stim\": 0, \"neuron_x_mouse\": \"m0bayes7\", \"log_firing_rate\": 2.130379479276751, \"Firing rate\": 135.01420989802958, \"firing_rate\": 135.01420989802958, \"i_spike\": 80.5, \"isi\": 0.04355916235899491}, {\"neuron\": \"7\", \"mouse\": \"m0bayes\", \"i_trial\": 0, \"mouse_code\": 0, \"neuron_code\": 7, \"stim\": 1, \"neuron_x_mouse\": \"m0bayes7\", \"log_firing_rate\": 2.196562740517664, \"Firing rate\": 157.23989332660597, \"firing_rate\": 157.23989332660597, \"i_spike\": 58.5, \"isi\": 0.05891191426366672}, {\"neuron\": \"7\", \"mouse\": \"m0bayes\", \"i_trial\": 1, \"mouse_code\": 0, \"neuron_code\": 7, \"stim\": 0, \"neuron_x_mouse\": \"m0bayes7\", \"log_firing_rate\": 2.555617307573849, \"Firing rate\": 359.43247019015905, \"firing_rate\": 359.43247019015905, \"i_spike\": 84.5, \"isi\": 0.04058175356324693}, {\"neuron\": \"7\", \"mouse\": \"m0bayes\", \"i_trial\": 1, \"mouse_code\": 0, \"neuron_code\": 7, \"stim\": 1, \"neuron_x_mouse\": \"m0bayes7\", \"log_firing_rate\": 2.260223012203532, \"Firing rate\": 182.06355232835082, \"firing_rate\": 182.06355232835082, \"i_spike\": 73.5, \"isi\": 0.04699612673308823}, {\"neuron\": \"7\", \"mouse\": \"m1bayes\", \"i_trial\": 0, \"mouse_code\": 1, \"neuron_code\": 15, \"stim\": 0, \"neuron_x_mouse\": \"m1bayes7\", \"log_firing_rate\": 2.1042374993073745, \"Firing rate\": 127.12691243909104, \"firing_rate\": 127.12691243909104, \"i_spike\": 72.0, \"isi\": 0.048845942275912}, {\"neuron\": \"7\", \"mouse\": \"m1bayes\", \"i_trial\": 0, \"mouse_code\": 1, \"neuron_code\": 15, \"stim\": 1, \"neuron_x_mouse\": \"m1bayes7\", \"log_firing_rate\": 2.192590695253181, \"Firing rate\": 155.8083380923737, \"firing_rate\": 155.8083380923737, \"i_spike\": 69.5, \"isi\": 0.05044034999306329}, {\"neuron\": \"7\", \"mouse\": \"m1bayes\", \"i_trial\": 1, \"mouse_code\": 1, \"neuron_code\": 15, \"stim\": 0, \"neuron_x_mouse\": \"m1bayes7\", \"log_firing_rate\": 2.3883718076818177, \"Firing rate\": 244.55233152881175, \"firing_rate\": 244.55233152881175, \"i_spike\": 77.0, \"isi\": 0.04464354615929677}, {\"neuron\": \"7\", \"mouse\": \"m1bayes\", \"i_trial\": 1, \"mouse_code\": 1, \"neuron_code\": 15, \"stim\": 1, \"neuron_x_mouse\": \"m1bayes7\", \"log_firing_rate\": 2.418600899828279, \"Firing rate\": 262.1808093710754, \"firing_rate\": 262.1808093710754, \"i_spike\": 75.0, \"isi\": 0.04656769529331771}, {\"neuron\": \"7\", \"mouse\": \"m2bayes\", \"i_trial\": 0, \"mouse_code\": 2, \"neuron_code\": 23, \"stim\": 0, \"neuron_x_mouse\": \"m2bayes7\", \"log_firing_rate\": 1.9905367944461123, \"Firing rate\": 97.84458474979326, \"firing_rate\": 97.84458474979326, \"i_spike\": 62.5, \"isi\": 0.05470783487578355}, {\"neuron\": \"7\", \"mouse\": \"m2bayes\", \"i_trial\": 0, \"mouse_code\": 2, \"neuron_code\": 23, \"stim\": 1, \"neuron_x_mouse\": \"m2bayes7\", \"log_firing_rate\": 2.459479045950411, \"Firing rate\": 288.057406309565, \"firing_rate\": 288.057406309565, \"i_spike\": 75.0, \"isi\": 0.04660563587581478}, {\"neuron\": \"7\", \"mouse\": \"m2bayes\", \"i_trial\": 1, \"mouse_code\": 2, \"neuron_code\": 23, \"stim\": 0, \"neuron_x_mouse\": \"m2bayes7\", \"log_firing_rate\": 2.002336366162094, \"Firing rate\": 100.53941783690804, \"firing_rate\": 100.53941783690804, \"i_spike\": 73.5, \"isi\": 0.04671691317335954}, {\"neuron\": \"7\", \"mouse\": \"m2bayes\", \"i_trial\": 1, \"mouse_code\": 2, \"neuron_code\": 23, \"stim\": 1, \"neuron_x_mouse\": \"m2bayes7\", \"log_firing_rate\": 2.1306250232576223, \"Firing rate\": 135.09056661343098, \"firing_rate\": 135.09056661343098, \"i_spike\": 80.0, \"isi\": 0.04378122679639699}, {\"neuron\": \"7\", \"mouse\": \"m3bayes\", \"i_trial\": 0, \"mouse_code\": 3, \"neuron_code\": 31, \"stim\": 0, \"neuron_x_mouse\": \"m3bayes7\", \"log_firing_rate\": 2.0894194474760273, \"Firing rate\": 122.8625281204537, \"firing_rate\": 122.8625281204537, \"i_spike\": 73.5, \"isi\": 0.04760730421158127}, {\"neuron\": \"7\", \"mouse\": \"m3bayes\", \"i_trial\": 0, \"mouse_code\": 3, \"neuron_code\": 31, \"stim\": 1, \"neuron_x_mouse\": \"m3bayes7\", \"log_firing_rate\": 1.844402324639834, \"Firing rate\": 69.88795370039374, \"firing_rate\": 69.88795370039374, \"i_spike\": 66.5, \"isi\": 0.05232505666408324}, {\"neuron\": \"7\", \"mouse\": \"m3bayes\", \"i_trial\": 1, \"mouse_code\": 3, \"neuron_code\": 31, \"stim\": 0, \"neuron_x_mouse\": \"m3bayes7\", \"log_firing_rate\": 1.8888862489398084, \"Firing rate\": 77.4258976173055, \"firing_rate\": 77.4258976173055, \"i_spike\": 66.0, \"isi\": 0.052451654798929166}, {\"neuron\": \"7\", \"mouse\": \"m3bayes\", \"i_trial\": 1, \"mouse_code\": 3, \"neuron_code\": 31, \"stim\": 1, \"neuron_x_mouse\": \"m3bayes7\", \"log_firing_rate\": 2.3054944771805, \"Firing rate\": 202.0665735503928, \"firing_rate\": 202.0665735503928, \"i_spike\": 73.0, \"isi\": 0.04776501326540826}]}}, {\"mode\": \"vega-lite\"});\n",
       "</script>"
      ],
      "text/plain": [
       "alt.LayerChart(...)"
      ]
     },
     "execution_count": 6,
     "metadata": {},
     "output_type": "execute_result"
    }
   ],
   "source": [
    "import altair as alt\n",
    "y='isi'\n",
    "color='mouse'\n",
    "x='neuron'\n",
    "\n",
    "base=alt.Chart(df).encode(\n",
    "            x=x,\n",
    "            color=f'{color}',\n",
    "            y=alt.Y(f'mean({y})',\n",
    "                    scale=alt.Scale(zero=False,\n",
    "                                    domain=list(np.quantile(df[y], [.05, .95])))),\n",
    ")\n",
    "\n",
    "# Create a selection that chooses the nearest point & selects based on x-value\n",
    "nearest = alt.selection(type='single', nearest=True, on='mouseover',\n",
    "                        fields=[x], empty='none')\n",
    "\n",
    "\n",
    "# Transparent selectors across the chart. This is what tells us\n",
    "# the x-value of the cursor\n",
    "selectors = alt.Chart(df).mark_point().encode(\n",
    "    x=x,\n",
    "    opacity=alt.value(0),\n",
    ").add_selection(\n",
    "    nearest\n",
    ")\n",
    "\n",
    "highlight = alt.selection(type='single', on='mouseover',\n",
    "                          fields=[color], nearest=True)\n",
    "\n",
    "lines=base.mark_line(clip=True, fill=None, opacity=.6, ).encode(\n",
    "            #tooltip=color,\n",
    "            size=alt.condition(~highlight, alt.value(1), alt.value(3))\n",
    "        )\n",
    "\n",
    "# Draw text labels near the points, and highlight based on selection\n",
    "text = lines.mark_text(align='left', dx=5, dy=-5).encode(\n",
    "    text=alt.condition(nearest, y, alt.value(' '))\n",
    ")\n",
    "\n",
    "points = base.mark_circle().encode(\n",
    "    opacity=alt.value(0)\n",
    ").add_selection(\n",
    "    highlight\n",
    ")\n",
    "\n",
    "alt.layer(\n",
    "    lines, selectors, points, text\n",
    ")"
   ]
  }
 ],
 "metadata": {
  "hide_code_all_hidden": false,
  "hide_input": false,
  "jupytext": {
   "formats": "ipynb,py:light"
  },
  "kernelspec": {
   "display_name": "Python 3",
   "language": "python",
   "name": "python"
  },
  "language_info": {
   "codemirror_mode": {
    "name": "ipython",
    "version": 3
   },
   "file_extension": ".py",
   "mimetype": "text/x-python",
   "name": "python",
   "nbconvert_exporter": "python",
   "pygments_lexer": "ipython3",
   "version": "3.8.10"
  }
 },
 "nbformat": 4,
 "nbformat_minor": 4
}