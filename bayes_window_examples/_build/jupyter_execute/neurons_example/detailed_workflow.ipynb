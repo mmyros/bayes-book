{
 "cells": [
  {
   "cell_type": "markdown",
   "metadata": {
    "hideCode": false,
    "hidePrompt": false
   },
   "source": [
    "# Neurons example via low-level, flexible interface\n",
    "## Prepare"
   ]
  },
  {
   "cell_type": "code",
   "execution_count": 1,
   "metadata": {
    "hideCode": false,
    "hidePrompt": false,
    "lines_to_next_cell": 2
   },
   "outputs": [],
   "source": [
    "from bayes_window import models\n",
    "from bayes_window.fitting import fit_numpyro\n",
    "from bayes_window.generative_models import generate_fake_spikes\n",
    "import numpy as np\n",
    "from sklearn.preprocessing import LabelEncoder\n",
    "\n",
    "trans = LabelEncoder().fit_transform"
   ]
  },
  {
   "cell_type": "markdown",
   "metadata": {
    "hideCode": false,
    "hidePrompt": false
   },
   "source": [
    "## Make some data\n"
   ]
  },
  {
   "cell_type": "code",
   "execution_count": 2,
   "metadata": {
    "hideCode": false,
    "hidePrompt": false
   },
   "outputs": [
    {
     "data": {
      "text/html": [
       "\n",
       "<div id=\"altair-viz-f8af518c255c491cbc3d4d4fb26179ea\"></div>\n",
       "<script type=\"text/javascript\">\n",
       "  (function(spec, embedOpt){\n",
       "    let outputDiv = document.currentScript.previousElementSibling;\n",
       "    if (outputDiv.id !== \"altair-viz-f8af518c255c491cbc3d4d4fb26179ea\") {\n",
       "      outputDiv = document.getElementById(\"altair-viz-f8af518c255c491cbc3d4d4fb26179ea\");\n",
       "    }\n",
       "    const paths = {\n",
       "      \"vega\": \"https://cdn.jsdelivr.net/npm//vega@5?noext\",\n",
       "      \"vega-lib\": \"https://cdn.jsdelivr.net/npm//vega-lib?noext\",\n",
       "      \"vega-lite\": \"https://cdn.jsdelivr.net/npm//vega-lite@4.8.1?noext\",\n",
       "      \"vega-embed\": \"https://cdn.jsdelivr.net/npm//vega-embed@6?noext\",\n",
       "    };\n",
       "\n",
       "    function loadScript(lib) {\n",
       "      return new Promise(function(resolve, reject) {\n",
       "        var s = document.createElement('script');\n",
       "        s.src = paths[lib];\n",
       "        s.async = true;\n",
       "        s.onload = () => resolve(paths[lib]);\n",
       "        s.onerror = () => reject(`Error loading script: ${paths[lib]}`);\n",
       "        document.getElementsByTagName(\"head\")[0].appendChild(s);\n",
       "      });\n",
       "    }\n",
       "\n",
       "    function showError(err) {\n",
       "      outputDiv.innerHTML = `<div class=\"error\" style=\"color:red;\">${err}</div>`;\n",
       "      throw err;\n",
       "    }\n",
       "\n",
       "    function displayChart(vegaEmbed) {\n",
       "      vegaEmbed(outputDiv, spec, embedOpt)\n",
       "        .catch(err => showError(`Javascript Error: ${err.message}<br>This usually means there's a typo in your chart specification. See the javascript console for the full traceback.`));\n",
       "    }\n",
       "\n",
       "    if(typeof define === \"function\" && define.amd) {\n",
       "      requirejs.config({paths});\n",
       "      require([\"vega-embed\"], displayChart, err => showError(`Error loading script: ${err.message}`));\n",
       "    } else if (typeof vegaEmbed === \"function\") {\n",
       "      displayChart(vegaEmbed);\n",
       "    } else {\n",
       "      loadScript(\"vega\")\n",
       "        .then(() => loadScript(\"vega-lite\"))\n",
       "        .then(() => loadScript(\"vega-embed\"))\n",
       "        .catch(showError)\n",
       "        .then(() => displayChart(vegaEmbed));\n",
       "    }\n",
       "  })({\"config\": {\"view\": {\"continuousWidth\": 400, \"continuousHeight\": 300}}, \"layer\": [{\"mark\": {\"type\": \"line\", \"clip\": true, \"fill\": null, \"opacity\": 0.8}, \"encoding\": {\"color\": {\"type\": \"nominal\", \"field\": \"mouse\"}, \"detail\": {\"type\": \"ordinal\", \"field\": \"\"}, \"size\": {\"value\": 1.0}, \"x\": {\"type\": \"ordinal\", \"field\": \"neuron\"}, \"y\": {\"type\": \"quantitative\", \"aggregate\": \"mean\", \"axis\": {\"orient\": \"right\"}, \"field\": \"isi diff\", \"scale\": {\"domain\": [0.7469205325330533, 1.1721610634999062], \"zero\": false}, \"title\": \"isi diff\"}}}, {\"mark\": {\"type\": \"circle\", \"clip\": true, \"filled\": true, \"opacity\": 0}, \"encoding\": {\"color\": {\"type\": \"nominal\", \"field\": \"mouse\"}, \"detail\": {\"type\": \"ordinal\", \"field\": \"\"}, \"x\": {\"type\": \"ordinal\", \"field\": \"neuron\"}, \"y\": {\"type\": \"quantitative\", \"aggregate\": \"mean\", \"axis\": {\"orient\": \"right\", \"title\": \"\"}, \"field\": \"isi diff\", \"scale\": {\"domain\": [0.7469205325330533, 1.1721610634999062], \"zero\": false}}}}, {\"mark\": {\"type\": \"boxplot\", \"clip\": true, \"color\": \"black\", \"median\": {\"color\": \"red\", \"strokeWidth\": 20}, \"opacity\": 0.3, \"size\": 9}, \"encoding\": {\"x\": {\"type\": \"ordinal\", \"field\": \"neuron\"}, \"y\": {\"type\": \"quantitative\", \"axis\": {\"orient\": \"right\", \"title\": \"\"}, \"field\": \"isi diff\", \"scale\": {\"domain\": [0.7469205325330533, 1.1721610634999062], \"zero\": false}}}}], \"data\": {\"name\": \"data-5068a4bf442fcd70f66bbd066dfa8d5a\"}, \"$schema\": \"https://vega.github.io/schema/vega-lite/v4.8.1.json\", \"datasets\": {\"data-5068a4bf442fcd70f66bbd066dfa8d5a\": [{\"mouse\": \"m0bayes\", \"neuron\": \"0\", \"isi diff\": 0.8654759828728554}, {\"mouse\": \"m0bayes\", \"neuron\": \"1\", \"isi diff\": 0.9927387167371603}, {\"mouse\": \"m0bayes\", \"neuron\": \"2\", \"isi diff\": 0.743548301462677}, {\"mouse\": \"m0bayes\", \"neuron\": \"3\", \"isi diff\": 1.2876057233232758}, {\"mouse\": \"m0bayes\", \"neuron\": \"4\", \"isi diff\": 0.9083957599701376}, {\"mouse\": \"m0bayes\", \"neuron\": \"5\", \"isi diff\": 1.027627877877909}, {\"mouse\": \"m0bayes\", \"neuron\": \"6\", \"isi diff\": 0.8496788995388215}, {\"mouse\": \"m0bayes\", \"neuron\": \"7\", \"isi diff\": 0.8957859597784685}, {\"mouse\": \"m1bayes\", \"neuron\": \"0\", \"isi diff\": 0.8117185272740663}, {\"mouse\": \"m1bayes\", \"neuron\": \"1\", \"isi diff\": 1.0348613350537215}, {\"mouse\": \"m1bayes\", \"neuron\": \"2\", \"isi diff\": 0.9963091963967222}, {\"mouse\": \"m1bayes\", \"neuron\": \"3\", \"isi diff\": 1.0777063418262405}, {\"mouse\": \"m1bayes\", \"neuron\": \"4\", \"isi diff\": 0.7644666170216964}, {\"mouse\": \"m1bayes\", \"neuron\": \"5\", \"isi diff\": 0.9967810711434452}, {\"mouse\": \"m1bayes\", \"neuron\": \"6\", \"isi diff\": 1.0172670876272705}, {\"mouse\": \"m1bayes\", \"neuron\": \"7\", \"isi diff\": 1.3548417170593177}, {\"mouse\": \"m2bayes\", \"neuron\": \"0\", \"isi diff\": 0.7496796306815431}, {\"mouse\": \"m2bayes\", \"neuron\": \"1\", \"isi diff\": 0.9155063003266332}, {\"mouse\": \"m2bayes\", \"neuron\": \"2\", \"isi diff\": 0.8378801050141015}, {\"mouse\": \"m2bayes\", \"neuron\": \"3\", \"isi diff\": 0.8779659720646401}, {\"mouse\": \"m2bayes\", \"neuron\": \"4\", \"isi diff\": 0.9367175364311492}, {\"mouse\": \"m2bayes\", \"neuron\": \"5\", \"isi diff\": 0.845114140199604}, {\"mouse\": \"m2bayes\", \"neuron\": \"6\", \"isi diff\": 0.7363713118962081}, {\"mouse\": \"m2bayes\", \"neuron\": \"7\", \"isi diff\": 0.9107288047178597}, {\"mouse\": \"m3bayes\", \"neuron\": \"0\", \"isi diff\": 0.7883627628383907}, {\"mouse\": \"m3bayes\", \"neuron\": \"1\", \"isi diff\": 0.8229982610941776}, {\"mouse\": \"m3bayes\", \"neuron\": \"2\", \"isi diff\": 0.8810240561319026}, {\"mouse\": \"m3bayes\", \"neuron\": \"3\", \"isi diff\": 0.8556652353908315}, {\"mouse\": \"m3bayes\", \"neuron\": \"4\", \"isi diff\": 0.9879004922117072}, {\"mouse\": \"m3bayes\", \"neuron\": \"5\", \"isi diff\": 1.023143488223472}, {\"mouse\": \"m3bayes\", \"neuron\": \"6\", \"isi diff\": 0.9240122038837382}, {\"mouse\": \"m3bayes\", \"neuron\": \"7\", \"isi diff\": 1.013785972520162}]}}, {\"mode\": \"vega-lite\"});\n",
       "</script>"
      ],
      "text/plain": [
       "alt.LayerChart(...)"
      ]
     },
     "execution_count": 2,
     "metadata": {},
     "output_type": "execute_result"
    }
   ],
   "source": [
    "df, df_monster, index_cols, firing_rates = generate_fake_spikes(n_trials=2,\n",
    "                                                                n_neurons=8,\n",
    "                                                                n_mice=4,\n",
    "                                                                dur=7, )\n",
    "\n",
    "\n",
    "# df['log_isi'] = np.log10(df['isi'])\n",
    "\n",
    "from bayes_window import visualization, utils\n",
    "from importlib import reload\n",
    "\n",
    "reload(visualization)\n",
    "reload(utils)\n",
    "y = 'isi'\n",
    "ddf, dy = utils.make_fold_change(df,\n",
    "                                 y=y,\n",
    "                                 index_cols=('stim', 'mouse', 'neuron'),\n",
    "                                 treatment_name='stim',\n",
    "                                 do_take_mean=True)\n",
    "\n",
    "visualization.plot_data(x='neuron', y=dy, color='mouse',  df=ddf)[0]"
   ]
  },
  {
   "cell_type": "markdown",
   "metadata": {},
   "source": [
    "TODO leave axis labels here somehow"
   ]
  },
  {
   "cell_type": "markdown",
   "metadata": {
    "hideCode": false,
    "hidePrompt": false
   },
   "source": [
    "\n",
    "## Estimate model"
   ]
  },
  {
   "cell_type": "code",
   "execution_count": 3,
   "metadata": {
    "hideCode": false,
    "hidePrompt": false
   },
   "outputs": [
    {
     "name": "stderr",
     "output_type": "stream",
     "text": [
      "2021-12-03 15:57:45.422159: E external/org_tensorflow/tensorflow/stream_executor/cuda/cuda_driver.cc:271] failed call to cuInit: CUDA_ERROR_COMPAT_NOT_SUPPORTED_ON_DEVICE: forward compatibility was attempted on non supported HW\n",
      "2021-12-03 15:57:45.422296: E external/org_tensorflow/tensorflow/stream_executor/cuda/cuda_diagnostics.cc:313] kernel version 450.142.0 does not match DSO version 450.156.0 -- cannot find working devices in this configuration\n"
     ]
    },
    {
     "name": "stderr",
     "output_type": "stream",
     "text": [
      "\r",
      "  0%|                                                                                                                                                                                     | 0/1100 [00:00<?, ?it/s]"
     ]
    },
    {
     "name": "stderr",
     "output_type": "stream",
     "text": [
      "\r",
      "warmup:   0%|                                                                                                                         | 1/1100 [00:05<1:33:57,  5.13s/it, 7 steps of size 3.98e-02. acc. prob=1.00]"
     ]
    },
    {
     "name": "stderr",
     "output_type": "stream",
     "text": [
      "\r",
      "warmup:   4%|████▊                                                                                                                  | 45/1100 [00:05<01:27, 12.11it/s, 1023 steps of size 7.17e-03. acc. prob=0.97]"
     ]
    },
    {
     "name": "stderr",
     "output_type": "stream",
     "text": [
      "\r",
      "warmup:   7%|████████▎                                                                                                              | 77/1100 [00:05<00:43, 23.56it/s, 1023 steps of size 8.22e-03. acc. prob=0.98]"
     ]
    },
    {
     "name": "stderr",
     "output_type": "stream",
     "text": [
      "\r",
      "warmup:  10%|███████████▊                                                                                                          | 110/1100 [00:05<00:25, 39.00it/s, 1023 steps of size 1.43e-02. acc. prob=0.97]"
     ]
    },
    {
     "name": "stderr",
     "output_type": "stream",
     "text": [
      "\r",
      "warmup:  13%|███████████████▏                                                                                                      | 141/1100 [00:05<00:16, 57.18it/s, 1023 steps of size 1.76e-02. acc. prob=0.98]"
     ]
    },
    {
     "name": "stderr",
     "output_type": "stream",
     "text": [
      "\r",
      "warmup:  18%|████████████████████▉                                                                                                  | 194/1100 [00:05<00:09, 98.55it/s, 127 steps of size 1.13e-02. acc. prob=0.98]"
     ]
    },
    {
     "name": "stderr",
     "output_type": "stream",
     "text": [
      "\r",
      "warmup:  25%|█████████████████████████████▋                                                                                        | 277/1100 [00:05<00:04, 179.81it/s, 511 steps of size 1.03e-02. acc. prob=0.98]"
     ]
    },
    {
     "name": "stderr",
     "output_type": "stream",
     "text": [
      "\r",
      "warmup:  32%|█████████████████████████████████████▍                                                                                | 349/1100 [00:05<00:02, 253.52it/s, 255 steps of size 9.55e-03. acc. prob=0.98]"
     ]
    },
    {
     "name": "stderr",
     "output_type": "stream",
     "text": [
      "\r",
      "warmup:  38%|█████████████████████████████████████████████▎                                                                        | 422/1100 [00:05<00:02, 330.90it/s, 511 steps of size 7.09e-03. acc. prob=0.98]"
     ]
    },
    {
     "name": "stderr",
     "output_type": "stream",
     "text": [
      "\r",
      "warmup:  44%|████████████████████████████████████████████████████                                                                  | 485/1100 [00:06<00:01, 382.84it/s, 511 steps of size 9.32e-03. acc. prob=0.99]"
     ]
    },
    {
     "name": "stderr",
     "output_type": "stream",
     "text": [
      "\r",
      "warmup:  51%|████████████████████████████████████████████████████████████▌                                                         | 565/1100 [00:06<00:01, 470.68it/s, 255 steps of size 1.03e-02. acc. prob=0.99]"
     ]
    },
    {
     "name": "stderr",
     "output_type": "stream",
     "text": [
      "\r",
      "warmup:  58%|███████████████████████████████████████████████████████████████████▉                                                  | 633/1100 [00:06<00:00, 509.26it/s, 255 steps of size 9.07e-03. acc. prob=0.99]"
     ]
    },
    {
     "name": "stderr",
     "output_type": "stream",
     "text": [
      "\r",
      "warmup:  65%|████████████████████████████████████████████████████████████████████████████▎                                         | 711/1100 [00:06<00:00, 575.26it/s, 511 steps of size 1.13e-02. acc. prob=0.99]"
     ]
    },
    {
     "name": "stderr",
     "output_type": "stream",
     "text": [
      "\r",
      "warmup:  73%|██████████████████████████████████████████████████████████████████████████████████████▋                               | 808/1100 [00:06<00:00, 677.09it/s, 255 steps of size 1.27e-02. acc. prob=0.99]"
     ]
    },
    {
     "name": "stderr",
     "output_type": "stream",
     "text": [
      "\r",
      "warmup:  82%|█████████████████████████████████████████████████████████████████████████████████████████████████                     | 905/1100 [00:06<00:00, 755.74it/s, 127 steps of size 1.22e-02. acc. prob=0.99]"
     ]
    },
    {
     "name": "stderr",
     "output_type": "stream",
     "text": [
      "\r",
      "warmup:  91%|███████████████████████████████████████████████████████████████████████████████████████████████████████████           | 998/1100 [00:06<00:00, 800.95it/s, 511 steps of size 1.15e-02. acc. prob=0.99]"
     ]
    },
    {
     "name": "stderr",
     "output_type": "stream",
     "text": [
      "\r",
      "sample:  99%|███████████████████████████████████████████████████████████████████████████████████████████████████████████████████▎ | 1084/1100 [00:06<00:00, 804.26it/s, 255 steps of size 1.20e-02. acc. prob=0.99]"
     ]
    },
    {
     "name": "stderr",
     "output_type": "stream",
     "text": [
      "\r",
      "sample: 100%|█████████████████████████████████████████████████████████████████████████████████████████████████████████████████████| 1100/1100 [00:06<00:00, 162.30it/s, 255 steps of size 1.20e-02. acc. prob=0.99]"
     ]
    },
    {
     "name": "stderr",
     "output_type": "stream",
     "text": [
      "\n"
     ]
    }
   ],
   "source": [
    "# y = list(set(df.columns) - set(index_cols))[0]\n",
    "trace = fit_numpyro(y=df[y].values,\n",
    "                    treatment=(df['stim']).astype(int).values,\n",
    "                    condition=trans(df['neuron']),\n",
    "                    group=trans(df['mouse']),\n",
    "                    progress_bar=True,\n",
    "                    model=models.model_hierarchical,\n",
    "                    n_draws=100, num_chains=1, )"
   ]
  },
  {
   "cell_type": "markdown",
   "metadata": {
    "hideCode": false,
    "hidePrompt": false
   },
   "source": [
    "## Add data back "
   ]
  },
  {
   "cell_type": "code",
   "execution_count": 4,
   "metadata": {
    "hideCode": false,
    "hidePrompt": false
   },
   "outputs": [],
   "source": [
    "# reload(utils)\n",
    "# df_both, trace = utils.add_data_to_posterior(df, posterior=trace.posterior, y=y,\n",
    "#                                              fold_change_index_cols=['neuron', 'stim', 'mouse_code', ],\n",
    "#                                              treatment_name='stim', b_name='slope_per_condition',\n",
    "#                                              posterior_index_name='neuron', group_name='mouse')\n",
    "#\n",
    "# + [markdown] hideCode=false hidePrompt=false\n",
    "# # ## Plot data and posterior\n",
    "#\n",
    "# + hideCode=false hidePrompt=false\n",
    "# # BayesWindow.regression_charts(df_both, y=f'{y} diff', x='neuron',color='mouse_code',title=y,hold_for_facet=False,add_box=False)\n",
    "# reload(visualization)\n",
    "#\n",
    "# chart_d, _ = visualization.plot_data(df=df_both, x='neuron', y=f'{y} diff', color='mouse_code', highlight=False)\n",
    "# chart_d\n",
    "#\n",
    "# + hideCode=false hidePrompt=false\n",
    "# chart_p = visualization.plot_posterior(df=df_both, title=f'd_{y}', x='neuron', )\n",
    "# chart_p\n",
    "#\n",
    "# + hideCode=false hidePrompt=false\n",
    "# (chart_d + chart_p).resolve_scale(y='independent')\n",
    "#\n",
    "# + hideCode=false hidePrompt=false\n",
    "# (chart_d + chart_p).facet(column='neuron')"
   ]
  },
  {
   "cell_type": "markdown",
   "metadata": {},
   "source": [
    "## Appendix: Elements of interactivity (WIP)"
   ]
  },
  {
   "cell_type": "code",
   "execution_count": 5,
   "metadata": {},
   "outputs": [
    {
     "data": {
      "text/html": [
       "\n",
       "<div id=\"altair-viz-727d130585714694884a04de4afc6e8a\"></div>\n",
       "<script type=\"text/javascript\">\n",
       "  (function(spec, embedOpt){\n",
       "    let outputDiv = document.currentScript.previousElementSibling;\n",
       "    if (outputDiv.id !== \"altair-viz-727d130585714694884a04de4afc6e8a\") {\n",
       "      outputDiv = document.getElementById(\"altair-viz-727d130585714694884a04de4afc6e8a\");\n",
       "    }\n",
       "    const paths = {\n",
       "      \"vega\": \"https://cdn.jsdelivr.net/npm//vega@5?noext\",\n",
       "      \"vega-lib\": \"https://cdn.jsdelivr.net/npm//vega-lib?noext\",\n",
       "      \"vega-lite\": \"https://cdn.jsdelivr.net/npm//vega-lite@4.8.1?noext\",\n",
       "      \"vega-embed\": \"https://cdn.jsdelivr.net/npm//vega-embed@6?noext\",\n",
       "    };\n",
       "\n",
       "    function loadScript(lib) {\n",
       "      return new Promise(function(resolve, reject) {\n",
       "        var s = document.createElement('script');\n",
       "        s.src = paths[lib];\n",
       "        s.async = true;\n",
       "        s.onload = () => resolve(paths[lib]);\n",
       "        s.onerror = () => reject(`Error loading script: ${paths[lib]}`);\n",
       "        document.getElementsByTagName(\"head\")[0].appendChild(s);\n",
       "      });\n",
       "    }\n",
       "\n",
       "    function showError(err) {\n",
       "      outputDiv.innerHTML = `<div class=\"error\" style=\"color:red;\">${err}</div>`;\n",
       "      throw err;\n",
       "    }\n",
       "\n",
       "    function displayChart(vegaEmbed) {\n",
       "      vegaEmbed(outputDiv, spec, embedOpt)\n",
       "        .catch(err => showError(`Javascript Error: ${err.message}<br>This usually means there's a typo in your chart specification. See the javascript console for the full traceback.`));\n",
       "    }\n",
       "\n",
       "    if(typeof define === \"function\" && define.amd) {\n",
       "      requirejs.config({paths});\n",
       "      require([\"vega-embed\"], displayChart, err => showError(`Error loading script: ${err.message}`));\n",
       "    } else if (typeof vegaEmbed === \"function\") {\n",
       "      displayChart(vegaEmbed);\n",
       "    } else {\n",
       "      loadScript(\"vega\")\n",
       "        .then(() => loadScript(\"vega-lite\"))\n",
       "        .then(() => loadScript(\"vega-embed\"))\n",
       "        .catch(showError)\n",
       "        .then(() => displayChart(vegaEmbed));\n",
       "    }\n",
       "  })({\"config\": {\"view\": {\"continuousWidth\": 400, \"continuousHeight\": 300}}, \"layer\": [{\"mark\": {\"type\": \"line\", \"clip\": true, \"fill\": null, \"opacity\": 0.6}, \"encoding\": {\"color\": {\"type\": \"nominal\", \"field\": \"mouse\"}, \"size\": {\"condition\": {\"value\": 1, \"selection\": {\"not\": \"selector001\"}}, \"value\": 3}, \"x\": {\"type\": \"nominal\", \"field\": \"neuron\"}, \"y\": {\"type\": \"quantitative\", \"aggregate\": \"mean\", \"field\": \"isi\", \"scale\": {\"domain\": [0.04737511267305425, 0.09047234104048732], \"zero\": false}}}}, {\"mark\": \"circle\", \"encoding\": {\"color\": {\"type\": \"nominal\", \"field\": \"mouse\"}, \"opacity\": {\"value\": 0}, \"x\": {\"type\": \"nominal\", \"field\": \"neuron\"}, \"y\": {\"type\": \"quantitative\", \"aggregate\": \"mean\", \"field\": \"isi\", \"scale\": {\"domain\": [0.04737511267305425, 0.09047234104048732], \"zero\": false}}}, \"selection\": {\"selector001\": {\"type\": \"single\", \"on\": \"mouseover\", \"fields\": [\"mouse\"], \"nearest\": true}}}], \"data\": {\"name\": \"data-9c3efca071d2600518d50baf824326ab\"}, \"$schema\": \"https://vega.github.io/schema/vega-lite/v4.8.1.json\", \"datasets\": {\"data-9c3efca071d2600518d50baf824326ab\": [{\"neuron_x_mouse\": \"m0bayes0\", \"i_trial\": 0, \"neuron\": \"0\", \"mouse\": \"m0bayes\", \"mouse_code\": 0, \"neuron_code\": 0, \"stim\": 0, \"log_firing_rate\": 2.3866197027794893, \"Firing rate\": 243.5677042962139, \"firing_rate\": 243.5677042962139, \"i_spike\": 41.5, \"isi\": 0.08450379592509444}, {\"neuron_x_mouse\": \"m0bayes0\", \"i_trial\": 0, \"neuron\": \"0\", \"mouse\": \"m0bayes\", \"mouse_code\": 0, \"neuron_code\": 0, \"stim\": 1, \"log_firing_rate\": 2.160689964179353, \"Firing rate\": 144.77379677843504, \"firing_rate\": 144.77379677843504, \"i_spike\": 49.5, \"isi\": 0.06981530051056058}, {\"neuron_x_mouse\": \"m0bayes0\", \"i_trial\": 1, \"neuron\": \"0\", \"mouse\": \"m0bayes\", \"mouse_code\": 0, \"neuron_code\": 0, \"stim\": 0, \"log_firing_rate\": 1.530738667707239, \"Firing rate\": 33.942096800793486, \"firing_rate\": 33.942096800793486, \"i_spike\": 34.0, \"isi\": 0.10324303734871737}, {\"neuron_x_mouse\": \"m0bayes0\", \"i_trial\": 1, \"neuron\": \"0\", \"mouse\": \"m0bayes\", \"mouse_code\": 0, \"neuron_code\": 0, \"stim\": 1, \"log_firing_rate\": 1.6254935778881234, \"Firing rate\": 42.21760360941194, \"firing_rate\": 42.21760360941194, \"i_spike\": 38.0, \"isi\": 0.09267507454835781}, {\"neuron_x_mouse\": \"m0bayes1\", \"i_trial\": 0, \"neuron\": \"1\", \"mouse\": \"m0bayes\", \"mouse_code\": 0, \"neuron_code\": 1, \"stim\": 0, \"log_firing_rate\": 2.484478118333679, \"Firing rate\": 305.12522897561985, \"firing_rate\": 305.12522897561985, \"i_spike\": 49.5, \"isi\": 0.06987686762909194}, {\"neuron_x_mouse\": \"m0bayes1\", \"i_trial\": 0, \"neuron\": \"1\", \"mouse\": \"m0bayes\", \"mouse_code\": 0, \"neuron_code\": 1, \"stim\": 1, \"log_firing_rate\": 1.5513728859550593, \"Firing rate\": 35.593679532553566, \"firing_rate\": 35.593679532553566, \"i_spike\": 40.0, \"isi\": 0.08658438835784248}, {\"neuron_x_mouse\": \"m0bayes1\", \"i_trial\": 1, \"neuron\": \"1\", \"mouse\": \"m0bayes\", \"mouse_code\": 0, \"neuron_code\": 1, \"stim\": 0, \"log_firing_rate\": 2.0269879869405165, \"Firing rate\": 106.41135832738233, \"firing_rate\": 106.41135832738233, \"i_spike\": 49.0, \"isi\": 0.07043848262516612}, {\"neuron_x_mouse\": \"m0bayes1\", \"i_trial\": 1, \"neuron\": \"1\", \"mouse\": \"m0bayes\", \"mouse_code\": 0, \"neuron_code\": 1, \"stim\": 1, \"log_firing_rate\": 2.092392988853844, \"Firing rate\": 123.7066336425256, \"firing_rate\": 123.7066336425256, \"i_spike\": 65.0, \"isi\": 0.05271209239209486}, {\"neuron_x_mouse\": \"m0bayes2\", \"i_trial\": 0, \"neuron\": \"2\", \"mouse\": \"m0bayes\", \"mouse_code\": 0, \"neuron_code\": 2, \"stim\": 0, \"log_firing_rate\": 1.697702167943827, \"Firing rate\": 49.85424779195764, \"firing_rate\": 49.85424779195764, \"i_spike\": 41.0, \"isi\": 0.08551270853625578}, {\"neuron_x_mouse\": \"m0bayes2\", \"i_trial\": 0, \"neuron\": \"2\", \"mouse\": \"m0bayes\", \"mouse_code\": 0, \"neuron_code\": 2, \"stim\": 1, \"log_firing_rate\": 1.9357988200855836, \"Firing rate\": 86.25788794499807, \"firing_rate\": 86.25788794499807, \"i_spike\": 50.0, \"isi\": 0.06849741484002116}, {\"neuron_x_mouse\": \"m0bayes2\", \"i_trial\": 1, \"neuron\": \"2\", \"mouse\": \"m0bayes\", \"mouse_code\": 0, \"neuron_code\": 2, \"stim\": 0, \"log_firing_rate\": 1.6231463615022454, \"Firing rate\": 41.99004707276861, \"firing_rate\": 41.99004707276861, \"i_spike\": 33.5, \"isi\": 0.09835199743358695}, {\"neuron_x_mouse\": \"m0bayes2\", \"i_trial\": 1, \"neuron\": \"2\", \"mouse\": \"m0bayes\", \"mouse_code\": 0, \"neuron_code\": 2, \"stim\": 1, \"log_firing_rate\": 2.1368586995577696, \"Firing rate\": 137.0435813707416, \"firing_rate\": 137.0435813707416, \"i_spike\": 51.5, \"isi\": 0.06821487498278991}, {\"neuron_x_mouse\": \"m0bayes3\", \"i_trial\": 0, \"neuron\": \"3\", \"mouse\": \"m0bayes\", \"mouse_code\": 0, \"neuron_code\": 3, \"stim\": 0, \"log_firing_rate\": 2.068372960563932, \"Firing rate\": 117.05041574004629, \"firing_rate\": 117.05041574004629, \"i_spike\": 60.5, \"isi\": 0.05721835888995684}, {\"neuron_x_mouse\": \"m0bayes3\", \"i_trial\": 0, \"neuron\": \"3\", \"mouse\": \"m0bayes\", \"mouse_code\": 0, \"neuron_code\": 3, \"stim\": 1, \"log_firing_rate\": 2.3634195427463607, \"Firing rate\": 230.89766590329836, \"firing_rate\": 230.89766590329836, \"i_spike\": 51.5, \"isi\": 0.06607641565560397}, {\"neuron_x_mouse\": \"m0bayes3\", \"i_trial\": 1, \"neuron\": \"3\", \"mouse\": \"m0bayes\", \"mouse_code\": 0, \"neuron_code\": 3, \"stim\": 0, \"log_firing_rate\": 1.9710704764365674, \"Firing rate\": 93.55574822195109, \"firing_rate\": 93.55574822195109, \"i_spike\": 57.0, \"isi\": 0.06078117932707194}, {\"neuron_x_mouse\": \"m0bayes3\", \"i_trial\": 1, \"neuron\": \"3\", \"mouse\": \"m0bayes\", \"mouse_code\": 0, \"neuron_code\": 3, \"stim\": 1, \"log_firing_rate\": 1.8732376457093565, \"Firing rate\": 74.6857326547331, \"firing_rate\": 74.6857326547331, \"i_spike\": 40.0, \"isi\": 0.08586046510214589}, {\"neuron_x_mouse\": \"m0bayes4\", \"i_trial\": 0, \"neuron\": \"4\", \"mouse\": \"m0bayes\", \"mouse_code\": 0, \"neuron_code\": 4, \"stim\": 0, \"log_firing_rate\": 1.861968343651618, \"Firing rate\": 72.77267575552233, \"firing_rate\": 72.77267575552233, \"i_spike\": 55.0, \"isi\": 0.06326712009689191}, {\"neuron_x_mouse\": \"m0bayes4\", \"i_trial\": 0, \"neuron\": \"4\", \"mouse\": \"m0bayes\", \"mouse_code\": 0, \"neuron_code\": 4, \"stim\": 1, \"log_firing_rate\": 2.0585932804012104, \"Firing rate\": 114.44406633230666, \"firing_rate\": 114.44406633230666, \"i_spike\": 64.5, \"isi\": 0.05417803630392091}, {\"neuron_x_mouse\": \"m0bayes4\", \"i_trial\": 1, \"neuron\": \"4\", \"mouse\": \"m0bayes\", \"mouse_code\": 0, \"neuron_code\": 4, \"stim\": 0, \"log_firing_rate\": 2.0385300352744258, \"Firing rate\": 109.27731994316348, \"firing_rate\": 109.27731994316348, \"i_spike\": 58.0, \"isi\": 0.05940032774397272}, {\"neuron_x_mouse\": \"m0bayes4\", \"i_trial\": 1, \"neuron\": \"4\", \"mouse\": \"m0bayes\", \"mouse_code\": 0, \"neuron_code\": 4, \"stim\": 1, \"log_firing_rate\": 2.10363733035332, \"Firing rate\": 126.95135199761545, \"firing_rate\": 126.95135199761545, \"i_spike\": 61.5, \"isi\": 0.05725255320107851}, {\"neuron_x_mouse\": \"m0bayes5\", \"i_trial\": 0, \"neuron\": \"5\", \"mouse\": \"m0bayes\", \"mouse_code\": 0, \"neuron_code\": 5, \"stim\": 0, \"log_firing_rate\": 1.9155612377640856, \"Firing rate\": 82.33059191221966, \"firing_rate\": 82.33059191221966, \"i_spike\": 69.5, \"isi\": 0.04932082419096044}, {\"neuron_x_mouse\": \"m0bayes5\", \"i_trial\": 0, \"neuron\": \"5\", \"mouse\": \"m0bayes\", \"mouse_code\": 0, \"neuron_code\": 5, \"stim\": 1, \"log_firing_rate\": 1.980047962862571, \"Firing rate\": 95.5098059863346, \"firing_rate\": 95.5098059863346, \"i_spike\": 63.5, \"isi\": 0.054359415780208066}, {\"neuron_x_mouse\": \"m0bayes5\", \"i_trial\": 1, \"neuron\": \"5\", \"mouse\": \"m0bayes\", \"mouse_code\": 0, \"neuron_code\": 5, \"stim\": 0, \"log_firing_rate\": 2.034544489396462, \"Firing rate\": 108.2790631190816, \"firing_rate\": 108.2790631190816, \"i_spike\": 52.0, \"isi\": 0.06768625814811417}, {\"neuron_x_mouse\": \"m0bayes5\", \"i_trial\": 1, \"neuron\": \"5\", \"mouse\": \"m0bayes\", \"mouse_code\": 0, \"neuron_code\": 5, \"stim\": 1, \"log_firing_rate\": 1.895634710039731, \"Firing rate\": 78.63840749798332, \"firing_rate\": 78.63840749798332, \"i_spike\": 52.0, \"isi\": 0.06588032394058095}, {\"neuron_x_mouse\": \"m0bayes6\", \"i_trial\": 0, \"neuron\": \"6\", \"mouse\": \"m0bayes\", \"mouse_code\": 0, \"neuron_code\": 6, \"stim\": 0, \"log_firing_rate\": 1.9359478870575573, \"Firing rate\": 86.28750013136906, \"firing_rate\": 86.28750013136906, \"i_spike\": 60.0, \"isi\": 0.058212129627979746}, {\"neuron_x_mouse\": \"m0bayes6\", \"i_trial\": 0, \"neuron\": \"6\", \"mouse\": \"m0bayes\", \"mouse_code\": 0, \"neuron_code\": 6, \"stim\": 1, \"log_firing_rate\": 2.0407681062842395, \"Firing rate\": 109.84191763949373, \"firing_rate\": 109.84191763949373, \"i_spike\": 74.0, \"isi\": 0.04704908110868989}, {\"neuron_x_mouse\": \"m0bayes6\", \"i_trial\": 1, \"neuron\": \"6\", \"mouse\": \"m0bayes\", \"mouse_code\": 0, \"neuron_code\": 6, \"stim\": 0, \"log_firing_rate\": 2.1306474635347183, \"Firing rate\": 135.0975470108216, \"firing_rate\": 135.0975470108216, \"i_spike\": 66.0, \"isi\": 0.05293584719381047}, {\"neuron_x_mouse\": \"m0bayes6\", \"i_trial\": 1, \"neuron\": \"6\", \"mouse\": \"m0bayes\", \"mouse_code\": 0, \"neuron_code\": 6, \"stim\": 1, \"log_firing_rate\": 1.8148833963800541, \"Firing rate\": 65.29552173229754, \"firing_rate\": 65.29552173229754, \"i_spike\": 73.5, \"isi\": 0.04739100952321525}, {\"neuron_x_mouse\": \"m0bayes7\", \"i_trial\": 0, \"neuron\": \"7\", \"mouse\": \"m0bayes\", \"mouse_code\": 0, \"neuron_code\": 7, \"stim\": 0, \"log_firing_rate\": 2.5726525692349833, \"Firing rate\": 373.81142363407275, \"firing_rate\": 373.81142363407275, \"i_spike\": 66.0, \"isi\": 0.052308933953068855}, {\"neuron_x_mouse\": \"m0bayes7\", \"i_trial\": 0, \"neuron\": \"7\", \"mouse\": \"m0bayes\", \"mouse_code\": 0, \"neuron_code\": 7, \"stim\": 1, \"log_firing_rate\": 2.277225262394314, \"Firing rate\": 189.3325405064992, \"firing_rate\": 189.3325405064992, \"i_spike\": 68.5, \"isi\": 0.05120279611613783}, {\"neuron_x_mouse\": \"m0bayes7\", \"i_trial\": 1, \"neuron\": \"7\", \"mouse\": \"m0bayes\", \"mouse_code\": 0, \"neuron_code\": 7, \"stim\": 0, \"log_firing_rate\": 2.1829212329296714, \"Firing rate\": 152.37763646421587, \"firing_rate\": 152.37763646421587, \"i_spike\": 59.5, \"isi\": 0.057727786170535554}, {\"neuron_x_mouse\": \"m0bayes7\", \"i_trial\": 1, \"neuron\": \"7\", \"mouse\": \"m0bayes\", \"mouse_code\": 0, \"neuron_code\": 7, \"stim\": 1, \"log_firing_rate\": 1.7802055189905672, \"Firing rate\": 60.28447997925935, \"firing_rate\": 60.28447997925935, \"i_spike\": 73.0, \"isi\": 0.04736655283065986}, {\"neuron_x_mouse\": \"m1bayes0\", \"i_trial\": 0, \"neuron\": \"0\", \"mouse\": \"m1bayes\", \"mouse_code\": 1, \"neuron_code\": 8, \"stim\": 0, \"log_firing_rate\": 2.082392232200257, \"Firing rate\": 120.89051625181412, \"firing_rate\": 120.89051625181412, \"i_spike\": 38.0, \"isi\": 0.09223175376351996}, {\"neuron_x_mouse\": \"m1bayes0\", \"i_trial\": 0, \"neuron\": \"0\", \"mouse\": \"m1bayes\", \"mouse_code\": 1, \"neuron_code\": 8, \"stim\": 1, \"log_firing_rate\": 1.7013594628566135, \"Firing rate\": 50.27585474959819, \"firing_rate\": 50.27585474959819, \"i_spike\": 37.5, \"isi\": 0.09260808868203463}, {\"neuron_x_mouse\": \"m1bayes0\", \"i_trial\": 1, \"neuron\": \"0\", \"mouse\": \"m1bayes\", \"mouse_code\": 1, \"neuron_code\": 8, \"stim\": 0, \"log_firing_rate\": 1.7048500622092235, \"Firing rate\": 50.68157027216017, \"firing_rate\": 50.68157027216017, \"i_spike\": 35.5, \"isi\": 0.09569027657215694}, {\"neuron_x_mouse\": \"m1bayes0\", \"i_trial\": 1, \"neuron\": \"0\", \"mouse\": \"m1bayes\", \"mouse_code\": 1, \"neuron_code\": 8, \"stim\": 1, \"log_firing_rate\": 1.9584334624015698, \"Firing rate\": 90.8727063705614, \"firing_rate\": 90.8727063705614, \"i_spike\": 57.0, \"isi\": 0.059931705024393434}, {\"neuron_x_mouse\": \"m1bayes1\", \"i_trial\": 0, \"neuron\": \"1\", \"mouse\": \"m1bayes\", \"mouse_code\": 1, \"neuron_code\": 9, \"stim\": 0, \"log_firing_rate\": 2.0126089436533783, \"Firing rate\": 102.9458736623089, \"firing_rate\": 102.9458736623089, \"i_spike\": 53.5, \"isi\": 0.06497635601254814}, {\"neuron_x_mouse\": \"m1bayes1\", \"i_trial\": 0, \"neuron\": \"1\", \"mouse\": \"m1bayes\", \"mouse_code\": 1, \"neuron_code\": 9, \"stim\": 1, \"log_firing_rate\": 1.925707124347642, \"Firing rate\": 84.27662288878224, \"firing_rate\": 84.27662288878224, \"i_spike\": 43.0, \"isi\": 0.08168673544023343}, {\"neuron_x_mouse\": \"m1bayes1\", \"i_trial\": 1, \"neuron\": \"1\", \"mouse\": \"m1bayes\", \"mouse_code\": 1, \"neuron_code\": 9, \"stim\": 0, \"log_firing_rate\": 1.7663583379385561, \"Firing rate\": 58.39267055852651, \"firing_rate\": 58.39267055852651, \"i_spike\": 41.5, \"isi\": 0.08480064081307827}, {\"neuron_x_mouse\": \"m1bayes1\", \"i_trial\": 1, \"neuron\": \"1\", \"mouse\": \"m1bayes\", \"mouse_code\": 1, \"neuron_code\": 9, \"stim\": 1, \"log_firing_rate\": 1.7877026498218498, \"Firing rate\": 61.33419220503222, \"firing_rate\": 61.33419220503222, \"i_spike\": 46.5, \"isi\": 0.07331168745507131}, {\"neuron_x_mouse\": \"m1bayes2\", \"i_trial\": 0, \"neuron\": \"2\", \"mouse\": \"m1bayes\", \"mouse_code\": 1, \"neuron_code\": 10, \"stim\": 0, \"log_firing_rate\": 1.8393139135001042, \"Firing rate\": 69.07388981841858, \"firing_rate\": 69.07388981841858, \"i_spike\": 53.5, \"isi\": 0.06480789782638686}, {\"neuron_x_mouse\": \"m1bayes2\", \"i_trial\": 0, \"neuron\": \"2\", \"mouse\": \"m1bayes\", \"mouse_code\": 1, \"neuron_code\": 10, \"stim\": 1, \"log_firing_rate\": 1.7111297897980424, \"Firing rate\": 51.419729754120915, \"firing_rate\": 51.419729754120915, \"i_spike\": 46.0, \"isi\": 0.07669427885077723}, {\"neuron_x_mouse\": \"m1bayes2\", \"i_trial\": 1, \"neuron\": \"2\", \"mouse\": \"m1bayes\", \"mouse_code\": 1, \"neuron_code\": 10, \"stim\": 0, \"log_firing_rate\": 1.7688760393370002, \"Firing rate\": 58.73216893879053, \"firing_rate\": 58.73216893879053, \"i_spike\": 44.0, \"isi\": 0.07928611054550325}, {\"neuron_x_mouse\": \"m1bayes2\", \"i_trial\": 1, \"neuron\": \"2\", \"mouse\": \"m1bayes\", \"mouse_code\": 1, \"neuron_code\": 10, \"stim\": 1, \"log_firing_rate\": 1.7724611651643527, \"Firing rate\": 59.21901305628221, \"firing_rate\": 59.21901305628221, \"i_spike\": 51.5, \"isi\": 0.06686790683580318}, {\"neuron_x_mouse\": \"m1bayes3\", \"i_trial\": 0, \"neuron\": \"3\", \"mouse\": \"m1bayes\", \"mouse_code\": 1, \"neuron_code\": 11, \"stim\": 0, \"log_firing_rate\": 1.7598666337584654, \"Firing rate\": 57.52632542741942, \"firing_rate\": 57.52632542741942, \"i_spike\": 47.0, \"isi\": 0.07283962525572556}, {\"neuron_x_mouse\": \"m1bayes3\", \"i_trial\": 0, \"neuron\": \"3\", \"mouse\": \"m1bayes\", \"mouse_code\": 1, \"neuron_code\": 11, \"stim\": 1, \"log_firing_rate\": 1.8091972408252082, \"Firing rate\": 64.44618903110087, \"firing_rate\": 64.44618903110087, \"i_spike\": 41.0, \"isi\": 0.08193698504733346}, {\"neuron_x_mouse\": \"m1bayes3\", \"i_trial\": 1, \"neuron\": \"3\", \"mouse\": \"m1bayes\", \"mouse_code\": 1, \"neuron_code\": 11, \"stim\": 0, \"log_firing_rate\": 1.7550851703856236, \"Firing rate\": 56.89645007038576, \"firing_rate\": 56.89645007038576, \"i_spike\": 49.5, \"isi\": 0.06884247324249565}, {\"neuron_x_mouse\": \"m1bayes3\", \"i_trial\": 1, \"neuron\": \"3\", \"mouse\": \"m1bayes\", \"mouse_code\": 1, \"neuron_code\": 11, \"stim\": 1, \"log_firing_rate\": 1.7881369564277658, \"Firing rate\": 61.39555878851167, \"firing_rate\": 61.39555878851167, \"i_spike\": 49.0, \"isi\": 0.07075471102744961}, {\"neuron_x_mouse\": \"m1bayes4\", \"i_trial\": 0, \"neuron\": \"4\", \"mouse\": \"m1bayes\", \"mouse_code\": 1, \"neuron_code\": 12, \"stim\": 0, \"log_firing_rate\": 1.6966793364418307, \"Firing rate\": 49.73697138912479, \"firing_rate\": 49.73697138912479, \"i_spike\": 47.5, \"isi\": 0.07219247299257676}, {\"neuron_x_mouse\": \"m1bayes4\", \"i_trial\": 0, \"neuron\": \"4\", \"mouse\": \"m1bayes\", \"mouse_code\": 1, \"neuron_code\": 12, \"stim\": 1, \"log_firing_rate\": 3.0746862605565126, \"Firing rate\": 1187.643949496775, \"firing_rate\": 1187.643949496775, \"i_spike\": 68.0, \"isi\": 0.051520024082019486}, {\"neuron_x_mouse\": \"m1bayes4\", \"i_trial\": 1, \"neuron\": \"4\", \"mouse\": \"m1bayes\", \"mouse_code\": 1, \"neuron_code\": 12, \"stim\": 0, \"log_firing_rate\": 2.7321417522899076, \"Firing rate\": 539.6867457485902, \"firing_rate\": 539.6867457485902, \"i_spike\": 51.0, \"isi\": 0.06842724852715745}, {\"neuron_x_mouse\": \"m1bayes4\", \"i_trial\": 1, \"neuron\": \"4\", \"mouse\": \"m1bayes\", \"mouse_code\": 1, \"neuron_code\": 12, \"stim\": 1, \"log_firing_rate\": 1.8829271832282015, \"Firing rate\": 76.37077244019387, \"firing_rate\": 76.37077244019387, \"i_spike\": 62.5, \"isi\": 0.05597905871470478}, {\"neuron_x_mouse\": \"m1bayes5\", \"i_trial\": 0, \"neuron\": \"5\", \"mouse\": \"m1bayes\", \"mouse_code\": 1, \"neuron_code\": 13, \"stim\": 0, \"log_firing_rate\": 2.0868577564124626, \"Firing rate\": 122.13995521363326, \"firing_rate\": 122.13995521363326, \"i_spike\": 62.5, \"isi\": 0.055750741739441285}, {\"neuron_x_mouse\": \"m1bayes5\", \"i_trial\": 0, \"neuron\": \"5\", \"mouse\": \"m1bayes\", \"mouse_code\": 1, \"neuron_code\": 13, \"stim\": 1, \"log_firing_rate\": 2.0143338383671034, \"Firing rate\": 103.35555856152719, \"firing_rate\": 103.35555856152719, \"i_spike\": 52.0, \"isi\": 0.06768759246250679}, {\"neuron_x_mouse\": \"m1bayes5\", \"i_trial\": 1, \"neuron\": \"5\", \"mouse\": \"m1bayes\", \"mouse_code\": 1, \"neuron_code\": 13, \"stim\": 0, \"log_firing_rate\": 2.1973446697777193, \"Firing rate\": 157.52325226540685, \"firing_rate\": 157.52325226540685, \"i_spike\": 48.0, \"isi\": 0.07198166134690737}, {\"neuron_x_mouse\": \"m1bayes5\", \"i_trial\": 1, \"neuron\": \"5\", \"mouse\": \"m1bayes\", \"mouse_code\": 1, \"neuron_code\": 13, \"stim\": 1, \"log_firing_rate\": 2.241656139661559, \"Firing rate\": 174.44404144285724, \"firing_rate\": 174.44404144285724, \"i_spike\": 58.5, \"isi\": 0.059633649105630106}, {\"neuron_x_mouse\": \"m1bayes6\", \"i_trial\": 0, \"neuron\": \"6\", \"mouse\": \"m1bayes\", \"mouse_code\": 1, \"neuron_code\": 14, \"stim\": 0, \"log_firing_rate\": 2.043903007615032, \"Firing rate\": 110.63766657208117, \"firing_rate\": 110.63766657208117, \"i_spike\": 63.5, \"isi\": 0.05506015269326977}, {\"neuron_x_mouse\": \"m1bayes6\", \"i_trial\": 0, \"neuron\": \"6\", \"mouse\": \"m1bayes\", \"mouse_code\": 1, \"neuron_code\": 14, \"stim\": 1, \"log_firing_rate\": 2.2601815953849287, \"Firing rate\": 182.0461905291703, \"firing_rate\": 182.0461905291703, \"i_spike\": 54.5, \"isi\": 0.06339979611485304}, {\"neuron_x_mouse\": \"m1bayes6\", \"i_trial\": 1, \"neuron\": \"6\", \"mouse\": \"m1bayes\", \"mouse_code\": 1, \"neuron_code\": 14, \"stim\": 0, \"log_firing_rate\": 1.858681090511193, \"Firing rate\": 72.2239256819658, \"firing_rate\": 72.2239256819658, \"i_spike\": 61.5, \"isi\": 0.056845795429115414}, {\"neuron_x_mouse\": \"m1bayes6\", \"i_trial\": 1, \"neuron\": \"6\", \"mouse\": \"m1bayes\", \"mouse_code\": 1, \"neuron_code\": 14, \"stim\": 1, \"log_firing_rate\": 2.2167324203259566, \"Firing rate\": 164.71472302889214, \"firing_rate\": 164.71472302889214, \"i_spike\": 69.0, \"isi\": 0.05043844181977416}, {\"neuron_x_mouse\": \"m1bayes7\", \"i_trial\": 0, \"neuron\": \"7\", \"mouse\": \"m1bayes\", \"mouse_code\": 1, \"neuron_code\": 15, \"stim\": 0, \"log_firing_rate\": 2.326025888011811, \"Firing rate\": 211.84874131426517, \"firing_rate\": 211.84874131426517, \"i_spike\": 90.5, \"isi\": 0.03858123549461317}, {\"neuron_x_mouse\": \"m1bayes7\", \"i_trial\": 0, \"neuron\": \"7\", \"mouse\": \"m1bayes\", \"mouse_code\": 1, \"neuron_code\": 15, \"stim\": 1, \"log_firing_rate\": 1.8484620269572214, \"Firing rate\": 70.54431601113916, \"firing_rate\": 70.54431601113916, \"i_spike\": 63.0, \"isi\": 0.05592680489562145}, {\"neuron_x_mouse\": \"m1bayes7\", \"i_trial\": 1, \"neuron\": \"7\", \"mouse\": \"m1bayes\", \"mouse_code\": 1, \"neuron_code\": 15, \"stim\": 0, \"log_firing_rate\": 2.0601876737149474, \"Firing rate\": 114.8649885734583, \"firing_rate\": 114.8649885734583, \"i_spike\": 78.0, \"isi\": 0.04418097206372716}, {\"neuron_x_mouse\": \"m1bayes7\", \"i_trial\": 1, \"neuron\": \"7\", \"mouse\": \"m1bayes\", \"mouse_code\": 1, \"neuron_code\": 15, \"stim\": 1, \"log_firing_rate\": 1.7004267477899617, \"Firing rate\": 50.16799538197522, \"firing_rate\": 50.16799538197522, \"i_spike\": 61.5, \"isi\": 0.05620288650034}, {\"neuron_x_mouse\": \"m2bayes0\", \"i_trial\": 0, \"neuron\": \"0\", \"mouse\": \"m2bayes\", \"mouse_code\": 2, \"neuron_code\": 16, \"stim\": 0, \"log_firing_rate\": 1.6385397464902887, \"Firing rate\": 43.505057449643104, \"firing_rate\": 43.505057449643104, \"i_spike\": 39.5, \"isi\": 0.08720486026914112}, {\"neuron_x_mouse\": \"m2bayes0\", \"i_trial\": 0, \"neuron\": \"0\", \"mouse\": \"m2bayes\", \"mouse_code\": 2, \"neuron_code\": 16, \"stim\": 1, \"log_firing_rate\": 1.8944189295184946, \"Firing rate\": 78.41857199506222, \"firing_rate\": 78.41857199506222, \"i_spike\": 59.5, \"isi\": 0.05802310451104899}, {\"neuron_x_mouse\": \"m2bayes0\", \"i_trial\": 1, \"neuron\": \"0\", \"mouse\": \"m2bayes\", \"mouse_code\": 2, \"neuron_code\": 16, \"stim\": 0, \"log_firing_rate\": 2.106976193423323, \"Firing rate\": 127.93111746587486, \"firing_rate\": 127.93111746587486, \"i_spike\": 42.5, \"isi\": 0.08067923379611616}, {\"neuron_x_mouse\": \"m2bayes0\", \"i_trial\": 1, \"neuron\": \"0\", \"mouse\": \"m2bayes\", \"mouse_code\": 2, \"neuron_code\": 16, \"stim\": 1, \"log_firing_rate\": 1.7120179442386552, \"Firing rate\": 51.524993330898944, \"firing_rate\": 51.524993330898944, \"i_spike\": 50.5, \"isi\": 0.06783618112509854}, {\"neuron_x_mouse\": \"m2bayes1\", \"i_trial\": 0, \"neuron\": \"1\", \"mouse\": \"m2bayes\", \"mouse_code\": 2, \"neuron_code\": 17, \"stim\": 0, \"log_firing_rate\": 2.114677599677443, \"Firing rate\": 130.21997261434558, \"firing_rate\": 130.21997261434558, \"i_spike\": 49.0, \"isi\": 0.07055674794336682}, {\"neuron_x_mouse\": \"m2bayes1\", \"i_trial\": 0, \"neuron\": \"1\", \"mouse\": \"m2bayes\", \"mouse_code\": 2, \"neuron_code\": 17, \"stim\": 1, \"log_firing_rate\": 1.6268301556076923, \"Firing rate\": 42.34773196571751, \"firing_rate\": 42.34773196571751, \"i_spike\": 52.5, \"isi\": 0.06596170789081288}, {\"neuron_x_mouse\": \"m2bayes1\", \"i_trial\": 1, \"neuron\": \"1\", \"mouse\": \"m2bayes\", \"mouse_code\": 2, \"neuron_code\": 17, \"stim\": 0, \"log_firing_rate\": 2.0714320394614307, \"Firing rate\": 117.8778047818278, \"firing_rate\": 117.8778047818278, \"i_spike\": 47.0, \"isi\": 0.06927256013982007}, {\"neuron_x_mouse\": \"m2bayes1\", \"i_trial\": 1, \"neuron\": \"1\", \"mouse\": \"m2bayes\", \"mouse_code\": 2, \"neuron_code\": 17, \"stim\": 1, \"log_firing_rate\": 2.0081553873408104, \"Firing rate\": 101.89558976948366, \"firing_rate\": 101.89558976948366, \"i_spike\": 56.0, \"isi\": 0.06205290462965855}, {\"neuron_x_mouse\": \"m2bayes2\", \"i_trial\": 0, \"neuron\": \"2\", \"mouse\": \"m2bayes\", \"mouse_code\": 2, \"neuron_code\": 18, \"stim\": 0, \"log_firing_rate\": 2.0866500171196822, \"Firing rate\": 122.0815450761589, \"firing_rate\": 122.0815450761589, \"i_spike\": 54.5, \"isi\": 0.06443590342293065}, {\"neuron_x_mouse\": \"m2bayes2\", \"i_trial\": 0, \"neuron\": \"2\", \"mouse\": \"m2bayes\", \"mouse_code\": 2, \"neuron_code\": 18, \"stim\": 1, \"log_firing_rate\": 1.6578184383685046, \"Firing rate\": 45.479788709309055, \"firing_rate\": 45.479788709309055, \"i_spike\": 47.0, \"isi\": 0.07500567764258687}, {\"neuron_x_mouse\": \"m2bayes2\", \"i_trial\": 1, \"neuron\": \"2\", \"mouse\": \"m2bayes\", \"mouse_code\": 2, \"neuron_code\": 18, \"stim\": 0, \"log_firing_rate\": 1.7989912563623627, \"Firing rate\": 62.949350915588326, \"firing_rate\": 62.949350915588326, \"i_spike\": 33.0, \"isi\": 0.10415780427635592}, {\"neuron_x_mouse\": \"m2bayes2\", \"i_trial\": 1, \"neuron\": \"2\", \"mouse\": \"m2bayes\", \"mouse_code\": 2, \"neuron_code\": 18, \"stim\": 1, \"log_firing_rate\": 2.4472614566934405, \"Firing rate\": 280.0666887286495, \"firing_rate\": 280.0666887286495, \"i_spike\": 52.0, \"isi\": 0.06625563586920807}, {\"neuron_x_mouse\": \"m2bayes3\", \"i_trial\": 0, \"neuron\": \"3\", \"mouse\": \"m2bayes\", \"mouse_code\": 2, \"neuron_code\": 19, \"stim\": 0, \"log_firing_rate\": 1.7563679596755049, \"Firing rate\": 57.06475534892398, \"firing_rate\": 57.06475534892398, \"i_spike\": 40.5, \"isi\": 0.08589509673181792}, {\"neuron_x_mouse\": \"m2bayes3\", \"i_trial\": 0, \"neuron\": \"3\", \"mouse\": \"m2bayes\", \"mouse_code\": 2, \"neuron_code\": 19, \"stim\": 1, \"log_firing_rate\": 2.098790264739742, \"Firing rate\": 125.54235314649652, \"firing_rate\": 125.54235314649652, \"i_spike\": 48.0, \"isi\": 0.07326811352149644}, {\"neuron_x_mouse\": \"m2bayes3\", \"i_trial\": 1, \"neuron\": \"3\", \"mouse\": \"m2bayes\", \"mouse_code\": 2, \"neuron_code\": 19, \"stim\": 0, \"log_firing_rate\": 2.016263363381515, \"Firing rate\": 103.81577810779977, \"firing_rate\": 103.81577810779977, \"i_spike\": 51.5, \"isi\": 0.06664004300775929}, {\"neuron_x_mouse\": \"m2bayes3\", \"i_trial\": 1, \"neuron\": \"3\", \"mouse\": \"m2bayes\", \"mouse_code\": 2, \"neuron_code\": 19, \"stim\": 1, \"log_firing_rate\": 2.119667034401986, \"Firing rate\": 131.7246442678392, \"firing_rate\": 131.7246442678392, \"i_spike\": 58.0, \"isi\": 0.0606525487139772}, {\"neuron_x_mouse\": \"m2bayes4\", \"i_trial\": 0, \"neuron\": \"4\", \"mouse\": \"m2bayes\", \"mouse_code\": 2, \"neuron_code\": 20, \"stim\": 0, \"log_firing_rate\": 1.9448063110770812, \"Firing rate\": 88.06560258352772, \"firing_rate\": 88.06560258352772, \"i_spike\": 57.0, \"isi\": 0.06028112355546829}, {\"neuron_x_mouse\": \"m2bayes4\", \"i_trial\": 0, \"neuron\": \"4\", \"mouse\": \"m2bayes\", \"mouse_code\": 2, \"neuron_code\": 20, \"stim\": 1, \"log_firing_rate\": 1.9636623463401004, \"Firing rate\": 91.97342221603316, \"firing_rate\": 91.97342221603316, \"i_spike\": 54.0, \"isi\": 0.06379197191245778}, {\"neuron_x_mouse\": \"m2bayes4\", \"i_trial\": 1, \"neuron\": \"4\", \"mouse\": \"m2bayes\", \"mouse_code\": 2, \"neuron_code\": 20, \"stim\": 0, \"log_firing_rate\": 2.8343872981332687, \"Firing rate\": 682.9474662632277, \"firing_rate\": 682.9474662632277, \"i_spike\": 50.0, \"isi\": 0.06894960768385403}, {\"neuron_x_mouse\": \"m2bayes4\", \"i_trial\": 1, \"neuron\": \"4\", \"mouse\": \"m2bayes\", \"mouse_code\": 2, \"neuron_code\": 20, \"stim\": 1, \"log_firing_rate\": 2.661902844833773, \"Firing rate\": 459.095298040102, \"firing_rate\": 459.095298040102, \"i_spike\": 60.5, \"isi\": 0.05726072028523619}, {\"neuron_x_mouse\": \"m2bayes5\", \"i_trial\": 0, \"neuron\": \"5\", \"mouse\": \"m2bayes\", \"mouse_code\": 2, \"neuron_code\": 21, \"stim\": 0, \"log_firing_rate\": 1.9071436669119766, \"Firing rate\": 80.7502112040615, \"firing_rate\": 80.7502112040615, \"i_spike\": 59.0, \"isi\": 0.058462119497314835}, {\"neuron_x_mouse\": \"m2bayes5\", \"i_trial\": 0, \"neuron\": \"5\", \"mouse\": \"m2bayes\", \"mouse_code\": 2, \"neuron_code\": 21, \"stim\": 1, \"log_firing_rate\": 1.9209978816956335, \"Firing rate\": 83.3677118286166, \"firing_rate\": 83.3677118286166, \"i_spike\": 65.5, \"isi\": 0.052642818447244166}, {\"neuron_x_mouse\": \"m2bayes5\", \"i_trial\": 1, \"neuron\": \"5\", \"mouse\": \"m2bayes\", \"mouse_code\": 2, \"neuron_code\": 21, \"stim\": 0, \"log_firing_rate\": 2.9810850634681145, \"Firing rate\": 957.3815713096888, \"firing_rate\": 957.3815713096888, \"i_spike\": 57.0, \"isi\": 0.06119862446424693}, {\"neuron_x_mouse\": \"m2bayes5\", \"i_trial\": 1, \"neuron\": \"5\", \"mouse\": \"m2bayes\", \"mouse_code\": 2, \"neuron_code\": 21, \"stim\": 1, \"log_firing_rate\": 2.2576898157446683, \"Firing rate\": 181.00468489671962, \"firing_rate\": 181.00468489671962, \"i_spike\": 72.0, \"isi\": 0.04848416830147605}, {\"neuron_x_mouse\": \"m2bayes6\", \"i_trial\": 0, \"neuron\": \"6\", \"mouse\": \"m2bayes\", \"mouse_code\": 2, \"neuron_code\": 22, \"stim\": 0, \"log_firing_rate\": 1.9848486567031776, \"Firing rate\": 96.57142874393816, \"firing_rate\": 96.57142874393816, \"i_spike\": 49.0, \"isi\": 0.07105383064862097}, {\"neuron_x_mouse\": \"m2bayes6\", \"i_trial\": 0, \"neuron\": \"6\", \"mouse\": \"m2bayes\", \"mouse_code\": 2, \"neuron_code\": 22, \"stim\": 1, \"log_firing_rate\": 2.0589452853276957, \"Firing rate\": 114.53686328718788, \"firing_rate\": 114.53686328718788, \"i_spike\": 61.5, \"isi\": 0.05517830874014773}, {\"neuron_x_mouse\": \"m2bayes6\", \"i_trial\": 1, \"neuron\": \"6\", \"mouse\": \"m2bayes\", \"mouse_code\": 2, \"neuron_code\": 22, \"stim\": 0, \"log_firing_rate\": 1.7323240731969083, \"Firing rate\": 53.99133588827486, \"firing_rate\": 53.99133588827486, \"i_spike\": 53.5, \"isi\": 0.06251846002481072}, {\"neuron_x_mouse\": \"m2bayes6\", \"i_trial\": 1, \"neuron\": \"6\", \"mouse\": \"m2bayes\", \"mouse_code\": 2, \"neuron_code\": 22, \"stim\": 1, \"log_firing_rate\": 1.8713074167505745, \"Firing rate\": 74.35452725824388, \"firing_rate\": 74.35452725824388, \"i_spike\": 80.5, \"isi\": 0.0431804941760288}, {\"neuron_x_mouse\": \"m2bayes7\", \"i_trial\": 0, \"neuron\": \"7\", \"mouse\": \"m2bayes\", \"mouse_code\": 2, \"neuron_code\": 23, \"stim\": 0, \"log_firing_rate\": 2.039508012559593, \"Firing rate\": 109.52367618607985, \"firing_rate\": 109.52367618607985, \"i_spike\": 69.0, \"isi\": 0.0507359809761775}, {\"neuron_x_mouse\": \"m2bayes7\", \"i_trial\": 0, \"neuron\": \"7\", \"mouse\": \"m2bayes\", \"mouse_code\": 2, \"neuron_code\": 23, \"stim\": 1, \"log_firing_rate\": 2.454404856056194, \"Firing rate\": 284.71139945769073, \"firing_rate\": 284.71139945769073, \"i_spike\": 82.0, \"isi\": 0.04263420435144898}, {\"neuron_x_mouse\": \"m2bayes7\", \"i_trial\": 1, \"neuron\": \"7\", \"mouse\": \"m2bayes\", \"mouse_code\": 2, \"neuron_code\": 23, \"stim\": 0, \"log_firing_rate\": 1.9130868154019607, \"Firing rate\": 81.8628415477489, \"firing_rate\": 81.8628415477489, \"i_spike\": 65.5, \"isi\": 0.053649001547930966}, {\"neuron_x_mouse\": \"m2bayes7\", \"i_trial\": 1, \"neuron\": \"7\", \"mouse\": \"m2bayes\", \"mouse_code\": 2, \"neuron_code\": 23, \"stim\": 1, \"log_firing_rate\": 2.1143534178681254, \"Firing rate\": 130.12280537827593, \"firing_rate\": 130.12280537827593, \"i_spike\": 66.5, \"isi\": 0.052432206013226984}, {\"neuron_x_mouse\": \"m3bayes0\", \"i_trial\": 0, \"neuron\": \"0\", \"mouse\": \"m3bayes\", \"mouse_code\": 3, \"neuron_code\": 24, \"stim\": 0, \"log_firing_rate\": 1.9499762649398353, \"Firing rate\": 89.12022308222801, \"firing_rate\": 89.12022308222801, \"i_spike\": 40.5, \"isi\": 0.08583761747669258}, {\"neuron_x_mouse\": \"m3bayes0\", \"i_trial\": 0, \"neuron\": \"0\", \"mouse\": \"m3bayes\", \"mouse_code\": 3, \"neuron_code\": 24, \"stim\": 1, \"log_firing_rate\": 2.1000168040435967, \"Firing rate\": 125.89741240105656, \"firing_rate\": 125.89741240105656, \"i_spike\": 49.5, \"isi\": 0.06800667787340697}, {\"neuron_x_mouse\": \"m3bayes0\", \"i_trial\": 1, \"neuron\": \"0\", \"mouse\": \"m3bayes\", \"mouse_code\": 3, \"neuron_code\": 24, \"stim\": 0, \"log_firing_rate\": 1.8336401790512704, \"Firing rate\": 68.1773598139352, \"firing_rate\": 68.1773598139352, \"i_spike\": 45.5, \"isi\": 0.07586147756365036}, {\"neuron_x_mouse\": \"m3bayes0\", \"i_trial\": 1, \"neuron\": \"0\", \"mouse\": \"m3bayes\", \"mouse_code\": 3, \"neuron_code\": 24, \"stim\": 1, \"log_firing_rate\": 2.5414658900613767, \"Firing rate\": 347.9091814283815, \"firing_rate\": 347.9091814283815, \"i_spike\": 57.0, \"isi\": 0.05947086744106531}, {\"neuron_x_mouse\": \"m3bayes1\", \"i_trial\": 0, \"neuron\": \"1\", \"mouse\": \"m3bayes\", \"mouse_code\": 3, \"neuron_code\": 25, \"stim\": 0, \"log_firing_rate\": 2.0783160365566706, \"Firing rate\": 119.76117176086393, \"firing_rate\": 119.76117176086393, \"i_spike\": 42.5, \"isi\": 0.082355849317468}, {\"neuron_x_mouse\": \"m3bayes1\", \"i_trial\": 0, \"neuron\": \"1\", \"mouse\": \"m3bayes\", \"mouse_code\": 3, \"neuron_code\": 25, \"stim\": 1, \"log_firing_rate\": 1.9818005149163611, \"Firing rate\": 95.89600498942475, \"firing_rate\": 95.89600498942475, \"i_spike\": 51.5, \"isi\": 0.06671431479703065}, {\"neuron_x_mouse\": \"m3bayes1\", \"i_trial\": 1, \"neuron\": \"1\", \"mouse\": \"m3bayes\", \"mouse_code\": 3, \"neuron_code\": 25, \"stim\": 0, \"log_firing_rate\": 2.268754460512357, \"Firing rate\": 185.67543947173303, \"firing_rate\": 185.67543947173303, \"i_spike\": 44.5, \"isi\": 0.07936658665588367}, {\"neuron_x_mouse\": \"m3bayes1\", \"i_trial\": 1, \"neuron\": \"1\", \"mouse\": \"m3bayes\", \"mouse_code\": 3, \"neuron_code\": 25, \"stim\": 1, \"log_firing_rate\": 2.0562923021398407, \"Firing rate\": 113.83932242223925, \"firing_rate\": 113.83932242223925, \"i_spike\": 51.0, \"isi\": 0.06638296878895227}, {\"neuron_x_mouse\": \"m3bayes2\", \"i_trial\": 0, \"neuron\": \"2\", \"mouse\": \"m3bayes\", \"mouse_code\": 3, \"neuron_code\": 26, \"stim\": 0, \"log_firing_rate\": 2.4263519958563173, \"Firing rate\": 266.902103074761, \"firing_rate\": 266.902103074761, \"i_spike\": 50.0, \"isi\": 0.06966644827376356}, {\"neuron_x_mouse\": \"m3bayes2\", \"i_trial\": 0, \"neuron\": \"2\", \"mouse\": \"m3bayes\", \"mouse_code\": 3, \"neuron_code\": 26, \"stim\": 1, \"log_firing_rate\": 1.9743439677899521, \"Firing rate\": 94.26358828071017, \"firing_rate\": 94.26358828071017, \"i_spike\": 48.0, \"isi\": 0.07188507945492802}, {\"neuron_x_mouse\": \"m3bayes2\", \"i_trial\": 1, \"neuron\": \"2\", \"mouse\": \"m3bayes\", \"mouse_code\": 3, \"neuron_code\": 26, \"stim\": 0, \"log_firing_rate\": 2.1751950829001667, \"Firing rate\": 149.69079086117128, \"firing_rate\": 149.69079086117128, \"i_spike\": 40.5, \"isi\": 0.08385668630722681}, {\"neuron_x_mouse\": \"m3bayes2\", \"i_trial\": 1, \"neuron\": \"2\", \"mouse\": \"m3bayes\", \"mouse_code\": 3, \"neuron_code\": 26, \"stim\": 1, \"log_firing_rate\": 1.8023118889643466, \"Firing rate\": 63.43250888431905, \"firing_rate\": 63.43250888431905, \"i_spike\": 54.0, \"isi\": 0.06337249528370008}, {\"neuron_x_mouse\": \"m3bayes3\", \"i_trial\": 0, \"neuron\": \"3\", \"mouse\": \"m3bayes\", \"mouse_code\": 3, \"neuron_code\": 27, \"stim\": 0, \"log_firing_rate\": 2.7081934552875935, \"Firing rate\": 510.7324536851178, \"firing_rate\": 510.7324536851178, \"i_spike\": 42.5, \"isi\": 0.08202768174211818}, {\"neuron_x_mouse\": \"m3bayes3\", \"i_trial\": 0, \"neuron\": \"3\", \"mouse\": \"m3bayes\", \"mouse_code\": 3, \"neuron_code\": 27, \"stim\": 1, \"log_firing_rate\": 1.7762054441290451, \"Firing rate\": 59.73177824843096, \"firing_rate\": 59.73177824843096, \"i_spike\": 55.5, \"isi\": 0.06308673542224216}, {\"neuron_x_mouse\": \"m3bayes3\", \"i_trial\": 1, \"neuron\": \"3\", \"mouse\": \"m3bayes\", \"mouse_code\": 3, \"neuron_code\": 27, \"stim\": 0, \"log_firing_rate\": 1.9774207974811298, \"Firing rate\": 94.93378521581629, \"firing_rate\": 94.93378521581629, \"i_spike\": 55.5, \"isi\": 0.06329649101807203}, {\"neuron_x_mouse\": \"m3bayes3\", \"i_trial\": 1, \"neuron\": \"3\", \"mouse\": \"m3bayes\", \"mouse_code\": 3, \"neuron_code\": 27, \"stim\": 1, \"log_firing_rate\": 1.958234772273269, \"Firing rate\": 90.83114153180898, \"firing_rate\": 90.83114153180898, \"i_spike\": 56.0, \"isi\": 0.06126210707058387}, {\"neuron_x_mouse\": \"m3bayes4\", \"i_trial\": 0, \"neuron\": \"4\", \"mouse\": \"m3bayes\", \"mouse_code\": 3, \"neuron_code\": 28, \"stim\": 0, \"log_firing_rate\": 3.696907975799048, \"Firing rate\": 4976.316288725164, \"firing_rate\": 4976.316288725164, \"i_spike\": 61.5, \"isi\": 0.05646249966820883}, {\"neuron_x_mouse\": \"m3bayes4\", \"i_trial\": 0, \"neuron\": \"4\", \"mouse\": \"m3bayes\", \"mouse_code\": 3, \"neuron_code\": 28, \"stim\": 1, \"log_firing_rate\": 2.01069131559262, \"Firing rate\": 102.49231804794296, \"firing_rate\": 102.49231804794296, \"i_spike\": 51.0, \"isi\": 0.06558887468246613}, {\"neuron_x_mouse\": \"m3bayes4\", \"i_trial\": 1, \"neuron\": \"4\", \"mouse\": \"m3bayes\", \"mouse_code\": 3, \"neuron_code\": 28, \"stim\": 0, \"log_firing_rate\": 2.0652265796848823, \"Firing rate\": 116.20547217505245, \"firing_rate\": 116.20547217505245, \"i_spike\": 47.5, \"isi\": 0.0707086506808997}, {\"neuron_x_mouse\": \"m3bayes4\", \"i_trial\": 1, \"neuron\": \"4\", \"mouse\": \"m3bayes\", \"mouse_code\": 3, \"neuron_code\": 28, \"stim\": 1, \"log_firing_rate\": 1.9625625198800323, \"Firing rate\": 91.74079935020895, \"firing_rate\": 91.74079935020895, \"i_spike\": 56.5, \"isi\": 0.0600435673425472}, {\"neuron_x_mouse\": \"m3bayes5\", \"i_trial\": 0, \"neuron\": \"5\", \"mouse\": \"m3bayes\", \"mouse_code\": 3, \"neuron_code\": 29, \"stim\": 0, \"log_firing_rate\": 2.2735990864364535, \"Firing rate\": 187.75827493113513, \"firing_rate\": 187.75827493113513, \"i_spike\": 65.0, \"isi\": 0.05302935448707822}, {\"neuron_x_mouse\": \"m3bayes5\", \"i_trial\": 0, \"neuron\": \"5\", \"mouse\": \"m3bayes\", \"mouse_code\": 3, \"neuron_code\": 29, \"stim\": 1, \"log_firing_rate\": 2.753980199547344, \"Firing rate\": 567.5187303758512, \"firing_rate\": 567.5187303758512, \"i_spike\": 68.0, \"isi\": 0.05127438909946293}, {\"neuron_x_mouse\": \"m3bayes5\", \"i_trial\": 1, \"neuron\": \"5\", \"mouse\": \"m3bayes\", \"mouse_code\": 3, \"neuron_code\": 29, \"stim\": 0, \"log_firing_rate\": 1.9835085308603264, \"Firing rate\": 96.27389238988994, \"firing_rate\": 96.27389238988994, \"i_spike\": 59.0, \"isi\": 0.05911865846640796}, {\"neuron_x_mouse\": \"m3bayes5\", \"i_trial\": 1, \"neuron\": \"5\", \"mouse\": \"m3bayes\", \"mouse_code\": 3, \"neuron_code\": 29, \"stim\": 1, \"log_firing_rate\": 1.7382938846087865, \"Firing rate\": 54.73862507603197, \"firing_rate\": 54.73862507603197, \"i_spike\": 54.0, \"isi\": 0.06346912007109805}, {\"neuron_x_mouse\": \"m3bayes6\", \"i_trial\": 0, \"neuron\": \"6\", \"mouse\": \"m3bayes\", \"mouse_code\": 3, \"neuron_code\": 30, \"stim\": 0, \"log_firing_rate\": 2.179913192939141, \"Firing rate\": 151.32587470717732, \"firing_rate\": 151.32587470717732, \"i_spike\": 67.0, \"isi\": 0.05086919327344431}, {\"neuron_x_mouse\": \"m3bayes6\", \"i_trial\": 0, \"neuron\": \"6\", \"mouse\": \"m3bayes\", \"mouse_code\": 3, \"neuron_code\": 30, \"stim\": 1, \"log_firing_rate\": 2.617670721839169, \"Firing rate\": 414.63954745899224, \"firing_rate\": 414.63954745899224, \"i_spike\": 73.0, \"isi\": 0.04783793577076339}, {\"neuron_x_mouse\": \"m3bayes6\", \"i_trial\": 1, \"neuron\": \"6\", \"mouse\": \"m3bayes\", \"mouse_code\": 3, \"neuron_code\": 30, \"stim\": 0, \"log_firing_rate\": 1.9794730111962877, \"Firing rate\": 95.38344658943466, \"firing_rate\": 95.38344658943466, \"i_spike\": 67.0, \"isi\": 0.05226027963720107}, {\"neuron_x_mouse\": \"m3bayes6\", \"i_trial\": 1, \"neuron\": \"6\", \"mouse\": \"m3bayes\", \"mouse_code\": 3, \"neuron_code\": 30, \"stim\": 1, \"log_firing_rate\": 2.048256832289366, \"Firing rate\": 111.75239316964557, \"firing_rate\": 111.75239316964557, \"i_spike\": 73.0, \"isi\": 0.04745495577877033}, {\"neuron_x_mouse\": \"m3bayes7\", \"i_trial\": 0, \"neuron\": \"7\", \"mouse\": \"m3bayes\", \"mouse_code\": 3, \"neuron_code\": 31, \"stim\": 0, \"log_firing_rate\": 1.9452325678505369, \"Firing rate\": 88.15208074318744, \"firing_rate\": 88.15208074318744, \"i_spike\": 65.5, \"isi\": 0.05284203410580091}, {\"neuron_x_mouse\": \"m3bayes7\", \"i_trial\": 0, \"neuron\": \"7\", \"mouse\": \"m3bayes\", \"mouse_code\": 3, \"neuron_code\": 31, \"stim\": 1, \"log_firing_rate\": 2.0950307792202474, \"Firing rate\": 124.46028158548893, \"firing_rate\": 124.46028158548893, \"i_spike\": 71.5, \"isi\": 0.04750179299671621}, {\"neuron_x_mouse\": \"m3bayes7\", \"i_trial\": 1, \"neuron\": \"7\", \"mouse\": \"m3bayes\", \"mouse_code\": 3, \"neuron_code\": 31, \"stim\": 0, \"log_firing_rate\": 1.9320409822904279, \"Firing rate\": 85.51474052426933, \"firing_rate\": 85.51474052426933, \"i_spike\": 75.5, \"isi\": 0.04603497459762631}, {\"neuron_x_mouse\": \"m3bayes7\", \"i_trial\": 1, \"neuron\": \"7\", \"mouse\": \"m3bayes\", \"mouse_code\": 3, \"neuron_code\": 31, \"stim\": 1, \"log_firing_rate\": 2.0666913262943547, \"Firing rate\": 116.59806047180228, \"firing_rate\": 116.59806047180228, \"i_spike\": 63.5, \"isi\": 0.05273833143157227}]}}, {\"mode\": \"vega-lite\"});\n",
       "</script>"
      ],
      "text/plain": [
       "alt.LayerChart(...)"
      ]
     },
     "execution_count": 5,
     "metadata": {},
     "output_type": "execute_result"
    }
   ],
   "source": [
    "import altair as alt\n",
    "y='isi'\n",
    "color='mouse'\n",
    "x='neuron'\n",
    "\n",
    "base=alt.Chart(df).encode(\n",
    "            x=x,\n",
    "            color=f'{color}',\n",
    "            y=alt.Y(f'mean({y})',\n",
    "                    scale=alt.Scale(zero=False,\n",
    "                                    domain=list(np.quantile(df[y], [.05, .95])))),\n",
    ")\n",
    "highlight = alt.selection(type='single', on='mouseover',\n",
    "                          fields=[color], nearest=True)\n",
    "\n",
    "\n",
    "lines=base.mark_line(clip=True, fill=None, opacity=.6, ).encode(\n",
    "            size=alt.condition(~highlight, alt.value(1), alt.value(3))\n",
    "        )\n",
    "points = base.mark_circle().encode(\n",
    "    opacity=alt.value(0),\n",
    "    #axis=alt.Axis(labels=False, tickCount=0, title='')\n",
    ").add_selection(\n",
    "    highlight\n",
    ")\n",
    "\n",
    "lines+points"
   ]
  },
  {
   "cell_type": "code",
   "execution_count": 6,
   "metadata": {},
   "outputs": [
    {
     "data": {
      "text/html": [
       "\n",
       "<div id=\"altair-viz-909addb19422490fa3fe647f3c039873\"></div>\n",
       "<script type=\"text/javascript\">\n",
       "  (function(spec, embedOpt){\n",
       "    let outputDiv = document.currentScript.previousElementSibling;\n",
       "    if (outputDiv.id !== \"altair-viz-909addb19422490fa3fe647f3c039873\") {\n",
       "      outputDiv = document.getElementById(\"altair-viz-909addb19422490fa3fe647f3c039873\");\n",
       "    }\n",
       "    const paths = {\n",
       "      \"vega\": \"https://cdn.jsdelivr.net/npm//vega@5?noext\",\n",
       "      \"vega-lib\": \"https://cdn.jsdelivr.net/npm//vega-lib?noext\",\n",
       "      \"vega-lite\": \"https://cdn.jsdelivr.net/npm//vega-lite@4.8.1?noext\",\n",
       "      \"vega-embed\": \"https://cdn.jsdelivr.net/npm//vega-embed@6?noext\",\n",
       "    };\n",
       "\n",
       "    function loadScript(lib) {\n",
       "      return new Promise(function(resolve, reject) {\n",
       "        var s = document.createElement('script');\n",
       "        s.src = paths[lib];\n",
       "        s.async = true;\n",
       "        s.onload = () => resolve(paths[lib]);\n",
       "        s.onerror = () => reject(`Error loading script: ${paths[lib]}`);\n",
       "        document.getElementsByTagName(\"head\")[0].appendChild(s);\n",
       "      });\n",
       "    }\n",
       "\n",
       "    function showError(err) {\n",
       "      outputDiv.innerHTML = `<div class=\"error\" style=\"color:red;\">${err}</div>`;\n",
       "      throw err;\n",
       "    }\n",
       "\n",
       "    function displayChart(vegaEmbed) {\n",
       "      vegaEmbed(outputDiv, spec, embedOpt)\n",
       "        .catch(err => showError(`Javascript Error: ${err.message}<br>This usually means there's a typo in your chart specification. See the javascript console for the full traceback.`));\n",
       "    }\n",
       "\n",
       "    if(typeof define === \"function\" && define.amd) {\n",
       "      requirejs.config({paths});\n",
       "      require([\"vega-embed\"], displayChart, err => showError(`Error loading script: ${err.message}`));\n",
       "    } else if (typeof vegaEmbed === \"function\") {\n",
       "      displayChart(vegaEmbed);\n",
       "    } else {\n",
       "      loadScript(\"vega\")\n",
       "        .then(() => loadScript(\"vega-lite\"))\n",
       "        .then(() => loadScript(\"vega-embed\"))\n",
       "        .catch(showError)\n",
       "        .then(() => displayChart(vegaEmbed));\n",
       "    }\n",
       "  })({\"config\": {\"view\": {\"continuousWidth\": 400, \"continuousHeight\": 300}}, \"layer\": [{\"mark\": {\"type\": \"line\", \"clip\": true, \"fill\": null, \"opacity\": 0.6}, \"encoding\": {\"color\": {\"type\": \"nominal\", \"field\": \"mouse\"}, \"size\": {\"condition\": {\"value\": 1, \"selection\": {\"not\": \"selector003\"}}, \"value\": 3}, \"x\": {\"type\": \"nominal\", \"field\": \"neuron\"}, \"y\": {\"type\": \"quantitative\", \"aggregate\": \"mean\", \"field\": \"isi\", \"scale\": {\"domain\": [0.04737511267305425, 0.09047234104048732], \"zero\": false}}}}, {\"mark\": \"point\", \"encoding\": {\"opacity\": {\"value\": 0}, \"x\": {\"type\": \"nominal\", \"field\": \"neuron\"}}, \"selection\": {\"selector002\": {\"type\": \"single\", \"nearest\": true, \"on\": \"mouseover\", \"fields\": [\"neuron\"], \"empty\": \"none\"}}}, {\"mark\": \"circle\", \"encoding\": {\"color\": {\"type\": \"nominal\", \"field\": \"mouse\"}, \"opacity\": {\"value\": 0}, \"x\": {\"type\": \"nominal\", \"field\": \"neuron\"}, \"y\": {\"type\": \"quantitative\", \"aggregate\": \"mean\", \"field\": \"isi\", \"scale\": {\"domain\": [0.04737511267305425, 0.09047234104048732], \"zero\": false}}}, \"selection\": {\"selector003\": {\"type\": \"single\", \"on\": \"mouseover\", \"fields\": [\"mouse\"], \"nearest\": true}}}, {\"mark\": {\"type\": \"text\", \"align\": \"left\", \"dx\": 5, \"dy\": -5}, \"encoding\": {\"color\": {\"type\": \"nominal\", \"field\": \"mouse\"}, \"size\": {\"condition\": {\"value\": 1, \"selection\": {\"not\": \"selector003\"}}, \"value\": 3}, \"text\": {\"condition\": {\"type\": \"quantitative\", \"field\": \"isi\", \"selection\": \"selector002\"}, \"value\": \" \"}, \"x\": {\"type\": \"nominal\", \"field\": \"neuron\"}, \"y\": {\"type\": \"quantitative\", \"aggregate\": \"mean\", \"field\": \"isi\", \"scale\": {\"domain\": [0.04737511267305425, 0.09047234104048732], \"zero\": false}}}}], \"data\": {\"name\": \"data-9c3efca071d2600518d50baf824326ab\"}, \"$schema\": \"https://vega.github.io/schema/vega-lite/v4.8.1.json\", \"datasets\": {\"data-9c3efca071d2600518d50baf824326ab\": [{\"neuron_x_mouse\": \"m0bayes0\", \"i_trial\": 0, \"neuron\": \"0\", \"mouse\": \"m0bayes\", \"mouse_code\": 0, \"neuron_code\": 0, \"stim\": 0, \"log_firing_rate\": 2.3866197027794893, \"Firing rate\": 243.5677042962139, \"firing_rate\": 243.5677042962139, \"i_spike\": 41.5, \"isi\": 0.08450379592509444}, {\"neuron_x_mouse\": \"m0bayes0\", \"i_trial\": 0, \"neuron\": \"0\", \"mouse\": \"m0bayes\", \"mouse_code\": 0, \"neuron_code\": 0, \"stim\": 1, \"log_firing_rate\": 2.160689964179353, \"Firing rate\": 144.77379677843504, \"firing_rate\": 144.77379677843504, \"i_spike\": 49.5, \"isi\": 0.06981530051056058}, {\"neuron_x_mouse\": \"m0bayes0\", \"i_trial\": 1, \"neuron\": \"0\", \"mouse\": \"m0bayes\", \"mouse_code\": 0, \"neuron_code\": 0, \"stim\": 0, \"log_firing_rate\": 1.530738667707239, \"Firing rate\": 33.942096800793486, \"firing_rate\": 33.942096800793486, \"i_spike\": 34.0, \"isi\": 0.10324303734871737}, {\"neuron_x_mouse\": \"m0bayes0\", \"i_trial\": 1, \"neuron\": \"0\", \"mouse\": \"m0bayes\", \"mouse_code\": 0, \"neuron_code\": 0, \"stim\": 1, \"log_firing_rate\": 1.6254935778881234, \"Firing rate\": 42.21760360941194, \"firing_rate\": 42.21760360941194, \"i_spike\": 38.0, \"isi\": 0.09267507454835781}, {\"neuron_x_mouse\": \"m0bayes1\", \"i_trial\": 0, \"neuron\": \"1\", \"mouse\": \"m0bayes\", \"mouse_code\": 0, \"neuron_code\": 1, \"stim\": 0, \"log_firing_rate\": 2.484478118333679, \"Firing rate\": 305.12522897561985, \"firing_rate\": 305.12522897561985, \"i_spike\": 49.5, \"isi\": 0.06987686762909194}, {\"neuron_x_mouse\": \"m0bayes1\", \"i_trial\": 0, \"neuron\": \"1\", \"mouse\": \"m0bayes\", \"mouse_code\": 0, \"neuron_code\": 1, \"stim\": 1, \"log_firing_rate\": 1.5513728859550593, \"Firing rate\": 35.593679532553566, \"firing_rate\": 35.593679532553566, \"i_spike\": 40.0, \"isi\": 0.08658438835784248}, {\"neuron_x_mouse\": \"m0bayes1\", \"i_trial\": 1, \"neuron\": \"1\", \"mouse\": \"m0bayes\", \"mouse_code\": 0, \"neuron_code\": 1, \"stim\": 0, \"log_firing_rate\": 2.0269879869405165, \"Firing rate\": 106.41135832738233, \"firing_rate\": 106.41135832738233, \"i_spike\": 49.0, \"isi\": 0.07043848262516612}, {\"neuron_x_mouse\": \"m0bayes1\", \"i_trial\": 1, \"neuron\": \"1\", \"mouse\": \"m0bayes\", \"mouse_code\": 0, \"neuron_code\": 1, \"stim\": 1, \"log_firing_rate\": 2.092392988853844, \"Firing rate\": 123.7066336425256, \"firing_rate\": 123.7066336425256, \"i_spike\": 65.0, \"isi\": 0.05271209239209486}, {\"neuron_x_mouse\": \"m0bayes2\", \"i_trial\": 0, \"neuron\": \"2\", \"mouse\": \"m0bayes\", \"mouse_code\": 0, \"neuron_code\": 2, \"stim\": 0, \"log_firing_rate\": 1.697702167943827, \"Firing rate\": 49.85424779195764, \"firing_rate\": 49.85424779195764, \"i_spike\": 41.0, \"isi\": 0.08551270853625578}, {\"neuron_x_mouse\": \"m0bayes2\", \"i_trial\": 0, \"neuron\": \"2\", \"mouse\": \"m0bayes\", \"mouse_code\": 0, \"neuron_code\": 2, \"stim\": 1, \"log_firing_rate\": 1.9357988200855836, \"Firing rate\": 86.25788794499807, \"firing_rate\": 86.25788794499807, \"i_spike\": 50.0, \"isi\": 0.06849741484002116}, {\"neuron_x_mouse\": \"m0bayes2\", \"i_trial\": 1, \"neuron\": \"2\", \"mouse\": \"m0bayes\", \"mouse_code\": 0, \"neuron_code\": 2, \"stim\": 0, \"log_firing_rate\": 1.6231463615022454, \"Firing rate\": 41.99004707276861, \"firing_rate\": 41.99004707276861, \"i_spike\": 33.5, \"isi\": 0.09835199743358695}, {\"neuron_x_mouse\": \"m0bayes2\", \"i_trial\": 1, \"neuron\": \"2\", \"mouse\": \"m0bayes\", \"mouse_code\": 0, \"neuron_code\": 2, \"stim\": 1, \"log_firing_rate\": 2.1368586995577696, \"Firing rate\": 137.0435813707416, \"firing_rate\": 137.0435813707416, \"i_spike\": 51.5, \"isi\": 0.06821487498278991}, {\"neuron_x_mouse\": \"m0bayes3\", \"i_trial\": 0, \"neuron\": \"3\", \"mouse\": \"m0bayes\", \"mouse_code\": 0, \"neuron_code\": 3, \"stim\": 0, \"log_firing_rate\": 2.068372960563932, \"Firing rate\": 117.05041574004629, \"firing_rate\": 117.05041574004629, \"i_spike\": 60.5, \"isi\": 0.05721835888995684}, {\"neuron_x_mouse\": \"m0bayes3\", \"i_trial\": 0, \"neuron\": \"3\", \"mouse\": \"m0bayes\", \"mouse_code\": 0, \"neuron_code\": 3, \"stim\": 1, \"log_firing_rate\": 2.3634195427463607, \"Firing rate\": 230.89766590329836, \"firing_rate\": 230.89766590329836, \"i_spike\": 51.5, \"isi\": 0.06607641565560397}, {\"neuron_x_mouse\": \"m0bayes3\", \"i_trial\": 1, \"neuron\": \"3\", \"mouse\": \"m0bayes\", \"mouse_code\": 0, \"neuron_code\": 3, \"stim\": 0, \"log_firing_rate\": 1.9710704764365674, \"Firing rate\": 93.55574822195109, \"firing_rate\": 93.55574822195109, \"i_spike\": 57.0, \"isi\": 0.06078117932707194}, {\"neuron_x_mouse\": \"m0bayes3\", \"i_trial\": 1, \"neuron\": \"3\", \"mouse\": \"m0bayes\", \"mouse_code\": 0, \"neuron_code\": 3, \"stim\": 1, \"log_firing_rate\": 1.8732376457093565, \"Firing rate\": 74.6857326547331, \"firing_rate\": 74.6857326547331, \"i_spike\": 40.0, \"isi\": 0.08586046510214589}, {\"neuron_x_mouse\": \"m0bayes4\", \"i_trial\": 0, \"neuron\": \"4\", \"mouse\": \"m0bayes\", \"mouse_code\": 0, \"neuron_code\": 4, \"stim\": 0, \"log_firing_rate\": 1.861968343651618, \"Firing rate\": 72.77267575552233, \"firing_rate\": 72.77267575552233, \"i_spike\": 55.0, \"isi\": 0.06326712009689191}, {\"neuron_x_mouse\": \"m0bayes4\", \"i_trial\": 0, \"neuron\": \"4\", \"mouse\": \"m0bayes\", \"mouse_code\": 0, \"neuron_code\": 4, \"stim\": 1, \"log_firing_rate\": 2.0585932804012104, \"Firing rate\": 114.44406633230666, \"firing_rate\": 114.44406633230666, \"i_spike\": 64.5, \"isi\": 0.05417803630392091}, {\"neuron_x_mouse\": \"m0bayes4\", \"i_trial\": 1, \"neuron\": \"4\", \"mouse\": \"m0bayes\", \"mouse_code\": 0, \"neuron_code\": 4, \"stim\": 0, \"log_firing_rate\": 2.0385300352744258, \"Firing rate\": 109.27731994316348, \"firing_rate\": 109.27731994316348, \"i_spike\": 58.0, \"isi\": 0.05940032774397272}, {\"neuron_x_mouse\": \"m0bayes4\", \"i_trial\": 1, \"neuron\": \"4\", \"mouse\": \"m0bayes\", \"mouse_code\": 0, \"neuron_code\": 4, \"stim\": 1, \"log_firing_rate\": 2.10363733035332, \"Firing rate\": 126.95135199761545, \"firing_rate\": 126.95135199761545, \"i_spike\": 61.5, \"isi\": 0.05725255320107851}, {\"neuron_x_mouse\": \"m0bayes5\", \"i_trial\": 0, \"neuron\": \"5\", \"mouse\": \"m0bayes\", \"mouse_code\": 0, \"neuron_code\": 5, \"stim\": 0, \"log_firing_rate\": 1.9155612377640856, \"Firing rate\": 82.33059191221966, \"firing_rate\": 82.33059191221966, \"i_spike\": 69.5, \"isi\": 0.04932082419096044}, {\"neuron_x_mouse\": \"m0bayes5\", \"i_trial\": 0, \"neuron\": \"5\", \"mouse\": \"m0bayes\", \"mouse_code\": 0, \"neuron_code\": 5, \"stim\": 1, \"log_firing_rate\": 1.980047962862571, \"Firing rate\": 95.5098059863346, \"firing_rate\": 95.5098059863346, \"i_spike\": 63.5, \"isi\": 0.054359415780208066}, {\"neuron_x_mouse\": \"m0bayes5\", \"i_trial\": 1, \"neuron\": \"5\", \"mouse\": \"m0bayes\", \"mouse_code\": 0, \"neuron_code\": 5, \"stim\": 0, \"log_firing_rate\": 2.034544489396462, \"Firing rate\": 108.2790631190816, \"firing_rate\": 108.2790631190816, \"i_spike\": 52.0, \"isi\": 0.06768625814811417}, {\"neuron_x_mouse\": \"m0bayes5\", \"i_trial\": 1, \"neuron\": \"5\", \"mouse\": \"m0bayes\", \"mouse_code\": 0, \"neuron_code\": 5, \"stim\": 1, \"log_firing_rate\": 1.895634710039731, \"Firing rate\": 78.63840749798332, \"firing_rate\": 78.63840749798332, \"i_spike\": 52.0, \"isi\": 0.06588032394058095}, {\"neuron_x_mouse\": \"m0bayes6\", \"i_trial\": 0, \"neuron\": \"6\", \"mouse\": \"m0bayes\", \"mouse_code\": 0, \"neuron_code\": 6, \"stim\": 0, \"log_firing_rate\": 1.9359478870575573, \"Firing rate\": 86.28750013136906, \"firing_rate\": 86.28750013136906, \"i_spike\": 60.0, \"isi\": 0.058212129627979746}, {\"neuron_x_mouse\": \"m0bayes6\", \"i_trial\": 0, \"neuron\": \"6\", \"mouse\": \"m0bayes\", \"mouse_code\": 0, \"neuron_code\": 6, \"stim\": 1, \"log_firing_rate\": 2.0407681062842395, \"Firing rate\": 109.84191763949373, \"firing_rate\": 109.84191763949373, \"i_spike\": 74.0, \"isi\": 0.04704908110868989}, {\"neuron_x_mouse\": \"m0bayes6\", \"i_trial\": 1, \"neuron\": \"6\", \"mouse\": \"m0bayes\", \"mouse_code\": 0, \"neuron_code\": 6, \"stim\": 0, \"log_firing_rate\": 2.1306474635347183, \"Firing rate\": 135.0975470108216, \"firing_rate\": 135.0975470108216, \"i_spike\": 66.0, \"isi\": 0.05293584719381047}, {\"neuron_x_mouse\": \"m0bayes6\", \"i_trial\": 1, \"neuron\": \"6\", \"mouse\": \"m0bayes\", \"mouse_code\": 0, \"neuron_code\": 6, \"stim\": 1, \"log_firing_rate\": 1.8148833963800541, \"Firing rate\": 65.29552173229754, \"firing_rate\": 65.29552173229754, \"i_spike\": 73.5, \"isi\": 0.04739100952321525}, {\"neuron_x_mouse\": \"m0bayes7\", \"i_trial\": 0, \"neuron\": \"7\", \"mouse\": \"m0bayes\", \"mouse_code\": 0, \"neuron_code\": 7, \"stim\": 0, \"log_firing_rate\": 2.5726525692349833, \"Firing rate\": 373.81142363407275, \"firing_rate\": 373.81142363407275, \"i_spike\": 66.0, \"isi\": 0.052308933953068855}, {\"neuron_x_mouse\": \"m0bayes7\", \"i_trial\": 0, \"neuron\": \"7\", \"mouse\": \"m0bayes\", \"mouse_code\": 0, \"neuron_code\": 7, \"stim\": 1, \"log_firing_rate\": 2.277225262394314, \"Firing rate\": 189.3325405064992, \"firing_rate\": 189.3325405064992, \"i_spike\": 68.5, \"isi\": 0.05120279611613783}, {\"neuron_x_mouse\": \"m0bayes7\", \"i_trial\": 1, \"neuron\": \"7\", \"mouse\": \"m0bayes\", \"mouse_code\": 0, \"neuron_code\": 7, \"stim\": 0, \"log_firing_rate\": 2.1829212329296714, \"Firing rate\": 152.37763646421587, \"firing_rate\": 152.37763646421587, \"i_spike\": 59.5, \"isi\": 0.057727786170535554}, {\"neuron_x_mouse\": \"m0bayes7\", \"i_trial\": 1, \"neuron\": \"7\", \"mouse\": \"m0bayes\", \"mouse_code\": 0, \"neuron_code\": 7, \"stim\": 1, \"log_firing_rate\": 1.7802055189905672, \"Firing rate\": 60.28447997925935, \"firing_rate\": 60.28447997925935, \"i_spike\": 73.0, \"isi\": 0.04736655283065986}, {\"neuron_x_mouse\": \"m1bayes0\", \"i_trial\": 0, \"neuron\": \"0\", \"mouse\": \"m1bayes\", \"mouse_code\": 1, \"neuron_code\": 8, \"stim\": 0, \"log_firing_rate\": 2.082392232200257, \"Firing rate\": 120.89051625181412, \"firing_rate\": 120.89051625181412, \"i_spike\": 38.0, \"isi\": 0.09223175376351996}, {\"neuron_x_mouse\": \"m1bayes0\", \"i_trial\": 0, \"neuron\": \"0\", \"mouse\": \"m1bayes\", \"mouse_code\": 1, \"neuron_code\": 8, \"stim\": 1, \"log_firing_rate\": 1.7013594628566135, \"Firing rate\": 50.27585474959819, \"firing_rate\": 50.27585474959819, \"i_spike\": 37.5, \"isi\": 0.09260808868203463}, {\"neuron_x_mouse\": \"m1bayes0\", \"i_trial\": 1, \"neuron\": \"0\", \"mouse\": \"m1bayes\", \"mouse_code\": 1, \"neuron_code\": 8, \"stim\": 0, \"log_firing_rate\": 1.7048500622092235, \"Firing rate\": 50.68157027216017, \"firing_rate\": 50.68157027216017, \"i_spike\": 35.5, \"isi\": 0.09569027657215694}, {\"neuron_x_mouse\": \"m1bayes0\", \"i_trial\": 1, \"neuron\": \"0\", \"mouse\": \"m1bayes\", \"mouse_code\": 1, \"neuron_code\": 8, \"stim\": 1, \"log_firing_rate\": 1.9584334624015698, \"Firing rate\": 90.8727063705614, \"firing_rate\": 90.8727063705614, \"i_spike\": 57.0, \"isi\": 0.059931705024393434}, {\"neuron_x_mouse\": \"m1bayes1\", \"i_trial\": 0, \"neuron\": \"1\", \"mouse\": \"m1bayes\", \"mouse_code\": 1, \"neuron_code\": 9, \"stim\": 0, \"log_firing_rate\": 2.0126089436533783, \"Firing rate\": 102.9458736623089, \"firing_rate\": 102.9458736623089, \"i_spike\": 53.5, \"isi\": 0.06497635601254814}, {\"neuron_x_mouse\": \"m1bayes1\", \"i_trial\": 0, \"neuron\": \"1\", \"mouse\": \"m1bayes\", \"mouse_code\": 1, \"neuron_code\": 9, \"stim\": 1, \"log_firing_rate\": 1.925707124347642, \"Firing rate\": 84.27662288878224, \"firing_rate\": 84.27662288878224, \"i_spike\": 43.0, \"isi\": 0.08168673544023343}, {\"neuron_x_mouse\": \"m1bayes1\", \"i_trial\": 1, \"neuron\": \"1\", \"mouse\": \"m1bayes\", \"mouse_code\": 1, \"neuron_code\": 9, \"stim\": 0, \"log_firing_rate\": 1.7663583379385561, \"Firing rate\": 58.39267055852651, \"firing_rate\": 58.39267055852651, \"i_spike\": 41.5, \"isi\": 0.08480064081307827}, {\"neuron_x_mouse\": \"m1bayes1\", \"i_trial\": 1, \"neuron\": \"1\", \"mouse\": \"m1bayes\", \"mouse_code\": 1, \"neuron_code\": 9, \"stim\": 1, \"log_firing_rate\": 1.7877026498218498, \"Firing rate\": 61.33419220503222, \"firing_rate\": 61.33419220503222, \"i_spike\": 46.5, \"isi\": 0.07331168745507131}, {\"neuron_x_mouse\": \"m1bayes2\", \"i_trial\": 0, \"neuron\": \"2\", \"mouse\": \"m1bayes\", \"mouse_code\": 1, \"neuron_code\": 10, \"stim\": 0, \"log_firing_rate\": 1.8393139135001042, \"Firing rate\": 69.07388981841858, \"firing_rate\": 69.07388981841858, \"i_spike\": 53.5, \"isi\": 0.06480789782638686}, {\"neuron_x_mouse\": \"m1bayes2\", \"i_trial\": 0, \"neuron\": \"2\", \"mouse\": \"m1bayes\", \"mouse_code\": 1, \"neuron_code\": 10, \"stim\": 1, \"log_firing_rate\": 1.7111297897980424, \"Firing rate\": 51.419729754120915, \"firing_rate\": 51.419729754120915, \"i_spike\": 46.0, \"isi\": 0.07669427885077723}, {\"neuron_x_mouse\": \"m1bayes2\", \"i_trial\": 1, \"neuron\": \"2\", \"mouse\": \"m1bayes\", \"mouse_code\": 1, \"neuron_code\": 10, \"stim\": 0, \"log_firing_rate\": 1.7688760393370002, \"Firing rate\": 58.73216893879053, \"firing_rate\": 58.73216893879053, \"i_spike\": 44.0, \"isi\": 0.07928611054550325}, {\"neuron_x_mouse\": \"m1bayes2\", \"i_trial\": 1, \"neuron\": \"2\", \"mouse\": \"m1bayes\", \"mouse_code\": 1, \"neuron_code\": 10, \"stim\": 1, \"log_firing_rate\": 1.7724611651643527, \"Firing rate\": 59.21901305628221, \"firing_rate\": 59.21901305628221, \"i_spike\": 51.5, \"isi\": 0.06686790683580318}, {\"neuron_x_mouse\": \"m1bayes3\", \"i_trial\": 0, \"neuron\": \"3\", \"mouse\": \"m1bayes\", \"mouse_code\": 1, \"neuron_code\": 11, \"stim\": 0, \"log_firing_rate\": 1.7598666337584654, \"Firing rate\": 57.52632542741942, \"firing_rate\": 57.52632542741942, \"i_spike\": 47.0, \"isi\": 0.07283962525572556}, {\"neuron_x_mouse\": \"m1bayes3\", \"i_trial\": 0, \"neuron\": \"3\", \"mouse\": \"m1bayes\", \"mouse_code\": 1, \"neuron_code\": 11, \"stim\": 1, \"log_firing_rate\": 1.8091972408252082, \"Firing rate\": 64.44618903110087, \"firing_rate\": 64.44618903110087, \"i_spike\": 41.0, \"isi\": 0.08193698504733346}, {\"neuron_x_mouse\": \"m1bayes3\", \"i_trial\": 1, \"neuron\": \"3\", \"mouse\": \"m1bayes\", \"mouse_code\": 1, \"neuron_code\": 11, \"stim\": 0, \"log_firing_rate\": 1.7550851703856236, \"Firing rate\": 56.89645007038576, \"firing_rate\": 56.89645007038576, \"i_spike\": 49.5, \"isi\": 0.06884247324249565}, {\"neuron_x_mouse\": \"m1bayes3\", \"i_trial\": 1, \"neuron\": \"3\", \"mouse\": \"m1bayes\", \"mouse_code\": 1, \"neuron_code\": 11, \"stim\": 1, \"log_firing_rate\": 1.7881369564277658, \"Firing rate\": 61.39555878851167, \"firing_rate\": 61.39555878851167, \"i_spike\": 49.0, \"isi\": 0.07075471102744961}, {\"neuron_x_mouse\": \"m1bayes4\", \"i_trial\": 0, \"neuron\": \"4\", \"mouse\": \"m1bayes\", \"mouse_code\": 1, \"neuron_code\": 12, \"stim\": 0, \"log_firing_rate\": 1.6966793364418307, \"Firing rate\": 49.73697138912479, \"firing_rate\": 49.73697138912479, \"i_spike\": 47.5, \"isi\": 0.07219247299257676}, {\"neuron_x_mouse\": \"m1bayes4\", \"i_trial\": 0, \"neuron\": \"4\", \"mouse\": \"m1bayes\", \"mouse_code\": 1, \"neuron_code\": 12, \"stim\": 1, \"log_firing_rate\": 3.0746862605565126, \"Firing rate\": 1187.643949496775, \"firing_rate\": 1187.643949496775, \"i_spike\": 68.0, \"isi\": 0.051520024082019486}, {\"neuron_x_mouse\": \"m1bayes4\", \"i_trial\": 1, \"neuron\": \"4\", \"mouse\": \"m1bayes\", \"mouse_code\": 1, \"neuron_code\": 12, \"stim\": 0, \"log_firing_rate\": 2.7321417522899076, \"Firing rate\": 539.6867457485902, \"firing_rate\": 539.6867457485902, \"i_spike\": 51.0, \"isi\": 0.06842724852715745}, {\"neuron_x_mouse\": \"m1bayes4\", \"i_trial\": 1, \"neuron\": \"4\", \"mouse\": \"m1bayes\", \"mouse_code\": 1, \"neuron_code\": 12, \"stim\": 1, \"log_firing_rate\": 1.8829271832282015, \"Firing rate\": 76.37077244019387, \"firing_rate\": 76.37077244019387, \"i_spike\": 62.5, \"isi\": 0.05597905871470478}, {\"neuron_x_mouse\": \"m1bayes5\", \"i_trial\": 0, \"neuron\": \"5\", \"mouse\": \"m1bayes\", \"mouse_code\": 1, \"neuron_code\": 13, \"stim\": 0, \"log_firing_rate\": 2.0868577564124626, \"Firing rate\": 122.13995521363326, \"firing_rate\": 122.13995521363326, \"i_spike\": 62.5, \"isi\": 0.055750741739441285}, {\"neuron_x_mouse\": \"m1bayes5\", \"i_trial\": 0, \"neuron\": \"5\", \"mouse\": \"m1bayes\", \"mouse_code\": 1, \"neuron_code\": 13, \"stim\": 1, \"log_firing_rate\": 2.0143338383671034, \"Firing rate\": 103.35555856152719, \"firing_rate\": 103.35555856152719, \"i_spike\": 52.0, \"isi\": 0.06768759246250679}, {\"neuron_x_mouse\": \"m1bayes5\", \"i_trial\": 1, \"neuron\": \"5\", \"mouse\": \"m1bayes\", \"mouse_code\": 1, \"neuron_code\": 13, \"stim\": 0, \"log_firing_rate\": 2.1973446697777193, \"Firing rate\": 157.52325226540685, \"firing_rate\": 157.52325226540685, \"i_spike\": 48.0, \"isi\": 0.07198166134690737}, {\"neuron_x_mouse\": \"m1bayes5\", \"i_trial\": 1, \"neuron\": \"5\", \"mouse\": \"m1bayes\", \"mouse_code\": 1, \"neuron_code\": 13, \"stim\": 1, \"log_firing_rate\": 2.241656139661559, \"Firing rate\": 174.44404144285724, \"firing_rate\": 174.44404144285724, \"i_spike\": 58.5, \"isi\": 0.059633649105630106}, {\"neuron_x_mouse\": \"m1bayes6\", \"i_trial\": 0, \"neuron\": \"6\", \"mouse\": \"m1bayes\", \"mouse_code\": 1, \"neuron_code\": 14, \"stim\": 0, \"log_firing_rate\": 2.043903007615032, \"Firing rate\": 110.63766657208117, \"firing_rate\": 110.63766657208117, \"i_spike\": 63.5, \"isi\": 0.05506015269326977}, {\"neuron_x_mouse\": \"m1bayes6\", \"i_trial\": 0, \"neuron\": \"6\", \"mouse\": \"m1bayes\", \"mouse_code\": 1, \"neuron_code\": 14, \"stim\": 1, \"log_firing_rate\": 2.2601815953849287, \"Firing rate\": 182.0461905291703, \"firing_rate\": 182.0461905291703, \"i_spike\": 54.5, \"isi\": 0.06339979611485304}, {\"neuron_x_mouse\": \"m1bayes6\", \"i_trial\": 1, \"neuron\": \"6\", \"mouse\": \"m1bayes\", \"mouse_code\": 1, \"neuron_code\": 14, \"stim\": 0, \"log_firing_rate\": 1.858681090511193, \"Firing rate\": 72.2239256819658, \"firing_rate\": 72.2239256819658, \"i_spike\": 61.5, \"isi\": 0.056845795429115414}, {\"neuron_x_mouse\": \"m1bayes6\", \"i_trial\": 1, \"neuron\": \"6\", \"mouse\": \"m1bayes\", \"mouse_code\": 1, \"neuron_code\": 14, \"stim\": 1, \"log_firing_rate\": 2.2167324203259566, \"Firing rate\": 164.71472302889214, \"firing_rate\": 164.71472302889214, \"i_spike\": 69.0, \"isi\": 0.05043844181977416}, {\"neuron_x_mouse\": \"m1bayes7\", \"i_trial\": 0, \"neuron\": \"7\", \"mouse\": \"m1bayes\", \"mouse_code\": 1, \"neuron_code\": 15, \"stim\": 0, \"log_firing_rate\": 2.326025888011811, \"Firing rate\": 211.84874131426517, \"firing_rate\": 211.84874131426517, \"i_spike\": 90.5, \"isi\": 0.03858123549461317}, {\"neuron_x_mouse\": \"m1bayes7\", \"i_trial\": 0, \"neuron\": \"7\", \"mouse\": \"m1bayes\", \"mouse_code\": 1, \"neuron_code\": 15, \"stim\": 1, \"log_firing_rate\": 1.8484620269572214, \"Firing rate\": 70.54431601113916, \"firing_rate\": 70.54431601113916, \"i_spike\": 63.0, \"isi\": 0.05592680489562145}, {\"neuron_x_mouse\": \"m1bayes7\", \"i_trial\": 1, \"neuron\": \"7\", \"mouse\": \"m1bayes\", \"mouse_code\": 1, \"neuron_code\": 15, \"stim\": 0, \"log_firing_rate\": 2.0601876737149474, \"Firing rate\": 114.8649885734583, \"firing_rate\": 114.8649885734583, \"i_spike\": 78.0, \"isi\": 0.04418097206372716}, {\"neuron_x_mouse\": \"m1bayes7\", \"i_trial\": 1, \"neuron\": \"7\", \"mouse\": \"m1bayes\", \"mouse_code\": 1, \"neuron_code\": 15, \"stim\": 1, \"log_firing_rate\": 1.7004267477899617, \"Firing rate\": 50.16799538197522, \"firing_rate\": 50.16799538197522, \"i_spike\": 61.5, \"isi\": 0.05620288650034}, {\"neuron_x_mouse\": \"m2bayes0\", \"i_trial\": 0, \"neuron\": \"0\", \"mouse\": \"m2bayes\", \"mouse_code\": 2, \"neuron_code\": 16, \"stim\": 0, \"log_firing_rate\": 1.6385397464902887, \"Firing rate\": 43.505057449643104, \"firing_rate\": 43.505057449643104, \"i_spike\": 39.5, \"isi\": 0.08720486026914112}, {\"neuron_x_mouse\": \"m2bayes0\", \"i_trial\": 0, \"neuron\": \"0\", \"mouse\": \"m2bayes\", \"mouse_code\": 2, \"neuron_code\": 16, \"stim\": 1, \"log_firing_rate\": 1.8944189295184946, \"Firing rate\": 78.41857199506222, \"firing_rate\": 78.41857199506222, \"i_spike\": 59.5, \"isi\": 0.05802310451104899}, {\"neuron_x_mouse\": \"m2bayes0\", \"i_trial\": 1, \"neuron\": \"0\", \"mouse\": \"m2bayes\", \"mouse_code\": 2, \"neuron_code\": 16, \"stim\": 0, \"log_firing_rate\": 2.106976193423323, \"Firing rate\": 127.93111746587486, \"firing_rate\": 127.93111746587486, \"i_spike\": 42.5, \"isi\": 0.08067923379611616}, {\"neuron_x_mouse\": \"m2bayes0\", \"i_trial\": 1, \"neuron\": \"0\", \"mouse\": \"m2bayes\", \"mouse_code\": 2, \"neuron_code\": 16, \"stim\": 1, \"log_firing_rate\": 1.7120179442386552, \"Firing rate\": 51.524993330898944, \"firing_rate\": 51.524993330898944, \"i_spike\": 50.5, \"isi\": 0.06783618112509854}, {\"neuron_x_mouse\": \"m2bayes1\", \"i_trial\": 0, \"neuron\": \"1\", \"mouse\": \"m2bayes\", \"mouse_code\": 2, \"neuron_code\": 17, \"stim\": 0, \"log_firing_rate\": 2.114677599677443, \"Firing rate\": 130.21997261434558, \"firing_rate\": 130.21997261434558, \"i_spike\": 49.0, \"isi\": 0.07055674794336682}, {\"neuron_x_mouse\": \"m2bayes1\", \"i_trial\": 0, \"neuron\": \"1\", \"mouse\": \"m2bayes\", \"mouse_code\": 2, \"neuron_code\": 17, \"stim\": 1, \"log_firing_rate\": 1.6268301556076923, \"Firing rate\": 42.34773196571751, \"firing_rate\": 42.34773196571751, \"i_spike\": 52.5, \"isi\": 0.06596170789081288}, {\"neuron_x_mouse\": \"m2bayes1\", \"i_trial\": 1, \"neuron\": \"1\", \"mouse\": \"m2bayes\", \"mouse_code\": 2, \"neuron_code\": 17, \"stim\": 0, \"log_firing_rate\": 2.0714320394614307, \"Firing rate\": 117.8778047818278, \"firing_rate\": 117.8778047818278, \"i_spike\": 47.0, \"isi\": 0.06927256013982007}, {\"neuron_x_mouse\": \"m2bayes1\", \"i_trial\": 1, \"neuron\": \"1\", \"mouse\": \"m2bayes\", \"mouse_code\": 2, \"neuron_code\": 17, \"stim\": 1, \"log_firing_rate\": 2.0081553873408104, \"Firing rate\": 101.89558976948366, \"firing_rate\": 101.89558976948366, \"i_spike\": 56.0, \"isi\": 0.06205290462965855}, {\"neuron_x_mouse\": \"m2bayes2\", \"i_trial\": 0, \"neuron\": \"2\", \"mouse\": \"m2bayes\", \"mouse_code\": 2, \"neuron_code\": 18, \"stim\": 0, \"log_firing_rate\": 2.0866500171196822, \"Firing rate\": 122.0815450761589, \"firing_rate\": 122.0815450761589, \"i_spike\": 54.5, \"isi\": 0.06443590342293065}, {\"neuron_x_mouse\": \"m2bayes2\", \"i_trial\": 0, \"neuron\": \"2\", \"mouse\": \"m2bayes\", \"mouse_code\": 2, \"neuron_code\": 18, \"stim\": 1, \"log_firing_rate\": 1.6578184383685046, \"Firing rate\": 45.479788709309055, \"firing_rate\": 45.479788709309055, \"i_spike\": 47.0, \"isi\": 0.07500567764258687}, {\"neuron_x_mouse\": \"m2bayes2\", \"i_trial\": 1, \"neuron\": \"2\", \"mouse\": \"m2bayes\", \"mouse_code\": 2, \"neuron_code\": 18, \"stim\": 0, \"log_firing_rate\": 1.7989912563623627, \"Firing rate\": 62.949350915588326, \"firing_rate\": 62.949350915588326, \"i_spike\": 33.0, \"isi\": 0.10415780427635592}, {\"neuron_x_mouse\": \"m2bayes2\", \"i_trial\": 1, \"neuron\": \"2\", \"mouse\": \"m2bayes\", \"mouse_code\": 2, \"neuron_code\": 18, \"stim\": 1, \"log_firing_rate\": 2.4472614566934405, \"Firing rate\": 280.0666887286495, \"firing_rate\": 280.0666887286495, \"i_spike\": 52.0, \"isi\": 0.06625563586920807}, {\"neuron_x_mouse\": \"m2bayes3\", \"i_trial\": 0, \"neuron\": \"3\", \"mouse\": \"m2bayes\", \"mouse_code\": 2, \"neuron_code\": 19, \"stim\": 0, \"log_firing_rate\": 1.7563679596755049, \"Firing rate\": 57.06475534892398, \"firing_rate\": 57.06475534892398, \"i_spike\": 40.5, \"isi\": 0.08589509673181792}, {\"neuron_x_mouse\": \"m2bayes3\", \"i_trial\": 0, \"neuron\": \"3\", \"mouse\": \"m2bayes\", \"mouse_code\": 2, \"neuron_code\": 19, \"stim\": 1, \"log_firing_rate\": 2.098790264739742, \"Firing rate\": 125.54235314649652, \"firing_rate\": 125.54235314649652, \"i_spike\": 48.0, \"isi\": 0.07326811352149644}, {\"neuron_x_mouse\": \"m2bayes3\", \"i_trial\": 1, \"neuron\": \"3\", \"mouse\": \"m2bayes\", \"mouse_code\": 2, \"neuron_code\": 19, \"stim\": 0, \"log_firing_rate\": 2.016263363381515, \"Firing rate\": 103.81577810779977, \"firing_rate\": 103.81577810779977, \"i_spike\": 51.5, \"isi\": 0.06664004300775929}, {\"neuron_x_mouse\": \"m2bayes3\", \"i_trial\": 1, \"neuron\": \"3\", \"mouse\": \"m2bayes\", \"mouse_code\": 2, \"neuron_code\": 19, \"stim\": 1, \"log_firing_rate\": 2.119667034401986, \"Firing rate\": 131.7246442678392, \"firing_rate\": 131.7246442678392, \"i_spike\": 58.0, \"isi\": 0.0606525487139772}, {\"neuron_x_mouse\": \"m2bayes4\", \"i_trial\": 0, \"neuron\": \"4\", \"mouse\": \"m2bayes\", \"mouse_code\": 2, \"neuron_code\": 20, \"stim\": 0, \"log_firing_rate\": 1.9448063110770812, \"Firing rate\": 88.06560258352772, \"firing_rate\": 88.06560258352772, \"i_spike\": 57.0, \"isi\": 0.06028112355546829}, {\"neuron_x_mouse\": \"m2bayes4\", \"i_trial\": 0, \"neuron\": \"4\", \"mouse\": \"m2bayes\", \"mouse_code\": 2, \"neuron_code\": 20, \"stim\": 1, \"log_firing_rate\": 1.9636623463401004, \"Firing rate\": 91.97342221603316, \"firing_rate\": 91.97342221603316, \"i_spike\": 54.0, \"isi\": 0.06379197191245778}, {\"neuron_x_mouse\": \"m2bayes4\", \"i_trial\": 1, \"neuron\": \"4\", \"mouse\": \"m2bayes\", \"mouse_code\": 2, \"neuron_code\": 20, \"stim\": 0, \"log_firing_rate\": 2.8343872981332687, \"Firing rate\": 682.9474662632277, \"firing_rate\": 682.9474662632277, \"i_spike\": 50.0, \"isi\": 0.06894960768385403}, {\"neuron_x_mouse\": \"m2bayes4\", \"i_trial\": 1, \"neuron\": \"4\", \"mouse\": \"m2bayes\", \"mouse_code\": 2, \"neuron_code\": 20, \"stim\": 1, \"log_firing_rate\": 2.661902844833773, \"Firing rate\": 459.095298040102, \"firing_rate\": 459.095298040102, \"i_spike\": 60.5, \"isi\": 0.05726072028523619}, {\"neuron_x_mouse\": \"m2bayes5\", \"i_trial\": 0, \"neuron\": \"5\", \"mouse\": \"m2bayes\", \"mouse_code\": 2, \"neuron_code\": 21, \"stim\": 0, \"log_firing_rate\": 1.9071436669119766, \"Firing rate\": 80.7502112040615, \"firing_rate\": 80.7502112040615, \"i_spike\": 59.0, \"isi\": 0.058462119497314835}, {\"neuron_x_mouse\": \"m2bayes5\", \"i_trial\": 0, \"neuron\": \"5\", \"mouse\": \"m2bayes\", \"mouse_code\": 2, \"neuron_code\": 21, \"stim\": 1, \"log_firing_rate\": 1.9209978816956335, \"Firing rate\": 83.3677118286166, \"firing_rate\": 83.3677118286166, \"i_spike\": 65.5, \"isi\": 0.052642818447244166}, {\"neuron_x_mouse\": \"m2bayes5\", \"i_trial\": 1, \"neuron\": \"5\", \"mouse\": \"m2bayes\", \"mouse_code\": 2, \"neuron_code\": 21, \"stim\": 0, \"log_firing_rate\": 2.9810850634681145, \"Firing rate\": 957.3815713096888, \"firing_rate\": 957.3815713096888, \"i_spike\": 57.0, \"isi\": 0.06119862446424693}, {\"neuron_x_mouse\": \"m2bayes5\", \"i_trial\": 1, \"neuron\": \"5\", \"mouse\": \"m2bayes\", \"mouse_code\": 2, \"neuron_code\": 21, \"stim\": 1, \"log_firing_rate\": 2.2576898157446683, \"Firing rate\": 181.00468489671962, \"firing_rate\": 181.00468489671962, \"i_spike\": 72.0, \"isi\": 0.04848416830147605}, {\"neuron_x_mouse\": \"m2bayes6\", \"i_trial\": 0, \"neuron\": \"6\", \"mouse\": \"m2bayes\", \"mouse_code\": 2, \"neuron_code\": 22, \"stim\": 0, \"log_firing_rate\": 1.9848486567031776, \"Firing rate\": 96.57142874393816, \"firing_rate\": 96.57142874393816, \"i_spike\": 49.0, \"isi\": 0.07105383064862097}, {\"neuron_x_mouse\": \"m2bayes6\", \"i_trial\": 0, \"neuron\": \"6\", \"mouse\": \"m2bayes\", \"mouse_code\": 2, \"neuron_code\": 22, \"stim\": 1, \"log_firing_rate\": 2.0589452853276957, \"Firing rate\": 114.53686328718788, \"firing_rate\": 114.53686328718788, \"i_spike\": 61.5, \"isi\": 0.05517830874014773}, {\"neuron_x_mouse\": \"m2bayes6\", \"i_trial\": 1, \"neuron\": \"6\", \"mouse\": \"m2bayes\", \"mouse_code\": 2, \"neuron_code\": 22, \"stim\": 0, \"log_firing_rate\": 1.7323240731969083, \"Firing rate\": 53.99133588827486, \"firing_rate\": 53.99133588827486, \"i_spike\": 53.5, \"isi\": 0.06251846002481072}, {\"neuron_x_mouse\": \"m2bayes6\", \"i_trial\": 1, \"neuron\": \"6\", \"mouse\": \"m2bayes\", \"mouse_code\": 2, \"neuron_code\": 22, \"stim\": 1, \"log_firing_rate\": 1.8713074167505745, \"Firing rate\": 74.35452725824388, \"firing_rate\": 74.35452725824388, \"i_spike\": 80.5, \"isi\": 0.0431804941760288}, {\"neuron_x_mouse\": \"m2bayes7\", \"i_trial\": 0, \"neuron\": \"7\", \"mouse\": \"m2bayes\", \"mouse_code\": 2, \"neuron_code\": 23, \"stim\": 0, \"log_firing_rate\": 2.039508012559593, \"Firing rate\": 109.52367618607985, \"firing_rate\": 109.52367618607985, \"i_spike\": 69.0, \"isi\": 0.0507359809761775}, {\"neuron_x_mouse\": \"m2bayes7\", \"i_trial\": 0, \"neuron\": \"7\", \"mouse\": \"m2bayes\", \"mouse_code\": 2, \"neuron_code\": 23, \"stim\": 1, \"log_firing_rate\": 2.454404856056194, \"Firing rate\": 284.71139945769073, \"firing_rate\": 284.71139945769073, \"i_spike\": 82.0, \"isi\": 0.04263420435144898}, {\"neuron_x_mouse\": \"m2bayes7\", \"i_trial\": 1, \"neuron\": \"7\", \"mouse\": \"m2bayes\", \"mouse_code\": 2, \"neuron_code\": 23, \"stim\": 0, \"log_firing_rate\": 1.9130868154019607, \"Firing rate\": 81.8628415477489, \"firing_rate\": 81.8628415477489, \"i_spike\": 65.5, \"isi\": 0.053649001547930966}, {\"neuron_x_mouse\": \"m2bayes7\", \"i_trial\": 1, \"neuron\": \"7\", \"mouse\": \"m2bayes\", \"mouse_code\": 2, \"neuron_code\": 23, \"stim\": 1, \"log_firing_rate\": 2.1143534178681254, \"Firing rate\": 130.12280537827593, \"firing_rate\": 130.12280537827593, \"i_spike\": 66.5, \"isi\": 0.052432206013226984}, {\"neuron_x_mouse\": \"m3bayes0\", \"i_trial\": 0, \"neuron\": \"0\", \"mouse\": \"m3bayes\", \"mouse_code\": 3, \"neuron_code\": 24, \"stim\": 0, \"log_firing_rate\": 1.9499762649398353, \"Firing rate\": 89.12022308222801, \"firing_rate\": 89.12022308222801, \"i_spike\": 40.5, \"isi\": 0.08583761747669258}, {\"neuron_x_mouse\": \"m3bayes0\", \"i_trial\": 0, \"neuron\": \"0\", \"mouse\": \"m3bayes\", \"mouse_code\": 3, \"neuron_code\": 24, \"stim\": 1, \"log_firing_rate\": 2.1000168040435967, \"Firing rate\": 125.89741240105656, \"firing_rate\": 125.89741240105656, \"i_spike\": 49.5, \"isi\": 0.06800667787340697}, {\"neuron_x_mouse\": \"m3bayes0\", \"i_trial\": 1, \"neuron\": \"0\", \"mouse\": \"m3bayes\", \"mouse_code\": 3, \"neuron_code\": 24, \"stim\": 0, \"log_firing_rate\": 1.8336401790512704, \"Firing rate\": 68.1773598139352, \"firing_rate\": 68.1773598139352, \"i_spike\": 45.5, \"isi\": 0.07586147756365036}, {\"neuron_x_mouse\": \"m3bayes0\", \"i_trial\": 1, \"neuron\": \"0\", \"mouse\": \"m3bayes\", \"mouse_code\": 3, \"neuron_code\": 24, \"stim\": 1, \"log_firing_rate\": 2.5414658900613767, \"Firing rate\": 347.9091814283815, \"firing_rate\": 347.9091814283815, \"i_spike\": 57.0, \"isi\": 0.05947086744106531}, {\"neuron_x_mouse\": \"m3bayes1\", \"i_trial\": 0, \"neuron\": \"1\", \"mouse\": \"m3bayes\", \"mouse_code\": 3, \"neuron_code\": 25, \"stim\": 0, \"log_firing_rate\": 2.0783160365566706, \"Firing rate\": 119.76117176086393, \"firing_rate\": 119.76117176086393, \"i_spike\": 42.5, \"isi\": 0.082355849317468}, {\"neuron_x_mouse\": \"m3bayes1\", \"i_trial\": 0, \"neuron\": \"1\", \"mouse\": \"m3bayes\", \"mouse_code\": 3, \"neuron_code\": 25, \"stim\": 1, \"log_firing_rate\": 1.9818005149163611, \"Firing rate\": 95.89600498942475, \"firing_rate\": 95.89600498942475, \"i_spike\": 51.5, \"isi\": 0.06671431479703065}, {\"neuron_x_mouse\": \"m3bayes1\", \"i_trial\": 1, \"neuron\": \"1\", \"mouse\": \"m3bayes\", \"mouse_code\": 3, \"neuron_code\": 25, \"stim\": 0, \"log_firing_rate\": 2.268754460512357, \"Firing rate\": 185.67543947173303, \"firing_rate\": 185.67543947173303, \"i_spike\": 44.5, \"isi\": 0.07936658665588367}, {\"neuron_x_mouse\": \"m3bayes1\", \"i_trial\": 1, \"neuron\": \"1\", \"mouse\": \"m3bayes\", \"mouse_code\": 3, \"neuron_code\": 25, \"stim\": 1, \"log_firing_rate\": 2.0562923021398407, \"Firing rate\": 113.83932242223925, \"firing_rate\": 113.83932242223925, \"i_spike\": 51.0, \"isi\": 0.06638296878895227}, {\"neuron_x_mouse\": \"m3bayes2\", \"i_trial\": 0, \"neuron\": \"2\", \"mouse\": \"m3bayes\", \"mouse_code\": 3, \"neuron_code\": 26, \"stim\": 0, \"log_firing_rate\": 2.4263519958563173, \"Firing rate\": 266.902103074761, \"firing_rate\": 266.902103074761, \"i_spike\": 50.0, \"isi\": 0.06966644827376356}, {\"neuron_x_mouse\": \"m3bayes2\", \"i_trial\": 0, \"neuron\": \"2\", \"mouse\": \"m3bayes\", \"mouse_code\": 3, \"neuron_code\": 26, \"stim\": 1, \"log_firing_rate\": 1.9743439677899521, \"Firing rate\": 94.26358828071017, \"firing_rate\": 94.26358828071017, \"i_spike\": 48.0, \"isi\": 0.07188507945492802}, {\"neuron_x_mouse\": \"m3bayes2\", \"i_trial\": 1, \"neuron\": \"2\", \"mouse\": \"m3bayes\", \"mouse_code\": 3, \"neuron_code\": 26, \"stim\": 0, \"log_firing_rate\": 2.1751950829001667, \"Firing rate\": 149.69079086117128, \"firing_rate\": 149.69079086117128, \"i_spike\": 40.5, \"isi\": 0.08385668630722681}, {\"neuron_x_mouse\": \"m3bayes2\", \"i_trial\": 1, \"neuron\": \"2\", \"mouse\": \"m3bayes\", \"mouse_code\": 3, \"neuron_code\": 26, \"stim\": 1, \"log_firing_rate\": 1.8023118889643466, \"Firing rate\": 63.43250888431905, \"firing_rate\": 63.43250888431905, \"i_spike\": 54.0, \"isi\": 0.06337249528370008}, {\"neuron_x_mouse\": \"m3bayes3\", \"i_trial\": 0, \"neuron\": \"3\", \"mouse\": \"m3bayes\", \"mouse_code\": 3, \"neuron_code\": 27, \"stim\": 0, \"log_firing_rate\": 2.7081934552875935, \"Firing rate\": 510.7324536851178, \"firing_rate\": 510.7324536851178, \"i_spike\": 42.5, \"isi\": 0.08202768174211818}, {\"neuron_x_mouse\": \"m3bayes3\", \"i_trial\": 0, \"neuron\": \"3\", \"mouse\": \"m3bayes\", \"mouse_code\": 3, \"neuron_code\": 27, \"stim\": 1, \"log_firing_rate\": 1.7762054441290451, \"Firing rate\": 59.73177824843096, \"firing_rate\": 59.73177824843096, \"i_spike\": 55.5, \"isi\": 0.06308673542224216}, {\"neuron_x_mouse\": \"m3bayes3\", \"i_trial\": 1, \"neuron\": \"3\", \"mouse\": \"m3bayes\", \"mouse_code\": 3, \"neuron_code\": 27, \"stim\": 0, \"log_firing_rate\": 1.9774207974811298, \"Firing rate\": 94.93378521581629, \"firing_rate\": 94.93378521581629, \"i_spike\": 55.5, \"isi\": 0.06329649101807203}, {\"neuron_x_mouse\": \"m3bayes3\", \"i_trial\": 1, \"neuron\": \"3\", \"mouse\": \"m3bayes\", \"mouse_code\": 3, \"neuron_code\": 27, \"stim\": 1, \"log_firing_rate\": 1.958234772273269, \"Firing rate\": 90.83114153180898, \"firing_rate\": 90.83114153180898, \"i_spike\": 56.0, \"isi\": 0.06126210707058387}, {\"neuron_x_mouse\": \"m3bayes4\", \"i_trial\": 0, \"neuron\": \"4\", \"mouse\": \"m3bayes\", \"mouse_code\": 3, \"neuron_code\": 28, \"stim\": 0, \"log_firing_rate\": 3.696907975799048, \"Firing rate\": 4976.316288725164, \"firing_rate\": 4976.316288725164, \"i_spike\": 61.5, \"isi\": 0.05646249966820883}, {\"neuron_x_mouse\": \"m3bayes4\", \"i_trial\": 0, \"neuron\": \"4\", \"mouse\": \"m3bayes\", \"mouse_code\": 3, \"neuron_code\": 28, \"stim\": 1, \"log_firing_rate\": 2.01069131559262, \"Firing rate\": 102.49231804794296, \"firing_rate\": 102.49231804794296, \"i_spike\": 51.0, \"isi\": 0.06558887468246613}, {\"neuron_x_mouse\": \"m3bayes4\", \"i_trial\": 1, \"neuron\": \"4\", \"mouse\": \"m3bayes\", \"mouse_code\": 3, \"neuron_code\": 28, \"stim\": 0, \"log_firing_rate\": 2.0652265796848823, \"Firing rate\": 116.20547217505245, \"firing_rate\": 116.20547217505245, \"i_spike\": 47.5, \"isi\": 0.0707086506808997}, {\"neuron_x_mouse\": \"m3bayes4\", \"i_trial\": 1, \"neuron\": \"4\", \"mouse\": \"m3bayes\", \"mouse_code\": 3, \"neuron_code\": 28, \"stim\": 1, \"log_firing_rate\": 1.9625625198800323, \"Firing rate\": 91.74079935020895, \"firing_rate\": 91.74079935020895, \"i_spike\": 56.5, \"isi\": 0.0600435673425472}, {\"neuron_x_mouse\": \"m3bayes5\", \"i_trial\": 0, \"neuron\": \"5\", \"mouse\": \"m3bayes\", \"mouse_code\": 3, \"neuron_code\": 29, \"stim\": 0, \"log_firing_rate\": 2.2735990864364535, \"Firing rate\": 187.75827493113513, \"firing_rate\": 187.75827493113513, \"i_spike\": 65.0, \"isi\": 0.05302935448707822}, {\"neuron_x_mouse\": \"m3bayes5\", \"i_trial\": 0, \"neuron\": \"5\", \"mouse\": \"m3bayes\", \"mouse_code\": 3, \"neuron_code\": 29, \"stim\": 1, \"log_firing_rate\": 2.753980199547344, \"Firing rate\": 567.5187303758512, \"firing_rate\": 567.5187303758512, \"i_spike\": 68.0, \"isi\": 0.05127438909946293}, {\"neuron_x_mouse\": \"m3bayes5\", \"i_trial\": 1, \"neuron\": \"5\", \"mouse\": \"m3bayes\", \"mouse_code\": 3, \"neuron_code\": 29, \"stim\": 0, \"log_firing_rate\": 1.9835085308603264, \"Firing rate\": 96.27389238988994, \"firing_rate\": 96.27389238988994, \"i_spike\": 59.0, \"isi\": 0.05911865846640796}, {\"neuron_x_mouse\": \"m3bayes5\", \"i_trial\": 1, \"neuron\": \"5\", \"mouse\": \"m3bayes\", \"mouse_code\": 3, \"neuron_code\": 29, \"stim\": 1, \"log_firing_rate\": 1.7382938846087865, \"Firing rate\": 54.73862507603197, \"firing_rate\": 54.73862507603197, \"i_spike\": 54.0, \"isi\": 0.06346912007109805}, {\"neuron_x_mouse\": \"m3bayes6\", \"i_trial\": 0, \"neuron\": \"6\", \"mouse\": \"m3bayes\", \"mouse_code\": 3, \"neuron_code\": 30, \"stim\": 0, \"log_firing_rate\": 2.179913192939141, \"Firing rate\": 151.32587470717732, \"firing_rate\": 151.32587470717732, \"i_spike\": 67.0, \"isi\": 0.05086919327344431}, {\"neuron_x_mouse\": \"m3bayes6\", \"i_trial\": 0, \"neuron\": \"6\", \"mouse\": \"m3bayes\", \"mouse_code\": 3, \"neuron_code\": 30, \"stim\": 1, \"log_firing_rate\": 2.617670721839169, \"Firing rate\": 414.63954745899224, \"firing_rate\": 414.63954745899224, \"i_spike\": 73.0, \"isi\": 0.04783793577076339}, {\"neuron_x_mouse\": \"m3bayes6\", \"i_trial\": 1, \"neuron\": \"6\", \"mouse\": \"m3bayes\", \"mouse_code\": 3, \"neuron_code\": 30, \"stim\": 0, \"log_firing_rate\": 1.9794730111962877, \"Firing rate\": 95.38344658943466, \"firing_rate\": 95.38344658943466, \"i_spike\": 67.0, \"isi\": 0.05226027963720107}, {\"neuron_x_mouse\": \"m3bayes6\", \"i_trial\": 1, \"neuron\": \"6\", \"mouse\": \"m3bayes\", \"mouse_code\": 3, \"neuron_code\": 30, \"stim\": 1, \"log_firing_rate\": 2.048256832289366, \"Firing rate\": 111.75239316964557, \"firing_rate\": 111.75239316964557, \"i_spike\": 73.0, \"isi\": 0.04745495577877033}, {\"neuron_x_mouse\": \"m3bayes7\", \"i_trial\": 0, \"neuron\": \"7\", \"mouse\": \"m3bayes\", \"mouse_code\": 3, \"neuron_code\": 31, \"stim\": 0, \"log_firing_rate\": 1.9452325678505369, \"Firing rate\": 88.15208074318744, \"firing_rate\": 88.15208074318744, \"i_spike\": 65.5, \"isi\": 0.05284203410580091}, {\"neuron_x_mouse\": \"m3bayes7\", \"i_trial\": 0, \"neuron\": \"7\", \"mouse\": \"m3bayes\", \"mouse_code\": 3, \"neuron_code\": 31, \"stim\": 1, \"log_firing_rate\": 2.0950307792202474, \"Firing rate\": 124.46028158548893, \"firing_rate\": 124.46028158548893, \"i_spike\": 71.5, \"isi\": 0.04750179299671621}, {\"neuron_x_mouse\": \"m3bayes7\", \"i_trial\": 1, \"neuron\": \"7\", \"mouse\": \"m3bayes\", \"mouse_code\": 3, \"neuron_code\": 31, \"stim\": 0, \"log_firing_rate\": 1.9320409822904279, \"Firing rate\": 85.51474052426933, \"firing_rate\": 85.51474052426933, \"i_spike\": 75.5, \"isi\": 0.04603497459762631}, {\"neuron_x_mouse\": \"m3bayes7\", \"i_trial\": 1, \"neuron\": \"7\", \"mouse\": \"m3bayes\", \"mouse_code\": 3, \"neuron_code\": 31, \"stim\": 1, \"log_firing_rate\": 2.0666913262943547, \"Firing rate\": 116.59806047180228, \"firing_rate\": 116.59806047180228, \"i_spike\": 63.5, \"isi\": 0.05273833143157227}]}}, {\"mode\": \"vega-lite\"});\n",
       "</script>"
      ],
      "text/plain": [
       "alt.LayerChart(...)"
      ]
     },
     "execution_count": 6,
     "metadata": {},
     "output_type": "execute_result"
    }
   ],
   "source": [
    "import altair as alt\n",
    "y='isi'\n",
    "color='mouse'\n",
    "x='neuron'\n",
    "\n",
    "base=alt.Chart(df).encode(\n",
    "            x=x,\n",
    "            color=f'{color}',\n",
    "            y=alt.Y(f'mean({y})',\n",
    "                    scale=alt.Scale(zero=False,\n",
    "                                    domain=list(np.quantile(df[y], [.05, .95])))),\n",
    ")\n",
    "\n",
    "# Create a selection that chooses the nearest point & selects based on x-value\n",
    "nearest = alt.selection(type='single', nearest=True, on='mouseover',\n",
    "                        fields=[x], empty='none')\n",
    "\n",
    "\n",
    "# Transparent selectors across the chart. This is what tells us\n",
    "# the x-value of the cursor\n",
    "selectors = alt.Chart(df).mark_point().encode(\n",
    "    x=x,\n",
    "    opacity=alt.value(0),\n",
    ").add_selection(\n",
    "    nearest\n",
    ")\n",
    "\n",
    "highlight = alt.selection(type='single', on='mouseover',\n",
    "                          fields=[color], nearest=True)\n",
    "\n",
    "lines=base.mark_line(clip=True, fill=None, opacity=.6, ).encode(\n",
    "            #tooltip=color,\n",
    "            size=alt.condition(~highlight, alt.value(1), alt.value(3))\n",
    "        )\n",
    "\n",
    "# Draw text labels near the points, and highlight based on selection\n",
    "text = lines.mark_text(align='left', dx=5, dy=-5).encode(\n",
    "    text=alt.condition(nearest, y, alt.value(' '))\n",
    ")\n",
    "\n",
    "points = base.mark_circle().encode(\n",
    "    opacity=alt.value(0)\n",
    ").add_selection(\n",
    "    highlight\n",
    ")\n",
    "\n",
    "alt.layer(\n",
    "    lines, selectors, points, text\n",
    ")"
   ]
  }
 ],
 "metadata": {
  "hide_code_all_hidden": false,
  "hide_input": false,
  "jupytext": {
   "formats": "ipynb,py:light"
  },
  "kernelspec": {
   "display_name": "Python 3",
   "language": "python",
   "name": "python"
  },
  "language_info": {
   "codemirror_mode": {
    "name": "ipython",
    "version": 3
   },
   "file_extension": ".py",
   "mimetype": "text/x-python",
   "name": "python",
   "nbconvert_exporter": "python",
   "pygments_lexer": "ipython3",
   "version": "3.8.10"
  }
 },
 "nbformat": 4,
 "nbformat_minor": 4
}