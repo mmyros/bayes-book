{
 "cells": [
  {
   "cell_type": "markdown",
   "metadata": {},
   "source": [
    "# Compare to alternative models"
   ]
  },
  {
   "cell_type": "code",
   "execution_count": 1,
   "metadata": {
    "scrolled": true
   },
   "outputs": [],
   "source": [
    "\n",
    "from bayes_window.generative_models import generate_fake_spikes\n",
    "from bayes_window.model_comparison import *\n",
    "from bayes_window import BayesWindow, BayesRegression, LMERegression, BayesConditions"
   ]
  },
  {
   "cell_type": "code",
   "execution_count": 2,
   "metadata": {},
   "outputs": [],
   "source": [
    "df, df_monster, index_cols, firing_rates = generate_fake_spikes(n_trials=140,\n",
    "                                                                n_neurons=10,\n",
    "                                                                n_mice=8,\n",
    "                                                                dur=7, \n",
    "                                                               mouse_response_slope=20,\n",
    "                                                               overall_stim_response_strength=4)"
   ]
  },
  {
   "cell_type": "markdown",
   "metadata": {},
   "source": [
    "## Bayesian"
   ]
  },
  {
   "cell_type": "code",
   "execution_count": 3,
   "metadata": {
    "scrolled": true
   },
   "outputs": [
    {
     "name": "stdout",
     "output_type": "stream",
     "text": [
      "changing x to neuron:Q\n"
     ]
    },
    {
     "data": {
      "image/png": "[encoded data removed]",
      "text/plain": [
       "<Figure size 432x648 with 1 Axes>"
      ]
     },
     "metadata": {
      "filenames": {
       "image/png": "/home/m/mmy/bayes-book/bayes_window_examples/_build/jupyter_execute/neurons_example/model_comparison_4_1.png"
      },
      "needs_background": "light"
     },
     "output_type": "display_data"
    },
    {
     "data": {
      "text/html": [
       "<div>\n",
       "<style scoped>\n",
       "    .dataframe tbody tr th:only-of-type {\n",
       "        vertical-align: middle;\n",
       "    }\n",
       "\n",
       "    .dataframe tbody tr th {\n",
       "        vertical-align: top;\n",
       "    }\n",
       "\n",
       "    .dataframe thead th {\n",
       "        text-align: right;\n",
       "    }\n",
       "</style>\n",
       "<table border=\"1\" class=\"dataframe\">\n",
       "  <thead>\n",
       "    <tr style=\"text-align: right;\">\n",
       "      <th></th>\n",
       "      <th>rank</th>\n",
       "      <th>loo</th>\n",
       "      <th>p_loo</th>\n",
       "      <th>d_loo</th>\n",
       "      <th>weight</th>\n",
       "      <th>se</th>\n",
       "      <th>dse</th>\n",
       "      <th>warning</th>\n",
       "      <th>loo_scale</th>\n",
       "    </tr>\n",
       "  </thead>\n",
       "  <tbody>\n",
       "    <tr>\n",
       "      <th>full_gamma</th>\n",
       "      <td>0</td>\n",
       "      <td>32800.181061</td>\n",
       "      <td>10.148326</td>\n",
       "      <td>0.000000</td>\n",
       "      <td>0.209874</td>\n",
       "      <td>80.148924</td>\n",
       "      <td>0.000000</td>\n",
       "      <td>False</td>\n",
       "      <td>log</td>\n",
       "    </tr>\n",
       "    <tr>\n",
       "      <th>full_normal</th>\n",
       "      <td>1</td>\n",
       "      <td>32797.850706</td>\n",
       "      <td>10.180607</td>\n",
       "      <td>2.330356</td>\n",
       "      <td>0.218620</td>\n",
       "      <td>82.822100</td>\n",
       "      <td>116.055187</td>\n",
       "      <td>False</td>\n",
       "      <td>log</td>\n",
       "    </tr>\n",
       "    <tr>\n",
       "      <th>full_lognormal</th>\n",
       "      <td>2</td>\n",
       "      <td>32740.708914</td>\n",
       "      <td>10.207770</td>\n",
       "      <td>59.472147</td>\n",
       "      <td>0.190389</td>\n",
       "      <td>81.804631</td>\n",
       "      <td>114.696236</td>\n",
       "      <td>False</td>\n",
       "      <td>log</td>\n",
       "    </tr>\n",
       "    <tr>\n",
       "      <th>full_exponential</th>\n",
       "      <td>3</td>\n",
       "      <td>32733.663128</td>\n",
       "      <td>10.253747</td>\n",
       "      <td>66.517933</td>\n",
       "      <td>0.198490</td>\n",
       "      <td>84.786284</td>\n",
       "      <td>117.216321</td>\n",
       "      <td>False</td>\n",
       "      <td>log</td>\n",
       "    </tr>\n",
       "    <tr>\n",
       "      <th>full_student</th>\n",
       "      <td>4</td>\n",
       "      <td>32723.879080</td>\n",
       "      <td>10.244597</td>\n",
       "      <td>76.301981</td>\n",
       "      <td>0.186213</td>\n",
       "      <td>83.032600</td>\n",
       "      <td>115.757964</td>\n",
       "      <td>False</td>\n",
       "      <td>log</td>\n",
       "    </tr>\n",
       "    <tr>\n",
       "      <th>no-treatment</th>\n",
       "      <td>5</td>\n",
       "      <td>28711.612359</td>\n",
       "      <td>1.901973</td>\n",
       "      <td>4088.568702</td>\n",
       "      <td>0.000441</td>\n",
       "      <td>72.408996</td>\n",
       "      <td>108.084748</td>\n",
       "      <td>False</td>\n",
       "      <td>log</td>\n",
       "    </tr>\n",
       "    <tr>\n",
       "      <th>no_condition_or_treatment</th>\n",
       "      <td>6</td>\n",
       "      <td>28637.277782</td>\n",
       "      <td>1.893751</td>\n",
       "      <td>4162.903279</td>\n",
       "      <td>0.000437</td>\n",
       "      <td>73.918917</td>\n",
       "      <td>108.777673</td>\n",
       "      <td>False</td>\n",
       "      <td>log</td>\n",
       "    </tr>\n",
       "    <tr>\n",
       "      <th>no_condition</th>\n",
       "      <td>7</td>\n",
       "      <td>17918.105834</td>\n",
       "      <td>0.719995</td>\n",
       "      <td>14882.075227</td>\n",
       "      <td>0.000001</td>\n",
       "      <td>58.119435</td>\n",
       "      <td>98.603778</td>\n",
       "      <td>False</td>\n",
       "      <td>log</td>\n",
       "    </tr>\n",
       "    <tr>\n",
       "      <th>no_group</th>\n",
       "      <td>8</td>\n",
       "      <td>17885.822620</td>\n",
       "      <td>0.755735</td>\n",
       "      <td>14914.358441</td>\n",
       "      <td>0.000000</td>\n",
       "      <td>58.333399</td>\n",
       "      <td>99.509256</td>\n",
       "      <td>False</td>\n",
       "      <td>log</td>\n",
       "    </tr>\n",
       "  </tbody>\n",
       "</table>\n",
       "</div>"
      ],
      "text/plain": [
       "                           rank           loo      p_loo         d_loo  \\\n",
       "full_gamma                    0  32800.181061  10.148326      0.000000   \n",
       "full_normal                   1  32797.850706  10.180607      2.330356   \n",
       "full_lognormal                2  32740.708914  10.207770     59.472147   \n",
       "full_exponential              3  32733.663128  10.253747     66.517933   \n",
       "full_student                  4  32723.879080  10.244597     76.301981   \n",
       "no-treatment                  5  28711.612359   1.901973   4088.568702   \n",
       "no_condition_or_treatment     6  28637.277782   1.893751   4162.903279   \n",
       "no_condition                  7  17918.105834   0.719995  14882.075227   \n",
       "no_group                      8  17885.822620   0.755735  14914.358441   \n",
       "\n",
       "                             weight         se         dse  warning loo_scale  \n",
       "full_gamma                 0.209874  80.148924    0.000000    False       log  \n",
       "full_normal                0.218620  82.822100  116.055187    False       log  \n",
       "full_lognormal             0.190389  81.804631  114.696236    False       log  \n",
       "full_exponential           0.198490  84.786284  117.216321    False       log  \n",
       "full_student               0.186213  83.032600  115.757964    False       log  \n",
       "no-treatment               0.000441  72.408996  108.084748    False       log  \n",
       "no_condition_or_treatment  0.000437  73.918917  108.777673    False       log  \n",
       "no_condition               0.000001  58.119435   98.603778    False       log  \n",
       "no_group                   0.000000  58.333399   99.509256    False       log  "
      ]
     },
     "execution_count": 3,
     "metadata": {},
     "output_type": "execute_result"
    }
   ],
   "source": [
    "window = BayesRegression(df=df, y='isi', treatment='stim', group='mouse', condition='neuron')\n",
    "window.fit(model=models.model_hierarchical, do_mean_over_trials=True,)\n",
    "window.explore_models()"
   ]
  },
  {
   "cell_type": "markdown",
   "metadata": {},
   "source": [
    "## Linear mixed effects model"
   ]
  },
  {
   "cell_type": "code",
   "execution_count": 4,
   "metadata": {},
   "outputs": [
    {
     "name": "stdout",
     "output_type": "stream",
     "text": [
      "Using formula isi ~ (1|mouse) + stim| neuron_x_mouse__0 + stim|neuron_x_mouse__1 + stim|neuron_x_mouse__2 + stim|neuron_x_mouse__3 + stim|neuron_x_mouse__4 + stim|neuron_x_mouse__5 + stim|neuron_x_mouse__6 + stim|neuron_x_mouse__7 + stim|neuron_x_mouse__8 + stim|neuron_x_mouse__9 + stim|neuron_x_mouse__10 + stim|neuron_x_mouse__11 + stim|neuron_x_mouse__12 + stim|neuron_x_mouse__13 + stim|neuron_x_mouse__14 + stim|neuron_x_mouse__15 + stim|neuron_x_mouse__16 + stim|neuron_x_mouse__17 + stim|neuron_x_mouse__18 + stim|neuron_x_mouse__19 + stim|neuron_x_mouse__20 + stim|neuron_x_mouse__21 + stim|neuron_x_mouse__22 + stim|neuron_x_mouse__23 + stim|neuron_x_mouse__24 + stim|neuron_x_mouse__25 + stim|neuron_x_mouse__26 + stim|neuron_x_mouse__27 + stim|neuron_x_mouse__28 + stim|neuron_x_mouse__29 + stim|neuron_x_mouse__30 + stim|neuron_x_mouse__31 + stim|neuron_x_mouse__32 + stim|neuron_x_mouse__33 + stim|neuron_x_mouse__34 + stim|neuron_x_mouse__35 + stim|neuron_x_mouse__36 + stim|neuron_x_mouse__37 + stim|neuron_x_mouse__38 + stim|neuron_x_mouse__39 + stim|neuron_x_mouse__40 + stim|neuron_x_mouse__41 + stim|neuron_x_mouse__42 + stim|neuron_x_mouse__43 + stim|neuron_x_mouse__44 + stim|neuron_x_mouse__45 + stim|neuron_x_mouse__46 + stim|neuron_x_mouse__47 + stim|neuron_x_mouse__48 + stim|neuron_x_mouse__49 + stim|neuron_x_mouse__50 + stim|neuron_x_mouse__51 + stim|neuron_x_mouse__52 + stim|neuron_x_mouse__53 + stim|neuron_x_mouse__54 + stim|neuron_x_mouse__55 + stim|neuron_x_mouse__56 + stim|neuron_x_mouse__57 + stim|neuron_x_mouse__58 + stim|neuron_x_mouse__59 + stim|neuron_x_mouse__60 + stim|neuron_x_mouse__61 + stim|neuron_x_mouse__62 + stim|neuron_x_mouse__63 + stim|neuron_x_mouse__64 + stim|neuron_x_mouse__65 + stim|neuron_x_mouse__66 + stim|neuron_x_mouse__67 + stim|neuron_x_mouse__68 + stim|neuron_x_mouse__69 + stim|neuron_x_mouse__70 + stim|neuron_x_mouse__71 + stim|neuron_x_mouse__72 + stim|neuron_x_mouse__73 + stim|neuron_x_mouse__74 + stim|neuron_x_mouse__75 + stim|neuron_x_mouse__76 + stim|neuron_x_mouse__77 + stim|neuron_x_mouse__78 + stim|neuron_x_mouse__79\n"
     ]
    },
    {
     "name": "stderr",
     "output_type": "stream",
     "text": [
      "/home/m/anaconda3/envs/dj/lib/python3.8/site-packages/statsmodels/regression/mixed_linear_model.py:2237: ConvergenceWarning: The MLE may be on the boundary of the parameter space.\n",
      "  warnings.warn(msg, ConvergenceWarning)\n"
     ]
    },
    {
     "name": "stdout",
     "output_type": "stream",
     "text": [
      "                            Coef. Std.Err.        z  P>|z|  [0.025  0.975]\n",
      "Intercept                   0.081    0.004   22.294  0.000   0.074   0.088\n",
      "1 | mouse                  -0.004    0.001   -4.534  0.000  -0.005  -0.002\n",
      "stim | neuron_x_mouse__0   -0.003    0.001   -3.975  0.000  -0.005  -0.002\n",
      "stim | neuron_x_mouse__1   -0.006    0.001   -7.787  0.000  -0.008  -0.005\n",
      "stim | neuron_x_mouse__2   -0.012    0.001  -14.526  0.000  -0.014  -0.010\n",
      "...                           ...      ...      ...    ...     ...     ...\n",
      "stim | neuron_x_mouse__76   0.003    0.001    3.363  0.001   0.001   0.004\n",
      "stim | neuron_x_mouse__77  -0.001    0.001   -0.997  0.319  -0.002   0.001\n",
      "stim | neuron_x_mouse__78  -0.004    0.001   -4.513  0.000  -0.005  -0.002\n",
      "stim | neuron_x_mouse__79  -0.007    0.001   -8.200  0.000  -0.008  -0.005\n",
      "Group Var                   0.000    0.002                                \n",
      "\n",
      "[83 rows x 6 columns]\n",
      "changing x to :Q\n",
      "isi~stim\n",
      "           sum_sq    df      F  PR(>F)\n",
      "stim         0.0   1.0  55.13     0.0\n",
      "Residual     0.0  14.0    NaN     NaN\n"
     ]
    },
    {
     "ename": "AttributeError",
     "evalue": "'LMERegression' object has no attribute 'posterior'",
     "output_type": "error",
     "traceback": [
      "\u001b[0;31m---------------------------------------------------------------------------\u001b[0m",
      "\u001b[0;31mAttributeError\u001b[0m                            Traceback (most recent call last)",
      "\u001b[0;32m<ipython-input-4-027e367b78ca>\u001b[0m in \u001b[0;36m<module>\u001b[0;34m\u001b[0m\n\u001b[1;32m      2\u001b[0m \u001b[0mwindow\u001b[0m\u001b[0;34m.\u001b[0m\u001b[0mfit\u001b[0m\u001b[0;34m(\u001b[0m\u001b[0;34m)\u001b[0m\u001b[0;34m\u001b[0m\u001b[0;34m\u001b[0m\u001b[0m\n\u001b[1;32m      3\u001b[0m \u001b[0mwindow\u001b[0m\u001b[0;34m.\u001b[0m\u001b[0mfit_anova\u001b[0m\u001b[0;34m(\u001b[0m\u001b[0;34m)\u001b[0m\u001b[0;34m\u001b[0m\u001b[0;34m\u001b[0m\u001b[0m\n\u001b[0;32m----> 4\u001b[0;31m \u001b[0mwindow\u001b[0m\u001b[0;34m.\u001b[0m\u001b[0mposterior\u001b[0m\u001b[0;34m\u001b[0m\u001b[0;34m\u001b[0m\u001b[0m\n\u001b[0m",
      "\u001b[0;31mAttributeError\u001b[0m: 'LMERegression' object has no attribute 'posterior'"
     ]
    }
   ],
   "source": [
    "window = LMERegression(df=df, y='isi', treatment='stim', group='mouse', condition='neuron_x_mouse')\n",
    "window.fit()\n",
    "window.fit_anova()\n",
    "window.posterior"
   ]
  },
  {
   "cell_type": "code",
   "execution_count": 6,
   "metadata": {
    "scrolled": true
   },
   "outputs": [
    {
     "data": {
      "text/html": [
       "\n",
       "<div id=\"altair-viz-86dfad5ce6e642c983cf527571bb233b\"></div>\n",
       "<script type=\"text/javascript\">\n",
       "  (function(spec, embedOpt){\n",
       "    let outputDiv = document.currentScript.previousElementSibling;\n",
       "    if (outputDiv.id !== \"altair-viz-86dfad5ce6e642c983cf527571bb233b\") {\n",
       "      outputDiv = document.getElementById(\"altair-viz-86dfad5ce6e642c983cf527571bb233b\");\n",
       "    }\n",
       "    const paths = {\n",
       "      \"vega\": \"https://cdn.jsdelivr.net/npm//vega@5?noext\",\n",
       "      \"vega-lib\": \"https://cdn.jsdelivr.net/npm//vega-lib?noext\",\n",
       "      \"vega-lite\": \"https://cdn.jsdelivr.net/npm//vega-lite@4.8.1?noext\",\n",
       "      \"vega-embed\": \"https://cdn.jsdelivr.net/npm//vega-embed@6?noext\",\n",
       "    };\n",
       "\n",
       "    function loadScript(lib) {\n",
       "      return new Promise(function(resolve, reject) {\n",
       "        var s = document.createElement('script');\n",
       "        s.src = paths[lib];\n",
       "        s.async = true;\n",
       "        s.onload = () => resolve(paths[lib]);\n",
       "        s.onerror = () => reject(`Error loading script: ${paths[lib]}`);\n",
       "        document.getElementsByTagName(\"head\")[0].appendChild(s);\n",
       "      });\n",
       "    }\n",
       "\n",
       "    function showError(err) {\n",
       "      outputDiv.innerHTML = `<div class=\"error\" style=\"color:red;\">${err}</div>`;\n",
       "      throw err;\n",
       "    }\n",
       "\n",
       "    function displayChart(vegaEmbed) {\n",
       "      vegaEmbed(outputDiv, spec, embedOpt)\n",
       "        .catch(err => showError(`Javascript Error: ${err.message}<br>This usually means there's a typo in your chart specification. See the javascript console for the full traceback.`));\n",
       "    }\n",
       "\n",
       "    if(typeof define === \"function\" && define.amd) {\n",
       "      requirejs.config({paths});\n",
       "      require([\"vega-embed\"], displayChart, err => showError(`Error loading script: ${err.message}`));\n",
       "    } else if (typeof vegaEmbed === \"function\") {\n",
       "      displayChart(vegaEmbed);\n",
       "    } else {\n",
       "      loadScript(\"vega\")\n",
       "        .then(() => loadScript(\"vega-lite\"))\n",
       "        .then(() => loadScript(\"vega-embed\"))\n",
       "        .catch(showError)\n",
       "        .then(() => displayChart(vegaEmbed));\n",
       "    }\n",
       "  })({\"config\": {\"view\": {\"continuousWidth\": 400, \"continuousHeight\": 300}}, \"layer\": [{\"mark\": {\"type\": \"rule\", \"clip\": true, \"opacity\": 0.4, \"size\": 0.8}, \"encoding\": {\"x\": {\"type\": \"quantitative\", \"field\": \"neuron_x_mouse\"}, \"y\": {\"type\": \"quantitative\", \"axis\": {\"orient\": \"left\", \"title\": \"\"}, \"field\": \"lower interval\", \"scale\": {\"domain\": [-0.036, 0.025], \"zero\": true}}, \"y2\": {\"field\": \"higher interval\"}}}, {\"mark\": {\"type\": \"line\", \"clip\": true, \"color\": \"black\", \"fill\": null, \"point\": false, \"size\": 1}, \"encoding\": {\"x\": {\"type\": \"quantitative\", \"field\": \"neuron_x_mouse\"}, \"y\": {\"type\": \"quantitative\", \"aggregate\": \"mean\", \"axis\": {\"orient\": \"left\"}, \"field\": \"center interval\", \"scale\": {\"domain\": [-0.036, 0.025], \"zero\": true}, \"title\": \"\\u0394 isi\"}}}, {\"mark\": {\"type\": \"line\", \"color\": \"black\", \"opacity\": 1, \"size\": 0.5}, \"encoding\": {\"x\": {\"type\": \"quantitative\", \"field\": \"neuron_x_mouse\"}, \"y\": {\"type\": \"quantitative\", \"axis\": {\"orient\": \"left\", \"title\": \"\"}, \"field\": \"zero\", \"scale\": {\"domain\": [-0.036, 0.025], \"zero\": true}}}}], \"data\": {\"name\": \"data-f4cae6c18928e2e4e7ec553f5ed291b7\"}, \"$schema\": \"https://vega.github.io/schema/vega-lite/v4.8.1.json\", \"datasets\": {\"data-f4cae6c18928e2e4e7ec553f5ed291b7\": [{\"neuron_x_mouse\": 0, \"center interval\": -0.002, \"Std.Err.\": 0.001, \"z\": -2.621, \"p\": 0.009, \"higher interval\": -0.004, \"lower interval\": -0.001, \"zero\": 0}, {\"neuron_x_mouse\": 1, \"center interval\": -0.006, \"Std.Err.\": 0.001, \"z\": -7.589, \"p\": 0.0, \"higher interval\": -0.008, \"lower interval\": -0.005, \"zero\": 0}, {\"neuron_x_mouse\": 2, \"center interval\": -0.013, \"Std.Err.\": 0.001, \"z\": -15.888, \"p\": 0.0, \"higher interval\": -0.015, \"lower interval\": -0.012, \"zero\": 0}, {\"neuron_x_mouse\": 3, \"center interval\": -0.015, \"Std.Err.\": 0.001, \"z\": -17.725, \"p\": 0.0, \"higher interval\": -0.016, \"lower interval\": -0.013, \"zero\": 0}, {\"neuron_x_mouse\": 4, \"center interval\": -0.019, \"Std.Err.\": 0.001, \"z\": -23.024, \"p\": 0.0, \"higher interval\": -0.021, \"lower interval\": -0.017, \"zero\": 0}, {\"neuron_x_mouse\": 5, \"center interval\": -0.023, \"Std.Err.\": 0.001, \"z\": -27.882, \"p\": 0.0, \"higher interval\": -0.025, \"lower interval\": -0.022, \"zero\": 0}, {\"neuron_x_mouse\": 6, \"center interval\": -0.027, \"Std.Err.\": 0.001, \"z\": -32.347, \"p\": 0.0, \"higher interval\": -0.028, \"lower interval\": -0.025, \"zero\": 0}, {\"neuron_x_mouse\": 7, \"center interval\": -0.03, \"Std.Err.\": 0.001, \"z\": -35.74, \"p\": 0.0, \"higher interval\": -0.031, \"lower interval\": -0.028, \"zero\": 0}, {\"neuron_x_mouse\": 8, \"center interval\": -0.034, \"Std.Err.\": 0.001, \"z\": -40.58, \"p\": 0.0, \"higher interval\": -0.035, \"lower interval\": -0.032, \"zero\": 0}, {\"neuron_x_mouse\": 9, \"center interval\": -0.038, \"Std.Err.\": 0.001, \"z\": -45.548, \"p\": 0.0, \"higher interval\": -0.039, \"lower interval\": -0.036, \"zero\": 0}, {\"neuron_x_mouse\": 10, \"center interval\": 0.01, \"Std.Err.\": 0.001, \"z\": 12.606, \"p\": 0.0, \"higher interval\": 0.009, \"lower interval\": 0.012, \"zero\": 0}, {\"neuron_x_mouse\": 11, \"center interval\": 0.006, \"Std.Err.\": 0.001, \"z\": 7.682, \"p\": 0.0, \"higher interval\": 0.005, \"lower interval\": 0.008, \"zero\": 0}, {\"neuron_x_mouse\": 12, \"center interval\": 0.002, \"Std.Err.\": 0.001, \"z\": 2.823, \"p\": 0.005, \"higher interval\": 0.001, \"lower interval\": 0.004, \"zero\": 0}, {\"neuron_x_mouse\": 13, \"center interval\": -0.001, \"Std.Err.\": 0.001, \"z\": -1.047, \"p\": 0.295, \"higher interval\": -0.002, \"lower interval\": 0.001, \"zero\": 0}, {\"neuron_x_mouse\": 14, \"center interval\": -0.006, \"Std.Err.\": 0.001, \"z\": -7.585, \"p\": 0.0, \"higher interval\": -0.008, \"lower interval\": -0.005, \"zero\": 0}, {\"neuron_x_mouse\": 15, \"center interval\": -0.011, \"Std.Err.\": 0.001, \"z\": -13.237, \"p\": 0.0, \"higher interval\": -0.013, \"lower interval\": -0.009, \"zero\": 0}, {\"neuron_x_mouse\": 16, \"center interval\": -0.015, \"Std.Err.\": 0.001, \"z\": -17.93, \"p\": 0.0, \"higher interval\": -0.017, \"lower interval\": -0.013, \"zero\": 0}, {\"neuron_x_mouse\": 17, \"center interval\": -0.018, \"Std.Err.\": 0.001, \"z\": -21.821, \"p\": 0.0, \"higher interval\": -0.02, \"lower interval\": -0.016, \"zero\": 0}, {\"neuron_x_mouse\": 18, \"center interval\": -0.021, \"Std.Err.\": 0.001, \"z\": -25.895, \"p\": 0.0, \"higher interval\": -0.023, \"lower interval\": -0.02, \"zero\": 0}, {\"neuron_x_mouse\": 19, \"center interval\": -0.024, \"Std.Err.\": 0.001, \"z\": -28.524, \"p\": 0.0, \"higher interval\": -0.025, \"lower interval\": -0.022, \"zero\": 0}, {\"neuron_x_mouse\": 20, \"center interval\": 0.015, \"Std.Err.\": 0.001, \"z\": 18.369, \"p\": 0.0, \"higher interval\": 0.014, \"lower interval\": 0.017, \"zero\": 0}, {\"neuron_x_mouse\": 21, \"center interval\": 0.012, \"Std.Err.\": 0.001, \"z\": 14.15, \"p\": 0.0, \"higher interval\": 0.01, \"lower interval\": 0.013, \"zero\": 0}, {\"neuron_x_mouse\": 22, \"center interval\": 0.007, \"Std.Err.\": 0.001, \"z\": 8.85, \"p\": 0.0, \"higher interval\": 0.006, \"lower interval\": 0.009, \"zero\": 0}, {\"neuron_x_mouse\": 23, \"center interval\": 0.003, \"Std.Err.\": 0.001, \"z\": 3.276, \"p\": 0.001, \"higher interval\": 0.001, \"lower interval\": 0.004, \"zero\": 0}, {\"neuron_x_mouse\": 24, \"center interval\": -0.0, \"Std.Err.\": 0.001, \"z\": -0.357, \"p\": 0.721, \"higher interval\": -0.002, \"lower interval\": 0.001, \"zero\": 0}, {\"neuron_x_mouse\": 25, \"center interval\": -0.004, \"Std.Err.\": 0.001, \"z\": -4.98, \"p\": 0.0, \"higher interval\": -0.006, \"lower interval\": -0.003, \"zero\": 0}, {\"neuron_x_mouse\": 26, \"center interval\": -0.007, \"Std.Err.\": 0.001, \"z\": -8.707, \"p\": 0.0, \"higher interval\": -0.009, \"lower interval\": -0.006, \"zero\": 0}, {\"neuron_x_mouse\": 27, \"center interval\": -0.012, \"Std.Err.\": 0.001, \"z\": -13.934, \"p\": 0.0, \"higher interval\": -0.013, \"lower interval\": -0.01, \"zero\": 0}, {\"neuron_x_mouse\": 28, \"center interval\": -0.015, \"Std.Err.\": 0.001, \"z\": -17.831, \"p\": 0.0, \"higher interval\": -0.016, \"lower interval\": -0.013, \"zero\": 0}, {\"neuron_x_mouse\": 29, \"center interval\": -0.018, \"Std.Err.\": 0.001, \"z\": -21.673, \"p\": 0.0, \"higher interval\": -0.02, \"lower interval\": -0.016, \"zero\": 0}, {\"neuron_x_mouse\": 30, \"center interval\": 0.019, \"Std.Err.\": 0.001, \"z\": 22.389, \"p\": 0.0, \"higher interval\": 0.017, \"lower interval\": 0.02, \"zero\": 0}, {\"neuron_x_mouse\": 31, \"center interval\": 0.015, \"Std.Err.\": 0.001, \"z\": 18.28, \"p\": 0.0, \"higher interval\": 0.014, \"lower interval\": 0.017, \"zero\": 0}, {\"neuron_x_mouse\": 32, \"center interval\": 0.011, \"Std.Err.\": 0.001, \"z\": 12.707, \"p\": 0.0, \"higher interval\": 0.009, \"lower interval\": 0.012, \"zero\": 0}, {\"neuron_x_mouse\": 33, \"center interval\": 0.007, \"Std.Err.\": 0.001, \"z\": 8.152, \"p\": 0.0, \"higher interval\": 0.005, \"lower interval\": 0.008, \"zero\": 0}, {\"neuron_x_mouse\": 34, \"center interval\": 0.003, \"Std.Err.\": 0.001, \"z\": 3.785, \"p\": 0.0, \"higher interval\": 0.002, \"lower interval\": 0.005, \"zero\": 0}, {\"neuron_x_mouse\": 35, \"center interval\": -0.001, \"Std.Err.\": 0.001, \"z\": -1.62, \"p\": 0.105, \"higher interval\": -0.003, \"lower interval\": 0.0, \"zero\": 0}, {\"neuron_x_mouse\": 36, \"center interval\": -0.004, \"Std.Err.\": 0.001, \"z\": -5.305, \"p\": 0.0, \"higher interval\": -0.006, \"lower interval\": -0.003, \"zero\": 0}, {\"neuron_x_mouse\": 37, \"center interval\": -0.009, \"Std.Err.\": 0.001, \"z\": -10.681, \"p\": 0.0, \"higher interval\": -0.01, \"lower interval\": -0.007, \"zero\": 0}, {\"neuron_x_mouse\": 38, \"center interval\": -0.011, \"Std.Err.\": 0.001, \"z\": -13.45, \"p\": 0.0, \"higher interval\": -0.013, \"lower interval\": -0.01, \"zero\": 0}, {\"neuron_x_mouse\": 39, \"center interval\": -0.014, \"Std.Err.\": 0.001, \"z\": -17.281, \"p\": 0.0, \"higher interval\": -0.016, \"lower interval\": -0.013, \"zero\": 0}, {\"neuron_x_mouse\": 40, \"center interval\": 0.021, \"Std.Err.\": 0.001, \"z\": 25.642, \"p\": 0.0, \"higher interval\": 0.02, \"lower interval\": 0.023, \"zero\": 0}, {\"neuron_x_mouse\": 41, \"center interval\": 0.017, \"Std.Err.\": 0.001, \"z\": 20.312, \"p\": 0.0, \"higher interval\": 0.015, \"lower interval\": 0.018, \"zero\": 0}, {\"neuron_x_mouse\": 42, \"center interval\": 0.014, \"Std.Err.\": 0.001, \"z\": 16.911, \"p\": 0.0, \"higher interval\": 0.012, \"lower interval\": 0.016, \"zero\": 0}, {\"neuron_x_mouse\": 43, \"center interval\": 0.01, \"Std.Err.\": 0.001, \"z\": 12.09, \"p\": 0.0, \"higher interval\": 0.008, \"lower interval\": 0.012, \"zero\": 0}, {\"neuron_x_mouse\": 44, \"center interval\": 0.007, \"Std.Err.\": 0.001, \"z\": 7.841, \"p\": 0.0, \"higher interval\": 0.005, \"lower interval\": 0.008, \"zero\": 0}, {\"neuron_x_mouse\": 45, \"center interval\": 0.002, \"Std.Err.\": 0.001, \"z\": 2.001, \"p\": 0.045, \"higher interval\": 0.0, \"lower interval\": 0.003, \"zero\": 0}, {\"neuron_x_mouse\": 46, \"center interval\": -0.002, \"Std.Err.\": 0.001, \"z\": -2.097, \"p\": 0.036, \"higher interval\": -0.003, \"lower interval\": -0.0, \"zero\": 0}, {\"neuron_x_mouse\": 47, \"center interval\": -0.005, \"Std.Err.\": 0.001, \"z\": -6.466, \"p\": 0.0, \"higher interval\": -0.007, \"lower interval\": -0.004, \"zero\": 0}, {\"neuron_x_mouse\": 48, \"center interval\": -0.009, \"Std.Err.\": 0.001, \"z\": -11.167, \"p\": 0.0, \"higher interval\": -0.011, \"lower interval\": -0.008, \"zero\": 0}, {\"neuron_x_mouse\": 49, \"center interval\": -0.012, \"Std.Err.\": 0.001, \"z\": -14.511, \"p\": 0.0, \"higher interval\": -0.014, \"lower interval\": -0.01, \"zero\": 0}, {\"neuron_x_mouse\": 50, \"center interval\": 0.027, \"Std.Err.\": 0.001, \"z\": 32.284, \"p\": 0.0, \"higher interval\": 0.025, \"lower interval\": 0.028, \"zero\": 0}, {\"neuron_x_mouse\": 51, \"center interval\": 0.019, \"Std.Err.\": 0.001, \"z\": 23.499, \"p\": 0.0, \"higher interval\": 0.018, \"lower interval\": 0.021, \"zero\": 0}, {\"neuron_x_mouse\": 52, \"center interval\": 0.013, \"Std.Err.\": 0.001, \"z\": 15.663, \"p\": 0.0, \"higher interval\": 0.011, \"lower interval\": 0.015, \"zero\": 0}, {\"neuron_x_mouse\": 53, \"center interval\": 0.011, \"Std.Err.\": 0.001, \"z\": 13.473, \"p\": 0.0, \"higher interval\": 0.01, \"lower interval\": 0.013, \"zero\": 0}, {\"neuron_x_mouse\": 54, \"center interval\": 0.007, \"Std.Err.\": 0.001, \"z\": 7.88, \"p\": 0.0, \"higher interval\": 0.005, \"lower interval\": 0.008, \"zero\": 0}, {\"neuron_x_mouse\": 55, \"center interval\": 0.003, \"Std.Err.\": 0.001, \"z\": 3.702, \"p\": 0.0, \"higher interval\": 0.001, \"lower interval\": 0.005, \"zero\": 0}, {\"neuron_x_mouse\": 56, \"center interval\": 0.0, \"Std.Err.\": 0.001, \"z\": 0.191, \"p\": 0.849, \"higher interval\": -0.001, \"lower interval\": 0.002, \"zero\": 0}, {\"neuron_x_mouse\": 57, \"center interval\": -0.003, \"Std.Err.\": 0.001, \"z\": -4.007, \"p\": 0.0, \"higher interval\": -0.005, \"lower interval\": -0.002, \"zero\": 0}, {\"neuron_x_mouse\": 58, \"center interval\": -0.007, \"Std.Err.\": 0.001, \"z\": -8.995, \"p\": 0.0, \"higher interval\": -0.009, \"lower interval\": -0.006, \"zero\": 0}, {\"neuron_x_mouse\": 59, \"center interval\": -0.01, \"Std.Err.\": 0.001, \"z\": -11.956, \"p\": 0.0, \"higher interval\": -0.012, \"lower interval\": -0.008, \"zero\": 0}, {\"neuron_x_mouse\": 60, \"center interval\": 0.025, \"Std.Err.\": 0.001, \"z\": 30.298, \"p\": 0.0, \"higher interval\": 0.024, \"lower interval\": 0.027, \"zero\": 0}, {\"neuron_x_mouse\": 61, \"center interval\": 0.022, \"Std.Err.\": 0.001, \"z\": 26.096, \"p\": 0.0, \"higher interval\": 0.02, \"lower interval\": 0.023, \"zero\": 0}, {\"neuron_x_mouse\": 62, \"center interval\": 0.016, \"Std.Err.\": 0.001, \"z\": 18.92, \"p\": 0.0, \"higher interval\": 0.014, \"lower interval\": 0.017, \"zero\": 0}, {\"neuron_x_mouse\": 63, \"center interval\": 0.013, \"Std.Err.\": 0.001, \"z\": 15.13, \"p\": 0.0, \"higher interval\": 0.011, \"lower interval\": 0.014, \"zero\": 0}, {\"neuron_x_mouse\": 64, \"center interval\": 0.009, \"Std.Err.\": 0.001, \"z\": 11.154, \"p\": 0.0, \"higher interval\": 0.008, \"lower interval\": 0.011, \"zero\": 0}, {\"neuron_x_mouse\": 65, \"center interval\": 0.005, \"Std.Err.\": 0.001, \"z\": 6.124, \"p\": 0.0, \"higher interval\": 0.003, \"lower interval\": 0.007, \"zero\": 0}, {\"neuron_x_mouse\": 66, \"center interval\": 0.001, \"Std.Err.\": 0.001, \"z\": 1.308, \"p\": 0.191, \"higher interval\": -0.001, \"lower interval\": 0.003, \"zero\": 0}, {\"neuron_x_mouse\": 67, \"center interval\": -0.002, \"Std.Err.\": 0.001, \"z\": -1.944, \"p\": 0.052, \"higher interval\": -0.003, \"lower interval\": 0.0, \"zero\": 0}, {\"neuron_x_mouse\": 68, \"center interval\": -0.005, \"Std.Err.\": 0.001, \"z\": -6.398, \"p\": 0.0, \"higher interval\": -0.007, \"lower interval\": -0.004, \"zero\": 0}, {\"neuron_x_mouse\": 69, \"center interval\": -0.008, \"Std.Err.\": 0.001, \"z\": -9.691, \"p\": 0.0, \"higher interval\": -0.01, \"lower interval\": -0.006, \"zero\": 0}, {\"neuron_x_mouse\": 70, \"center interval\": 0.025, \"Std.Err.\": 0.001, \"z\": 30.169, \"p\": 0.0, \"higher interval\": 0.023, \"lower interval\": 0.027, \"zero\": 0}, {\"neuron_x_mouse\": 71, \"center interval\": 0.022, \"Std.Err.\": 0.001, \"z\": 26.593, \"p\": 0.0, \"higher interval\": 0.02, \"lower interval\": 0.024, \"zero\": 0}, {\"neuron_x_mouse\": 72, \"center interval\": 0.018, \"Std.Err.\": 0.001, \"z\": 22.202, \"p\": 0.0, \"higher interval\": 0.017, \"lower interval\": 0.02, \"zero\": 0}, {\"neuron_x_mouse\": 73, \"center interval\": 0.014, \"Std.Err.\": 0.001, \"z\": 17.216, \"p\": 0.0, \"higher interval\": 0.013, \"lower interval\": 0.016, \"zero\": 0}, {\"neuron_x_mouse\": 74, \"center interval\": 0.009, \"Std.Err.\": 0.001, \"z\": 11.115, \"p\": 0.0, \"higher interval\": 0.008, \"lower interval\": 0.011, \"zero\": 0}, {\"neuron_x_mouse\": 75, \"center interval\": 0.006, \"Std.Err.\": 0.001, \"z\": 7.593, \"p\": 0.0, \"higher interval\": 0.005, \"lower interval\": 0.008, \"zero\": 0}, {\"neuron_x_mouse\": 76, \"center interval\": 0.003, \"Std.Err.\": 0.001, \"z\": 3.635, \"p\": 0.0, \"higher interval\": 0.001, \"lower interval\": 0.005, \"zero\": 0}, {\"neuron_x_mouse\": 77, \"center interval\": -0.001, \"Std.Err.\": 0.001, \"z\": -1.75, \"p\": 0.08, \"higher interval\": -0.003, \"lower interval\": 0.0, \"zero\": 0}, {\"neuron_x_mouse\": 78, \"center interval\": -0.004, \"Std.Err.\": 0.001, \"z\": -4.968, \"p\": 0.0, \"higher interval\": -0.006, \"lower interval\": -0.002, \"zero\": 0}, {\"neuron_x_mouse\": 79, \"center interval\": -0.007, \"Std.Err.\": 0.001, \"z\": -8.54, \"p\": 0.0, \"higher interval\": -0.009, \"lower interval\": -0.005, \"zero\": 0}]}}, {\"mode\": \"vega-lite\"});\n",
       "</script>"
      ],
      "text/plain": [
       "alt.LayerChart(...)"
      ]
     },
     "execution_count": 6,
     "metadata": {},
     "output_type": "execute_result"
    }
   ],
   "source": [
    "window.plot(x='neuron_x_mouse')"
   ]
  },
  {
   "cell_type": "markdown",
   "metadata": {},
   "source": [
    "Simple one-way ANOVA:"
   ]
  },
  {
   "cell_type": "code",
   "execution_count": 7,
   "metadata": {},
   "outputs": [
    {
     "name": "stdout",
     "output_type": "stream",
     "text": [
      "isi~stim\n",
      "           sum_sq    df      F  PR(>F)\n",
      "stim         0.0   1.0  52.91     0.0\n",
      "Residual     0.0  14.0    NaN     NaN\n"
     ]
    },
    {
     "data": {
      "text/plain": [
       "True"
      ]
     },
     "execution_count": 7,
     "metadata": {},
     "output_type": "execute_result"
    }
   ],
   "source": [
    "window.fit_anova()"
   ]
  },
  {
   "cell_type": "markdown",
   "metadata": {},
   "source": [
    "Of course in reality, neurons don't have this consistent variation in each mouse. This would only be applicable to a priori classes of neurons"
   ]
  }
 ],
 "metadata": {
  "hide_input": false,
  "kernelspec": {
   "display_name": "PyCharm (jup)",
   "language": "python",
   "name": "pycharm-d5912792"
  },
  "language_info": {
   "codemirror_mode": {
    "name": "ipython",
    "version": 3
   },
   "file_extension": ".py",
   "mimetype": "text/x-python",
   "name": "python",
   "nbconvert_exporter": "python",
   "pygments_lexer": "ipython3",
   "version": "3.8.5"
  }
 },
 "nbformat": 4,
 "nbformat_minor": 4
}