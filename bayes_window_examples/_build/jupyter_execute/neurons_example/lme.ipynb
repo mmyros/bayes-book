{
 "cells": [
  {
   "cell_type": "markdown",
   "metadata": {},
   "source": [
    "# Linear mixed effects"
   ]
  },
  {
   "cell_type": "code",
   "execution_count": 23,
   "metadata": {},
   "outputs": [],
   "source": [
    "from bayes_window import models, BayesWindow, LMERegression\n",
    "from bayes_window.generative_models import generate_fake_spikes, generate_fake_lfp\n",
    "import numpy as np"
   ]
  },
  {
   "cell_type": "code",
   "execution_count": 24,
   "metadata": {},
   "outputs": [],
   "source": [
    "df, df_monster, index_cols, _ = generate_fake_lfp(mouse_response_slope=8,\n",
    "                                                 n_trials=40)\n"
   ]
  },
  {
   "cell_type": "markdown",
   "metadata": {},
   "source": [
    "## LFP \n",
    "Without data overlay"
   ]
  },
  {
   "cell_type": "code",
   "execution_count": 25,
   "metadata": {},
   "outputs": [
    {
     "name": "stdout",
     "output_type": "stream",
     "text": [
      "Using formula Log_power ~  C(stim, Treatment) + (1 | mouse)\n",
      "                          Coef.    Std.Err.       z  P>|z|       [0.025  \\\n",
      "Intercept                 0.013                                           \n",
      "C(stim, Treatment)[T.1]   0.123       0.022   5.496  0.000        0.079   \n",
      "1 | mouse                -0.076  174464.372  -0.000  1.000  -341943.961   \n",
      "Group Var                 0.000                                           \n",
      "\n",
      "                             0.975]  \n",
      "Intercept                            \n",
      "C(stim, Treatment)[T.1]       0.167  \n",
      "1 | mouse                341943.809  \n",
      "Group Var                            \n"
     ]
    },
    {
     "name": "stderr",
     "output_type": "stream",
     "text": [
      "/home/m/anaconda3/envs/dj/lib/python3.8/site-packages/statsmodels/base/model.py:566: ConvergenceWarning: Maximum Likelihood optimization failed to converge. Check mle_retvals\n",
      "  warnings.warn(\"Maximum Likelihood optimization failed to \"\n",
      "/home/m/anaconda3/envs/dj/lib/python3.8/site-packages/statsmodels/regression/mixed_linear_model.py:2200: ConvergenceWarning: Retrying MixedLM optimization with lbfgs\n",
      "  warnings.warn(\n",
      "/home/m/anaconda3/envs/dj/lib/python3.8/site-packages/statsmodels/regression/mixed_linear_model.py:2237: ConvergenceWarning: The MLE may be on the boundary of the parameter space.\n",
      "  warnings.warn(msg, ConvergenceWarning)\n",
      "/home/m/anaconda3/envs/dj/lib/python3.8/site-packages/statsmodels/regression/mixed_linear_model.py:2261: ConvergenceWarning: The Hessian matrix at the estimated parameter values is not positive definite.\n",
      "  warnings.warn(msg, ConvergenceWarning)\n"
     ]
    },
    {
     "data": {
      "text/html": [
       "\n",
       "<div id=\"altair-viz-77481c4870fd4011a718ebfe4c698246\"></div>\n",
       "<script type=\"text/javascript\">\n",
       "  (function(spec, embedOpt){\n",
       "    let outputDiv = document.currentScript.previousElementSibling;\n",
       "    if (outputDiv.id !== \"altair-viz-77481c4870fd4011a718ebfe4c698246\") {\n",
       "      outputDiv = document.getElementById(\"altair-viz-77481c4870fd4011a718ebfe4c698246\");\n",
       "    }\n",
       "    const paths = {\n",
       "      \"vega\": \"https://cdn.jsdelivr.net/npm//vega@5?noext\",\n",
       "      \"vega-lib\": \"https://cdn.jsdelivr.net/npm//vega-lib?noext\",\n",
       "      \"vega-lite\": \"https://cdn.jsdelivr.net/npm//vega-lite@4.8.1?noext\",\n",
       "      \"vega-embed\": \"https://cdn.jsdelivr.net/npm//vega-embed@6?noext\",\n",
       "    };\n",
       "\n",
       "    function loadScript(lib) {\n",
       "      return new Promise(function(resolve, reject) {\n",
       "        var s = document.createElement('script');\n",
       "        s.src = paths[lib];\n",
       "        s.async = true;\n",
       "        s.onload = () => resolve(paths[lib]);\n",
       "        s.onerror = () => reject(`Error loading script: ${paths[lib]}`);\n",
       "        document.getElementsByTagName(\"head\")[0].appendChild(s);\n",
       "      });\n",
       "    }\n",
       "\n",
       "    function showError(err) {\n",
       "      outputDiv.innerHTML = `<div class=\"error\" style=\"color:red;\">${err}</div>`;\n",
       "      throw err;\n",
       "    }\n",
       "\n",
       "    function displayChart(vegaEmbed) {\n",
       "      vegaEmbed(outputDiv, spec, embedOpt)\n",
       "        .catch(err => showError(`Javascript Error: ${err.message}<br>This usually means there's a typo in your chart specification. See the javascript console for the full traceback.`));\n",
       "    }\n",
       "\n",
       "    if(typeof define === \"function\" && define.amd) {\n",
       "      requirejs.config({paths});\n",
       "      require([\"vega-embed\"], displayChart, err => showError(`Error loading script: ${err.message}`));\n",
       "    } else if (typeof vegaEmbed === \"function\") {\n",
       "      displayChart(vegaEmbed);\n",
       "    } else {\n",
       "      loadScript(\"vega\")\n",
       "        .then(() => loadScript(\"vega-lite\"))\n",
       "        .then(() => loadScript(\"vega-embed\"))\n",
       "        .catch(showError)\n",
       "        .then(() => displayChart(vegaEmbed));\n",
       "    }\n",
       "  })({\"config\": {\"view\": {\"continuousWidth\": 400, \"continuousHeight\": 300}}, \"layer\": [{\"mark\": {\"type\": \"rule\", \"clip\": true, \"opacity\": 0.4, \"size\": 0.8}, \"encoding\": {\"x\": {\"type\": \"quantitative\", \"field\": \"\"}, \"y\": {\"type\": \"quantitative\", \"axis\": {\"orient\": \"left\", \"title\": \"\"}, \"field\": \"lower interval\", \"scale\": {\"domain\": [0, 0.167], \"zero\": true}}, \"y2\": {\"field\": \"higher interval\"}}}, {\"mark\": {\"type\": \"line\", \"clip\": true, \"color\": \"black\", \"fill\": null, \"point\": false, \"size\": 1}, \"encoding\": {\"x\": {\"type\": \"quantitative\", \"field\": \"\"}, \"y\": {\"type\": \"quantitative\", \"aggregate\": \"mean\", \"axis\": {\"orient\": \"left\"}, \"field\": \"center interval\", \"scale\": {\"domain\": [0, 0.167], \"zero\": true}, \"title\": \"\\u0394 Log_power\"}}}, {\"mark\": {\"type\": \"line\", \"color\": \"black\", \"opacity\": 1, \"size\": 0.5}, \"encoding\": {\"x\": {\"type\": \"quantitative\", \"field\": \"\"}, \"y\": {\"type\": \"quantitative\", \"axis\": {\"orient\": \"left\", \"title\": \"\"}, \"field\": \"zero\", \"scale\": {\"domain\": [0, 0.167], \"zero\": true}}}}], \"data\": {\"name\": \"data-ffc6489f7574974ad552c6f0462869e9\"}, \"$schema\": \"https://vega.github.io/schema/vega-lite/v4.8.1.json\", \"datasets\": {\"data-ffc6489f7574974ad552c6f0462869e9\": [{\"index\": \"C(stim, Treatment)[T.1]\", \"center interval\": 0.123, \"Std.Err.\": 0.022, \"z\": 5.496, \"p\": 0.0, \"higher interval\": 0.079, \"lower interval\": 0.167, \"zero\": 0}]}}, {\"mode\": \"vega-lite\"});\n",
       "</script>"
      ],
      "text/plain": [
       "alt.LayerChart(...)"
      ]
     },
     "metadata": {},
     "output_type": "display_data"
    }
   ],
   "source": [
    "bw = LMERegression(df=df, y='Log power', treatment='stim', group='mouse')\n",
    "bw.fit(add_data=False)\n",
    "bw.plot().display()"
   ]
  },
  {
   "cell_type": "code",
   "execution_count": 26,
   "metadata": {},
   "outputs": [
    {
     "data": {
      "text/html": [
       "<div>\n",
       "<style scoped>\n",
       "    .dataframe tbody tr th:only-of-type {\n",
       "        vertical-align: middle;\n",
       "    }\n",
       "\n",
       "    .dataframe tbody tr th {\n",
       "        vertical-align: top;\n",
       "    }\n",
       "\n",
       "    .dataframe thead th {\n",
       "        text-align: right;\n",
       "    }\n",
       "</style>\n",
       "<table border=\"1\" class=\"dataframe\">\n",
       "  <thead>\n",
       "    <tr style=\"text-align: right;\">\n",
       "      <th></th>\n",
       "      <th>index</th>\n",
       "      <th>center interval</th>\n",
       "      <th>Std.Err.</th>\n",
       "      <th>z</th>\n",
       "      <th>p</th>\n",
       "      <th>higher interval</th>\n",
       "      <th>lower interval</th>\n",
       "      <th>zero</th>\n",
       "    </tr>\n",
       "  </thead>\n",
       "  <tbody>\n",
       "    <tr>\n",
       "      <th>0</th>\n",
       "      <td>C(stim, Treatment)[T.1]</td>\n",
       "      <td>0.123</td>\n",
       "      <td>0.022</td>\n",
       "      <td>5.496</td>\n",
       "      <td>0.0</td>\n",
       "      <td>0.079</td>\n",
       "      <td>0.167</td>\n",
       "      <td>0</td>\n",
       "    </tr>\n",
       "  </tbody>\n",
       "</table>\n",
       "</div>"
      ],
      "text/plain": [
       "                     index  center interval  Std.Err.      z    p  \\\n",
       "0  C(stim, Treatment)[T.1]            0.123     0.022  5.496  0.0   \n",
       "\n",
       "   higher interval  lower interval  zero  \n",
       "0            0.079           0.167     0  "
      ]
     },
     "execution_count": 26,
     "metadata": {},
     "output_type": "execute_result"
    }
   ],
   "source": [
    "bw.data_and_posterior"
   ]
  },
  {
   "cell_type": "markdown",
   "metadata": {},
   "source": [
    "## With data overlay"
   ]
  },
  {
   "cell_type": "code",
   "execution_count": 27,
   "metadata": {},
   "outputs": [
    {
     "name": "stdout",
     "output_type": "stream",
     "text": [
      "Using formula Log_power ~  C(stim, Treatment) + (1 | mouse)\n",
      "                          Coef.    Std.Err.       z  P>|z|       [0.025  \\\n",
      "Intercept                 0.013                                           \n",
      "C(stim, Treatment)[T.1]   0.123       0.022   5.496  0.000        0.079   \n",
      "1 | mouse                -0.076  174464.372  -0.000  1.000  -341943.961   \n",
      "Group Var                 0.000                                           \n",
      "\n",
      "                             0.975]  \n",
      "Intercept                            \n",
      "C(stim, Treatment)[T.1]       0.167  \n",
      "1 | mouse                341943.809  \n",
      "Group Var                            \n",
      "\n",
      " Data addition to LME is not implemented\n"
     ]
    },
    {
     "name": "stderr",
     "output_type": "stream",
     "text": [
      "/home/m/anaconda3/envs/dj/lib/python3.8/site-packages/statsmodels/base/model.py:566: ConvergenceWarning: Maximum Likelihood optimization failed to converge. Check mle_retvals\n",
      "  warnings.warn(\"Maximum Likelihood optimization failed to \"\n",
      "/home/m/anaconda3/envs/dj/lib/python3.8/site-packages/statsmodels/regression/mixed_linear_model.py:2200: ConvergenceWarning: Retrying MixedLM optimization with lbfgs\n",
      "  warnings.warn(\n",
      "/home/m/anaconda3/envs/dj/lib/python3.8/site-packages/statsmodels/regression/mixed_linear_model.py:2237: ConvergenceWarning: The MLE may be on the boundary of the parameter space.\n",
      "  warnings.warn(msg, ConvergenceWarning)\n",
      "/home/m/anaconda3/envs/dj/lib/python3.8/site-packages/statsmodels/regression/mixed_linear_model.py:2261: ConvergenceWarning: The Hessian matrix at the estimated parameter values is not positive definite.\n",
      "  warnings.warn(msg, ConvergenceWarning)\n"
     ]
    }
   ],
   "source": [
    "bw = LMERegression(df=df, y='Log power', treatment='stim', group='mouse')\n",
    "try:\n",
    "    bw.fit(add_data=True, do_make_change='subtract');\n",
    "    bw.plot()    \n",
    "except NotImplementedError:\n",
    "    print('\\n Data addition to LME is not implemented')"
   ]
  },
  {
   "cell_type": "markdown",
   "metadata": {},
   "source": [
    "## Spikes"
   ]
  },
  {
   "cell_type": "code",
   "execution_count": 28,
   "metadata": {},
   "outputs": [],
   "source": [
    "df, df_monster, index_cols, firing_rates = generate_fake_spikes(n_trials=20,\n",
    "                                                                n_neurons=6,\n",
    "                                                                n_mice=3,\n",
    "                                                                dur=5,\n",
    "                                                               mouse_response_slope=40,\n",
    "                                                               overall_stim_response_strength=5)\n",
    "df['log_isi']=np.log10(df['isi'])"
   ]
  },
  {
   "cell_type": "code",
   "execution_count": 29,
   "metadata": {
    "scrolled": true
   },
   "outputs": [
    {
     "name": "stdout",
     "output_type": "stream",
     "text": [
      "Using formula log_isi ~ (1|mouse) + stim| neuron_x_mouse__0 + stim|neuron_x_mouse__1 + stim|neuron_x_mouse__2 + stim|neuron_x_mouse__3 + stim|neuron_x_mouse__4 + stim|neuron_x_mouse__5 + stim|neuron_x_mouse__6 + stim|neuron_x_mouse__7 + stim|neuron_x_mouse__8 + stim|neuron_x_mouse__9 + stim|neuron_x_mouse__10 + stim|neuron_x_mouse__11 + stim|neuron_x_mouse__12 + stim|neuron_x_mouse__13 + stim|neuron_x_mouse__14 + stim|neuron_x_mouse__15 + stim|neuron_x_mouse__16 + stim|neuron_x_mouse__17\n",
      "                            Coef. Std.Err.        z  P>|z|  [0.025  0.975]\n",
      "Intercept                  -1.044    0.123   -8.513  0.000  -1.284  -0.804\n",
      "1 | mouse                  -0.081    0.064   -1.271  0.204  -0.207   0.044\n",
      "stim | neuron_x_mouse__0   -0.037    0.020   -1.879  0.060  -0.076   0.002\n",
      "stim | neuron_x_mouse__1   -0.076    0.020   -3.818  0.000  -0.114  -0.037\n",
      "stim | neuron_x_mouse__2   -0.116    0.020   -5.870  0.000  -0.155  -0.077\n",
      "stim | neuron_x_mouse__3   -0.168    0.020   -8.468  0.000  -0.207  -0.129\n",
      "stim | neuron_x_mouse__4   -0.203    0.020  -10.241  0.000  -0.242  -0.164\n",
      "stim | neuron_x_mouse__5   -0.247    0.020  -12.464  0.000  -0.286  -0.208\n",
      "stim | neuron_x_mouse__6    0.120    0.020    6.058  0.000   0.081   0.159\n",
      "stim | neuron_x_mouse__7    0.072    0.020    3.635  0.000   0.033   0.111\n",
      "stim | neuron_x_mouse__8    0.038    0.020    1.907  0.057  -0.001   0.077\n",
      "stim | neuron_x_mouse__9   -0.029    0.020   -1.488  0.137  -0.068   0.009\n",
      "stim | neuron_x_mouse__10  -0.062    0.020   -3.127  0.002  -0.101  -0.023\n",
      "stim | neuron_x_mouse__11  -0.085    0.020   -4.313  0.000  -0.124  -0.047\n",
      "stim | neuron_x_mouse__12   0.207    0.020   10.453  0.000   0.168   0.246\n",
      "stim | neuron_x_mouse__13   0.164    0.020    8.260  0.000   0.125   0.202\n",
      "stim | neuron_x_mouse__14   0.116    0.020    5.841  0.000   0.077   0.154\n",
      "stim | neuron_x_mouse__15   0.096    0.020    4.828  0.000   0.057   0.134\n",
      "stim | neuron_x_mouse__16   0.044    0.020    2.211  0.027   0.005   0.083\n",
      "stim | neuron_x_mouse__17  -0.005    0.020   -0.257  0.797  -0.044   0.034\n",
      "Group Var                   0.011    0.179                                \n"
     ]
    }
   ],
   "source": [
    "bw = LMERegression(df=df, y='log_isi', treatment='stim', condition=['neuron_x_mouse'], group='mouse',)\n",
    "bw.fit(add_data=False,add_group_intercept=True, add_group_slope=False);"
   ]
  },
  {
   "cell_type": "code",
   "execution_count": 30,
   "metadata": {},
   "outputs": [
    {
     "data": {
      "text/html": [
       "\n",
       "<div id=\"altair-viz-015192426ebe4c87b5099c373f7db9cd\"></div>\n",
       "<script type=\"text/javascript\">\n",
       "  (function(spec, embedOpt){\n",
       "    let outputDiv = document.currentScript.previousElementSibling;\n",
       "    if (outputDiv.id !== \"altair-viz-015192426ebe4c87b5099c373f7db9cd\") {\n",
       "      outputDiv = document.getElementById(\"altair-viz-015192426ebe4c87b5099c373f7db9cd\");\n",
       "    }\n",
       "    const paths = {\n",
       "      \"vega\": \"https://cdn.jsdelivr.net/npm//vega@5?noext\",\n",
       "      \"vega-lib\": \"https://cdn.jsdelivr.net/npm//vega-lib?noext\",\n",
       "      \"vega-lite\": \"https://cdn.jsdelivr.net/npm//vega-lite@4.8.1?noext\",\n",
       "      \"vega-embed\": \"https://cdn.jsdelivr.net/npm//vega-embed@6?noext\",\n",
       "    };\n",
       "\n",
       "    function loadScript(lib) {\n",
       "      return new Promise(function(resolve, reject) {\n",
       "        var s = document.createElement('script');\n",
       "        s.src = paths[lib];\n",
       "        s.async = true;\n",
       "        s.onload = () => resolve(paths[lib]);\n",
       "        s.onerror = () => reject(`Error loading script: ${paths[lib]}`);\n",
       "        document.getElementsByTagName(\"head\")[0].appendChild(s);\n",
       "      });\n",
       "    }\n",
       "\n",
       "    function showError(err) {\n",
       "      outputDiv.innerHTML = `<div class=\"error\" style=\"color:red;\">${err}</div>`;\n",
       "      throw err;\n",
       "    }\n",
       "\n",
       "    function displayChart(vegaEmbed) {\n",
       "      vegaEmbed(outputDiv, spec, embedOpt)\n",
       "        .catch(err => showError(`Javascript Error: ${err.message}<br>This usually means there's a typo in your chart specification. See the javascript console for the full traceback.`));\n",
       "    }\n",
       "\n",
       "    if(typeof define === \"function\" && define.amd) {\n",
       "      requirejs.config({paths});\n",
       "      require([\"vega-embed\"], displayChart, err => showError(`Error loading script: ${err.message}`));\n",
       "    } else if (typeof vegaEmbed === \"function\") {\n",
       "      displayChart(vegaEmbed);\n",
       "    } else {\n",
       "      loadScript(\"vega\")\n",
       "        .then(() => loadScript(\"vega-lite\"))\n",
       "        .then(() => loadScript(\"vega-embed\"))\n",
       "        .catch(showError)\n",
       "        .then(() => displayChart(vegaEmbed));\n",
       "    }\n",
       "  })({\"config\": {\"view\": {\"continuousWidth\": 400, \"continuousHeight\": 300}}, \"layer\": [{\"mark\": {\"type\": \"rule\", \"clip\": true, \"opacity\": 0.4, \"size\": 0.8}, \"encoding\": {\"x\": {\"type\": \"quantitative\", \"field\": \"\"}, \"y\": {\"type\": \"quantitative\", \"axis\": {\"orient\": \"left\", \"title\": \"\"}, \"field\": \"lower interval\", \"scale\": {\"domain\": [-0.208, 0.168], \"zero\": true}}, \"y2\": {\"field\": \"higher interval\"}}}, {\"mark\": {\"type\": \"line\", \"clip\": true, \"color\": \"black\", \"fill\": null, \"point\": false, \"size\": 1}, \"encoding\": {\"x\": {\"type\": \"quantitative\", \"field\": \"\"}, \"y\": {\"type\": \"quantitative\", \"aggregate\": \"mean\", \"axis\": {\"orient\": \"left\"}, \"field\": \"center interval\", \"scale\": {\"domain\": [-0.208, 0.168], \"zero\": true}, \"title\": \"\\u0394 log_isi\"}}}, {\"mark\": {\"type\": \"line\", \"color\": \"black\", \"opacity\": 1, \"size\": 0.5}, \"encoding\": {\"x\": {\"type\": \"quantitative\", \"field\": \"\"}, \"y\": {\"type\": \"quantitative\", \"axis\": {\"orient\": \"left\", \"title\": \"\"}, \"field\": \"zero\", \"scale\": {\"domain\": [-0.208, 0.168], \"zero\": true}}}}], \"data\": {\"name\": \"data-b01ad25cbe509d798de3f000c8aa0e5f\"}, \"$schema\": \"https://vega.github.io/schema/vega-lite/v4.8.1.json\", \"datasets\": {\"data-b01ad25cbe509d798de3f000c8aa0e5f\": [{\"neuron_x_mouse\": 0, \"center interval\": -0.037, \"Std.Err.\": 0.02, \"z\": -1.879, \"p\": 0.06, \"higher interval\": -0.076, \"lower interval\": 0.002, \"zero\": 0}, {\"neuron_x_mouse\": 6, \"center interval\": -0.076, \"Std.Err.\": 0.02, \"z\": -3.818, \"p\": 0.0, \"higher interval\": -0.114, \"lower interval\": -0.037, \"zero\": 0}, {\"neuron_x_mouse\": 12, \"center interval\": -0.116, \"Std.Err.\": 0.02, \"z\": -5.87, \"p\": 0.0, \"higher interval\": -0.155, \"lower interval\": -0.077, \"zero\": 0}, {\"neuron_x_mouse\": 1, \"center interval\": -0.168, \"Std.Err.\": 0.02, \"z\": -8.468, \"p\": 0.0, \"higher interval\": -0.207, \"lower interval\": -0.129, \"zero\": 0}, {\"neuron_x_mouse\": 7, \"center interval\": -0.203, \"Std.Err.\": 0.02, \"z\": -10.241, \"p\": 0.0, \"higher interval\": -0.242, \"lower interval\": -0.164, \"zero\": 0}, {\"neuron_x_mouse\": 13, \"center interval\": -0.247, \"Std.Err.\": 0.02, \"z\": -12.464, \"p\": 0.0, \"higher interval\": -0.286, \"lower interval\": -0.208, \"zero\": 0}, {\"neuron_x_mouse\": 2, \"center interval\": 0.12, \"Std.Err.\": 0.02, \"z\": 6.058, \"p\": 0.0, \"higher interval\": 0.081, \"lower interval\": 0.159, \"zero\": 0}, {\"neuron_x_mouse\": 8, \"center interval\": 0.072, \"Std.Err.\": 0.02, \"z\": 3.635, \"p\": 0.0, \"higher interval\": 0.033, \"lower interval\": 0.111, \"zero\": 0}, {\"neuron_x_mouse\": 14, \"center interval\": 0.038, \"Std.Err.\": 0.02, \"z\": 1.907, \"p\": 0.057, \"higher interval\": -0.001, \"lower interval\": 0.077, \"zero\": 0}, {\"neuron_x_mouse\": 3, \"center interval\": -0.029, \"Std.Err.\": 0.02, \"z\": -1.488, \"p\": 0.137, \"higher interval\": -0.068, \"lower interval\": 0.009, \"zero\": 0}, {\"neuron_x_mouse\": 9, \"center interval\": -0.062, \"Std.Err.\": 0.02, \"z\": -3.127, \"p\": 0.002, \"higher interval\": -0.101, \"lower interval\": -0.023, \"zero\": 0}, {\"neuron_x_mouse\": 15, \"center interval\": -0.085, \"Std.Err.\": 0.02, \"z\": -4.313, \"p\": 0.0, \"higher interval\": -0.124, \"lower interval\": -0.047, \"zero\": 0}, {\"neuron_x_mouse\": 4, \"center interval\": 0.207, \"Std.Err.\": 0.02, \"z\": 10.453, \"p\": 0.0, \"higher interval\": 0.168, \"lower interval\": 0.246, \"zero\": 0}, {\"neuron_x_mouse\": 10, \"center interval\": 0.164, \"Std.Err.\": 0.02, \"z\": 8.26, \"p\": 0.0, \"higher interval\": 0.125, \"lower interval\": 0.202, \"zero\": 0}, {\"neuron_x_mouse\": 16, \"center interval\": 0.116, \"Std.Err.\": 0.02, \"z\": 5.841, \"p\": 0.0, \"higher interval\": 0.077, \"lower interval\": 0.154, \"zero\": 0}, {\"neuron_x_mouse\": 5, \"center interval\": 0.096, \"Std.Err.\": 0.02, \"z\": 4.828, \"p\": 0.0, \"higher interval\": 0.057, \"lower interval\": 0.134, \"zero\": 0}, {\"neuron_x_mouse\": 11, \"center interval\": 0.044, \"Std.Err.\": 0.02, \"z\": 2.211, \"p\": 0.027, \"higher interval\": 0.005, \"lower interval\": 0.083, \"zero\": 0}, {\"neuron_x_mouse\": 17, \"center interval\": -0.005, \"Std.Err.\": 0.02, \"z\": -0.257, \"p\": 0.797, \"higher interval\": -0.044, \"lower interval\": 0.034, \"zero\": 0}]}}, {\"mode\": \"vega-lite\"});\n",
       "</script>"
      ],
      "text/plain": [
       "alt.LayerChart(...)"
      ]
     },
     "execution_count": 30,
     "metadata": {},
     "output_type": "execute_result"
    }
   ],
   "source": [
    "bw.chart"
   ]
  },
  {
   "cell_type": "markdown",
   "metadata": {},
   "source": [
    "### Group slope"
   ]
  },
  {
   "cell_type": "code",
   "execution_count": 31,
   "metadata": {},
   "outputs": [
    {
     "name": "stdout",
     "output_type": "stream",
     "text": [
      "Using formula log_isi ~ (stim|mouse)  + stim| neuron_x_mouse__0 + stim|neuron_x_mouse__1 + stim|neuron_x_mouse__2 + stim|neuron_x_mouse__3 + stim|neuron_x_mouse__4 + stim|neuron_x_mouse__5 + stim|neuron_x_mouse__6 + stim|neuron_x_mouse__7 + stim|neuron_x_mouse__8 + stim|neuron_x_mouse__9 + stim|neuron_x_mouse__10 + stim|neuron_x_mouse__11 + stim|neuron_x_mouse__12 + stim|neuron_x_mouse__13 + stim|neuron_x_mouse__14 + stim|neuron_x_mouse__15 + stim|neuron_x_mouse__16 + stim|neuron_x_mouse__17\n",
      "                            Coef. Std.Err.        z  P>|z|  [0.025  0.975]\n",
      "Intercept                  -1.101    0.086  -12.776  0.000  -1.270  -0.932\n",
      "stim | mouse               -0.081    0.064   -1.271  0.204  -0.207   0.044\n",
      "stim | neuron_x_mouse__0   -0.061    0.027   -2.224  0.026  -0.115  -0.007\n",
      "stim | neuron_x_mouse__1   -0.100    0.027   -3.621  0.000  -0.153  -0.046\n",
      "stim | neuron_x_mouse__2   -0.140    0.027   -5.099  0.000  -0.194  -0.086\n",
      "stim | neuron_x_mouse__3   -0.192    0.027   -6.970  0.000  -0.246  -0.138\n",
      "stim | neuron_x_mouse__4   -0.227    0.027   -8.248  0.000  -0.281  -0.173\n",
      "stim | neuron_x_mouse__5   -0.271    0.027   -9.848  0.000  -0.325  -0.217\n",
      "stim | neuron_x_mouse__6    0.177    0.049    3.612  0.000   0.081   0.274\n",
      "stim | neuron_x_mouse__7    0.129    0.049    2.635  0.008   0.033   0.226\n",
      "stim | neuron_x_mouse__8    0.095    0.049    1.938  0.053  -0.001   0.192\n",
      "stim | neuron_x_mouse__9    0.028    0.049    0.570  0.569  -0.068   0.124\n",
      "stim | neuron_x_mouse__10  -0.004    0.049   -0.091  0.928  -0.101   0.092\n",
      "stim | neuron_x_mouse__11  -0.028    0.049   -0.569  0.569  -0.124   0.068\n",
      "stim | neuron_x_mouse__12   0.183    0.027    6.781  0.000   0.130   0.236\n",
      "stim | neuron_x_mouse__13   0.140    0.027    5.172  0.000   0.087   0.192\n",
      "stim | neuron_x_mouse__14   0.092    0.027    3.398  0.001   0.039   0.145\n",
      "stim | neuron_x_mouse__15   0.072    0.027    2.655  0.008   0.019   0.125\n",
      "stim | neuron_x_mouse__16   0.020    0.027    0.734  0.463  -0.033   0.073\n",
      "stim | neuron_x_mouse__17  -0.029    0.027   -1.076  0.282  -0.082   0.024\n",
      "Group Var                   0.011    0.179                                \n"
     ]
    },
    {
     "data": {
      "text/plain": [
       "<bayes_window.lme.LMERegression at 0x7ff8c107a0a0>"
      ]
     },
     "execution_count": 31,
     "metadata": {},
     "output_type": "execute_result"
    }
   ],
   "source": [
    "bw = LMERegression(df=df, y='log_isi', treatment='stim', condition=['neuron_x_mouse'], group='mouse',)\n",
    "bw.fit(add_data=False,add_group_intercept=True, add_group_slope=True)"
   ]
  },
  {
   "cell_type": "code",
   "execution_count": 32,
   "metadata": {},
   "outputs": [
    {
     "data": {
      "text/html": [
       "\n",
       "<div id=\"altair-viz-f6508668bca9410a94c1575b961acdb7\"></div>\n",
       "<script type=\"text/javascript\">\n",
       "  (function(spec, embedOpt){\n",
       "    let outputDiv = document.currentScript.previousElementSibling;\n",
       "    if (outputDiv.id !== \"altair-viz-f6508668bca9410a94c1575b961acdb7\") {\n",
       "      outputDiv = document.getElementById(\"altair-viz-f6508668bca9410a94c1575b961acdb7\");\n",
       "    }\n",
       "    const paths = {\n",
       "      \"vega\": \"https://cdn.jsdelivr.net/npm//vega@5?noext\",\n",
       "      \"vega-lib\": \"https://cdn.jsdelivr.net/npm//vega-lib?noext\",\n",
       "      \"vega-lite\": \"https://cdn.jsdelivr.net/npm//vega-lite@4.8.1?noext\",\n",
       "      \"vega-embed\": \"https://cdn.jsdelivr.net/npm//vega-embed@6?noext\",\n",
       "    };\n",
       "\n",
       "    function loadScript(lib) {\n",
       "      return new Promise(function(resolve, reject) {\n",
       "        var s = document.createElement('script');\n",
       "        s.src = paths[lib];\n",
       "        s.async = true;\n",
       "        s.onload = () => resolve(paths[lib]);\n",
       "        s.onerror = () => reject(`Error loading script: ${paths[lib]}`);\n",
       "        document.getElementsByTagName(\"head\")[0].appendChild(s);\n",
       "      });\n",
       "    }\n",
       "\n",
       "    function showError(err) {\n",
       "      outputDiv.innerHTML = `<div class=\"error\" style=\"color:red;\">${err}</div>`;\n",
       "      throw err;\n",
       "    }\n",
       "\n",
       "    function displayChart(vegaEmbed) {\n",
       "      vegaEmbed(outputDiv, spec, embedOpt)\n",
       "        .catch(err => showError(`Javascript Error: ${err.message}<br>This usually means there's a typo in your chart specification. See the javascript console for the full traceback.`));\n",
       "    }\n",
       "\n",
       "    if(typeof define === \"function\" && define.amd) {\n",
       "      requirejs.config({paths});\n",
       "      require([\"vega-embed\"], displayChart, err => showError(`Error loading script: ${err.message}`));\n",
       "    } else if (typeof vegaEmbed === \"function\") {\n",
       "      displayChart(vegaEmbed);\n",
       "    } else {\n",
       "      loadScript(\"vega\")\n",
       "        .then(() => loadScript(\"vega-lite\"))\n",
       "        .then(() => loadScript(\"vega-embed\"))\n",
       "        .catch(showError)\n",
       "        .then(() => displayChart(vegaEmbed));\n",
       "    }\n",
       "  })({\"config\": {\"view\": {\"continuousWidth\": 400, \"continuousHeight\": 300}}, \"layer\": [{\"mark\": {\"type\": \"rule\", \"clip\": true, \"opacity\": 0.4, \"size\": 0.8}, \"encoding\": {\"x\": {\"type\": \"quantitative\", \"field\": \"\"}, \"y\": {\"type\": \"quantitative\", \"axis\": {\"orient\": \"left\", \"title\": \"\"}, \"field\": \"lower interval\", \"scale\": {\"domain\": [-0.217, 0.13], \"zero\": true}}, \"y2\": {\"field\": \"higher interval\"}}}, {\"mark\": {\"type\": \"line\", \"clip\": true, \"color\": \"black\", \"fill\": null, \"point\": false, \"size\": 1}, \"encoding\": {\"x\": {\"type\": \"quantitative\", \"field\": \"\"}, \"y\": {\"type\": \"quantitative\", \"aggregate\": \"mean\", \"axis\": {\"orient\": \"left\"}, \"field\": \"center interval\", \"scale\": {\"domain\": [-0.217, 0.13], \"zero\": true}, \"title\": \"\\u0394 log_isi\"}}}, {\"mark\": {\"type\": \"line\", \"color\": \"black\", \"opacity\": 1, \"size\": 0.5}, \"encoding\": {\"x\": {\"type\": \"quantitative\", \"field\": \"\"}, \"y\": {\"type\": \"quantitative\", \"axis\": {\"orient\": \"left\", \"title\": \"\"}, \"field\": \"zero\", \"scale\": {\"domain\": [-0.217, 0.13], \"zero\": true}}}}], \"data\": {\"name\": \"data-b165fc92fab177f2a4c2a146744cf650\"}, \"$schema\": \"https://vega.github.io/schema/vega-lite/v4.8.1.json\", \"datasets\": {\"data-b165fc92fab177f2a4c2a146744cf650\": [{\"neuron_x_mouse\": 0, \"center interval\": -0.061, \"Std.Err.\": 0.027, \"z\": -2.224, \"p\": 0.026, \"higher interval\": -0.115, \"lower interval\": -0.007, \"zero\": 0}, {\"neuron_x_mouse\": 6, \"center interval\": -0.1, \"Std.Err.\": 0.027, \"z\": -3.621, \"p\": 0.0, \"higher interval\": -0.153, \"lower interval\": -0.046, \"zero\": 0}, {\"neuron_x_mouse\": 12, \"center interval\": -0.14, \"Std.Err.\": 0.027, \"z\": -5.099, \"p\": 0.0, \"higher interval\": -0.194, \"lower interval\": -0.086, \"zero\": 0}, {\"neuron_x_mouse\": 1, \"center interval\": -0.192, \"Std.Err.\": 0.027, \"z\": -6.97, \"p\": 0.0, \"higher interval\": -0.246, \"lower interval\": -0.138, \"zero\": 0}, {\"neuron_x_mouse\": 7, \"center interval\": -0.227, \"Std.Err.\": 0.027, \"z\": -8.248, \"p\": 0.0, \"higher interval\": -0.281, \"lower interval\": -0.173, \"zero\": 0}, {\"neuron_x_mouse\": 13, \"center interval\": -0.271, \"Std.Err.\": 0.027, \"z\": -9.848, \"p\": 0.0, \"higher interval\": -0.325, \"lower interval\": -0.217, \"zero\": 0}, {\"neuron_x_mouse\": 2, \"center interval\": 0.177, \"Std.Err.\": 0.049, \"z\": 3.612, \"p\": 0.0, \"higher interval\": 0.081, \"lower interval\": 0.274, \"zero\": 0}, {\"neuron_x_mouse\": 8, \"center interval\": 0.129, \"Std.Err.\": 0.049, \"z\": 2.635, \"p\": 0.008, \"higher interval\": 0.033, \"lower interval\": 0.226, \"zero\": 0}, {\"neuron_x_mouse\": 14, \"center interval\": 0.095, \"Std.Err.\": 0.049, \"z\": 1.938, \"p\": 0.053, \"higher interval\": -0.001, \"lower interval\": 0.192, \"zero\": 0}, {\"neuron_x_mouse\": 3, \"center interval\": 0.028, \"Std.Err.\": 0.049, \"z\": 0.57, \"p\": 0.569, \"higher interval\": -0.068, \"lower interval\": 0.124, \"zero\": 0}, {\"neuron_x_mouse\": 9, \"center interval\": -0.004, \"Std.Err.\": 0.049, \"z\": -0.091, \"p\": 0.928, \"higher interval\": -0.101, \"lower interval\": 0.092, \"zero\": 0}, {\"neuron_x_mouse\": 15, \"center interval\": -0.028, \"Std.Err.\": 0.049, \"z\": -0.569, \"p\": 0.569, \"higher interval\": -0.124, \"lower interval\": 0.068, \"zero\": 0}, {\"neuron_x_mouse\": 4, \"center interval\": 0.183, \"Std.Err.\": 0.027, \"z\": 6.781, \"p\": 0.0, \"higher interval\": 0.13, \"lower interval\": 0.236, \"zero\": 0}, {\"neuron_x_mouse\": 10, \"center interval\": 0.14, \"Std.Err.\": 0.027, \"z\": 5.172, \"p\": 0.0, \"higher interval\": 0.087, \"lower interval\": 0.192, \"zero\": 0}, {\"neuron_x_mouse\": 16, \"center interval\": 0.092, \"Std.Err.\": 0.027, \"z\": 3.398, \"p\": 0.001, \"higher interval\": 0.039, \"lower interval\": 0.145, \"zero\": 0}, {\"neuron_x_mouse\": 5, \"center interval\": 0.072, \"Std.Err.\": 0.027, \"z\": 2.655, \"p\": 0.008, \"higher interval\": 0.019, \"lower interval\": 0.125, \"zero\": 0}, {\"neuron_x_mouse\": 11, \"center interval\": 0.02, \"Std.Err.\": 0.027, \"z\": 0.734, \"p\": 0.463, \"higher interval\": -0.033, \"lower interval\": 0.073, \"zero\": 0}, {\"neuron_x_mouse\": 17, \"center interval\": -0.029, \"Std.Err.\": 0.027, \"z\": -1.076, \"p\": 0.282, \"higher interval\": -0.082, \"lower interval\": 0.024, \"zero\": 0}]}}, {\"mode\": \"vega-lite\"});\n",
       "</script>"
      ],
      "text/plain": [
       "alt.LayerChart(...)"
      ]
     },
     "execution_count": 32,
     "metadata": {},
     "output_type": "execute_result"
    }
   ],
   "source": [
    "bw.chart"
   ]
  },
  {
   "cell_type": "code",
   "execution_count": 33,
   "metadata": {},
   "outputs": [
    {
     "data": {
      "text/html": [
       "\n",
       "<div id=\"altair-viz-65e195eecbd74ca7b188847a279f8b52\"></div>\n",
       "<script type=\"text/javascript\">\n",
       "  (function(spec, embedOpt){\n",
       "    let outputDiv = document.currentScript.previousElementSibling;\n",
       "    if (outputDiv.id !== \"altair-viz-65e195eecbd74ca7b188847a279f8b52\") {\n",
       "      outputDiv = document.getElementById(\"altair-viz-65e195eecbd74ca7b188847a279f8b52\");\n",
       "    }\n",
       "    const paths = {\n",
       "      \"vega\": \"https://cdn.jsdelivr.net/npm//vega@5?noext\",\n",
       "      \"vega-lib\": \"https://cdn.jsdelivr.net/npm//vega-lib?noext\",\n",
       "      \"vega-lite\": \"https://cdn.jsdelivr.net/npm//vega-lite@4.8.1?noext\",\n",
       "      \"vega-embed\": \"https://cdn.jsdelivr.net/npm//vega-embed@6?noext\",\n",
       "    };\n",
       "\n",
       "    function loadScript(lib) {\n",
       "      return new Promise(function(resolve, reject) {\n",
       "        var s = document.createElement('script');\n",
       "        s.src = paths[lib];\n",
       "        s.async = true;\n",
       "        s.onload = () => resolve(paths[lib]);\n",
       "        s.onerror = () => reject(`Error loading script: ${paths[lib]}`);\n",
       "        document.getElementsByTagName(\"head\")[0].appendChild(s);\n",
       "      });\n",
       "    }\n",
       "\n",
       "    function showError(err) {\n",
       "      outputDiv.innerHTML = `<div class=\"error\" style=\"color:red;\">${err}</div>`;\n",
       "      throw err;\n",
       "    }\n",
       "\n",
       "    function displayChart(vegaEmbed) {\n",
       "      vegaEmbed(outputDiv, spec, embedOpt)\n",
       "        .catch(err => showError(`Javascript Error: ${err.message}<br>This usually means there's a typo in your chart specification. See the javascript console for the full traceback.`));\n",
       "    }\n",
       "\n",
       "    if(typeof define === \"function\" && define.amd) {\n",
       "      requirejs.config({paths});\n",
       "      require([\"vega-embed\"], displayChart, err => showError(`Error loading script: ${err.message}`));\n",
       "    } else if (typeof vegaEmbed === \"function\") {\n",
       "      displayChart(vegaEmbed);\n",
       "    } else {\n",
       "      loadScript(\"vega\")\n",
       "        .then(() => loadScript(\"vega-lite\"))\n",
       "        .then(() => loadScript(\"vega-embed\"))\n",
       "        .catch(showError)\n",
       "        .then(() => displayChart(vegaEmbed));\n",
       "    }\n",
       "  })({\"config\": {\"view\": {\"continuousWidth\": 400, \"continuousHeight\": 300}}, \"layer\": [{\"mark\": {\"type\": \"rule\", \"clip\": true, \"opacity\": 0.4, \"size\": 0.8}, \"encoding\": {\"x\": {\"type\": \"quantitative\", \"field\": \"neuron_x_mouse\"}, \"y\": {\"type\": \"quantitative\", \"axis\": {\"orient\": \"left\", \"title\": \"\"}, \"field\": \"lower interval\", \"scale\": {\"domain\": [-0.217, 0.13], \"zero\": true}}, \"y2\": {\"field\": \"higher interval\"}}}, {\"mark\": {\"type\": \"line\", \"clip\": true, \"color\": \"black\", \"fill\": null, \"point\": false, \"size\": 1}, \"encoding\": {\"x\": {\"type\": \"quantitative\", \"field\": \"neuron_x_mouse\"}, \"y\": {\"type\": \"quantitative\", \"aggregate\": \"mean\", \"axis\": {\"orient\": \"left\"}, \"field\": \"center interval\", \"scale\": {\"domain\": [-0.217, 0.13], \"zero\": true}, \"title\": \"\\u0394 log_isi\"}}}, {\"mark\": {\"type\": \"line\", \"color\": \"black\", \"opacity\": 1, \"size\": 0.5}, \"encoding\": {\"x\": {\"type\": \"quantitative\", \"field\": \"neuron_x_mouse\"}, \"y\": {\"type\": \"quantitative\", \"axis\": {\"orient\": \"left\", \"title\": \"\"}, \"field\": \"zero\", \"scale\": {\"domain\": [-0.217, 0.13], \"zero\": true}}}}], \"data\": {\"name\": \"data-b165fc92fab177f2a4c2a146744cf650\"}, \"$schema\": \"https://vega.github.io/schema/vega-lite/v4.8.1.json\", \"datasets\": {\"data-b165fc92fab177f2a4c2a146744cf650\": [{\"neuron_x_mouse\": 0, \"center interval\": -0.061, \"Std.Err.\": 0.027, \"z\": -2.224, \"p\": 0.026, \"higher interval\": -0.115, \"lower interval\": -0.007, \"zero\": 0}, {\"neuron_x_mouse\": 6, \"center interval\": -0.1, \"Std.Err.\": 0.027, \"z\": -3.621, \"p\": 0.0, \"higher interval\": -0.153, \"lower interval\": -0.046, \"zero\": 0}, {\"neuron_x_mouse\": 12, \"center interval\": -0.14, \"Std.Err.\": 0.027, \"z\": -5.099, \"p\": 0.0, \"higher interval\": -0.194, \"lower interval\": -0.086, \"zero\": 0}, {\"neuron_x_mouse\": 1, \"center interval\": -0.192, \"Std.Err.\": 0.027, \"z\": -6.97, \"p\": 0.0, \"higher interval\": -0.246, \"lower interval\": -0.138, \"zero\": 0}, {\"neuron_x_mouse\": 7, \"center interval\": -0.227, \"Std.Err.\": 0.027, \"z\": -8.248, \"p\": 0.0, \"higher interval\": -0.281, \"lower interval\": -0.173, \"zero\": 0}, {\"neuron_x_mouse\": 13, \"center interval\": -0.271, \"Std.Err.\": 0.027, \"z\": -9.848, \"p\": 0.0, \"higher interval\": -0.325, \"lower interval\": -0.217, \"zero\": 0}, {\"neuron_x_mouse\": 2, \"center interval\": 0.177, \"Std.Err.\": 0.049, \"z\": 3.612, \"p\": 0.0, \"higher interval\": 0.081, \"lower interval\": 0.274, \"zero\": 0}, {\"neuron_x_mouse\": 8, \"center interval\": 0.129, \"Std.Err.\": 0.049, \"z\": 2.635, \"p\": 0.008, \"higher interval\": 0.033, \"lower interval\": 0.226, \"zero\": 0}, {\"neuron_x_mouse\": 14, \"center interval\": 0.095, \"Std.Err.\": 0.049, \"z\": 1.938, \"p\": 0.053, \"higher interval\": -0.001, \"lower interval\": 0.192, \"zero\": 0}, {\"neuron_x_mouse\": 3, \"center interval\": 0.028, \"Std.Err.\": 0.049, \"z\": 0.57, \"p\": 0.569, \"higher interval\": -0.068, \"lower interval\": 0.124, \"zero\": 0}, {\"neuron_x_mouse\": 9, \"center interval\": -0.004, \"Std.Err.\": 0.049, \"z\": -0.091, \"p\": 0.928, \"higher interval\": -0.101, \"lower interval\": 0.092, \"zero\": 0}, {\"neuron_x_mouse\": 15, \"center interval\": -0.028, \"Std.Err.\": 0.049, \"z\": -0.569, \"p\": 0.569, \"higher interval\": -0.124, \"lower interval\": 0.068, \"zero\": 0}, {\"neuron_x_mouse\": 4, \"center interval\": 0.183, \"Std.Err.\": 0.027, \"z\": 6.781, \"p\": 0.0, \"higher interval\": 0.13, \"lower interval\": 0.236, \"zero\": 0}, {\"neuron_x_mouse\": 10, \"center interval\": 0.14, \"Std.Err.\": 0.027, \"z\": 5.172, \"p\": 0.0, \"higher interval\": 0.087, \"lower interval\": 0.192, \"zero\": 0}, {\"neuron_x_mouse\": 16, \"center interval\": 0.092, \"Std.Err.\": 0.027, \"z\": 3.398, \"p\": 0.001, \"higher interval\": 0.039, \"lower interval\": 0.145, \"zero\": 0}, {\"neuron_x_mouse\": 5, \"center interval\": 0.072, \"Std.Err.\": 0.027, \"z\": 2.655, \"p\": 0.008, \"higher interval\": 0.019, \"lower interval\": 0.125, \"zero\": 0}, {\"neuron_x_mouse\": 11, \"center interval\": 0.02, \"Std.Err.\": 0.027, \"z\": 0.734, \"p\": 0.463, \"higher interval\": -0.033, \"lower interval\": 0.073, \"zero\": 0}, {\"neuron_x_mouse\": 17, \"center interval\": -0.029, \"Std.Err.\": 0.027, \"z\": -1.076, \"p\": 0.282, \"higher interval\": -0.082, \"lower interval\": 0.024, \"zero\": 0}]}}, {\"mode\": \"vega-lite\"});\n",
       "</script>"
      ],
      "text/plain": [
       "alt.LayerChart(...)"
      ]
     },
     "metadata": {},
     "output_type": "display_data"
    }
   ],
   "source": [
    "bw.plot(x='neuron_x_mouse:O').display()"
   ]
  },
  {
   "cell_type": "markdown",
   "metadata": {},
   "source": [
    "### Categorical "
   ]
  },
  {
   "cell_type": "code",
   "execution_count": 34,
   "metadata": {},
   "outputs": [
    {
     "name": "stdout",
     "output_type": "stream",
     "text": [
      "Using formula log_isi ~ (1|mouse) + C(stim| neuron_x_mouse)\n",
      "                                 Coef.    Std.Err.       z  P>|z|  \\\n",
      "Intercept                       -0.849  149904.162  -0.000  1.000   \n",
      "C(stim | neuron_x_mouse)[T.1]   -0.064       0.028  -2.261  0.024   \n",
      "C(stim | neuron_x_mouse)[T.2]   -0.079       0.035  -2.283  0.022   \n",
      "C(stim | neuron_x_mouse)[T.3]   -0.127       0.028  -4.501  0.000   \n",
      "C(stim | neuron_x_mouse)[T.4]   -0.166       0.035  -4.784  0.000   \n",
      "C(stim | neuron_x_mouse)[T.5]   -0.206       0.028  -7.286  0.000   \n",
      "C(stim | neuron_x_mouse)[T.6]    0.010       0.159   0.063  0.950   \n",
      "C(stim | neuron_x_mouse)[T.7]   -0.253       0.157  -1.609  0.108   \n",
      "C(stim | neuron_x_mouse)[T.8]   -0.072       0.159  -0.456  0.649   \n",
      "C(stim | neuron_x_mouse)[T.9]   -0.222       0.157  -1.412  0.158   \n",
      "C(stim | neuron_x_mouse)[T.10]  -0.172       0.159  -1.084  0.278   \n",
      "C(stim | neuron_x_mouse)[T.11]  -0.216       0.157  -1.373  0.170   \n",
      "C(stim | neuron_x_mouse)[T.12]   0.487  299808.325   0.000  1.000   \n",
      "C(stim | neuron_x_mouse)[T.13]   0.111  299808.325   0.000  1.000   \n",
      "C(stim | neuron_x_mouse)[T.14]   0.396  299808.325   0.000  1.000   \n",
      "C(stim | neuron_x_mouse)[T.15]   0.214  299808.325   0.000  1.000   \n",
      "C(stim | neuron_x_mouse)[T.16]   0.324  299808.325   0.000  1.000   \n",
      "C(stim | neuron_x_mouse)[T.17]   0.253  299808.325   0.000  1.000   \n",
      "1 | mouse                       -0.240  149904.162  -0.000  1.000   \n",
      "Group Var                        0.012       2.888                  \n",
      "\n",
      "                                     [0.025      0.975]  \n",
      "Intercept                       -293807.609  293805.910  \n",
      "C(stim | neuron_x_mouse)[T.1]        -0.119      -0.009  \n",
      "C(stim | neuron_x_mouse)[T.2]        -0.147      -0.011  \n",
      "C(stim | neuron_x_mouse)[T.3]        -0.183      -0.072  \n",
      "C(stim | neuron_x_mouse)[T.4]        -0.233      -0.098  \n",
      "C(stim | neuron_x_mouse)[T.5]        -0.261      -0.151  \n",
      "C(stim | neuron_x_mouse)[T.6]        -0.301       0.321  \n",
      "C(stim | neuron_x_mouse)[T.7]        -0.562       0.055  \n",
      "C(stim | neuron_x_mouse)[T.8]        -0.383       0.239  \n",
      "C(stim | neuron_x_mouse)[T.9]        -0.531       0.086  \n",
      "C(stim | neuron_x_mouse)[T.10]       -0.483       0.139  \n",
      "C(stim | neuron_x_mouse)[T.11]       -0.525       0.092  \n",
      "C(stim | neuron_x_mouse)[T.12]  -587613.032  587614.006  \n",
      "C(stim | neuron_x_mouse)[T.13]  -587613.408  587613.630  \n",
      "C(stim | neuron_x_mouse)[T.14]  -587613.123  587613.915  \n",
      "C(stim | neuron_x_mouse)[T.15]  -587613.305  587613.733  \n",
      "C(stim | neuron_x_mouse)[T.16]  -587613.195  587613.843  \n",
      "C(stim | neuron_x_mouse)[T.17]  -587613.266  587613.772  \n",
      "1 | mouse                       -293806.999  293806.520  \n",
      "Group Var                                                \n"
     ]
    },
    {
     "data": {
      "text/plain": [
       "<bayes_window.lme.LMERegression at 0x7ff8c107a0a0>"
      ]
     },
     "execution_count": 34,
     "metadata": {},
     "output_type": "execute_result"
    }
   ],
   "source": [
    "bw.fit(formula='log_isi ~ (1|mouse) + C(stim| neuron_x_mouse)')"
   ]
  },
  {
   "cell_type": "code",
   "execution_count": 35,
   "metadata": {
    "scrolled": false
   },
   "outputs": [
    {
     "data": {
      "text/html": [
       "\n",
       "<div id=\"altair-viz-ebf7518a72c14425bcb0fe8043fed687\"></div>\n",
       "<script type=\"text/javascript\">\n",
       "  (function(spec, embedOpt){\n",
       "    let outputDiv = document.currentScript.previousElementSibling;\n",
       "    if (outputDiv.id !== \"altair-viz-ebf7518a72c14425bcb0fe8043fed687\") {\n",
       "      outputDiv = document.getElementById(\"altair-viz-ebf7518a72c14425bcb0fe8043fed687\");\n",
       "    }\n",
       "    const paths = {\n",
       "      \"vega\": \"https://cdn.jsdelivr.net/npm//vega@5?noext\",\n",
       "      \"vega-lib\": \"https://cdn.jsdelivr.net/npm//vega-lib?noext\",\n",
       "      \"vega-lite\": \"https://cdn.jsdelivr.net/npm//vega-lite@4.8.1?noext\",\n",
       "      \"vega-embed\": \"https://cdn.jsdelivr.net/npm//vega-embed@6?noext\",\n",
       "    };\n",
       "\n",
       "    function loadScript(lib) {\n",
       "      return new Promise(function(resolve, reject) {\n",
       "        var s = document.createElement('script');\n",
       "        s.src = paths[lib];\n",
       "        s.async = true;\n",
       "        s.onload = () => resolve(paths[lib]);\n",
       "        s.onerror = () => reject(`Error loading script: ${paths[lib]}`);\n",
       "        document.getElementsByTagName(\"head\")[0].appendChild(s);\n",
       "      });\n",
       "    }\n",
       "\n",
       "    function showError(err) {\n",
       "      outputDiv.innerHTML = `<div class=\"error\" style=\"color:red;\">${err}</div>`;\n",
       "      throw err;\n",
       "    }\n",
       "\n",
       "    function displayChart(vegaEmbed) {\n",
       "      vegaEmbed(outputDiv, spec, embedOpt)\n",
       "        .catch(err => showError(`Javascript Error: ${err.message}<br>This usually means there's a typo in your chart specification. See the javascript console for the full traceback.`));\n",
       "    }\n",
       "\n",
       "    if(typeof define === \"function\" && define.amd) {\n",
       "      requirejs.config({paths});\n",
       "      require([\"vega-embed\"], displayChart, err => showError(`Error loading script: ${err.message}`));\n",
       "    } else if (typeof vegaEmbed === \"function\") {\n",
       "      displayChart(vegaEmbed);\n",
       "    } else {\n",
       "      loadScript(\"vega\")\n",
       "        .then(() => loadScript(\"vega-lite\"))\n",
       "        .then(() => loadScript(\"vega-embed\"))\n",
       "        .catch(showError)\n",
       "        .then(() => displayChart(vegaEmbed));\n",
       "    }\n",
       "  })({\"config\": {\"view\": {\"continuousWidth\": 400, \"continuousHeight\": 300}}, \"layer\": [{\"mark\": {\"type\": \"rule\", \"clip\": true, \"opacity\": 0.4, \"size\": 0.8}, \"encoding\": {\"x\": {\"type\": \"quantitative\", \"field\": \"neuron_x_mouse\"}, \"y\": {\"type\": \"quantitative\", \"axis\": {\"orient\": \"left\", \"title\": \"\"}, \"field\": \"lower interval\", \"scale\": {\"domain\": [-0.151, 0], \"zero\": true}}, \"y2\": {\"field\": \"higher interval\"}}}, {\"mark\": {\"type\": \"line\", \"clip\": true, \"color\": \"black\", \"fill\": null, \"point\": false, \"size\": 1}, \"encoding\": {\"x\": {\"type\": \"quantitative\", \"field\": \"neuron_x_mouse\"}, \"y\": {\"type\": \"quantitative\", \"aggregate\": \"mean\", \"axis\": {\"orient\": \"left\"}, \"field\": \"center interval\", \"scale\": {\"domain\": [-0.151, 0], \"zero\": true}, \"title\": \"\\u0394 log_isi\"}}}, {\"mark\": {\"type\": \"line\", \"color\": \"black\", \"opacity\": 1, \"size\": 0.5}, \"encoding\": {\"x\": {\"type\": \"quantitative\", \"field\": \"neuron_x_mouse\"}, \"y\": {\"type\": \"quantitative\", \"axis\": {\"orient\": \"left\", \"title\": \"\"}, \"field\": \"zero\", \"scale\": {\"domain\": [-0.151, 0], \"zero\": true}}}}], \"data\": {\"name\": \"data-b331edad0771b3c905c1835e79bf46dd\"}, \"$schema\": \"https://vega.github.io/schema/vega-lite/v4.8.1.json\", \"datasets\": {\"data-b331edad0771b3c905c1835e79bf46dd\": [{\"neuron_x_mouse\": 0, \"center interval\": -0.064, \"Std.Err.\": 0.028, \"z\": -2.261, \"p\": 0.024, \"higher interval\": -0.119, \"lower interval\": -0.009, \"zero\": 0}, {\"neuron_x_mouse\": 6, \"center interval\": -0.079, \"Std.Err.\": 0.035, \"z\": -2.283, \"p\": 0.022, \"higher interval\": -0.147, \"lower interval\": -0.011, \"zero\": 0}, {\"neuron_x_mouse\": 12, \"center interval\": -0.127, \"Std.Err.\": 0.028, \"z\": -4.501, \"p\": 0.0, \"higher interval\": -0.183, \"lower interval\": -0.072, \"zero\": 0}, {\"neuron_x_mouse\": 1, \"center interval\": -0.166, \"Std.Err.\": 0.035, \"z\": -4.784, \"p\": 0.0, \"higher interval\": -0.233, \"lower interval\": -0.098, \"zero\": 0}, {\"neuron_x_mouse\": 7, \"center interval\": -0.206, \"Std.Err.\": 0.028, \"z\": -7.286, \"p\": 0.0, \"higher interval\": -0.261, \"lower interval\": -0.151, \"zero\": 0}, {\"neuron_x_mouse\": 13, \"center interval\": 0.01, \"Std.Err.\": 0.159, \"z\": 0.063, \"p\": 0.95, \"higher interval\": -0.301, \"lower interval\": 0.321, \"zero\": 0}, {\"neuron_x_mouse\": 2, \"center interval\": -0.253, \"Std.Err.\": 0.157, \"z\": -1.609, \"p\": 0.108, \"higher interval\": -0.562, \"lower interval\": 0.055, \"zero\": 0}, {\"neuron_x_mouse\": 8, \"center interval\": -0.072, \"Std.Err.\": 0.159, \"z\": -0.456, \"p\": 0.649, \"higher interval\": -0.383, \"lower interval\": 0.239, \"zero\": 0}, {\"neuron_x_mouse\": 14, \"center interval\": -0.222, \"Std.Err.\": 0.157, \"z\": -1.412, \"p\": 0.158, \"higher interval\": -0.531, \"lower interval\": 0.086, \"zero\": 0}, {\"neuron_x_mouse\": 3, \"center interval\": -0.172, \"Std.Err.\": 0.159, \"z\": -1.084, \"p\": 0.278, \"higher interval\": -0.483, \"lower interval\": 0.139, \"zero\": 0}, {\"neuron_x_mouse\": 9, \"center interval\": -0.216, \"Std.Err.\": 0.157, \"z\": -1.373, \"p\": 0.17, \"higher interval\": -0.525, \"lower interval\": 0.092, \"zero\": 0}, {\"neuron_x_mouse\": 15, \"center interval\": 0.487, \"Std.Err.\": 299808.325, \"z\": 0.0, \"p\": 1.0, \"higher interval\": -587613.032, \"lower interval\": 587614.006, \"zero\": 0}, {\"neuron_x_mouse\": 4, \"center interval\": 0.111, \"Std.Err.\": 299808.325, \"z\": 0.0, \"p\": 1.0, \"higher interval\": -587613.408, \"lower interval\": 587613.63, \"zero\": 0}, {\"neuron_x_mouse\": 10, \"center interval\": 0.396, \"Std.Err.\": 299808.325, \"z\": 0.0, \"p\": 1.0, \"higher interval\": -587613.123, \"lower interval\": 587613.915, \"zero\": 0}, {\"neuron_x_mouse\": 16, \"center interval\": 0.214, \"Std.Err.\": 299808.325, \"z\": 0.0, \"p\": 1.0, \"higher interval\": -587613.305, \"lower interval\": 587613.733, \"zero\": 0}, {\"neuron_x_mouse\": 5, \"center interval\": 0.324, \"Std.Err.\": 299808.325, \"z\": 0.0, \"p\": 1.0, \"higher interval\": -587613.195, \"lower interval\": 587613.843, \"zero\": 0}, {\"neuron_x_mouse\": 11, \"center interval\": 0.253, \"Std.Err.\": 299808.325, \"z\": 0.0, \"p\": 1.0, \"higher interval\": -587613.266, \"lower interval\": 587613.772, \"zero\": 0}]}}, {\"mode\": \"vega-lite\"});\n",
       "</script>"
      ],
      "text/plain": [
       "alt.LayerChart(...)"
      ]
     },
     "metadata": {},
     "output_type": "display_data"
    }
   ],
   "source": [
    "bw.plot(x='neuron_x_mouse:O').display()"
   ]
  },
  {
   "cell_type": "markdown",
   "metadata": {},
   "source": [
    "### Nested"
   ]
  },
  {
   "cell_type": "code",
   "execution_count": 36,
   "metadata": {},
   "outputs": [
    {
     "name": "stdout",
     "output_type": "stream",
     "text": [
      "Using formula log_isi ~ (stim|mouse) + stim| neuron_x_mouse__0:mouse + stim|neuron_x_mouse__1:mouse + stim|neuron_x_mouse__2:mouse + stim|neuron_x_mouse__3:mouse + stim|neuron_x_mouse__4:mouse + stim|neuron_x_mouse__5:mouse + stim|neuron_x_mouse__6:mouse + stim|neuron_x_mouse__7:mouse + stim|neuron_x_mouse__8:mouse + stim|neuron_x_mouse__9:mouse + stim|neuron_x_mouse__10:mouse + stim|neuron_x_mouse__11:mouse + stim|neuron_x_mouse__12:mouse + stim|neuron_x_mouse__13:mouse + stim|neuron_x_mouse__14:mouse + stim|neuron_x_mouse__15:mouse + stim|neuron_x_mouse__16:mouse + stim|neuron_x_mouse__17:mouse\n",
      "Singular matrix\n"
     ]
    }
   ],
   "source": [
    "bw = LMERegression(df=df, y='log_isi', treatment='stim', condition=['neuron_x_mouse'], group='mouse',)\n",
    "try:\n",
    "    bw.fit(add_data=False,add_group_intercept=True, add_group_slope=True, add_nested_group=True)\n",
    "except Exception as e:\n",
    "    print(e)\n",
    "\n"
   ]
  }
 ],
 "metadata": {
  "hide_input": false,
  "kernelspec": {
   "display_name": "PyCharm (jup)",
   "language": "python",
   "name": "pycharm-d5912792"
  },
  "language_info": {
   "codemirror_mode": {
    "name": "ipython",
    "version": 3
   },
   "file_extension": ".py",
   "mimetype": "text/x-python",
   "name": "python",
   "nbconvert_exporter": "python",
   "pygments_lexer": "ipython3",
   "version": "3.8.5"
  }
 },
 "nbformat": 4,
 "nbformat_minor": 4
}