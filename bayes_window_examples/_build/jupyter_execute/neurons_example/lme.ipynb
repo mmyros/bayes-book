{
 "cells": [
  {
   "cell_type": "markdown",
   "metadata": {},
   "source": [
    "# Linear mixed effects"
   ]
  },
  {
   "cell_type": "code",
   "execution_count": 1,
   "metadata": {},
   "outputs": [],
   "source": [
    "from bayes_window import models, BayesWindow, LMERegression\n",
    "from bayes_window.generative_models import generate_fake_spikes, generate_fake_lfp\n",
    "import numpy as np"
   ]
  },
  {
   "cell_type": "code",
   "execution_count": 2,
   "metadata": {},
   "outputs": [],
   "source": [
    "df, df_monster, index_cols, _ = generate_fake_lfp(mouse_response_slope=8,\n",
    "                                                 n_trials=40)\n"
   ]
  },
  {
   "cell_type": "markdown",
   "metadata": {},
   "source": [
    "## LFP \n",
    "Without data overlay"
   ]
  },
  {
   "cell_type": "code",
   "execution_count": 3,
   "metadata": {},
   "outputs": [
    {
     "name": "stdout",
     "output_type": "stream",
     "text": [
      "Using formula Log_power ~  C(stim, Treatment) + (1 | mouse)\n",
      "                          Coef.    Std.Err.       z  P>|z|       [0.025  \\\n",
      "Intercept                 0.012                                           \n",
      "C(stim, Treatment)[T.1]   0.102       0.025   4.047  0.000        0.052   \n",
      "1 | mouse                -0.070  195932.069  -0.000  1.000  -384019.868   \n",
      "Group Var                 0.000                                           \n",
      "\n",
      "                             0.975]  \n",
      "Intercept                            \n",
      "C(stim, Treatment)[T.1]       0.151  \n",
      "1 | mouse                384019.728  \n",
      "Group Var                            \n",
      "changing x to :Q\n"
     ]
    },
    {
     "name": "stdout",
     "output_type": "stream",
     "text": [
      "changing x to :Q\n"
     ]
    },
    {
     "name": "stderr",
     "output_type": "stream",
     "text": [
      "/home/m/anaconda3/envs/dj/lib/python3.8/site-packages/statsmodels/base/model.py:566: ConvergenceWarning: Maximum Likelihood optimization failed to converge. Check mle_retvals\n",
      "  warnings.warn(\"Maximum Likelihood optimization failed to \"\n",
      "/home/m/anaconda3/envs/dj/lib/python3.8/site-packages/statsmodels/regression/mixed_linear_model.py:2200: ConvergenceWarning: Retrying MixedLM optimization with lbfgs\n",
      "  warnings.warn(\n",
      "/home/m/anaconda3/envs/dj/lib/python3.8/site-packages/statsmodels/regression/mixed_linear_model.py:2237: ConvergenceWarning: The MLE may be on the boundary of the parameter space.\n",
      "  warnings.warn(msg, ConvergenceWarning)\n",
      "/home/m/anaconda3/envs/dj/lib/python3.8/site-packages/statsmodels/regression/mixed_linear_model.py:2261: ConvergenceWarning: The Hessian matrix at the estimated parameter values is not positive definite.\n",
      "  warnings.warn(msg, ConvergenceWarning)\n"
     ]
    },
    {
     "data": {
      "text/html": [
       "\n",
       "<div id=\"altair-viz-54e0e12ebad54bf5853939b389dc22d2\"></div>\n",
       "<script type=\"text/javascript\">\n",
       "  (function(spec, embedOpt){\n",
       "    let outputDiv = document.currentScript.previousElementSibling;\n",
       "    if (outputDiv.id !== \"altair-viz-54e0e12ebad54bf5853939b389dc22d2\") {\n",
       "      outputDiv = document.getElementById(\"altair-viz-54e0e12ebad54bf5853939b389dc22d2\");\n",
       "    }\n",
       "    const paths = {\n",
       "      \"vega\": \"https://cdn.jsdelivr.net/npm//vega@5?noext\",\n",
       "      \"vega-lib\": \"https://cdn.jsdelivr.net/npm//vega-lib?noext\",\n",
       "      \"vega-lite\": \"https://cdn.jsdelivr.net/npm//vega-lite@4.8.1?noext\",\n",
       "      \"vega-embed\": \"https://cdn.jsdelivr.net/npm//vega-embed@6?noext\",\n",
       "    };\n",
       "\n",
       "    function loadScript(lib) {\n",
       "      return new Promise(function(resolve, reject) {\n",
       "        var s = document.createElement('script');\n",
       "        s.src = paths[lib];\n",
       "        s.async = true;\n",
       "        s.onload = () => resolve(paths[lib]);\n",
       "        s.onerror = () => reject(`Error loading script: ${paths[lib]}`);\n",
       "        document.getElementsByTagName(\"head\")[0].appendChild(s);\n",
       "      });\n",
       "    }\n",
       "\n",
       "    function showError(err) {\n",
       "      outputDiv.innerHTML = `<div class=\"error\" style=\"color:red;\">${err}</div>`;\n",
       "      throw err;\n",
       "    }\n",
       "\n",
       "    function displayChart(vegaEmbed) {\n",
       "      vegaEmbed(outputDiv, spec, embedOpt)\n",
       "        .catch(err => showError(`Javascript Error: ${err.message}<br>This usually means there's a typo in your chart specification. See the javascript console for the full traceback.`));\n",
       "    }\n",
       "\n",
       "    if(typeof define === \"function\" && define.amd) {\n",
       "      requirejs.config({paths});\n",
       "      require([\"vega-embed\"], displayChart, err => showError(`Error loading script: ${err.message}`));\n",
       "    } else if (typeof vegaEmbed === \"function\") {\n",
       "      displayChart(vegaEmbed);\n",
       "    } else {\n",
       "      loadScript(\"vega\")\n",
       "        .then(() => loadScript(\"vega-lite\"))\n",
       "        .then(() => loadScript(\"vega-embed\"))\n",
       "        .catch(showError)\n",
       "        .then(() => displayChart(vegaEmbed));\n",
       "    }\n",
       "  })({\"config\": {\"view\": {\"continuousWidth\": 400, \"continuousHeight\": 300}}, \"layer\": [{\"mark\": {\"type\": \"rule\", \"clip\": true, \"opacity\": 0.4, \"size\": 0.8}, \"encoding\": {\"x\": {\"type\": \"quantitative\", \"field\": \"\"}, \"y\": {\"type\": \"quantitative\", \"axis\": {\"orient\": \"left\", \"title\": \"\"}, \"field\": \"lower interval\", \"scale\": {\"domain\": [0, 0.151], \"zero\": true}}, \"y2\": {\"field\": \"higher interval\"}}}, {\"mark\": {\"type\": \"line\", \"clip\": true, \"color\": \"black\", \"fill\": null, \"point\": false, \"size\": 1}, \"encoding\": {\"x\": {\"type\": \"quantitative\", \"field\": \"\"}, \"y\": {\"type\": \"quantitative\", \"aggregate\": \"mean\", \"axis\": {\"orient\": \"left\"}, \"field\": \"center interval\", \"scale\": {\"domain\": [0, 0.151], \"zero\": true}, \"title\": \"\\u0394 Log_power\"}}}, {\"mark\": {\"type\": \"line\", \"color\": \"black\", \"opacity\": 1, \"size\": 0.5}, \"encoding\": {\"x\": {\"type\": \"quantitative\", \"field\": \"\"}, \"y\": {\"type\": \"quantitative\", \"axis\": {\"orient\": \"left\", \"title\": \"\"}, \"field\": \"zero\", \"scale\": {\"domain\": [0, 0.151], \"zero\": true}}}}], \"data\": {\"name\": \"data-cebd76a2d329fff8a4d2a4ba0bb6627b\"}, \"$schema\": \"https://vega.github.io/schema/vega-lite/v4.8.1.json\", \"datasets\": {\"data-cebd76a2d329fff8a4d2a4ba0bb6627b\": [{\"index\": \"C(stim, Treatment)[T.1]\", \"center interval\": 0.102, \"Std.Err.\": 0.025, \"z\": 4.047, \"p\": 0.0, \"higher interval\": 0.052, \"lower interval\": 0.151, \"zero\": 0}]}}, {\"mode\": \"vega-lite\"});\n",
       "</script>"
      ],
      "text/plain": [
       "alt.LayerChart(...)"
      ]
     },
     "metadata": {},
     "output_type": "display_data"
    }
   ],
   "source": [
    "bw = LMERegression(df=df, y='Log power', treatment='stim', group='mouse')\n",
    "bw.fit(add_data=False)\n",
    "bw.plot().display()"
   ]
  },
  {
   "cell_type": "code",
   "execution_count": 4,
   "metadata": {},
   "outputs": [
    {
     "data": {
      "text/html": [
       "<div>\n",
       "<style scoped>\n",
       "    .dataframe tbody tr th:only-of-type {\n",
       "        vertical-align: middle;\n",
       "    }\n",
       "\n",
       "    .dataframe tbody tr th {\n",
       "        vertical-align: top;\n",
       "    }\n",
       "\n",
       "    .dataframe thead th {\n",
       "        text-align: right;\n",
       "    }\n",
       "</style>\n",
       "<table border=\"1\" class=\"dataframe\">\n",
       "  <thead>\n",
       "    <tr style=\"text-align: right;\">\n",
       "      <th></th>\n",
       "      <th>index</th>\n",
       "      <th>center interval</th>\n",
       "      <th>Std.Err.</th>\n",
       "      <th>z</th>\n",
       "      <th>p</th>\n",
       "      <th>higher interval</th>\n",
       "      <th>lower interval</th>\n",
       "      <th>zero</th>\n",
       "    </tr>\n",
       "  </thead>\n",
       "  <tbody>\n",
       "    <tr>\n",
       "      <th>0</th>\n",
       "      <td>C(stim, Treatment)[T.1]</td>\n",
       "      <td>0.102</td>\n",
       "      <td>0.025</td>\n",
       "      <td>4.047</td>\n",
       "      <td>0.0</td>\n",
       "      <td>0.052</td>\n",
       "      <td>0.151</td>\n",
       "      <td>0</td>\n",
       "    </tr>\n",
       "  </tbody>\n",
       "</table>\n",
       "</div>"
      ],
      "text/plain": [
       "                     index  center interval  Std.Err.      z    p  \\\n",
       "0  C(stim, Treatment)[T.1]            0.102     0.025  4.047  0.0   \n",
       "\n",
       "   higher interval  lower interval  zero  \n",
       "0            0.052           0.151     0  "
      ]
     },
     "execution_count": 4,
     "metadata": {},
     "output_type": "execute_result"
    }
   ],
   "source": [
    "bw.data_and_posterior"
   ]
  },
  {
   "cell_type": "markdown",
   "metadata": {},
   "source": [
    "## With data overlay"
   ]
  },
  {
   "cell_type": "code",
   "execution_count": 5,
   "metadata": {},
   "outputs": [
    {
     "name": "stdout",
     "output_type": "stream",
     "text": [
      "Using formula Log_power ~  C(stim, Treatment) + (1 | mouse)\n"
     ]
    },
    {
     "name": "stdout",
     "output_type": "stream",
     "text": [
      "                          Coef.    Std.Err.       z  P>|z|       [0.025  \\\n",
      "Intercept                 0.012                                           \n",
      "C(stim, Treatment)[T.1]   0.102       0.025   4.047  0.000        0.052   \n",
      "1 | mouse                -0.070  195932.069  -0.000  1.000  -384019.868   \n",
      "Group Var                 0.000                                           \n",
      "\n",
      "                             0.975]  \n",
      "Intercept                            \n",
      "C(stim, Treatment)[T.1]       0.151  \n",
      "1 | mouse                384019.728  \n",
      "Group Var                            \n",
      "\n",
      " Data addition to LME is not implemented\n"
     ]
    },
    {
     "name": "stderr",
     "output_type": "stream",
     "text": [
      "/home/m/anaconda3/envs/dj/lib/python3.8/site-packages/statsmodels/base/model.py:566: ConvergenceWarning: Maximum Likelihood optimization failed to converge. Check mle_retvals\n",
      "  warnings.warn(\"Maximum Likelihood optimization failed to \"\n",
      "/home/m/anaconda3/envs/dj/lib/python3.8/site-packages/statsmodels/regression/mixed_linear_model.py:2200: ConvergenceWarning: Retrying MixedLM optimization with lbfgs\n",
      "  warnings.warn(\n",
      "/home/m/anaconda3/envs/dj/lib/python3.8/site-packages/statsmodels/regression/mixed_linear_model.py:2237: ConvergenceWarning: The MLE may be on the boundary of the parameter space.\n",
      "  warnings.warn(msg, ConvergenceWarning)\n",
      "/home/m/anaconda3/envs/dj/lib/python3.8/site-packages/statsmodels/regression/mixed_linear_model.py:2261: ConvergenceWarning: The Hessian matrix at the estimated parameter values is not positive definite.\n",
      "  warnings.warn(msg, ConvergenceWarning)\n"
     ]
    }
   ],
   "source": [
    "bw = LMERegression(df=df, y='Log power', treatment='stim', group='mouse')\n",
    "try:\n",
    "    bw.fit(add_data=True, do_make_change='subtract');\n",
    "    bw.plot()    \n",
    "except NotImplementedError:\n",
    "    print('\\n Data addition to LME is not implemented')"
   ]
  },
  {
   "cell_type": "markdown",
   "metadata": {},
   "source": [
    "## Spikes"
   ]
  },
  {
   "cell_type": "code",
   "execution_count": 6,
   "metadata": {},
   "outputs": [],
   "source": [
    "df, df_monster, index_cols, firing_rates = generate_fake_spikes(n_trials=20,\n",
    "                                                                n_neurons=6,\n",
    "                                                                n_mice=3,\n",
    "                                                                dur=5,\n",
    "                                                               mouse_response_slope=40,\n",
    "                                                               overall_stim_response_strength=5)\n",
    "df['log_isi']=np.log10(df['isi'])"
   ]
  },
  {
   "cell_type": "code",
   "execution_count": 7,
   "metadata": {
    "scrolled": true
   },
   "outputs": [
    {
     "name": "stdout",
     "output_type": "stream",
     "text": [
      "Using formula log_isi ~ (1|mouse) + stim| neuron_x_mouse__0 + stim|neuron_x_mouse__1 + stim|neuron_x_mouse__2 + stim|neuron_x_mouse__3 + stim|neuron_x_mouse__4 + stim|neuron_x_mouse__5 + stim|neuron_x_mouse__6 + stim|neuron_x_mouse__7 + stim|neuron_x_mouse__8 + stim|neuron_x_mouse__9 + stim|neuron_x_mouse__10 + stim|neuron_x_mouse__11 + stim|neuron_x_mouse__12 + stim|neuron_x_mouse__13 + stim|neuron_x_mouse__14 + stim|neuron_x_mouse__15 + stim|neuron_x_mouse__16 + stim|neuron_x_mouse__17\n",
      "                            Coef. Std.Err.        z  P>|z|  [0.025  0.975]\n",
      "Intercept                  -1.056    0.132   -7.975  0.000  -1.315  -0.796\n",
      "1 | mouse                  -0.075    0.069   -1.090  0.276  -0.211   0.060\n",
      "stim | neuron_x_mouse__0   -0.031    0.020   -1.561  0.118  -0.070   0.008\n",
      "stim | neuron_x_mouse__1   -0.062    0.020   -3.152  0.002  -0.101  -0.024\n",
      "stim | neuron_x_mouse__2   -0.115    0.020   -5.805  0.000  -0.153  -0.076\n",
      "stim | neuron_x_mouse__3   -0.152    0.020   -7.679  0.000  -0.190  -0.113\n",
      "stim | neuron_x_mouse__4   -0.219    0.020  -11.066  0.000  -0.257  -0.180\n",
      "stim | neuron_x_mouse__5   -0.243    0.020  -12.286  0.000  -0.281  -0.204\n",
      "stim | neuron_x_mouse__6    0.111    0.020    5.644  0.000   0.073   0.150\n",
      "stim | neuron_x_mouse__7    0.075    0.020    3.798  0.000   0.036   0.114\n",
      "stim | neuron_x_mouse__8    0.060    0.020    3.024  0.002   0.021   0.098\n",
      "stim | neuron_x_mouse__9   -0.002    0.020   -0.089  0.929  -0.040   0.037\n",
      "stim | neuron_x_mouse__10  -0.042    0.020   -2.109  0.035  -0.080  -0.003\n",
      "stim | neuron_x_mouse__11  -0.087    0.020   -4.394  0.000  -0.125  -0.048\n",
      "stim | neuron_x_mouse__12   0.169    0.020    8.576  0.000   0.131   0.208\n",
      "stim | neuron_x_mouse__13   0.138    0.020    7.014  0.000   0.100   0.177\n",
      "stim | neuron_x_mouse__14   0.140    0.020    7.101  0.000   0.102   0.179\n",
      "stim | neuron_x_mouse__15   0.079    0.020    3.985  0.000   0.040   0.117\n",
      "stim | neuron_x_mouse__16   0.015    0.020    0.769  0.442  -0.024   0.054\n",
      "stim | neuron_x_mouse__17  -0.007    0.020   -0.359  0.720  -0.046   0.032\n",
      "Group Var                   0.013    0.209                                \n",
      "changing x to :Q\n"
     ]
    }
   ],
   "source": [
    "bw = LMERegression(df=df, y='log_isi', treatment='stim', condition=['neuron_x_mouse'], group='mouse',)\n",
    "bw.fit(add_data=False,add_group_intercept=True, add_group_slope=False);"
   ]
  },
  {
   "cell_type": "code",
   "execution_count": 8,
   "metadata": {},
   "outputs": [
    {
     "data": {
      "text/html": [
       "\n",
       "<div id=\"altair-viz-189ee2eb610645838b1b6f1ff2ac56df\"></div>\n",
       "<script type=\"text/javascript\">\n",
       "  (function(spec, embedOpt){\n",
       "    let outputDiv = document.currentScript.previousElementSibling;\n",
       "    if (outputDiv.id !== \"altair-viz-189ee2eb610645838b1b6f1ff2ac56df\") {\n",
       "      outputDiv = document.getElementById(\"altair-viz-189ee2eb610645838b1b6f1ff2ac56df\");\n",
       "    }\n",
       "    const paths = {\n",
       "      \"vega\": \"https://cdn.jsdelivr.net/npm//vega@5?noext\",\n",
       "      \"vega-lib\": \"https://cdn.jsdelivr.net/npm//vega-lib?noext\",\n",
       "      \"vega-lite\": \"https://cdn.jsdelivr.net/npm//vega-lite@4.8.1?noext\",\n",
       "      \"vega-embed\": \"https://cdn.jsdelivr.net/npm//vega-embed@6?noext\",\n",
       "    };\n",
       "\n",
       "    function loadScript(lib) {\n",
       "      return new Promise(function(resolve, reject) {\n",
       "        var s = document.createElement('script');\n",
       "        s.src = paths[lib];\n",
       "        s.async = true;\n",
       "        s.onload = () => resolve(paths[lib]);\n",
       "        s.onerror = () => reject(`Error loading script: ${paths[lib]}`);\n",
       "        document.getElementsByTagName(\"head\")[0].appendChild(s);\n",
       "      });\n",
       "    }\n",
       "\n",
       "    function showError(err) {\n",
       "      outputDiv.innerHTML = `<div class=\"error\" style=\"color:red;\">${err}</div>`;\n",
       "      throw err;\n",
       "    }\n",
       "\n",
       "    function displayChart(vegaEmbed) {\n",
       "      vegaEmbed(outputDiv, spec, embedOpt)\n",
       "        .catch(err => showError(`Javascript Error: ${err.message}<br>This usually means there's a typo in your chart specification. See the javascript console for the full traceback.`));\n",
       "    }\n",
       "\n",
       "    if(typeof define === \"function\" && define.amd) {\n",
       "      requirejs.config({paths});\n",
       "      require([\"vega-embed\"], displayChart, err => showError(`Error loading script: ${err.message}`));\n",
       "    } else if (typeof vegaEmbed === \"function\") {\n",
       "      displayChart(vegaEmbed);\n",
       "    } else {\n",
       "      loadScript(\"vega\")\n",
       "        .then(() => loadScript(\"vega-lite\"))\n",
       "        .then(() => loadScript(\"vega-embed\"))\n",
       "        .catch(showError)\n",
       "        .then(() => displayChart(vegaEmbed));\n",
       "    }\n",
       "  })({\"config\": {\"view\": {\"continuousWidth\": 400, \"continuousHeight\": 300}}, \"layer\": [{\"mark\": {\"type\": \"rule\", \"clip\": true, \"opacity\": 0.4, \"size\": 0.8}, \"encoding\": {\"x\": {\"type\": \"quantitative\", \"field\": \"\"}, \"y\": {\"type\": \"quantitative\", \"axis\": {\"orient\": \"left\", \"title\": \"\"}, \"field\": \"lower interval\", \"scale\": {\"domain\": [-0.204, 0.131], \"zero\": true}}, \"y2\": {\"field\": \"higher interval\"}}}, {\"mark\": {\"type\": \"line\", \"clip\": true, \"color\": \"black\", \"fill\": null, \"point\": false, \"size\": 1}, \"encoding\": {\"x\": {\"type\": \"quantitative\", \"field\": \"\"}, \"y\": {\"type\": \"quantitative\", \"aggregate\": \"mean\", \"axis\": {\"orient\": \"left\"}, \"field\": \"center interval\", \"scale\": {\"domain\": [-0.204, 0.131], \"zero\": true}, \"title\": \"\\u0394 log_isi\"}}}, {\"mark\": {\"type\": \"line\", \"color\": \"black\", \"opacity\": 1, \"size\": 0.5}, \"encoding\": {\"x\": {\"type\": \"quantitative\", \"field\": \"\"}, \"y\": {\"type\": \"quantitative\", \"axis\": {\"orient\": \"left\", \"title\": \"\"}, \"field\": \"zero\", \"scale\": {\"domain\": [-0.204, 0.131], \"zero\": true}}}}], \"data\": {\"name\": \"data-3b3df7a6ec50653859a0692eb12b7abc\"}, \"$schema\": \"https://vega.github.io/schema/vega-lite/v4.8.1.json\", \"datasets\": {\"data-3b3df7a6ec50653859a0692eb12b7abc\": [{\"neuron_x_mouse\": 0, \"center interval\": -0.031, \"Std.Err.\": 0.02, \"z\": -1.561, \"p\": 0.118, \"higher interval\": -0.07, \"lower interval\": 0.008, \"zero\": 0}, {\"neuron_x_mouse\": 1, \"center interval\": -0.062, \"Std.Err.\": 0.02, \"z\": -3.152, \"p\": 0.002, \"higher interval\": -0.101, \"lower interval\": -0.024, \"zero\": 0}, {\"neuron_x_mouse\": 2, \"center interval\": -0.115, \"Std.Err.\": 0.02, \"z\": -5.805, \"p\": 0.0, \"higher interval\": -0.153, \"lower interval\": -0.076, \"zero\": 0}, {\"neuron_x_mouse\": 3, \"center interval\": -0.152, \"Std.Err.\": 0.02, \"z\": -7.679, \"p\": 0.0, \"higher interval\": -0.19, \"lower interval\": -0.113, \"zero\": 0}, {\"neuron_x_mouse\": 4, \"center interval\": -0.219, \"Std.Err.\": 0.02, \"z\": -11.066, \"p\": 0.0, \"higher interval\": -0.257, \"lower interval\": -0.18, \"zero\": 0}, {\"neuron_x_mouse\": 5, \"center interval\": -0.243, \"Std.Err.\": 0.02, \"z\": -12.286, \"p\": 0.0, \"higher interval\": -0.281, \"lower interval\": -0.204, \"zero\": 0}, {\"neuron_x_mouse\": 6, \"center interval\": 0.111, \"Std.Err.\": 0.02, \"z\": 5.644, \"p\": 0.0, \"higher interval\": 0.073, \"lower interval\": 0.15, \"zero\": 0}, {\"neuron_x_mouse\": 7, \"center interval\": 0.075, \"Std.Err.\": 0.02, \"z\": 3.798, \"p\": 0.0, \"higher interval\": 0.036, \"lower interval\": 0.114, \"zero\": 0}, {\"neuron_x_mouse\": 8, \"center interval\": 0.06, \"Std.Err.\": 0.02, \"z\": 3.024, \"p\": 0.002, \"higher interval\": 0.021, \"lower interval\": 0.098, \"zero\": 0}, {\"neuron_x_mouse\": 9, \"center interval\": -0.002, \"Std.Err.\": 0.02, \"z\": -0.089, \"p\": 0.929, \"higher interval\": -0.04, \"lower interval\": 0.037, \"zero\": 0}, {\"neuron_x_mouse\": 10, \"center interval\": -0.042, \"Std.Err.\": 0.02, \"z\": -2.109, \"p\": 0.035, \"higher interval\": -0.08, \"lower interval\": -0.003, \"zero\": 0}, {\"neuron_x_mouse\": 11, \"center interval\": -0.087, \"Std.Err.\": 0.02, \"z\": -4.394, \"p\": 0.0, \"higher interval\": -0.125, \"lower interval\": -0.048, \"zero\": 0}, {\"neuron_x_mouse\": 12, \"center interval\": 0.169, \"Std.Err.\": 0.02, \"z\": 8.576, \"p\": 0.0, \"higher interval\": 0.131, \"lower interval\": 0.208, \"zero\": 0}, {\"neuron_x_mouse\": 13, \"center interval\": 0.138, \"Std.Err.\": 0.02, \"z\": 7.014, \"p\": 0.0, \"higher interval\": 0.1, \"lower interval\": 0.177, \"zero\": 0}, {\"neuron_x_mouse\": 14, \"center interval\": 0.14, \"Std.Err.\": 0.02, \"z\": 7.101, \"p\": 0.0, \"higher interval\": 0.102, \"lower interval\": 0.179, \"zero\": 0}, {\"neuron_x_mouse\": 15, \"center interval\": 0.079, \"Std.Err.\": 0.02, \"z\": 3.985, \"p\": 0.0, \"higher interval\": 0.04, \"lower interval\": 0.117, \"zero\": 0}, {\"neuron_x_mouse\": 16, \"center interval\": 0.015, \"Std.Err.\": 0.02, \"z\": 0.769, \"p\": 0.442, \"higher interval\": -0.024, \"lower interval\": 0.054, \"zero\": 0}, {\"neuron_x_mouse\": 17, \"center interval\": -0.007, \"Std.Err.\": 0.02, \"z\": -0.359, \"p\": 0.72, \"higher interval\": -0.046, \"lower interval\": 0.032, \"zero\": 0}]}}, {\"mode\": \"vega-lite\"});\n",
       "</script>"
      ],
      "text/plain": [
       "alt.LayerChart(...)"
      ]
     },
     "execution_count": 8,
     "metadata": {},
     "output_type": "execute_result"
    }
   ],
   "source": [
    "bw.chart"
   ]
  },
  {
   "cell_type": "markdown",
   "metadata": {},
   "source": [
    "### Group slope"
   ]
  },
  {
   "cell_type": "code",
   "execution_count": 9,
   "metadata": {},
   "outputs": [
    {
     "name": "stdout",
     "output_type": "stream",
     "text": [
      "Using formula log_isi ~ (stim|mouse)  + stim| neuron_x_mouse__0 + stim|neuron_x_mouse__1 + stim|neuron_x_mouse__2 + stim|neuron_x_mouse__3 + stim|neuron_x_mouse__4 + stim|neuron_x_mouse__5 + stim|neuron_x_mouse__6 + stim|neuron_x_mouse__7 + stim|neuron_x_mouse__8 + stim|neuron_x_mouse__9 + stim|neuron_x_mouse__10 + stim|neuron_x_mouse__11 + stim|neuron_x_mouse__12 + stim|neuron_x_mouse__13 + stim|neuron_x_mouse__14 + stim|neuron_x_mouse__15 + stim|neuron_x_mouse__16 + stim|neuron_x_mouse__17\n"
     ]
    },
    {
     "name": "stdout",
     "output_type": "stream",
     "text": [
      "                            Coef. Std.Err.        z  P>|z|  [0.025  0.975]\n",
      "Intercept                  -1.109    0.093  -11.915  0.000  -1.291  -0.927\n",
      "stim | mouse               -0.075    0.069   -1.090  0.276  -0.211   0.060\n",
      "stim | neuron_x_mouse__0   -0.053    0.029   -1.859  0.063  -0.109   0.003\n",
      "stim | neuron_x_mouse__1   -0.084    0.029   -2.961  0.003  -0.140  -0.029\n",
      "stim | neuron_x_mouse__2   -0.137    0.029   -4.799  0.000  -0.193  -0.081\n",
      "stim | neuron_x_mouse__3   -0.174    0.029   -6.098  0.000  -0.230  -0.118\n",
      "stim | neuron_x_mouse__4   -0.241    0.029   -8.444  0.000  -0.297  -0.185\n",
      "stim | neuron_x_mouse__5   -0.265    0.029   -9.290  0.000  -0.321  -0.209\n",
      "stim | neuron_x_mouse__6    0.165    0.052    3.140  0.002   0.062   0.267\n",
      "stim | neuron_x_mouse__7    0.128    0.052    2.445  0.014   0.025   0.231\n",
      "stim | neuron_x_mouse__8    0.113    0.052    2.153  0.031   0.010   0.216\n",
      "stim | neuron_x_mouse__9    0.051    0.052    0.981  0.327  -0.051   0.154\n",
      "stim | neuron_x_mouse__10   0.012    0.052    0.220  0.826  -0.091   0.114\n",
      "stim | neuron_x_mouse__11  -0.034    0.052   -0.640  0.522  -0.136   0.069\n",
      "stim | neuron_x_mouse__12   0.147    0.028    5.252  0.000   0.092   0.202\n",
      "stim | neuron_x_mouse__13   0.116    0.028    4.151  0.000   0.061   0.171\n",
      "stim | neuron_x_mouse__14   0.118    0.028    4.213  0.000   0.063   0.173\n",
      "stim | neuron_x_mouse__15   0.057    0.028    2.017  0.044   0.002   0.111\n",
      "stim | neuron_x_mouse__16  -0.007    0.028   -0.249  0.803  -0.062   0.048\n",
      "stim | neuron_x_mouse__17  -0.029    0.028   -1.044  0.297  -0.084   0.026\n",
      "Group Var                   0.013    0.209                                \n",
      "changing x to :Q\n"
     ]
    },
    {
     "data": {
      "text/plain": [
       "<bayes_window.lme.LMERegression at 0x7f6c62735f40>"
      ]
     },
     "execution_count": 9,
     "metadata": {},
     "output_type": "execute_result"
    }
   ],
   "source": [
    "bw = LMERegression(df=df, y='log_isi', treatment='stim', condition=['neuron_x_mouse'], group='mouse',)\n",
    "bw.fit(add_data=False,add_group_intercept=True, add_group_slope=True)"
   ]
  },
  {
   "cell_type": "code",
   "execution_count": 10,
   "metadata": {},
   "outputs": [
    {
     "data": {
      "text/html": [
       "\n",
       "<div id=\"altair-viz-b41c3ef170564a4a94359523408e2ee3\"></div>\n",
       "<script type=\"text/javascript\">\n",
       "  (function(spec, embedOpt){\n",
       "    let outputDiv = document.currentScript.previousElementSibling;\n",
       "    if (outputDiv.id !== \"altair-viz-b41c3ef170564a4a94359523408e2ee3\") {\n",
       "      outputDiv = document.getElementById(\"altair-viz-b41c3ef170564a4a94359523408e2ee3\");\n",
       "    }\n",
       "    const paths = {\n",
       "      \"vega\": \"https://cdn.jsdelivr.net/npm//vega@5?noext\",\n",
       "      \"vega-lib\": \"https://cdn.jsdelivr.net/npm//vega-lib?noext\",\n",
       "      \"vega-lite\": \"https://cdn.jsdelivr.net/npm//vega-lite@4.8.1?noext\",\n",
       "      \"vega-embed\": \"https://cdn.jsdelivr.net/npm//vega-embed@6?noext\",\n",
       "    };\n",
       "\n",
       "    function loadScript(lib) {\n",
       "      return new Promise(function(resolve, reject) {\n",
       "        var s = document.createElement('script');\n",
       "        s.src = paths[lib];\n",
       "        s.async = true;\n",
       "        s.onload = () => resolve(paths[lib]);\n",
       "        s.onerror = () => reject(`Error loading script: ${paths[lib]}`);\n",
       "        document.getElementsByTagName(\"head\")[0].appendChild(s);\n",
       "      });\n",
       "    }\n",
       "\n",
       "    function showError(err) {\n",
       "      outputDiv.innerHTML = `<div class=\"error\" style=\"color:red;\">${err}</div>`;\n",
       "      throw err;\n",
       "    }\n",
       "\n",
       "    function displayChart(vegaEmbed) {\n",
       "      vegaEmbed(outputDiv, spec, embedOpt)\n",
       "        .catch(err => showError(`Javascript Error: ${err.message}<br>This usually means there's a typo in your chart specification. See the javascript console for the full traceback.`));\n",
       "    }\n",
       "\n",
       "    if(typeof define === \"function\" && define.amd) {\n",
       "      requirejs.config({paths});\n",
       "      require([\"vega-embed\"], displayChart, err => showError(`Error loading script: ${err.message}`));\n",
       "    } else if (typeof vegaEmbed === \"function\") {\n",
       "      displayChart(vegaEmbed);\n",
       "    } else {\n",
       "      loadScript(\"vega\")\n",
       "        .then(() => loadScript(\"vega-lite\"))\n",
       "        .then(() => loadScript(\"vega-embed\"))\n",
       "        .catch(showError)\n",
       "        .then(() => displayChart(vegaEmbed));\n",
       "    }\n",
       "  })({\"config\": {\"view\": {\"continuousWidth\": 400, \"continuousHeight\": 300}}, \"layer\": [{\"mark\": {\"type\": \"rule\", \"clip\": true, \"opacity\": 0.4, \"size\": 0.8}, \"encoding\": {\"x\": {\"type\": \"quantitative\", \"field\": \"\"}, \"y\": {\"type\": \"quantitative\", \"axis\": {\"orient\": \"left\", \"title\": \"\"}, \"field\": \"lower interval\", \"scale\": {\"domain\": [-0.209, 0.092], \"zero\": true}}, \"y2\": {\"field\": \"higher interval\"}}}, {\"mark\": {\"type\": \"line\", \"clip\": true, \"color\": \"black\", \"fill\": null, \"point\": false, \"size\": 1}, \"encoding\": {\"x\": {\"type\": \"quantitative\", \"field\": \"\"}, \"y\": {\"type\": \"quantitative\", \"aggregate\": \"mean\", \"axis\": {\"orient\": \"left\"}, \"field\": \"center interval\", \"scale\": {\"domain\": [-0.209, 0.092], \"zero\": true}, \"title\": \"\\u0394 log_isi\"}}}, {\"mark\": {\"type\": \"line\", \"color\": \"black\", \"opacity\": 1, \"size\": 0.5}, \"encoding\": {\"x\": {\"type\": \"quantitative\", \"field\": \"\"}, \"y\": {\"type\": \"quantitative\", \"axis\": {\"orient\": \"left\", \"title\": \"\"}, \"field\": \"zero\", \"scale\": {\"domain\": [-0.209, 0.092], \"zero\": true}}}}], \"data\": {\"name\": \"data-7c6c88d627d96a5266ecbe19ba524a73\"}, \"$schema\": \"https://vega.github.io/schema/vega-lite/v4.8.1.json\", \"datasets\": {\"data-7c6c88d627d96a5266ecbe19ba524a73\": [{\"neuron_x_mouse\": 0, \"center interval\": -0.053, \"Std.Err.\": 0.029, \"z\": -1.859, \"p\": 0.063, \"higher interval\": -0.109, \"lower interval\": 0.003, \"zero\": 0}, {\"neuron_x_mouse\": 1, \"center interval\": -0.084, \"Std.Err.\": 0.029, \"z\": -2.961, \"p\": 0.003, \"higher interval\": -0.14, \"lower interval\": -0.029, \"zero\": 0}, {\"neuron_x_mouse\": 2, \"center interval\": -0.137, \"Std.Err.\": 0.029, \"z\": -4.799, \"p\": 0.0, \"higher interval\": -0.193, \"lower interval\": -0.081, \"zero\": 0}, {\"neuron_x_mouse\": 3, \"center interval\": -0.174, \"Std.Err.\": 0.029, \"z\": -6.098, \"p\": 0.0, \"higher interval\": -0.23, \"lower interval\": -0.118, \"zero\": 0}, {\"neuron_x_mouse\": 4, \"center interval\": -0.241, \"Std.Err.\": 0.029, \"z\": -8.444, \"p\": 0.0, \"higher interval\": -0.297, \"lower interval\": -0.185, \"zero\": 0}, {\"neuron_x_mouse\": 5, \"center interval\": -0.265, \"Std.Err.\": 0.029, \"z\": -9.29, \"p\": 0.0, \"higher interval\": -0.321, \"lower interval\": -0.209, \"zero\": 0}, {\"neuron_x_mouse\": 6, \"center interval\": 0.165, \"Std.Err.\": 0.052, \"z\": 3.14, \"p\": 0.002, \"higher interval\": 0.062, \"lower interval\": 0.267, \"zero\": 0}, {\"neuron_x_mouse\": 7, \"center interval\": 0.128, \"Std.Err.\": 0.052, \"z\": 2.445, \"p\": 0.014, \"higher interval\": 0.025, \"lower interval\": 0.231, \"zero\": 0}, {\"neuron_x_mouse\": 8, \"center interval\": 0.113, \"Std.Err.\": 0.052, \"z\": 2.153, \"p\": 0.031, \"higher interval\": 0.01, \"lower interval\": 0.216, \"zero\": 0}, {\"neuron_x_mouse\": 9, \"center interval\": 0.051, \"Std.Err.\": 0.052, \"z\": 0.981, \"p\": 0.327, \"higher interval\": -0.051, \"lower interval\": 0.154, \"zero\": 0}, {\"neuron_x_mouse\": 10, \"center interval\": 0.012, \"Std.Err.\": 0.052, \"z\": 0.22, \"p\": 0.826, \"higher interval\": -0.091, \"lower interval\": 0.114, \"zero\": 0}, {\"neuron_x_mouse\": 11, \"center interval\": -0.034, \"Std.Err.\": 0.052, \"z\": -0.64, \"p\": 0.522, \"higher interval\": -0.136, \"lower interval\": 0.069, \"zero\": 0}, {\"neuron_x_mouse\": 12, \"center interval\": 0.147, \"Std.Err.\": 0.028, \"z\": 5.252, \"p\": 0.0, \"higher interval\": 0.092, \"lower interval\": 0.202, \"zero\": 0}, {\"neuron_x_mouse\": 13, \"center interval\": 0.116, \"Std.Err.\": 0.028, \"z\": 4.151, \"p\": 0.0, \"higher interval\": 0.061, \"lower interval\": 0.171, \"zero\": 0}, {\"neuron_x_mouse\": 14, \"center interval\": 0.118, \"Std.Err.\": 0.028, \"z\": 4.213, \"p\": 0.0, \"higher interval\": 0.063, \"lower interval\": 0.173, \"zero\": 0}, {\"neuron_x_mouse\": 15, \"center interval\": 0.057, \"Std.Err.\": 0.028, \"z\": 2.017, \"p\": 0.044, \"higher interval\": 0.002, \"lower interval\": 0.111, \"zero\": 0}, {\"neuron_x_mouse\": 16, \"center interval\": -0.007, \"Std.Err.\": 0.028, \"z\": -0.249, \"p\": 0.803, \"higher interval\": -0.062, \"lower interval\": 0.048, \"zero\": 0}, {\"neuron_x_mouse\": 17, \"center interval\": -0.029, \"Std.Err.\": 0.028, \"z\": -1.044, \"p\": 0.297, \"higher interval\": -0.084, \"lower interval\": 0.026, \"zero\": 0}]}}, {\"mode\": \"vega-lite\"});\n",
       "</script>"
      ],
      "text/plain": [
       "alt.LayerChart(...)"
      ]
     },
     "execution_count": 10,
     "metadata": {},
     "output_type": "execute_result"
    }
   ],
   "source": [
    "bw.chart"
   ]
  },
  {
   "cell_type": "code",
   "execution_count": 11,
   "metadata": {},
   "outputs": [
    {
     "name": "stdout",
     "output_type": "stream",
     "text": [
      "changing x to neuron_x_mouse:Q\n"
     ]
    },
    {
     "data": {
      "text/html": [
       "\n",
       "<div id=\"altair-viz-859d6d448fc14d51b20444058ae5b392\"></div>\n",
       "<script type=\"text/javascript\">\n",
       "  (function(spec, embedOpt){\n",
       "    let outputDiv = document.currentScript.previousElementSibling;\n",
       "    if (outputDiv.id !== \"altair-viz-859d6d448fc14d51b20444058ae5b392\") {\n",
       "      outputDiv = document.getElementById(\"altair-viz-859d6d448fc14d51b20444058ae5b392\");\n",
       "    }\n",
       "    const paths = {\n",
       "      \"vega\": \"https://cdn.jsdelivr.net/npm//vega@5?noext\",\n",
       "      \"vega-lib\": \"https://cdn.jsdelivr.net/npm//vega-lib?noext\",\n",
       "      \"vega-lite\": \"https://cdn.jsdelivr.net/npm//vega-lite@4.8.1?noext\",\n",
       "      \"vega-embed\": \"https://cdn.jsdelivr.net/npm//vega-embed@6?noext\",\n",
       "    };\n",
       "\n",
       "    function loadScript(lib) {\n",
       "      return new Promise(function(resolve, reject) {\n",
       "        var s = document.createElement('script');\n",
       "        s.src = paths[lib];\n",
       "        s.async = true;\n",
       "        s.onload = () => resolve(paths[lib]);\n",
       "        s.onerror = () => reject(`Error loading script: ${paths[lib]}`);\n",
       "        document.getElementsByTagName(\"head\")[0].appendChild(s);\n",
       "      });\n",
       "    }\n",
       "\n",
       "    function showError(err) {\n",
       "      outputDiv.innerHTML = `<div class=\"error\" style=\"color:red;\">${err}</div>`;\n",
       "      throw err;\n",
       "    }\n",
       "\n",
       "    function displayChart(vegaEmbed) {\n",
       "      vegaEmbed(outputDiv, spec, embedOpt)\n",
       "        .catch(err => showError(`Javascript Error: ${err.message}<br>This usually means there's a typo in your chart specification. See the javascript console for the full traceback.`));\n",
       "    }\n",
       "\n",
       "    if(typeof define === \"function\" && define.amd) {\n",
       "      requirejs.config({paths});\n",
       "      require([\"vega-embed\"], displayChart, err => showError(`Error loading script: ${err.message}`));\n",
       "    } else if (typeof vegaEmbed === \"function\") {\n",
       "      displayChart(vegaEmbed);\n",
       "    } else {\n",
       "      loadScript(\"vega\")\n",
       "        .then(() => loadScript(\"vega-lite\"))\n",
       "        .then(() => loadScript(\"vega-embed\"))\n",
       "        .catch(showError)\n",
       "        .then(() => displayChart(vegaEmbed));\n",
       "    }\n",
       "  })({\"config\": {\"view\": {\"continuousWidth\": 400, \"continuousHeight\": 300}}, \"layer\": [{\"mark\": {\"type\": \"rule\", \"clip\": true, \"opacity\": 0.4, \"size\": 0.8}, \"encoding\": {\"x\": {\"type\": \"quantitative\", \"field\": \"neuron_x_mouse\"}, \"y\": {\"type\": \"quantitative\", \"axis\": {\"orient\": \"left\", \"title\": \"\"}, \"field\": \"lower interval\", \"scale\": {\"domain\": [-0.209, 0.092], \"zero\": true}}, \"y2\": {\"field\": \"higher interval\"}}}, {\"mark\": {\"type\": \"line\", \"clip\": true, \"color\": \"black\", \"fill\": null, \"point\": false, \"size\": 1}, \"encoding\": {\"x\": {\"type\": \"quantitative\", \"field\": \"neuron_x_mouse\"}, \"y\": {\"type\": \"quantitative\", \"aggregate\": \"mean\", \"axis\": {\"orient\": \"left\"}, \"field\": \"center interval\", \"scale\": {\"domain\": [-0.209, 0.092], \"zero\": true}, \"title\": \"\\u0394 log_isi\"}}}, {\"mark\": {\"type\": \"line\", \"color\": \"black\", \"opacity\": 1, \"size\": 0.5}, \"encoding\": {\"x\": {\"type\": \"quantitative\", \"field\": \"neuron_x_mouse\"}, \"y\": {\"type\": \"quantitative\", \"axis\": {\"orient\": \"left\", \"title\": \"\"}, \"field\": \"zero\", \"scale\": {\"domain\": [-0.209, 0.092], \"zero\": true}}}}], \"data\": {\"name\": \"data-7c6c88d627d96a5266ecbe19ba524a73\"}, \"$schema\": \"https://vega.github.io/schema/vega-lite/v4.8.1.json\", \"datasets\": {\"data-7c6c88d627d96a5266ecbe19ba524a73\": [{\"neuron_x_mouse\": 0, \"center interval\": -0.053, \"Std.Err.\": 0.029, \"z\": -1.859, \"p\": 0.063, \"higher interval\": -0.109, \"lower interval\": 0.003, \"zero\": 0}, {\"neuron_x_mouse\": 1, \"center interval\": -0.084, \"Std.Err.\": 0.029, \"z\": -2.961, \"p\": 0.003, \"higher interval\": -0.14, \"lower interval\": -0.029, \"zero\": 0}, {\"neuron_x_mouse\": 2, \"center interval\": -0.137, \"Std.Err.\": 0.029, \"z\": -4.799, \"p\": 0.0, \"higher interval\": -0.193, \"lower interval\": -0.081, \"zero\": 0}, {\"neuron_x_mouse\": 3, \"center interval\": -0.174, \"Std.Err.\": 0.029, \"z\": -6.098, \"p\": 0.0, \"higher interval\": -0.23, \"lower interval\": -0.118, \"zero\": 0}, {\"neuron_x_mouse\": 4, \"center interval\": -0.241, \"Std.Err.\": 0.029, \"z\": -8.444, \"p\": 0.0, \"higher interval\": -0.297, \"lower interval\": -0.185, \"zero\": 0}, {\"neuron_x_mouse\": 5, \"center interval\": -0.265, \"Std.Err.\": 0.029, \"z\": -9.29, \"p\": 0.0, \"higher interval\": -0.321, \"lower interval\": -0.209, \"zero\": 0}, {\"neuron_x_mouse\": 6, \"center interval\": 0.165, \"Std.Err.\": 0.052, \"z\": 3.14, \"p\": 0.002, \"higher interval\": 0.062, \"lower interval\": 0.267, \"zero\": 0}, {\"neuron_x_mouse\": 7, \"center interval\": 0.128, \"Std.Err.\": 0.052, \"z\": 2.445, \"p\": 0.014, \"higher interval\": 0.025, \"lower interval\": 0.231, \"zero\": 0}, {\"neuron_x_mouse\": 8, \"center interval\": 0.113, \"Std.Err.\": 0.052, \"z\": 2.153, \"p\": 0.031, \"higher interval\": 0.01, \"lower interval\": 0.216, \"zero\": 0}, {\"neuron_x_mouse\": 9, \"center interval\": 0.051, \"Std.Err.\": 0.052, \"z\": 0.981, \"p\": 0.327, \"higher interval\": -0.051, \"lower interval\": 0.154, \"zero\": 0}, {\"neuron_x_mouse\": 10, \"center interval\": 0.012, \"Std.Err.\": 0.052, \"z\": 0.22, \"p\": 0.826, \"higher interval\": -0.091, \"lower interval\": 0.114, \"zero\": 0}, {\"neuron_x_mouse\": 11, \"center interval\": -0.034, \"Std.Err.\": 0.052, \"z\": -0.64, \"p\": 0.522, \"higher interval\": -0.136, \"lower interval\": 0.069, \"zero\": 0}, {\"neuron_x_mouse\": 12, \"center interval\": 0.147, \"Std.Err.\": 0.028, \"z\": 5.252, \"p\": 0.0, \"higher interval\": 0.092, \"lower interval\": 0.202, \"zero\": 0}, {\"neuron_x_mouse\": 13, \"center interval\": 0.116, \"Std.Err.\": 0.028, \"z\": 4.151, \"p\": 0.0, \"higher interval\": 0.061, \"lower interval\": 0.171, \"zero\": 0}, {\"neuron_x_mouse\": 14, \"center interval\": 0.118, \"Std.Err.\": 0.028, \"z\": 4.213, \"p\": 0.0, \"higher interval\": 0.063, \"lower interval\": 0.173, \"zero\": 0}, {\"neuron_x_mouse\": 15, \"center interval\": 0.057, \"Std.Err.\": 0.028, \"z\": 2.017, \"p\": 0.044, \"higher interval\": 0.002, \"lower interval\": 0.111, \"zero\": 0}, {\"neuron_x_mouse\": 16, \"center interval\": -0.007, \"Std.Err.\": 0.028, \"z\": -0.249, \"p\": 0.803, \"higher interval\": -0.062, \"lower interval\": 0.048, \"zero\": 0}, {\"neuron_x_mouse\": 17, \"center interval\": -0.029, \"Std.Err.\": 0.028, \"z\": -1.044, \"p\": 0.297, \"higher interval\": -0.084, \"lower interval\": 0.026, \"zero\": 0}]}}, {\"mode\": \"vega-lite\"});\n",
       "</script>"
      ],
      "text/plain": [
       "alt.LayerChart(...)"
      ]
     },
     "metadata": {},
     "output_type": "display_data"
    }
   ],
   "source": [
    "bw.plot(x='neuron_x_mouse:O').display()"
   ]
  },
  {
   "cell_type": "markdown",
   "metadata": {},
   "source": [
    "### Categorical "
   ]
  },
  {
   "cell_type": "code",
   "execution_count": 12,
   "metadata": {},
   "outputs": [
    {
     "name": "stdout",
     "output_type": "stream",
     "text": [
      "Using formula log_isi ~ (1|mouse) + C(stim| neuron_x_mouse)\n"
     ]
    },
    {
     "name": "stdout",
     "output_type": "stream",
     "text": [
      "                                 Coef.    Std.Err.       z  P>|z|  \\\n",
      "Intercept                       -0.850  162191.469  -0.000  1.000   \n",
      "C(stim | neuron_x_mouse)[T.1]   -0.074       0.028  -2.686  0.007   \n",
      "C(stim | neuron_x_mouse)[T.2]   -0.084       0.034  -2.470  0.014   \n",
      "C(stim | neuron_x_mouse)[T.3]   -0.125       0.028  -4.526  0.000   \n",
      "C(stim | neuron_x_mouse)[T.4]   -0.188       0.034  -5.532  0.000   \n",
      "C(stim | neuron_x_mouse)[T.5]   -0.199       0.028  -7.168  0.000   \n",
      "C(stim | neuron_x_mouse)[T.6]   -0.017       0.155  -0.108  0.914   \n",
      "C(stim | neuron_x_mouse)[T.7]   -0.278       0.154  -1.800  0.072   \n",
      "C(stim | neuron_x_mouse)[T.8]   -0.069       0.155  -0.441  0.660   \n",
      "C(stim | neuron_x_mouse)[T.9]   -0.230       0.154  -1.493  0.136   \n",
      "C(stim | neuron_x_mouse)[T.10]  -0.170       0.155  -1.093  0.275   \n",
      "C(stim | neuron_x_mouse)[T.11]  -0.222       0.154  -1.437  0.151   \n",
      "C(stim | neuron_x_mouse)[T.12]   0.435  324382.938   0.000  1.000   \n",
      "C(stim | neuron_x_mouse)[T.13]   0.091  324382.938   0.000  1.000   \n",
      "C(stim | neuron_x_mouse)[T.14]   0.406  324382.938   0.000  1.000   \n",
      "C(stim | neuron_x_mouse)[T.15]   0.194  324382.938   0.000  1.000   \n",
      "C(stim | neuron_x_mouse)[T.16]   0.281  324382.938   0.000  1.000   \n",
      "C(stim | neuron_x_mouse)[T.17]   0.243  324382.938   0.000  1.000   \n",
      "1 | mouse                       -0.233  162191.469  -0.000  1.000   \n",
      "Group Var                        0.012       2.831                  \n",
      "\n",
      "                                     [0.025      0.975]  \n",
      "Intercept                       -317890.288  317888.588  \n",
      "C(stim | neuron_x_mouse)[T.1]        -0.129      -0.020  \n",
      "C(stim | neuron_x_mouse)[T.2]        -0.150      -0.017  \n",
      "C(stim | neuron_x_mouse)[T.3]        -0.180      -0.071  \n",
      "C(stim | neuron_x_mouse)[T.4]        -0.254      -0.121  \n",
      "C(stim | neuron_x_mouse)[T.5]        -0.253      -0.144  \n",
      "C(stim | neuron_x_mouse)[T.6]        -0.322       0.288  \n",
      "C(stim | neuron_x_mouse)[T.7]        -0.580       0.025  \n",
      "C(stim | neuron_x_mouse)[T.8]        -0.373       0.236  \n",
      "C(stim | neuron_x_mouse)[T.9]        -0.533       0.072  \n",
      "C(stim | neuron_x_mouse)[T.10]       -0.475       0.135  \n",
      "C(stim | neuron_x_mouse)[T.11]       -0.524       0.081  \n",
      "C(stim | neuron_x_mouse)[T.12]  -635778.440  635779.311  \n",
      "C(stim | neuron_x_mouse)[T.13]  -635778.784  635778.966  \n",
      "C(stim | neuron_x_mouse)[T.14]  -635778.469  635779.281  \n",
      "C(stim | neuron_x_mouse)[T.15]  -635778.682  635779.069  \n",
      "C(stim | neuron_x_mouse)[T.16]  -635778.594  635779.156  \n",
      "C(stim | neuron_x_mouse)[T.17]  -635778.632  635779.119  \n",
      "1 | mouse                       -317889.670  317889.205  \n",
      "Group Var                                                \n",
      "changing x to :Q\n"
     ]
    },
    {
     "data": {
      "text/plain": [
       "<bayes_window.lme.LMERegression at 0x7f6c62735f40>"
      ]
     },
     "execution_count": 12,
     "metadata": {},
     "output_type": "execute_result"
    }
   ],
   "source": [
    "bw.fit(formula='log_isi ~ (1|mouse) + C(stim| neuron_x_mouse)')"
   ]
  },
  {
   "cell_type": "code",
   "execution_count": 13,
   "metadata": {
    "scrolled": false
   },
   "outputs": [
    {
     "name": "stdout",
     "output_type": "stream",
     "text": [
      "changing x to neuron_x_mouse:Q\n"
     ]
    },
    {
     "data": {
      "text/html": [
       "\n",
       "<div id=\"altair-viz-ddccb8fcdff94c48850414222cf66235\"></div>\n",
       "<script type=\"text/javascript\">\n",
       "  (function(spec, embedOpt){\n",
       "    let outputDiv = document.currentScript.previousElementSibling;\n",
       "    if (outputDiv.id !== \"altair-viz-ddccb8fcdff94c48850414222cf66235\") {\n",
       "      outputDiv = document.getElementById(\"altair-viz-ddccb8fcdff94c48850414222cf66235\");\n",
       "    }\n",
       "    const paths = {\n",
       "      \"vega\": \"https://cdn.jsdelivr.net/npm//vega@5?noext\",\n",
       "      \"vega-lib\": \"https://cdn.jsdelivr.net/npm//vega-lib?noext\",\n",
       "      \"vega-lite\": \"https://cdn.jsdelivr.net/npm//vega-lite@4.8.1?noext\",\n",
       "      \"vega-embed\": \"https://cdn.jsdelivr.net/npm//vega-embed@6?noext\",\n",
       "    };\n",
       "\n",
       "    function loadScript(lib) {\n",
       "      return new Promise(function(resolve, reject) {\n",
       "        var s = document.createElement('script');\n",
       "        s.src = paths[lib];\n",
       "        s.async = true;\n",
       "        s.onload = () => resolve(paths[lib]);\n",
       "        s.onerror = () => reject(`Error loading script: ${paths[lib]}`);\n",
       "        document.getElementsByTagName(\"head\")[0].appendChild(s);\n",
       "      });\n",
       "    }\n",
       "\n",
       "    function showError(err) {\n",
       "      outputDiv.innerHTML = `<div class=\"error\" style=\"color:red;\">${err}</div>`;\n",
       "      throw err;\n",
       "    }\n",
       "\n",
       "    function displayChart(vegaEmbed) {\n",
       "      vegaEmbed(outputDiv, spec, embedOpt)\n",
       "        .catch(err => showError(`Javascript Error: ${err.message}<br>This usually means there's a typo in your chart specification. See the javascript console for the full traceback.`));\n",
       "    }\n",
       "\n",
       "    if(typeof define === \"function\" && define.amd) {\n",
       "      requirejs.config({paths});\n",
       "      require([\"vega-embed\"], displayChart, err => showError(`Error loading script: ${err.message}`));\n",
       "    } else if (typeof vegaEmbed === \"function\") {\n",
       "      displayChart(vegaEmbed);\n",
       "    } else {\n",
       "      loadScript(\"vega\")\n",
       "        .then(() => loadScript(\"vega-lite\"))\n",
       "        .then(() => loadScript(\"vega-embed\"))\n",
       "        .catch(showError)\n",
       "        .then(() => displayChart(vegaEmbed));\n",
       "    }\n",
       "  })({\"config\": {\"view\": {\"continuousWidth\": 400, \"continuousHeight\": 300}}, \"layer\": [{\"mark\": {\"type\": \"rule\", \"clip\": true, \"opacity\": 0.4, \"size\": 0.8}, \"encoding\": {\"x\": {\"type\": \"quantitative\", \"field\": \"neuron_x_mouse\"}, \"y\": {\"type\": \"quantitative\", \"axis\": {\"orient\": \"left\", \"title\": \"\"}, \"field\": \"lower interval\", \"scale\": {\"domain\": [-0.144, 0], \"zero\": true}}, \"y2\": {\"field\": \"higher interval\"}}}, {\"mark\": {\"type\": \"line\", \"clip\": true, \"color\": \"black\", \"fill\": null, \"point\": false, \"size\": 1}, \"encoding\": {\"x\": {\"type\": \"quantitative\", \"field\": \"neuron_x_mouse\"}, \"y\": {\"type\": \"quantitative\", \"aggregate\": \"mean\", \"axis\": {\"orient\": \"left\"}, \"field\": \"center interval\", \"scale\": {\"domain\": [-0.144, 0], \"zero\": true}, \"title\": \"\\u0394 log_isi\"}}}, {\"mark\": {\"type\": \"line\", \"color\": \"black\", \"opacity\": 1, \"size\": 0.5}, \"encoding\": {\"x\": {\"type\": \"quantitative\", \"field\": \"neuron_x_mouse\"}, \"y\": {\"type\": \"quantitative\", \"axis\": {\"orient\": \"left\", \"title\": \"\"}, \"field\": \"zero\", \"scale\": {\"domain\": [-0.144, 0], \"zero\": true}}}}], \"data\": {\"name\": \"data-63ad16ba1be36abb30fa23744d40beb5\"}, \"$schema\": \"https://vega.github.io/schema/vega-lite/v4.8.1.json\", \"datasets\": {\"data-63ad16ba1be36abb30fa23744d40beb5\": [{\"neuron_x_mouse\": 0, \"center interval\": -0.074, \"Std.Err.\": 0.028, \"z\": -2.686, \"p\": 0.007, \"higher interval\": -0.129, \"lower interval\": -0.02, \"zero\": 0}, {\"neuron_x_mouse\": 1, \"center interval\": -0.084, \"Std.Err.\": 0.034, \"z\": -2.47, \"p\": 0.014, \"higher interval\": -0.15, \"lower interval\": -0.017, \"zero\": 0}, {\"neuron_x_mouse\": 2, \"center interval\": -0.125, \"Std.Err.\": 0.028, \"z\": -4.526, \"p\": 0.0, \"higher interval\": -0.18, \"lower interval\": -0.071, \"zero\": 0}, {\"neuron_x_mouse\": 3, \"center interval\": -0.188, \"Std.Err.\": 0.034, \"z\": -5.532, \"p\": 0.0, \"higher interval\": -0.254, \"lower interval\": -0.121, \"zero\": 0}, {\"neuron_x_mouse\": 4, \"center interval\": -0.199, \"Std.Err.\": 0.028, \"z\": -7.168, \"p\": 0.0, \"higher interval\": -0.253, \"lower interval\": -0.144, \"zero\": 0}, {\"neuron_x_mouse\": 5, \"center interval\": -0.017, \"Std.Err.\": 0.155, \"z\": -0.108, \"p\": 0.914, \"higher interval\": -0.322, \"lower interval\": 0.288, \"zero\": 0}, {\"neuron_x_mouse\": 6, \"center interval\": -0.278, \"Std.Err.\": 0.154, \"z\": -1.8, \"p\": 0.072, \"higher interval\": -0.58, \"lower interval\": 0.025, \"zero\": 0}, {\"neuron_x_mouse\": 7, \"center interval\": -0.069, \"Std.Err.\": 0.155, \"z\": -0.441, \"p\": 0.66, \"higher interval\": -0.373, \"lower interval\": 0.236, \"zero\": 0}, {\"neuron_x_mouse\": 8, \"center interval\": -0.23, \"Std.Err.\": 0.154, \"z\": -1.493, \"p\": 0.136, \"higher interval\": -0.533, \"lower interval\": 0.072, \"zero\": 0}, {\"neuron_x_mouse\": 9, \"center interval\": -0.17, \"Std.Err.\": 0.155, \"z\": -1.093, \"p\": 0.275, \"higher interval\": -0.475, \"lower interval\": 0.135, \"zero\": 0}, {\"neuron_x_mouse\": 10, \"center interval\": -0.222, \"Std.Err.\": 0.154, \"z\": -1.437, \"p\": 0.151, \"higher interval\": -0.524, \"lower interval\": 0.081, \"zero\": 0}, {\"neuron_x_mouse\": 11, \"center interval\": 0.435, \"Std.Err.\": 324382.938, \"z\": 0.0, \"p\": 1.0, \"higher interval\": -635778.44, \"lower interval\": 635779.311, \"zero\": 0}, {\"neuron_x_mouse\": 12, \"center interval\": 0.091, \"Std.Err.\": 324382.938, \"z\": 0.0, \"p\": 1.0, \"higher interval\": -635778.784, \"lower interval\": 635778.966, \"zero\": 0}, {\"neuron_x_mouse\": 13, \"center interval\": 0.406, \"Std.Err.\": 324382.938, \"z\": 0.0, \"p\": 1.0, \"higher interval\": -635778.469, \"lower interval\": 635779.281, \"zero\": 0}, {\"neuron_x_mouse\": 14, \"center interval\": 0.194, \"Std.Err.\": 324382.938, \"z\": 0.0, \"p\": 1.0, \"higher interval\": -635778.682, \"lower interval\": 635779.069, \"zero\": 0}, {\"neuron_x_mouse\": 15, \"center interval\": 0.281, \"Std.Err.\": 324382.938, \"z\": 0.0, \"p\": 1.0, \"higher interval\": -635778.594, \"lower interval\": 635779.156, \"zero\": 0}, {\"neuron_x_mouse\": 16, \"center interval\": 0.243, \"Std.Err.\": 324382.938, \"z\": 0.0, \"p\": 1.0, \"higher interval\": -635778.632, \"lower interval\": 635779.119, \"zero\": 0}]}}, {\"mode\": \"vega-lite\"});\n",
       "</script>"
      ],
      "text/plain": [
       "alt.LayerChart(...)"
      ]
     },
     "metadata": {},
     "output_type": "display_data"
    }
   ],
   "source": [
    "bw.plot(x='neuron_x_mouse:O').display()"
   ]
  },
  {
   "cell_type": "markdown",
   "metadata": {},
   "source": [
    "### Nested"
   ]
  },
  {
   "cell_type": "code",
   "execution_count": 14,
   "metadata": {},
   "outputs": [
    {
     "name": "stdout",
     "output_type": "stream",
     "text": [
      "Using formula log_isi ~ (stim|mouse) + stim| neuron_x_mouse__0:mouse + stim|neuron_x_mouse__1:mouse + stim|neuron_x_mouse__2:mouse + stim|neuron_x_mouse__3:mouse + stim|neuron_x_mouse__4:mouse + stim|neuron_x_mouse__5:mouse + stim|neuron_x_mouse__6:mouse + stim|neuron_x_mouse__7:mouse + stim|neuron_x_mouse__8:mouse + stim|neuron_x_mouse__9:mouse + stim|neuron_x_mouse__10:mouse + stim|neuron_x_mouse__11:mouse + stim|neuron_x_mouse__12:mouse + stim|neuron_x_mouse__13:mouse + stim|neuron_x_mouse__14:mouse + stim|neuron_x_mouse__15:mouse + stim|neuron_x_mouse__16:mouse + stim|neuron_x_mouse__17:mouse\n",
      "Singular matrix\n"
     ]
    }
   ],
   "source": [
    "bw = LMERegression(df=df, y='log_isi', treatment='stim', condition=['neuron_x_mouse'], group='mouse',)\n",
    "try:\n",
    "    bw.fit(add_data=False,add_group_intercept=True, add_group_slope=True, add_nested_group=True)\n",
    "except Exception as e:\n",
    "    print(e)\n",
    "\n"
   ]
  }
 ],
 "metadata": {
  "hide_input": false,
  "kernelspec": {
   "display_name": "PyCharm (jup)",
   "language": "python",
   "name": "pycharm-d5912792"
  },
  "language_info": {
   "codemirror_mode": {
    "name": "ipython",
    "version": 3
   },
   "file_extension": ".py",
   "mimetype": "text/x-python",
   "name": "python",
   "nbconvert_exporter": "python",
   "pygments_lexer": "ipython3",
   "version": "3.8.5"
  }
 },
 "nbformat": 4,
 "nbformat_minor": 4
}